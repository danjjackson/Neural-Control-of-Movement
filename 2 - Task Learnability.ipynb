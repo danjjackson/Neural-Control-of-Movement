{
 "cells": [
  {
   "cell_type": "markdown",
   "metadata": {},
   "source": [
    "<h1><center>NEURAL CONTROL OF MOVEMENT</center></h1>"
   ]
  },
  {
   "cell_type": "code",
   "execution_count": 1,
   "metadata": {},
   "outputs": [],
   "source": [
    "import numpy as np\n",
    "import pandas as pd\n",
    "import scipy as sp\n",
    "from scipy import linalg\n",
    "import matplotlib.pyplot as plt\n",
    "from numpy.linalg import inv\n",
    "from tqdm import tqdm"
   ]
  },
  {
   "cell_type": "code",
   "execution_count": 2,
   "metadata": {},
   "outputs": [],
   "source": [
    "numpy_data_folder = 'Arm Model and Intrinsic Manifold Files/'\n",
    "A = np.load(numpy_data_folder + 'A.npy')\n",
    "B = np.load(numpy_data_folder + 'B.npy')\n",
    "H_BAR = np.load(numpy_data_folder+ 'H_BAR.npy')\n",
    "COVARIANCE = np.load(numpy_data_folder + 'COVARIANCE.npy')\n",
    "ORTH_BASIS = np.load(numpy_data_folder + 'ORTH_BASIS.npy')\n",
    "INTRINSIC_MANIFOLD = np.load(numpy_data_folder + 'INTRINSIC_MANIFOLD.npy')\n",
    "spontaneous_activity = np.load(numpy_data_folder + 'spontaneous_activity.npy')"
   ]
  },
  {
   "cell_type": "code",
   "execution_count": 3,
   "metadata": {},
   "outputs": [],
   "source": [
    "mapping_folder = 'Test Mappings/'\n",
    "IM_variances = np.load(mapping_folder + 'IM_variances.npy')\n",
    "random_variances = np.load(mapping_folder + 'random_variances.npy')\n",
    "first_120_variances = np.load(mapping_folder + 'first_120_variances.npy')"
   ]
  },
  {
   "cell_type": "code",
   "execution_count": 4,
   "metadata": {},
   "outputs": [],
   "source": [
    "IM_Cs = np.load(mapping_folder + \"IM_Cs.npy\")\n",
    "random_Cs = np.load(mapping_folder + 'random_Cs.npy')\n",
    "first_120_Cs = np.load(mapping_folder + 'first_120_Cs.npy')\n",
    "all_Cs = [IM_Cs, random_Cs, first_120_Cs]"
   ]
  },
  {
   "cell_type": "code",
   "execution_count": 5,
   "metadata": {},
   "outputs": [],
   "source": [
    "def plot_energies(solutions, title = None):\n",
    "    \n",
    "    IM_solutions, random_solutions, first_120_solutions = solutions\n",
    "    \n",
    "    fig, ax = plt.subplots(figsize = (10, 7))\n",
    "    ax.scatter(np.log10(IM_variances), np.log10(IM_solutions), marker = 'x', color = 'r', label = \"Columns of Intrinsic Manifold\")\n",
    "    ax.scatter(np.log10(random_variances), np.log10(random_solutions), marker = 'x', color = 'b', label = \"Random Orthonormal Mapping\")\n",
    "    ax.scatter(np.log10(first_120_variances), np.log10(first_120_solutions), marker = 'x', color = 'g', label = r\"Consecutive columns of $S$\")\n",
    "    ax.set_xlim(None, 0)\n",
    "    ax.set_xlabel(r\"$log_{10}$(Percentage Variance Explained)\", fontsize = 18)\n",
    "    ax.set_ylabel(r\"$log_{10}$(Solution Energy)\",  fontsize = 18)\n",
    "    ax.tick_params(axis='both', which='major', labelsize=16)\n",
    "    ax.tick_params(axis='both', which='minor', labelsize=12)\n",
    "    ax.legend(loc = 'lower left', fontsize = 16)\n",
    "    ax.set_title(title, fontsize = 18)\n",
    "\n",
    "    plt.show()"
   ]
  },
  {
   "cell_type": "markdown",
   "metadata": {},
   "source": [
    "# 1. Steady State Solution"
   ]
  },
  {
   "cell_type": "markdown",
   "metadata": {},
   "source": [
    "If we first only consider the steady state we can derive an analytic solution:\n",
    "\n",
    "By definition, at steady state $\\dot{\\boldsymbol{x}} = 0$, so we can write:\n",
    "\\begin{equation}\n",
    "    0 = \\boldsymbol{A}\\boldsymbol{x} + \\boldsymbol{B}\\boldsymbol{u}+ \\boldsymbol{\\bar{h}}\n",
    "\\end{equation}\n",
    " Rearranging:\n",
    "\\begin{equation}\n",
    "    \\boldsymbol{x} = -\\boldsymbol{A}^{-1}(\\boldsymbol{B}\\boldsymbol{u} + \\boldsymbol{\\bar{h}})\n",
    "\\end{equation}\n",
    "Neural activity is mapped to cursor velocity as follows:\n",
    "\\begin{equation}\n",
    "    \\boldsymbol{v} = \\boldsymbol{C}\\boldsymbol{x}\n",
    "\\end{equation}\n",
    "so substituting in for $\\boldsymbol{x}$ gives:\n",
    "\\begin{equation}\n",
    "    \\boldsymbol{v} = -\\boldsymbol{CA}^{-1}(\\boldsymbol{B}\\boldsymbol{u} + \\boldsymbol{\\bar{h}})\n",
    "\\end{equation}\n",
    "\n",
    "Denote the desired steady-state velocity by $\\boldsymbol{v^*}$, and define the squared error as $\\epsilon = ||\\boldsymbol{v} - \\boldsymbol{v^*}||^2_2$. We wish to find the value of $\\boldsymbol{u}$ that minimises the error.\n",
    "\n",
    "By differentiating and setting to zero it can be shown that:\n",
    "\n",
    "\\begin{equation}\n",
    "    \\boldsymbol{u} = \\boldsymbol{V}\\boldsymbol{S}^{-1}\\boldsymbol{U}^T(\\boldsymbol{v^*}-\\boldsymbol{n})\n",
    "    \\label{eq:solution}\n",
    "\\end{equation}\n",
    "\n",
    "Where $\\boldsymbol{n} := -\\boldsymbol{CA}^{-1}\\boldsymbol{\\bar{h}}$. \n",
    "\n",
    "$\\boldsymbol{M} = \\boldsymbol{U}\\boldsymbol{S}\\boldsymbol{V}^T$ is the singular value decomposition of matrix $\\boldsymbol{M}$, which is defined as $\\boldsymbol{M} := -\\boldsymbol{CA}^{-1}\\boldsymbol{B}$."
   ]
  },
  {
   "cell_type": "code",
   "execution_count": 6,
   "metadata": {},
   "outputs": [],
   "source": [
    "target_velocity = np.array([1,-1])"
   ]
  },
  {
   "cell_type": "code",
   "execution_count": 7,
   "metadata": {},
   "outputs": [],
   "source": [
    "def solution(C, v_star, A):\n",
    "    \n",
    "    def M(C):\n",
    "        M = - C @ np.linalg.inv(A) @ B\n",
    "        return M\n",
    "\n",
    "    def N(C):\n",
    "        N = - C @ np.linalg.inv(A) @ H_BAR\n",
    "        return N\n",
    "    \n",
    "    u, s, v_T = np.linalg.svd(M(C), full_matrices = False)\n",
    "    \n",
    "    solution =  v_T.T @ (np.diag(1/s)) @ u.T @ (v_star - N(C))\n",
    "    \n",
    "    return solution, np.linalg.norm(solution)"
   ]
  },
  {
   "cell_type": "markdown",
   "metadata": {},
   "source": [
    "For each choice of mapping, we compute the steady state solution as defined above and the energy of the solution, which serves as a proxy for how easy it is for the monkey to control the cursor. If the energy is high, we draw the conclusion that learning to control the cursor is difficult and vice versa."
   ]
  },
  {
   "cell_type": "code",
   "execution_count": 54,
   "metadata": {},
   "outputs": [],
   "source": [
    "ss_solutions = []\n",
    "for Cs in all_Cs:\n",
    "    ss_energies = []\n",
    "    for C in Cs:\n",
    "        ss_energies.append(solution(C, target_velocity, A)[1])\n",
    "        \n",
    "    ss_solutions.append(ss_energies)"
   ]
  },
  {
   "cell_type": "code",
   "execution_count": 55,
   "metadata": {},
   "outputs": [
    {
     "data": {
      "image/png": "[encoded data removed]",
      "text/plain": [
       "<Figure size 720x504 with 1 Axes>"
      ]
     },
     "metadata": {
      "needs_background": "light"
     },
     "output_type": "display_data"
    }
   ],
   "source": [
    "title = \"Steady-state solution energy plotted against percentage variance accounted for by the mapping\"\n",
    "plot_energies(ss_solutions, title)"
   ]
  },
  {
   "cell_type": "code",
   "execution_count": 56,
   "metadata": {},
   "outputs": [],
   "source": [
    "folder = 'Task Learnability Results and Graphs/Steady State Results/'\n",
    "np.save(folder + \"IM_ss_energy.npy\", ss_solutions[0])\n",
    "np.save(folder + \"random_ss_energy.npy\", ss_solutions[1])\n",
    "np.save(folder + \"120_ss_energy.npy\", ss_solutions[2])"
   ]
  },
  {
   "cell_type": "markdown",
   "metadata": {},
   "source": [
    "# 2. Gaussian Processes"
   ]
  },
  {
   "cell_type": "markdown",
   "metadata": {},
   "source": [
    "While steady-state analysis has an analytic solution, it does not accurately simulate the way in which a monkey would reach for as target, as there is no feedback between the desired velocity and the current velocity.\n",
    "\n",
    "The problem can instead be solved using methods of optimal control.  We can generalise the problem by requiring the output to track a random desired reference signal. Rather than having a constant input, at each time step the controller should take the desired velocity at that time instant and the actual velocity and compute the optimal input.\n",
    "\n",
    "A test reference signal to be tracked can be simulated by generating a 2D Gaussian Process."
   ]
  },
  {
   "cell_type": "code",
   "execution_count": 10,
   "metadata": {},
   "outputs": [
    {
     "name": "stderr",
     "output_type": "stream",
     "text": [
      "<ipython-input-10-b37216c6ed83>:15: ComplexWarning: Casting complex values to real discards the imaginary part\n",
      "  GP[j,:] = np.fft.ifft(fourier_covariance*fourier_vector)\n"
     ]
    }
   ],
   "source": [
    "dt = 0.0005\n",
    "length_scale = 0.15\n",
    "\n",
    "def generate_GP(time, variance = 40):\n",
    "    \n",
    "    t = np.arange(0, 2 * time, dt)\n",
    "    N = len(t)\n",
    "    DFT_N = int(N/2)+1\n",
    "    GP = np.empty((2, DFT_N))\n",
    "\n",
    "    for j in range(2):\n",
    "        fourier_vector = np.fft.rfft(np.random.normal(0, variance, N))\n",
    "        omega  = np.linspace(0, 2*np.pi/dt, len(fourier_vector))\n",
    "        fourier_covariance = np.exp(-(omega*length_scale/2)**2/2)\n",
    "        GP[j,:] = np.fft.ifft(fourier_covariance*fourier_vector)\n",
    "        \n",
    "    return GP, t[:DFT_N], DFT_N\n",
    "\n",
    "GP, t_tracking, N_tracking = generate_GP(1)"
   ]
  },
  {
   "cell_type": "code",
   "execution_count": 11,
   "metadata": {},
   "outputs": [
    {
     "data": {
      "image/png": "[encoded data removed]",
      "text/plain": [
       "<Figure size 720x504 with 1 Axes>"
      ]
     },
     "metadata": {
      "needs_background": "light"
     },
     "output_type": "display_data"
    }
   ],
   "source": [
    "#Plot Gaussian Process and Step\n",
    "fig, ax  = plt.subplots(figsize = (10,7))\n",
    "ax.plot(t_tracking, GP.T, linewidth = 2)\n",
    "ax.tick_params(axis='both', which='major', labelsize=16)\n",
    "ax.tick_params(axis='both', which='minor', labelsize=12)\n",
    "ax.set_xlabel(\"Time/s\", fontsize = 18)\n",
    "ax.set_ylabel(\"Velocity\", fontsize = 18)\n",
    "plt.show()"
   ]
  },
  {
   "cell_type": "markdown",
   "metadata": {},
   "source": [
    "# 3. Linear Quadratic Integral Control"
   ]
  },
  {
   "cell_type": "markdown",
   "metadata": {},
   "source": [
    "We now aim to design an optimal controller to track the two gaussian processes created above. Consider the state space system\n",
    "\\begin{equation}\n",
    "    \\begin{aligned}\n",
    "    \\boldsymbol{\\dot{x}}_1 &= \\boldsymbol{A}_1\\boldsymbol{x}_1 + \\boldsymbol{B}_1\\boldsymbol{u}\\\\\n",
    "    \\boldsymbol{y}_1 &= \\boldsymbol{C}_1\\boldsymbol{x}_1\n",
    "\\end{aligned}\n",
    "\\end{equation}\n",
    "\n",
    "It is desired to track reference signal $\\boldsymbol{v}$. We define the tracking error as \n",
    "\n",
    "<center>$\\boldsymbol{e}_1 = \\boldsymbol{v} - \\boldsymbol{y}_1 = \\boldsymbol{v}-\\boldsymbol{C}_1\\boldsymbol{x}_1$</center>\n",
    "\n",
    "Integrating the error gives\n",
    "\n",
    "<center>$\\boldsymbol{x}_2 = \\int_0^t \\boldsymbol{e}_1(\\tau)d\\tau$</center>\n",
    "    \n",
    "This is appended to the system to give extended dynamics\n",
    "\n",
    "<center>$\\left( \\begin{array}{c}\n",
    "\\dot{\\boldsymbol{x}}_1\\\\\n",
    "\\dot{\\boldsymbol{x}}_2 \\end{array} \\right) = \n",
    "\\left( \\begin{array}{cc}\n",
    "\\boldsymbol{A}_1 & \\boldsymbol{0} \\\\\n",
    "-\\boldsymbol{C}_1 & \\boldsymbol{0} \\end{array} \\right)\n",
    "\\left( \\begin{array}{c}\n",
    "\\boldsymbol{x}_1 \\\\\n",
    "\\boldsymbol{x}_2 \\end{array} \\right)+ \\left( \\begin{array}{c}\n",
    "\\boldsymbol{B}_1 \\\\\n",
    "\\boldsymbol{0} \\end{array} \\right) \\boldsymbol{u} + \\left( \\begin{array}{c}\n",
    "\\boldsymbol{0} \\\\\n",
    "\\boldsymbol{I} \\end{array} \\right) \\boldsymbol{v}$</center>\n",
    "\n",
    "We can now write this as\n",
    "\n",
    "<center>$\\dot{\\boldsymbol{x}} = \\boldsymbol{A}\\boldsymbol{x}+\\boldsymbol{B}\\boldsymbol{u}+\\boldsymbol{G}\\boldsymbol{v}$</center>\n",
    "\n",
    "The new error for the system in Equation is \n",
    "\n",
    "<center>$\\boldsymbol{e} = \\left( \\begin{array}{c}\n",
    "\\boldsymbol{v} - \\boldsymbol{C}_1\\boldsymbol{x}_1 \\\\\n",
    "\\boldsymbol{x}_2 \\end{array} \\right) = \\boldsymbol{M}\\boldsymbol{v}+ \\overline{\\boldsymbol{C}}\\boldsymbol{x}$</center>\n",
    "\n",
    "with \n",
    "\n",
    "<center>$\\boldsymbol{M} = \\left( \\begin{array}{c}\n",
    "\\boldsymbol{I} \\\\\n",
    "\\boldsymbol{0} \\end{array} \\right), \\hspace{0.5cm}\n",
    "\\overline{\\boldsymbol{C}} = \\left( \\begin{array}{cc}\n",
    "-\\boldsymbol{C}_1 & \\boldsymbol{0} \\\\\n",
    "\\boldsymbol{0} & \\boldsymbol{I} \\end{array} \\right)$</center>\n",
    "\n",
    "We wish to find an optimal controller to minimise the cost function\n",
    "\n",
    "<center>$J = \\int_0^\\infty (\\boldsymbol{e}^T\\boldsymbol{Q}\\boldsymbol{e} + \\boldsymbol{u}^T\\boldsymbol{R}\\boldsymbol{u}) dt $</center>\n",
    "\n",
    "where $\\boldsymbol{Q}=\\boldsymbol{Q}^T$ is positive semi-definite and $\\boldsymbol{R}=\\boldsymbol{R}^T$ is positive definite. Substituting gives\n",
    "\n",
    "<center>$J = \\int_0^\\infty (\\boldsymbol{x}^T\\overline{\\boldsymbol{C}}^T\\boldsymbol{Q}\\overline{\\boldsymbol{C}}\\boldsymbol{x} + 2\\boldsymbol{v}^T\\boldsymbol{M}^T\\boldsymbol{Q}\\overline{\\boldsymbol{C}}\\boldsymbol{x} +\\boldsymbol{v}^T\\boldsymbol{M}^T\\boldsymbol{Q}\\boldsymbol{M}\\boldsymbol{v} + \\boldsymbol{u}^T\\boldsymbol{R}\\boldsymbol{u}) dt$</center>\n",
    "\n",
    "Standard methodology, as outlined in Bryson, leads to the following Riccati equation\n",
    "\n",
    "<center>$\\dot{\\boldsymbol{P}} = -\\boldsymbol{PA} -\\boldsymbol{A}^T\\boldsymbol{P}-\\overline{\\boldsymbol{C}}^T\\overline{\\boldsymbol{C}}+\\boldsymbol{PBR}^{-1}\\boldsymbol{B}^T\\boldsymbol{P}$</center>\n",
    "\n",
    "Assuming that $(\\boldsymbol{A}, \\boldsymbol{B})$ is controllable and $(\\boldsymbol{A},\\boldsymbol{C})$ is observable, there exists a unique solution to the Riccati Equation, at steady state ($\\dot{\\boldsymbol{P}} = 0$), $\\boldsymbol{P}_{ss}$. The control law can then be written as\n",
    "\n",
    "<center>$\\boldsymbol{u} = -\\boldsymbol{K}_x\\boldsymbol{x}-\\boldsymbol{K}_v\\boldsymbol{v}$</center>\n",
    "\n",
    "where\n",
    "\n",
    "\\begin{align*}\n",
    "    {\\boldsymbol{K}_x} &= \\boldsymbol{R}^{-1}\\boldsymbol{B}^T\\boldsymbol{P}_{ss}\\\\\n",
    "    {\\boldsymbol{K}_v} &= \\boldsymbol{R}^{-1}\\boldsymbol{B}^T(\\boldsymbol{P}_{ss}\\boldsymbol{BR}^{-1}\\boldsymbol{B}^T-\\boldsymbol{A}^T)^{-1}(\\overline{\\boldsymbol{C}}^T\\boldsymbol{QM} + \\boldsymbol{P}_{ss}\\boldsymbol{G})\n",
    "\\end{align*}\n",
    "\n",
    "The closed-loop system can therefore be written as\n",
    "\n",
    "<center>$\\dot{\\boldsymbol{x}} = (\\boldsymbol{A}-\\boldsymbol{BK}_x)\\boldsymbol{x} + (\\boldsymbol{G}-\\boldsymbol{BK}_v)\\boldsymbol{v} = \\overline{\\boldsymbol{A}}\\boldsymbol{x} + \\overline{\\boldsymbol{B}}\\boldsymbol{v}$</center>"
   ]
  },
  {
   "cell_type": "code",
   "execution_count": 13,
   "metadata": {},
   "outputs": [],
   "source": [
    "def LQI(A, C, lmbda_Q = 1, lmbda_R = 1):\n",
    "\n",
    "    #Extend matrices\n",
    "    A_dash = np.zeros((202, 202))\n",
    "    A_dash[:200, :200] = A\n",
    "    A_dash[200:202, :200] = - C\n",
    "    \n",
    "    B_dash = np.zeros((202, 8))\n",
    "    B_dash[:200, :] = B\n",
    "\n",
    "    G_dash = np.zeros((202,2))\n",
    "    G_dash[200:202, :2] = np.identity(2)\n",
    "\n",
    "    M_dash = np.zeros((4, 2))\n",
    "    M_dash[:2, :2] = np.identity(2)\n",
    "\n",
    "    H_BAR_dash = np.zeros(202)\n",
    "    H_BAR_dash[:200] = H_BAR\n",
    "\n",
    "    C_dash = np.zeros((4,202))\n",
    "    C_dash[:2, :200] = - C\n",
    "    C_dash[2:, 200:202] = np.identity(2)\n",
    "    \n",
    "    R = lmbda_R * np.identity(8)\n",
    "    Q = lmbda_Q * np.identity(4)\n",
    "    \n",
    "    #Solve Riccati Equaiton\n",
    "    X_ss = sp.linalg.solve_continuous_are(A_dash, B_dash, C_dash.T @ Q @ C_dash, R)\n",
    "    \n",
    "    #OPTIMAL CONTROLLER\n",
    "    K_x = np.linalg.inv(R) @ B_dash.T @ X_ss\n",
    "    K_v = np.linalg.inv(R) @ B_dash.T @ np.linalg.inv(X_ss @ B_dash @ np.linalg.inv(R) @ B_dash.T - A_dash.T)@(C_dash.T @ Q @ M_dash + X_ss@G_dash)\n",
    "    \n",
    "    #Closed loop dynamics\n",
    "    A_BAR = A_dash - B_dash @ K_x\n",
    "    B_BAR = G_dash - B_dash @ K_v\n",
    "    \n",
    "    return A_BAR, B_BAR, H_BAR_dash, K_x, K_v, C_dash"
   ]
  },
  {
   "cell_type": "code",
   "execution_count": 14,
   "metadata": {},
   "outputs": [],
   "source": [
    "def tracking(A, B, x, v, H_BAR_dash):\n",
    "    dxdt = A @ x + B @ v + H_BAR_dash\n",
    "    return dxdt\n",
    "\n",
    "def solve_tracking(x0, dt, num_steps, A, B, v, K_x, K_v, C_dash, H_BAR_dash):\n",
    "    x = np.zeros((202, num_steps))\n",
    "    x[:200,0] = x0\n",
    "\n",
    "    for step in range(num_steps-1):\n",
    "        x[:, step+1] = x[:, step] + tracking(A, B, x[:, step], v[:, step], H_BAR_dash) * dt\n",
    "\n",
    "    #This is an 8 * 4000 array of all 8 control inputs at every one of the 4000 time steps \n",
    "    u = - K_x @ x - K_v @ v\n",
    "    \n",
    "    #Find the squared norm of each set of 8 inputs, then sum across all 4000 time steps\n",
    "    uTu = 0\n",
    "    for i in range(num_steps):\n",
    "        uTu += u[:,i].T@u[:,i]\n",
    "\n",
    "    return x, uTu"
   ]
  },
  {
   "cell_type": "code",
   "execution_count": 15,
   "metadata": {},
   "outputs": [
    {
     "data": {
      "image/png": "[encoded data removed]",
      "text/plain": [
       "<Figure size 720x504 with 1 Axes>"
      ]
     },
     "metadata": {
      "needs_background": "light"
     },
     "output_type": "display_data"
    }
   ],
   "source": [
    "test_C = INTRINSIC_MANIFOLD[:, [0, 1]].T\n",
    "A_BAR, B_BAR, H_BAR_dash, K_x, K_v, C_dash, = LQI(A, test_C)\n",
    "x_tracking, tracking_energy = solve_tracking(spontaneous_activity, dt, N_tracking, A_BAR, B_BAR, GP, K_x, K_v, C_dash, H_BAR_dash)\n",
    "GP_tracking = test_C @ x_tracking[:200, :]\n",
    "\n",
    "fig, ax = plt.subplots(figsize=(10,7), sharex=True)\n",
    "ax.plot(t_tracking, GP[0,:], linewidth = 3)\n",
    "ax.plot(t_tracking, GP[1,:], linewidth = 3)\n",
    "ax.plot(t_tracking, GP_tracking[0,:], label = r'$v_1$ Tracking', linewidth = 3)\n",
    "ax.plot(t_tracking, GP_tracking[1,:], label = r'$v_2$ Tracking', linewidth = 3)\n",
    "ax.set_xlabel('Time/s', fontsize = 20)\n",
    "ax.set_ylabel('Velocity', fontsize = 20)\n",
    "ax.tick_params(axis='both', which='major', labelsize=20)\n",
    "ax.legend(loc  = \"lower right\", fontsize = 20)\n",
    "ax.set_ylim(-4.5,4.5)\n",
    "ax.set_title(\"Tracking a 2d Gaussian Process using LQI control\", fontsize = 18)\n",
    "plt.show()"
   ]
  },
  {
   "cell_type": "code",
   "execution_count": 51,
   "metadata": {},
   "outputs": [
    {
     "name": "stderr",
     "output_type": "stream",
     "text": [
      "100%|██████████| 190/190 [04:23<00:00,  1.39s/it]\n",
      "100%|██████████| 30/30 [00:40<00:00,  1.34s/it]\n",
      "100%|██████████| 120/120 [02:48<00:00,  1.40s/it]\n"
     ]
    }
   ],
   "source": [
    "tracking_solutions = []\n",
    "for Cs in all_Cs:\n",
    "    tracking_energies = []\n",
    "    for C in tqdm(Cs):\n",
    "        A_BAR, B_BAR, H_BAR_dash, K_x, K_v, C_dash, = LQI(A, C)\n",
    "        x_tracking, tracking_energy = solve_tracking(spontaneous_activity, dt, N_tracking, A_BAR, B_BAR, GP, K_x, K_v, C_dash, H_BAR_dash)\n",
    "        tracking_energies.append(tracking_energy)\n",
    "        \n",
    "    tracking_solutions.append(tracking_energies)"
   ]
  },
  {
   "cell_type": "code",
   "execution_count": 52,
   "metadata": {
    "scrolled": false
   },
   "outputs": [
    {
     "data": {
      "image/png": "[encoded data removed]",
      "text/plain": [
       "<Figure size 720x504 with 1 Axes>"
      ]
     },
     "metadata": {
      "needs_background": "light"
     },
     "output_type": "display_data"
    }
   ],
   "source": [
    "title = \"GP tracking solution energy plotted against percentage variance accounted for by the mapping\"\n",
    "plot_energies(tracking_solutions, title)"
   ]
  },
  {
   "cell_type": "code",
   "execution_count": 53,
   "metadata": {},
   "outputs": [],
   "source": [
    "folder = 'Task Learnability Results and Graphs/Tracking Results/'\n",
    "np.save(folder + \"IM_tracking_energy.npy\", tracking_solutions[0])\n",
    "np.save(folder + \"random_tracking_energy.npy\", tracking_solutions[1])\n",
    "np.save(folder + \"120_tracking_energy.npy\", tracking_solutions[2])"
   ]
  },
  {
   "cell_type": "markdown",
   "metadata": {},
   "source": [
    "# 4. State LQR\n",
    "\n",
    "An alternative method of simulating the task performed by the monkey is to perform state LQR. Rather than defining a generic random process to track, this more closely models the experiment, by defining a desired steady-state target velocity. The pseudo-inverse of $\\boldsymbol{C}$ is used to find one of many vectors $\\boldsymbol{x}$ that would give the desired output and then LQR is applied to reach that state optimally."
   ]
  },
  {
   "cell_type": "markdown",
   "metadata": {},
   "source": [
    "<center>$\\dot{\\boldsymbol{x}} = \\boldsymbol{A}\\boldsymbol{x} + \\boldsymbol{B}\\boldsymbol{u}, \\hspace{0.5cm} \\boldsymbol{x}(0) = \\boldsymbol{x}^*$</center>\n",
    "\n",
    "The LQR cost function is then\n",
    "\n",
    "<center>$J(\\boldsymbol{x}(0), \\boldsymbol{u}(\\cdot)) = \\int_0^\\infty \\boldsymbol{x}^T\\boldsymbol{Q}\\boldsymbol{x} + \\boldsymbol{u}^T\\boldsymbol{R}\\boldsymbol{u} \\hspace{0.1cm}dt$</center>\n",
    "\n",
    "We will define the matrices $\\boldsymbol{Q}$ and $\\boldsymbol{R}$ to be some constants $\\lambda_Q$ and $\\lambda_R$ times the identity matrix $\\boldsymbol{I}$.\n",
    "\n",
    "The optimal control input is:\n",
    "\n",
    "<center>$\\boldsymbol{u} = -\\boldsymbol{R}^{-1}\\boldsymbol{B}^T\\boldsymbol{X}\\boldsymbol{x}$</center>\n",
    "where X is the solution to the control algebraic Riccati Equation:\n",
    "<center>$\\boldsymbol{0} = \\boldsymbol{Q} + \\boldsymbol{XA} + \\boldsymbol{A}^T\\boldsymbol{X} - \\boldsymbol{XBR}^{-1}\\boldsymbol{B}^T\\boldsymbol{X}$</center>\n",
    "\n",
    "The optimal cost $J$ is given by\n",
    "\n",
    "<center>$J = \\boldsymbol{x}^{*T}\\boldsymbol{X}\\boldsymbol{x}^*$</center>\n",
    "\n",
    "This cost consists of the state cost $\\boldsymbol{x}^T\\boldsymbol{Qx}$ and the control input energy $\\boldsymbol{u}^T\\boldsymbol{Ru}$. We can analytically calculate their individual values as follow:\n",
    "Consider the closed loop system with optimal control inputs:\n",
    "\n",
    "<center>$\\dot{\\boldsymbol{x}} = (\\boldsymbol{A}-\\boldsymbol{BR}^{-1}\\boldsymbol{B}^T\\boldsymbol{X})\\boldsymbol{x} = (\\boldsymbol{A}+\\boldsymbol{BK})\\boldsymbol{x}$</center>\n",
    "\n",
    "This has solution\n",
    "\n",
    "<center>$\\boldsymbol{x} = \\boldsymbol{x}^*e^{t(\\boldsymbol{A}+\\boldsymbol{BK})}$</center>\n",
    "and so \n",
    "\n",
    "<center>$\\boldsymbol{u} = \\boldsymbol{K}\\boldsymbol{x}^*e^{t(\\boldsymbol{A}+\\boldsymbol{BK})}$</center>\n",
    "\n",
    "Therefore\n",
    "\n",
    "<center>$\\int_0^\\infty \\boldsymbol{u}^T\\boldsymbol{R}\\boldsymbol{u}\\hspace{0.1cm}dt = \\lambda_R * \\int_0^\\infty \\boldsymbol{u}^T\\boldsymbol{u}\\hspace{0.1cm}dt = \\lambda_R * \\boldsymbol{x}^{*T}\\int_0^\\infty e^{t(\\boldsymbol{A}+\\boldsymbol{BK})}\\boldsymbol{K}^T\\boldsymbol{K}e^{t(\\boldsymbol{A}+\\boldsymbol{BK})} \\hspace{0.1cm}dt \\hspace{0.1cm}\\boldsymbol{x}^*$</center>\n",
    "\n",
    "Denoting the integral as $P$, $P$ is the solution to the Lyapunov Equation:\n",
    "\n",
    "<center>$(\\boldsymbol{A}+\\boldsymbol{BK})^T\\boldsymbol{P}+\\boldsymbol{P}(\\boldsymbol{A}+\\boldsymbol{BK})+\\boldsymbol{K}^T\\boldsymbol{K} = 0$</center>\n",
    "\n",
    "Thus\n",
    "\n",
    "<center>$\\int_0^\\infty \\boldsymbol{u}^T\\boldsymbol{R}\\boldsymbol{u}\\hspace{0.1cm}dt = \\lambda_R * \\boldsymbol{x}^{*T}\\boldsymbol{P}\\boldsymbol{x}^*$</center>\n",
    "  \n",
    "It follows that \n",
    "\n",
    "<center>$\\int_0^\\infty \\boldsymbol{x}^T\\boldsymbol{Q}\\boldsymbol{x}\\hspace{0.1cm}dt = J - \\int_0^\\infty \\boldsymbol{u}^T\\boldsymbol{R}\\boldsymbol{u}\\hspace{0.1cm}dt =\\boldsymbol{x}^{*T}\\boldsymbol{X}\\boldsymbol{x}^{*} - \\lambda_R * \\boldsymbol{x}^{*T}\\boldsymbol{P}\\boldsymbol{x}^*$</center>\n",
    "\n",
    "\n",
    "We then recoup the actual energy of the input, $\\int_0^\\infty \\boldsymbol{u}^T\\boldsymbol{u}\\hspace{0.1cm}dt$, and the states, $\\int_0^\\infty \\boldsymbol{x}^T\\boldsymbol{x}\\hspace{0.1cm}dt$, as:\n",
    "\n",
    "<center>$\\int_0^\\infty \\boldsymbol{u}^T\\boldsymbol{u}\\hspace{0.1cm}dt = 1 / \\lambda_R * \\int_0^\\infty \\boldsymbol{u}^T\\boldsymbol{R}\\boldsymbol{u}\\hspace{0.1cm}dt$</center>\n",
    "<center>$\\int_0^\\infty \\boldsymbol{x}^T\\boldsymbol{x}\\hspace{0.1cm}dt = 1 / \\lambda_Q * \\int_0^\\infty \\boldsymbol{x}^T\\boldsymbol{Q}\\boldsymbol{x}\\hspace{0.1cm}dt$</center>"
   ]
  },
  {
   "cell_type": "code",
   "execution_count": 36,
   "metadata": {},
   "outputs": [],
   "source": [
    "def plot_LQR(state_costs, energies, ylim_lower, ylim_upper, title = None):\n",
    "    \n",
    "    IM_states, random_states, first_120_states = state_costs\n",
    "    IM_energies, random_energies, first_120_energies = energies\n",
    "    \n",
    "    fig, axs = plt.subplots(1, 2, figsize = (20, 7))\n",
    "    axs[0].scatter(np.log10(IM_variances), np.log10(IM_states), marker = 'x', color = 'r', label = \"Columns of Intrinsic Manifold\")\n",
    "    axs[0].scatter(np.log10(random_variances), np.log10(random_states), marker = 'x', color = 'b', label = \"Random Orthonormal Mapping\")\n",
    "    axs[0].scatter(np.log10(first_120_variances), np.log10(first_120_states), marker = 'x', color = 'g', label = r\"Consecutive columns of $S$\")\n",
    "    \n",
    "    axs[1].scatter(np.log10(IM_variances), np.log10(IM_energies), marker = 'x', color = 'r', label = \"Columns of Intrinsic Manifold\")\n",
    "    axs[1].scatter(np.log10(random_variances), np.log10(random_energies), marker = 'x', color = 'b', label = \"Random Orthonormal Mapping\")\n",
    "    axs[1].scatter(np.log10(first_120_variances), np.log10(first_120_energies), marker = 'x', color = 'g', label = r\"Consecutive columns of $S$\")\n",
    "    \n",
    "    \n",
    "    for ax in axs:\n",
    "        ax.set_xlim(None, 0)\n",
    "        ax.tick_params(axis='both', which='major', labelsize=16)\n",
    "        ax.tick_params(axis='both', which='minor', labelsize=12)\n",
    "        ax.legend(loc = 'best', fontsize = 16)\n",
    "        \n",
    "    axs[1].set_ylim(ylim_lower, ylim_upper)\n",
    "\n",
    "    axs[0].set_xlabel(r\"$log_{10}$(Percentage Variance Explained)\", fontsize = 18)\n",
    "    axs[1].set_xlabel(r\"$log_{10}$(Percentage Variance Explained)\", fontsize = 18)\n",
    "    axs[0].set_ylabel(r\"$log_{10}$(State Cost)\",  fontsize = 18)\n",
    "    axs[1].set_ylabel(r\"$log_{10}$(Control Input Energy)\",  fontsize = 18)\n",
    "    \n",
    "    fig.suptitle(title, fontsize = 24)\n",
    "    plt.tight_layout()\n",
    "    plt.show()"
   ]
  },
  {
   "cell_type": "code",
   "execution_count": 31,
   "metadata": {},
   "outputs": [],
   "source": [
    "def state_LQR(A, B, C, x_star, lmbda_R = 1, lmbda_Q = 1):\n",
    "    \n",
    "    R = lmbda_R * np.identity(8)\n",
    "    Q = lmbda_Q * np.identity(200)\n",
    "\n",
    "    X = sp.linalg.solve_continuous_are(A, B, Q, R)\n",
    "    J = x_star @ X @ x_star\n",
    "    \n",
    "    K = - (np.linalg.inv(R) @ B.T @ X)\n",
    "    P = sp.linalg.solve_continuous_lyapunov((A + B @ K).T, -K.T @ K) \n",
    "\n",
    "    input_energy = x_star @ P @ x_star\n",
    "    uRu =  input_energy * lmbda_R\n",
    "    xQx = J - uRu\n",
    "    state_cost = xQx/lmbda_Q\n",
    "    \n",
    "    return input_energy, state_cost"
   ]
  },
  {
   "cell_type": "code",
   "execution_count": 33,
   "metadata": {},
   "outputs": [
    {
     "name": "stderr",
     "output_type": "stream",
     "text": [
      "100%|██████████| 190/190 [04:32<00:00,  1.43s/it]\n",
      "100%|██████████| 30/30 [00:40<00:00,  1.34s/it]\n",
      "100%|██████████| 120/120 [02:35<00:00,  1.30s/it]\n"
     ]
    }
   ],
   "source": [
    "all_energies = []\n",
    "all_state_costs = []\n",
    "\n",
    "for Cs in all_Cs:\n",
    "\n",
    "    uTus = [] \n",
    "    xTxs = [] \n",
    "\n",
    "    for C in tqdm(Cs):\n",
    "        required_x = np.linalg.pinv(C) @ target_velocity\n",
    "        uTu, xTx = state_LQR(A, B, C, required_x)\n",
    "        uTus.append(uTu), xTxs.append(xTx)\n",
    "        \n",
    "    all_energies.append(uTus), all_state_costs.append(xTxs)"
   ]
  },
  {
   "cell_type": "code",
   "execution_count": 44,
   "metadata": {
    "scrolled": true
   },
   "outputs": [
    {
     "data": {
      "image/png": "[encoded data removed]",
      "text/plain": [
       "<Figure size 1440x504 with 2 Axes>"
      ]
     },
     "metadata": {
      "needs_background": "light"
     },
     "output_type": "display_data"
    }
   ],
   "source": [
    "plot_LQR(all_state_costs, all_energies, -3, None, \"State Costs and Control Input Energy vs Percentage Variance accounted for\")"
   ]
  },
  {
   "cell_type": "code",
   "execution_count": 45,
   "metadata": {},
   "outputs": [],
   "source": [
    "folder = 'Task Learnability Results and Graphs/LQR Results/'\n",
    "np.save(folder + \"IM_state_costs.npy\", all_state_costs[0])\n",
    "np.save(folder + \"random_state_costs.npy\", all_state_costs[1])\n",
    "np.save(folder + \"120_state_costs.npy\", all_state_costs[2])\n",
    "np.save(folder + \"IM_energies.npy\", all_energies[0])\n",
    "np.save(folder + \"random_energies.npy\", all_energies[1])\n",
    "np.save(folder + \"120_energies.npy\", all_energies[2])"
   ]
  },
  {
   "cell_type": "markdown",
   "metadata": {},
   "source": [
    "# 5. Bisection"
   ]
  },
  {
   "cell_type": "markdown",
   "metadata": {},
   "source": [
    "The problem with using either of these as a measure of performance is that they are dependent on each other. Higher energy inputs allowed would result in better tracking, so lower tracking error. This means that data-points aren't directly comparable. The overall cost $J$ may be optimal, but it is not known how that cost is split between the tracking error and the input energy. \n",
    "\n",
    "To overcome this problem, we will choose either $Q$ or $R$ (while the other remains identity) such that either the state cost or the input energy is constant across all choices of mapping, and so the other variable of interest can be meaningfully compared. For a single choice of mapping $\\boldsymbol{C}$, we can hold $\\lambda_R$ or $\\lambda_Q$ constant and then plot the value of both $\\int_0^\\infty \\boldsymbol{u}^T\\boldsymbol{u}\\hspace{0.1cm}dt$ and $\\int_0^\\infty \\boldsymbol{x}^T\\boldsymbol{x}\\hspace{0.1cm}dt$ against the other."
   ]
  },
  {
   "cell_type": "code",
   "execution_count": 208,
   "metadata": {},
   "outputs": [],
   "source": [
    "test_lmbdas = [10**i for i in np.linspace(-10, 10, 41)]"
   ]
  },
  {
   "cell_type": "code",
   "execution_count": 209,
   "metadata": {},
   "outputs": [
    {
     "name": "stderr",
     "output_type": "stream",
     "text": [
      "100%|██████████| 41/41 [01:34<00:00,  2.31s/it]\n"
     ]
    }
   ],
   "source": [
    "lmbdaR_uTus = [] \n",
    "lmbdaR_xTxs = []\n",
    "\n",
    "lmbdaQ_uTus = []\n",
    "lmbdaQ_xTxs = []\n",
    "\n",
    "C = IM_Cs[0]\n",
    "required_x = np.linalg.pinv(C) @ target_velocity\n",
    "\n",
    "for lmbda in tqdm(test_lmbdas):\n",
    "    \n",
    "    uTu, xTx = state_LQR(A, B, C, required_x, lmbda_R = lmbda, lmbda_Q = 1)\n",
    "    lmbdaR_xTxs.append(xTx) \n",
    "    lmbdaR_uTus.append(uTu)\n",
    "    \n",
    "    uTu, xTx = state_LQR(A, B, C, required_x, lmbda_R = 1, lmbda_Q = lmbda)\n",
    "    lmbdaQ_xTxs.append(xTx)\n",
    "    lmbdaQ_uTus.append(uTu)"
   ]
  },
  {
   "cell_type": "code",
   "execution_count": 210,
   "metadata": {},
   "outputs": [
    {
     "data": {
      "image/png": "[encoded data removed]",
      "text/plain": [
       "<Figure size 1008x504 with 2 Axes>"
      ]
     },
     "metadata": {
      "needs_background": "light"
     },
     "output_type": "display_data"
    }
   ],
   "source": [
    "fig, axs = plt.subplots(1, 2, figsize = (14,7), sharex = 'all', sharey = 'all')\n",
    "axs[0].plot(np.log10(lmbdas), np.log10(lmbdaR_xTxs), linewidth = 4, label = \"State Cost\")\n",
    "axs[0].plot(np.log10(lmbdas), np.log10(lmbdaR_uTus), linewidth = 4, label = 'Input Energy')\n",
    "axs[0].set_xlabel(r'log($\\lambda_R$) with $\\lambda_Q$ = I', fontsize = 20)\n",
    "axs[0].set_ylabel('log(Cost)', fontsize = 20)\n",
    "axs[0].tick_params(axis='both', which='major', labelsize=16)\n",
    "axs[0].legend()\n",
    "\n",
    "axs[1].plot(np.log10(lmbdas), np.log10(lmbdaQ_xTxs), linewidth = 4, label = \"State Cost\")\n",
    "axs[1].plot(np.log10(lmbdas), np.log10(lmbdaQ_uTus), linewidth = 4, label = 'Input Energy')\n",
    "axs[1].set_xlabel(r'log($\\lambda_Q$), with $\\lambda_R$ = I', fontsize = 20)\n",
    "axs[1].tick_params(axis='both', which='major', labelsize=16)\n",
    "axs[1].legend()\n",
    "plt.tight_layout()\n",
    "plt.show()"
   ]
  },
  {
   "cell_type": "markdown",
   "metadata": {},
   "source": [
    "We see that as we increase $\\lambda_R$, the energy of the control inputs decreases, while the energy of the states increases. This makes intuitive sense, as we are penalising the control inputs more, so these will be reduced and the energy of the states will increase to compensate. The opposite applies when $\\lambda_Q$ is increased with $\\lambda_R$ held constant.\n",
    "\n",
    "We can use this to eliminate the dependency of the two terms in the cost function. We set a target for either the state cost or the input energy, a constant across all choices of mappings. Bisection using either $\\lambda_R$ or $\\lambda_Q$ is performed (with the other vaue set to 1) until the desired metric matches the target value. We then perform LQR with these values of $\\lambda_R$ and $\\lambda_Q$. With one of state cost or input energy now constant across all mappings, the other metric can be compared meaningfully.\n",
    "\n",
    "To choose which of the metrics will be set to a constant and which will be allowed to vary freely, we want to ensure that the constant value set can be achieved by all choices of mapping. Test two different mappings and see how the state costs and input energies vary with $\\lambda$."
   ]
  },
  {
   "cell_type": "code",
   "execution_count": 227,
   "metadata": {},
   "outputs": [
    {
     "name": "stderr",
     "output_type": "stream",
     "text": [
      "100%|██████████| 41/41 [02:57<00:00,  4.32s/it]\n"
     ]
    }
   ],
   "source": [
    "C_0 = IM_Cs[0]\n",
    "C_1 = first_120_Cs[100]\n",
    "\n",
    "energies_0 = []\n",
    "energies_1 = []\n",
    "\n",
    "states_0 = []\n",
    "states_1 = []\n",
    "\n",
    "x0 = np.linalg.pinv(C_0) @ target_velocity\n",
    "x1 = np.linalg.pinv(C_1) @ target_velocity\n",
    "\n",
    "for lmbda in tqdm(lmbdas):\n",
    "    \n",
    "    _, xTx0 = state_LQR(A, B, C, x0, lmbda_R = 1, lmbda_Q = lmbda)\n",
    "    _, xTx1 = state_LQR(A, B, C, x1, lmbda_R = 1, lmbda_Q = lmbda)\n",
    "    \n",
    "    states_0.append(xTx0)\n",
    "    states_1.append(xTx1)\n",
    "    \n",
    "    uTu0, _ = state_LQR(A, B, C, x0, lmbda_R = lmbda, lmbda_Q = 1)\n",
    "    uTu1, _ = state_LQR(A, B, C, x1, lmbda_R = lmbda, lmbda_Q = 1)\n",
    "    \n",
    "    energies_0.append(uTu0)\n",
    "    energies_1.append(uTu1)"
   ]
  },
  {
   "cell_type": "code",
   "execution_count": 229,
   "metadata": {
    "scrolled": false
   },
   "outputs": [
    {
     "data": {
      "image/png": "[encoded data removed]",
      "text/plain": [
       "<Figure size 1008x504 with 2 Axes>"
      ]
     },
     "metadata": {
      "needs_background": "light"
     },
     "output_type": "display_data"
    }
   ],
   "source": [
    "fig, axs = plt.subplots(1, 2, figsize = (14,7), sharex = 'all')\n",
    "axs[0].plot(np.log10(lmbdas), np.log10(energies_0), linewidth = 4, label = r\"Input Energy for mapping $C_1$\")\n",
    "axs[0].plot(np.log10(lmbdas), np.log10(energies_1), linewidth = 4, label = r'Input Energy for mapping $C_2$')\n",
    "axs[0].set_xlabel(r'log($\\lambda_R$) with $\\lambda_Q$ = I', fontsize = 20)\n",
    "axs[0].set_ylabel('log(Control Input energy)', fontsize = 20)\n",
    "axs[0].tick_params(axis='both', which='major', labelsize=16)\n",
    "axs[0].legend()\n",
    "\n",
    "axs[1].plot(np.log10(lmbdas), np.log10(states_0), linewidth = 4, label = r\"State Cost for mapping $C_1$\")\n",
    "axs[1].plot(np.log10(lmbdas), np.log10(states_1), linewidth = 4, label = r'State Cost for mapping $C_2$')\n",
    "axs[1].set_xlabel(r'log($\\lambda_Q$), with $\\lambda_R$ = I', fontsize = 20)\n",
    "axs[1].set_ylabel('log(State Cost)', fontsize = 20)\n",
    "axs[1].tick_params(axis='both', which='major', labelsize=16)\n",
    "axs[1].legend()\n",
    "plt.tight_layout()\n",
    "plt.show()"
   ]
  },
  {
   "cell_type": "markdown",
   "metadata": {},
   "source": [
    "We see that for the state cost, there is no way of choosing a target cost value that can be achieved by both choices of mapping. Furthermore, the range of each function is very small. On the other hand, the input energy spans a much larger range, and so it will be possible to perform bisection with the same target value for different choices of mapping"
   ]
  },
  {
   "cell_type": "code",
   "execution_count": 163,
   "metadata": {},
   "outputs": [],
   "source": [
    "def bisect(A, lmbda_low, lmbda_high, x, C, target):\n",
    "    \n",
    "    lmbda_mid = (lmbda_low + lmbda_high) / 2.0\n",
    "\n",
    "    print('lambda = {}'.format(lmbda_mid))\n",
    "\n",
    "    uTu, xTx = state_LQR(A, B, C, x, lmbda_R = lmbda_mid, lmbda_Q = 1)\n",
    "    print('uTu = {}'.format(uTu))\n",
    "\n",
    "    if uTu < target:\n",
    "        lmbda_high =  lmbda_mid\n",
    "    else:\n",
    "        lmbda_low = lmbda_mid\n",
    "\n",
    "    return lmbda_low, lmbda_high, lmbda_mid, uTu\n",
    "\n",
    "\n",
    "def LQR_bisection(A, lmbda_high, lmbda_low, target, v, B, C):\n",
    "    \n",
    "    x = np.linalg.pinv(C) @ v\n",
    "\n",
    "    uTu, xTx = state_LQR(A, B, C, x, lmbda_R = lmbda_high, lmbda_Q = 1)\n",
    "    \n",
    "    print('Initial lambda is {}'.format(lmbda_high))›\n",
    "    print('With corresponding starting energy {}'.format(uTu))\n",
    "\n",
    "    while uTu > target:\n",
    "        lmbda_high = lmbda_high * 2\n",
    "        print('Increasing lmbda high - now lmbda = {}'.format(lmbda_high))\n",
    "        uTu, xTx = state_LQR(A, B, C, x, lmbda_R = lmbda_high, lmbda_Q = 1)\n",
    "        print(uTu)\n",
    "\n",
    "    lmbda_final = lmbda_high\n",
    "\n",
    "    while abs(uTu - target) > 0.000001:\n",
    "\n",
    "        lmbda_low, lmbda_high, lmbda_mid, uTu = bisect(A, lmbda_low, lmbda_high, x, C, target, bisect_energy)\n",
    "        lmbda_final = lmbda_mid\n",
    "\n",
    "    uTu, xTx = state_LQR(A, B, C, x, lmbda_R = lmbda_final, lmbda_Q = 1)\n",
    "\n",
    "    return uTu, xTx"
   ]
  },
  {
   "cell_type": "code",
   "execution_count": 97,
   "metadata": {
    "collapsed": true
   },
   "outputs": [
    {
     "name": "stderr",
     "output_type": "stream",
     "text": [
      "\r",
      "  0%|          | 0/190 [00:00<?, ?it/s]"
     ]
    },
    {
     "name": "stdout",
     "output_type": "stream",
     "text": [
      "Initial lambda is 10\n",
      "With corresponding starting state cost 0.0016395076076565387\n",
      "Increasing lmbda high - now lmbda = 20\n",
      "0.000980329416455024\n",
      "lambda = 10.0\n",
      "uTu = 0.0016395076076565387\n",
      "lambda = 15.0\n",
      "uTu = 0.0012194213117974015\n",
      "lambda = 17.5\n",
      "uTu = 0.0010858145873016113\n",
      "lambda = 18.75\n",
      "uTu = 0.0010301720849956925\n",
      "lambda = 19.375\n",
      "uTu = 0.00100458699740521\n",
      "lambda = 19.6875\n",
      "uTu = 0.0009922991563945894\n",
      "lambda = 19.53125\n",
      "uTu = 0.000998402484205727\n",
      "lambda = 19.453125\n",
      "uTu = 0.00100148448625889\n",
      "lambda = 19.4921875\n",
      "uTu = 0.0009999409350118645\n"
     ]
    },
    {
     "name": "stderr",
     "output_type": "stream",
     "text": [
      "\r",
      "  1%|          | 1/190 [00:14<44:40, 14.18s/it]"
     ]
    },
    {
     "name": "stdout",
     "output_type": "stream",
     "text": [
      "Initial lambda is 10\n",
      "With corresponding starting state cost 0.0018542703017553814\n",
      "Increasing lmbda high - now lmbda = 20\n",
      "0.0010445188680722217\n",
      "Increasing lmbda high - now lmbda = 40\n",
      "0.0005598209543401275\n",
      "lambda = 20.0\n",
      "uTu = 0.0010445188680722217\n",
      "lambda = 30.0\n",
      "uTu = 0.0007300290936378561\n",
      "lambda = 25.0\n",
      "uTu = 0.0008595234758354703\n",
      "lambda = 22.5\n",
      "uTu = 0.0009430106395436708\n",
      "lambda = 21.25\n",
      "uTu = 0.0009911557861637318\n",
      "lambda = 20.625\n",
      "uTu = 0.0010171319162480001\n",
      "lambda = 20.9375\n",
      "uTu = 0.0010039745990636755\n",
      "lambda = 21.09375\n",
      "uTu = 0.0009975237249212569\n",
      "lambda = 21.015625\n",
      "uTu = 0.0010007386912019686\n"
     ]
    },
    {
     "name": "stderr",
     "output_type": "stream",
     "text": [
      "\r",
      "  1%|          | 2/190 [00:30<48:35, 15.51s/it]"
     ]
    },
    {
     "name": "stdout",
     "output_type": "stream",
     "text": [
      "Initial lambda is 10\n",
      "With corresponding starting state cost 0.0017633727803427017\n",
      "Increasing lmbda high - now lmbda = 20\n",
      "0.0011808909873618609\n",
      "Increasing lmbda high - now lmbda = 40\n",
      "0.000741899093663396\n",
      "lambda = 20.0\n",
      "uTu = 0.0011808909873618609\n",
      "lambda = 30.0\n",
      "uTu = 0.0009080044567967951\n",
      "lambda = 25.0\n",
      "uTu = 0.001024938831110411\n",
      "lambda = 27.5\n",
      "uTu = 0.0009626568483401134\n",
      "lambda = 26.25\n",
      "uTu = 0.0009927378799554855\n",
      "lambda = 25.625\n",
      "uTu = 0.001008558204498263\n",
      "lambda = 25.9375\n",
      "uTu = 0.001000579994842053\n"
     ]
    },
    {
     "name": "stderr",
     "output_type": "stream",
     "text": [
      "\r",
      "  2%|▏         | 3/190 [00:43<44:14, 14.20s/it]"
     ]
    },
    {
     "name": "stdout",
     "output_type": "stream",
     "text": [
      "Initial lambda is 10\n",
      "With corresponding starting state cost 0.0014021408637403124\n",
      "Increasing lmbda high - now lmbda = 20\n",
      "0.0008216926230915304\n",
      "lambda = 10.0\n",
      "uTu = 0.0014021408637403124\n",
      "lambda = 15.0\n",
      "uTu = 0.0010309268602795314\n",
      "lambda = 17.5\n",
      "uTu = 0.00091383189039281\n",
      "lambda = 16.25\n",
      "uTu = 0.0009686299133643418\n",
      "lambda = 15.625\n",
      "uTu = 0.0009987423733518262\n",
      "lambda = 15.3125\n",
      "uTu = 0.0010145616885572737\n",
      "lambda = 15.46875\n",
      "uTu = 0.0010065856192846671\n",
      "lambda = 15.546875\n",
      "uTu = 0.0010026476136770974\n",
      "lambda = 15.5859375\n",
      "uTu = 0.0010006909249499682\n"
     ]
    },
    {
     "name": "stderr",
     "output_type": "stream",
     "text": [
      "\r",
      "  2%|▏         | 4/190 [00:57<44:28, 14.35s/it]"
     ]
    },
    {
     "name": "stdout",
     "output_type": "stream",
     "text": [
      "Initial lambda is 10\n",
      "With corresponding starting state cost 0.0012881436614712233\n",
      "Increasing lmbda high - now lmbda = 20\n",
      "0.0007273099703190176\n",
      "lambda = 10.0\n",
      "uTu = 0.0012881436614712233\n",
      "lambda = 15.0\n",
      "uTu = 0.0009231607773373622\n",
      "lambda = 12.5\n",
      "uTu = 0.001072573164840788\n",
      "lambda = 13.75\n",
      "uTu = 0.000991743401756825\n",
      "lambda = 13.125\n",
      "uTu = 0.0010304207759713798\n",
      "lambda = 13.4375\n",
      "uTu = 0.0010106764337560294\n",
      "lambda = 13.59375\n",
      "uTu = 0.0010011118154311584\n",
      "lambda = 13.671875\n",
      "uTu = 0.0009964034809733743\n",
      "lambda = 13.6328125\n",
      "uTu = 0.0009987515672391762\n",
      "lambda = 13.61328125\n",
      "uTu = 0.0009999301649027774\n"
     ]
    },
    {
     "name": "stderr",
     "output_type": "stream",
     "text": [
      "\r",
      "  3%|▎         | 5/190 [01:11<43:27, 14.09s/it]"
     ]
    },
    {
     "name": "stdout",
     "output_type": "stream",
     "text": [
      "Initial lambda is 10\n",
      "With corresponding starting state cost 0.0012532019567405447\n",
      "Increasing lmbda high - now lmbda = 20\n",
      "0.0007646829738579442\n",
      "lambda = 10.0\n",
      "uTu = 0.0012532019567405447\n",
      "lambda = 15.0\n",
      "uTu = 0.0009427550616773775\n",
      "lambda = 12.5\n",
      "uTu = 0.0010728256435397774\n",
      "lambda = 13.75\n",
      "uTu = 0.0010030260684866334\n",
      "lambda = 14.375\n",
      "uTu = 0.0009718363510422932\n",
      "lambda = 14.0625\n",
      "uTu = 0.0009871522921657335\n",
      "lambda = 13.90625\n",
      "uTu = 0.000995017392355171\n",
      "lambda = 13.828125\n",
      "uTu = 0.0009990035167937224\n"
     ]
    },
    {
     "name": "stderr",
     "output_type": "stream",
     "text": [
      "\r",
      "  3%|▎         | 6/190 [01:27<45:16, 14.76s/it]"
     ]
    },
    {
     "name": "stdout",
     "output_type": "stream",
     "text": [
      "Initial lambda is 10\n",
      "With corresponding starting state cost 0.0018821674500284589\n",
      "Increasing lmbda high - now lmbda = 20\n",
      "0.0011010648273440224\n",
      "Increasing lmbda high - now lmbda = 40\n",
      "0.0006071712974904631\n",
      "lambda = 20.0\n",
      "uTu = 0.0011010648273440224\n",
      "lambda = 30.0\n",
      "uTu = 0.0007832239577700702\n",
      "lambda = 25.0\n",
      "uTu = 0.0009152326065280478\n",
      "lambda = 22.5\n",
      "uTu = 0.0009994880739122177\n"
     ]
    },
    {
     "name": "stderr",
     "output_type": "stream",
     "text": [
      "\r",
      "  4%|▎         | 7/190 [01:37<40:33, 13.30s/it]"
     ]
    },
    {
     "name": "stdout",
     "output_type": "stream",
     "text": [
      "Initial lambda is 10\n",
      "With corresponding starting state cost 0.001204918555398272\n",
      "Increasing lmbda high - now lmbda = 20\n",
      "0.0007227793035886876\n",
      "lambda = 10.0\n",
      "uTu = 0.001204918555398272\n",
      "lambda = 15.0\n",
      "uTu = 0.0008998031381245612\n",
      "lambda = 12.5\n",
      "uTu = 0.0010283414879283153\n",
      "lambda = 13.75\n",
      "uTu = 0.0009594717893080407\n",
      "lambda = 13.125\n",
      "uTu = 0.0009926181851793252\n",
      "lambda = 12.8125\n",
      "uTu = 0.0010101378296674842\n",
      "lambda = 12.96875\n",
      "uTu = 0.0010012951251793154\n",
      "lambda = 13.046875\n",
      "uTu = 0.0009969362498624132\n",
      "lambda = 13.0078125\n",
      "uTu = 0.000999110547310942\n"
     ]
    },
    {
     "name": "stderr",
     "output_type": "stream",
     "text": [
      "\r",
      "  4%|▍         | 8/190 [01:54<43:07, 14.22s/it]"
     ]
    },
    {
     "name": "stdout",
     "output_type": "stream",
     "text": [
      "Initial lambda is 10\n",
      "With corresponding starting state cost 0.002184612031624755\n",
      "Increasing lmbda high - now lmbda = 20\n",
      "0.0013777205292033556\n",
      "Increasing lmbda high - now lmbda = 40\n",
      "0.0008402757597235006\n",
      "lambda = 20.0\n",
      "uTu = 0.0013777205292033556\n",
      "lambda = 30.0\n",
      "uTu = 0.0010369430291350572\n",
      "lambda = 35.0\n",
      "uTu = 0.000927375717537407\n",
      "lambda = 32.5\n",
      "uTu = 0.000978797231700536\n",
      "lambda = 31.25\n",
      "uTu = 0.0010069431629177643\n",
      "lambda = 31.875\n",
      "uTu = 0.0009926502067976386\n",
      "lambda = 31.5625\n",
      "uTu = 0.0009997402834154088\n"
     ]
    },
    {
     "name": "stderr",
     "output_type": "stream",
     "text": [
      "\r",
      "  5%|▍         | 9/190 [02:10<44:49, 14.86s/it]"
     ]
    },
    {
     "name": "stdout",
     "output_type": "stream",
     "text": [
      "Initial lambda is 10\n",
      "With corresponding starting state cost 0.0016497753917622652\n",
      "Increasing lmbda high - now lmbda = 20\n",
      "0.000982334261335752\n",
      "lambda = 10.0\n",
      "uTu = 0.0016497753917622652\n",
      "lambda = 15.0\n",
      "uTu = 0.0012199110201611873\n",
      "lambda = 17.5\n",
      "uTu = 0.0010866464847425442\n",
      "lambda = 18.75\n",
      "uTu = 0.0010315356522382004\n",
      "lambda = 19.375\n",
      "uTu = 0.0010062615842729844\n",
      "lambda = 19.6875\n",
      "uTu = 0.000994136887807913\n",
      "lambda = 19.53125\n",
      "uTu = 0.0010001580981608524\n"
     ]
    },
    {
     "name": "stderr",
     "output_type": "stream",
     "text": [
      "\r",
      "  5%|▌         | 10/190 [02:24<44:22, 14.79s/it]"
     ]
    },
    {
     "name": "stdout",
     "output_type": "stream",
     "text": [
      "Initial lambda is 10\n",
      "With corresponding starting state cost 0.0013711066244472415\n",
      "Increasing lmbda high - now lmbda = 20\n",
      "0.0008554237035964509\n",
      "lambda = 10.0\n",
      "uTu = 0.0013711066244472415\n",
      "lambda = 15.0\n",
      "uTu = 0.001044482757391764\n",
      "lambda = 17.5\n",
      "uTu = 0.0009392682960842226\n",
      "lambda = 16.25\n",
      "uTu = 0.000988675899317351\n",
      "lambda = 15.625\n",
      "uTu = 0.0010156967608496413\n",
      "lambda = 15.9375\n",
      "uTu = 0.0010019769372212586\n",
      "lambda = 16.09375\n",
      "uTu = 0.0009952753894880782\n",
      "lambda = 16.015625\n",
      "uTu = 0.0009986132448722305\n",
      "lambda = 15.9765625\n",
      "uTu = 0.0010002918409530766\n"
     ]
    },
    {
     "name": "stderr",
     "output_type": "stream",
     "text": [
      "\r",
      "  6%|▌         | 11/190 [02:39<43:42, 14.65s/it]"
     ]
    },
    {
     "name": "stdout",
     "output_type": "stream",
     "text": [
      "Initial lambda is 10\n",
      "With corresponding starting state cost 0.0017643308698071102\n",
      "Increasing lmbda high - now lmbda = 20\n",
      "0.0011237661192289453\n",
      "Increasing lmbda high - now lmbda = 40\n",
      "0.0007017238192999198\n",
      "lambda = 20.0\n",
      "uTu = 0.0011237661192289453\n",
      "lambda = 30.0\n",
      "uTu = 0.0008574774433672701\n",
      "lambda = 25.0\n",
      "uTu = 0.0009696403520009054\n",
      "lambda = 22.5\n",
      "uTu = 0.0010399238964404678\n",
      "lambda = 23.75\n",
      "uTu = 0.0010033260171212904\n",
      "lambda = 24.375\n",
      "uTu = 0.0009861439835899617\n",
      "lambda = 24.0625\n",
      "uTu = 0.0009946472846934793\n",
      "lambda = 23.90625\n",
      "uTu = 0.0009989643420523686\n",
      "lambda = 23.828125\n",
      "uTu = 0.001001139553865737\n",
      "lambda = 23.8671875\n",
      "uTu = 0.0010000505476384263\n"
     ]
    },
    {
     "name": "stderr",
     "output_type": "stream",
     "text": [
      "\r",
      "  6%|▋         | 12/190 [02:57<46:32, 15.69s/it]"
     ]
    },
    {
     "name": "stdout",
     "output_type": "stream",
     "text": [
      "Initial lambda is 10\n",
      "With corresponding starting state cost 0.001681525359002068\n",
      "Increasing lmbda high - now lmbda = 20\n",
      "0.0009553960068269252\n",
      "lambda = 10.0\n",
      "uTu = 0.001681525359002068\n",
      "lambda = 15.0\n",
      "uTu = 0.0012090947143041373\n",
      "lambda = 17.5\n",
      "uTu = 0.0010660031201546898\n",
      "lambda = 18.75\n",
      "uTu = 0.001007402243340353\n",
      "lambda = 19.375\n",
      "uTu = 0.0009806495450363614\n",
      "lambda = 19.0625\n",
      "uTu = 0.0009938298872891333\n",
      "lambda = 18.90625\n",
      "uTu = 0.001000565927668692\n"
     ]
    },
    {
     "name": "stderr",
     "output_type": "stream",
     "text": [
      "\r",
      "  7%|▋         | 13/190 [03:09<42:59, 14.57s/it]"
     ]
    },
    {
     "name": "stdout",
     "output_type": "stream",
     "text": [
      "Initial lambda is 10\n",
      "With corresponding starting state cost 0.001058746805231167\n",
      "Increasing lmbda high - now lmbda = 20\n",
      "0.0005906644811163135\n",
      "lambda = 10.0\n",
      "uTu = 0.001058746805231167\n",
      "lambda = 15.0\n",
      "uTu = 0.0007569477765398805\n",
      "lambda = 12.5\n",
      "uTu = 0.0008819826195746884\n",
      "lambda = 11.25\n",
      "uTu = 0.0009620066735402444\n",
      "lambda = 10.625\n",
      "uTu = 0.0010079632696004734\n",
      "lambda = 10.9375\n",
      "uTu = 0.0009844273362132666\n",
      "lambda = 10.78125\n",
      "uTu = 0.0009960505528901031\n",
      "lambda = 10.703125\n",
      "uTu = 0.001001970025239391\n",
      "lambda = 10.7421875\n",
      "uTu = 0.0009990011563133809\n"
     ]
    },
    {
     "name": "stderr",
     "output_type": "stream",
     "text": [
      "\r",
      "  7%|▋         | 14/190 [03:25<43:44, 14.91s/it]"
     ]
    },
    {
     "name": "stdout",
     "output_type": "stream",
     "text": [
      "Initial lambda is 10\n",
      "With corresponding starting state cost 0.0018248186056689\n",
      "Increasing lmbda high - now lmbda = 20\n",
      "0.0011402007538414412\n",
      "Increasing lmbda high - now lmbda = 40\n",
      "0.0006840653043800765\n",
      "lambda = 20.0\n",
      "uTu = 0.0011402007538414412\n",
      "lambda = 30.0\n",
      "uTu = 0.0008512208962361943\n",
      "lambda = 25.0\n",
      "uTu = 0.0009727504154427425\n",
      "lambda = 22.5\n",
      "uTu = 0.0010491042656615227\n",
      "lambda = 23.75\n",
      "uTu = 0.0010093366869388682\n",
      "lambda = 24.375\n",
      "uTu = 0.0009906722854622478\n",
      "lambda = 24.0625\n",
      "uTu = 0.0009999085630915763\n"
     ]
    },
    {
     "name": "stderr",
     "output_type": "stream",
     "text": [
      "\r",
      "  8%|▊         | 15/190 [03:40<44:19, 15.20s/it]"
     ]
    },
    {
     "name": "stdout",
     "output_type": "stream",
     "text": [
      "Initial lambda is 10\n",
      "With corresponding starting state cost 0.0018240037741574576\n",
      "Increasing lmbda high - now lmbda = 20\n",
      "0.0010613316695011884\n",
      "Increasing lmbda high - now lmbda = 40\n",
      "0.0006125109131191272\n",
      "lambda = 20.0\n",
      "uTu = 0.0010613316695011884\n",
      "lambda = 30.0\n",
      "uTu = 0.0007715201262116708\n",
      "lambda = 25.0\n",
      "uTu = 0.000891036298846079\n",
      "lambda = 22.5\n",
      "uTu = 0.0009678743913903062\n",
      "lambda = 21.25\n",
      "uTu = 0.0010121842994978375\n",
      "lambda = 21.875\n",
      "uTu = 0.0009894731530480027\n",
      "lambda = 21.5625\n",
      "uTu = 0.001000684036873286\n"
     ]
    },
    {
     "name": "stderr",
     "output_type": "stream",
     "text": [
      "\r",
      "  8%|▊         | 16/190 [03:55<43:12, 14.90s/it]"
     ]
    },
    {
     "name": "stdout",
     "output_type": "stream",
     "text": [
      "Initial lambda is 10\n",
      "With corresponding starting state cost 0.002741781716906904\n",
      "Increasing lmbda high - now lmbda = 20\n",
      "0.0018166899529824035\n",
      "Increasing lmbda high - now lmbda = 40\n",
      "0.0011540389861689612\n",
      "Increasing lmbda high - now lmbda = 80\n",
      "0.0006764163224673782\n",
      "lambda = 40.0\n",
      "uTu = 0.0011540389861689612\n",
      "lambda = 60.0\n",
      "uTu = 0.0008544453239608287\n",
      "lambda = 50.0\n",
      "uTu = 0.0009818890500466317\n",
      "lambda = 45.0\n",
      "uTu = 0.0010609043608110185\n",
      "lambda = 47.5\n",
      "uTu = 0.0010198569749335956\n",
      "lambda = 48.75\n",
      "uTu = 0.0010005118720880586\n"
     ]
    },
    {
     "name": "stderr",
     "output_type": "stream",
     "text": [
      "\r",
      "  9%|▉         | 17/190 [04:09<42:43, 14.82s/it]"
     ]
    },
    {
     "name": "stdout",
     "output_type": "stream",
     "text": [
      "Initial lambda is 10\n",
      "With corresponding starting state cost 0.0019595510974547404\n",
      "Increasing lmbda high - now lmbda = 20\n",
      "0.001191850800129258\n",
      "Increasing lmbda high - now lmbda = 40\n",
      "0.000706890685687847\n",
      "lambda = 20.0\n",
      "uTu = 0.001191850800129258\n",
      "lambda = 30.0\n",
      "uTu = 0.0008814367275619662\n",
      "lambda = 25.0\n",
      "uTu = 0.0010107243283409984\n",
      "lambda = 27.5\n",
      "uTu = 0.000941182100123499\n",
      "lambda = 26.25\n",
      "uTu = 0.0009745740777422929\n",
      "lambda = 25.625\n",
      "uTu = 0.0009922820989980241\n",
      "lambda = 25.3125\n",
      "uTu = 0.001001408427679428\n",
      "lambda = 25.46875\n",
      "uTu = 0.0009968219536378956\n",
      "lambda = 25.390625\n",
      "uTu = 0.0009991093155639608\n"
     ]
    },
    {
     "name": "stderr",
     "output_type": "stream",
     "text": [
      "\r",
      "  9%|▉         | 18/190 [04:30<47:25, 16.54s/it]"
     ]
    },
    {
     "name": "stdout",
     "output_type": "stream",
     "text": [
      "Initial lambda is 10\n",
      "With corresponding starting state cost 0.0018489430605868947\n",
      "Increasing lmbda high - now lmbda = 20\n",
      "0.0011168271310383303\n",
      "Increasing lmbda high - now lmbda = 40\n",
      "0.0006480187184814633\n",
      "lambda = 20.0\n",
      "uTu = 0.0011168271310383303\n",
      "lambda = 30.0\n",
      "uTu = 0.000817643139523854\n",
      "lambda = 25.0\n",
      "uTu = 0.00094261993276097\n",
      "lambda = 22.5\n",
      "uTu = 0.0010217813587639062\n",
      "lambda = 23.75\n",
      "uTu = 0.000980492353752535\n",
      "lambda = 23.125\n",
      "uTu = 0.0010006794138774045\n"
     ]
    },
    {
     "name": "stderr",
     "output_type": "stream",
     "text": [
      "\r",
      " 10%|█         | 19/190 [04:41<42:26, 14.89s/it]"
     ]
    },
    {
     "name": "stdout",
     "output_type": "stream",
     "text": [
      "Initial lambda is 10\n",
      "With corresponding starting state cost 0.001753348275413394\n",
      "Increasing lmbda high - now lmbda = 20\n",
      "0.0009769234042884714\n",
      "lambda = 10.0\n",
      "uTu = 0.001753348275413394\n",
      "lambda = 15.0\n",
      "uTu = 0.0012514887892220918\n",
      "lambda = 17.5\n",
      "uTu = 0.0010969425832863793\n",
      "lambda = 18.75\n",
      "uTu = 0.0010334037768542997\n",
      "lambda = 19.375\n",
      "uTu = 0.0010043590000987145\n",
      "lambda = 19.6875\n",
      "uTu = 0.0009904487682717935\n",
      "lambda = 19.53125\n",
      "uTu = 0.0009973547268073153\n",
      "lambda = 19.453125\n",
      "uTu = 0.0010008444395881273\n"
     ]
    },
    {
     "name": "stderr",
     "output_type": "stream",
     "text": [
      "\r",
      " 11%|█         | 20/190 [04:56<42:45, 15.09s/it]"
     ]
    },
    {
     "name": "stdout",
     "output_type": "stream",
     "text": [
      "Initial lambda is 10\n",
      "With corresponding starting state cost 0.001490427215276552\n",
      "Increasing lmbda high - now lmbda = 20\n",
      "0.000891082159728185\n",
      "lambda = 10.0\n",
      "uTu = 0.001490427215276552\n",
      "lambda = 15.0\n",
      "uTu = 0.001109404111655029\n",
      "lambda = 17.5\n",
      "uTu = 0.0009875549603306484\n",
      "lambda = 16.25\n",
      "uTu = 0.001044681454943374\n",
      "lambda = 16.875\n",
      "uTu = 0.0010152598547869397\n",
      "lambda = 17.1875\n",
      "uTu = 0.0010012029167026483\n",
      "lambda = 17.34375\n",
      "uTu = 0.0009943290068451008\n",
      "lambda = 17.265625\n",
      "uTu = 0.0009977533329805232\n",
      "lambda = 17.2265625\n",
      "uTu = 0.0009994749491507898\n"
     ]
    },
    {
     "name": "stderr",
     "output_type": "stream",
     "text": [
      "\r",
      " 11%|█         | 21/190 [05:11<42:26, 15.07s/it]"
     ]
    },
    {
     "name": "stdout",
     "output_type": "stream",
     "text": [
      "Initial lambda is 10\n",
      "With corresponding starting state cost 0.001077737623731969\n",
      "Increasing lmbda high - now lmbda = 20\n",
      "0.0006106007102603482\n",
      "lambda = 10.0\n",
      "uTu = 0.001077737623731969\n",
      "lambda = 15.0\n",
      "uTu = 0.0007723444831551234\n",
      "lambda = 12.5\n",
      "uTu = 0.0008969580843063554\n",
      "lambda = 11.25\n",
      "uTu = 0.0009781335254305309\n",
      "lambda = 10.625\n",
      "uTu = 0.0010252516105249336\n",
      "lambda = 10.9375\n",
      "uTu = 0.0010010755277140152\n",
      "lambda = 11.09375\n",
      "uTu = 0.000989456382944876\n",
      "lambda = 11.015625\n",
      "uTu = 0.0009952281804361139\n",
      "lambda = 10.9765625\n",
      "uTu = 0.0009981423158088906\n",
      "lambda = 10.95703125\n",
      "uTu = 0.0009996065252380404\n"
     ]
    },
    {
     "name": "stderr",
     "output_type": "stream",
     "text": [
      "\r",
      " 12%|█▏        | 22/190 [05:30<45:10, 16.13s/it]"
     ]
    },
    {
     "name": "stdout",
     "output_type": "stream",
     "text": [
      "Initial lambda is 10\n",
      "With corresponding starting state cost 0.0016602323607939444\n",
      "Increasing lmbda high - now lmbda = 20\n",
      "0.0010134398013924312\n",
      "Increasing lmbda high - now lmbda = 40\n",
      "0.0006010748038348323\n",
      "lambda = 20.0\n",
      "uTu = 0.0010134398013924312\n",
      "lambda = 30.0\n",
      "uTu = 0.0007500632239496396\n",
      "lambda = 25.0\n",
      "uTu = 0.0008599835689880976\n",
      "lambda = 22.5\n",
      "uTu = 0.0009296822342242934\n",
      "lambda = 21.25\n",
      "uTu = 0.0009695311425169497\n",
      "lambda = 20.625\n",
      "uTu = 0.0009909373586332198\n",
      "lambda = 20.3125\n",
      "uTu = 0.001002045971571591\n",
      "lambda = 20.46875\n",
      "uTu = 0.0009964567348713271\n",
      "lambda = 20.390625\n",
      "uTu = 0.0009992425320115243\n"
     ]
    },
    {
     "name": "stderr",
     "output_type": "stream",
     "text": [
      "\r",
      " 12%|█▏        | 23/190 [05:48<46:19, 16.65s/it]"
     ]
    },
    {
     "name": "stdout",
     "output_type": "stream",
     "text": [
      "Initial lambda is 10\n",
      "With corresponding starting state cost 0.0007734492212937335\n",
      "lambda = 5.0\n",
      "uTu = 0.00125573730962184\n",
      "lambda = 7.5\n",
      "uTu = 0.0009461532594075581\n",
      "lambda = 6.25\n",
      "uTu = 0.0010746004194373388\n",
      "lambda = 6.875\n",
      "uTu = 0.001005433974121776\n",
      "lambda = 7.1875\n",
      "uTu = 0.0009747047059080767\n",
      "lambda = 7.03125\n",
      "uTu = 0.000989780663181118\n",
      "lambda = 6.953125\n",
      "uTu = 0.0009975329427861768\n",
      "lambda = 6.9140625\n",
      "uTu = 0.0010014645784971027\n",
      "lambda = 6.93359375\n",
      "uTu = 0.000999494076870399\n"
     ]
    },
    {
     "name": "stderr",
     "output_type": "stream",
     "text": [
      "\r",
      " 13%|█▎        | 24/190 [06:01<43:07, 15.59s/it]"
     ]
    },
    {
     "name": "stdout",
     "output_type": "stream",
     "text": [
      "Initial lambda is 10\n",
      "With corresponding starting state cost 0.002415028328780632\n",
      "Increasing lmbda high - now lmbda = 20\n",
      "0.0014308877147590298\n",
      "Increasing lmbda high - now lmbda = 40\n",
      "0.0007984845936889851\n",
      "lambda = 20.0\n",
      "uTu = 0.0014308877147590298\n",
      "lambda = 30.0\n",
      "uTu = 0.001025106720161086\n",
      "lambda = 35.0\n",
      "uTu = 0.0008979178164595982\n",
      "lambda = 32.5\n",
      "uTu = 0.0009573457603211093\n",
      "lambda = 31.25\n",
      "uTu = 0.0009900758462216778\n",
      "lambda = 30.625\n",
      "uTu = 0.0010072883632501132\n",
      "lambda = 30.9375\n",
      "uTu = 0.0009986083761233135\n",
      "lambda = 30.78125\n",
      "uTu = 0.0010029296930217093\n",
      "lambda = 30.859375\n",
      "uTu = 0.0010007643963150443\n"
     ]
    },
    {
     "name": "stderr",
     "output_type": "stream",
     "text": [
      "\r",
      " 13%|█▎        | 25/190 [06:18<43:56, 15.98s/it]"
     ]
    },
    {
     "name": "stdout",
     "output_type": "stream",
     "text": [
      "Initial lambda is 10\n",
      "With corresponding starting state cost 0.0017022451671140086\n",
      "Increasing lmbda high - now lmbda = 20\n",
      "0.001060429672126142\n",
      "Increasing lmbda high - now lmbda = 40\n",
      "0.0006346330334812196\n",
      "lambda = 20.0\n",
      "uTu = 0.001060429672126142\n",
      "lambda = 30.0\n",
      "uTu = 0.0007897192392218933\n",
      "lambda = 25.0\n",
      "uTu = 0.0009033038358900663\n",
      "lambda = 22.5\n",
      "uTu = 0.0009748895582055275\n",
      "lambda = 21.25\n",
      "uTu = 0.0010156541617196175\n",
      "lambda = 21.875\n",
      "uTu = 0.0009948072784569286\n",
      "lambda = 21.5625\n",
      "uTu = 0.0010051102730914863\n",
      "lambda = 21.71875\n",
      "uTu = 0.0009999292188979192\n"
     ]
    },
    {
     "name": "stderr",
     "output_type": "stream",
     "text": [
      "\r",
      " 14%|█▎        | 26/190 [06:33<43:04, 15.76s/it]"
     ]
    },
    {
     "name": "stdout",
     "output_type": "stream",
     "text": [
      "Initial lambda is 10\n",
      "With corresponding starting state cost 0.001465169729942227\n",
      "Increasing lmbda high - now lmbda = 20\n",
      "0.0008895772630505642\n",
      "lambda = 10.0\n",
      "uTu = 0.001465169729942227\n",
      "lambda = 15.0\n",
      "uTu = 0.0011007968321953806\n",
      "lambda = 17.5\n",
      "uTu = 0.0009830981692764294\n",
      "lambda = 16.25\n",
      "uTu = 0.0010383408205086784\n",
      "lambda = 16.875\n",
      "uTu = 0.0010099026680515362\n",
      "lambda = 17.1875\n",
      "uTu = 0.0009963056355418555\n",
      "lambda = 17.03125\n",
      "uTu = 0.0010030543252057221\n",
      "lambda = 17.109375\n",
      "uTu = 0.0009996676678914903\n"
     ]
    },
    {
     "name": "stderr",
     "output_type": "stream",
     "text": [
      "\r",
      " 14%|█▍        | 27/190 [06:47<41:31, 15.29s/it]"
     ]
    },
    {
     "name": "stdout",
     "output_type": "stream",
     "text": [
      "Initial lambda is 10\n",
      "With corresponding starting state cost 0.00126023336654913\n",
      "Increasing lmbda high - now lmbda = 20\n",
      "0.0006805848884481583\n",
      "lambda = 10.0\n",
      "uTu = 0.00126023336654913\n",
      "lambda = 15.0\n",
      "uTu = 0.0008791107289738487\n",
      "lambda = 12.5\n",
      "uTu = 0.0010337487146838866\n",
      "lambda = 13.75\n",
      "uTu = 0.0009498031188914518\n",
      "lambda = 13.125\n",
      "uTu = 0.000989892325957566\n",
      "lambda = 12.8125\n",
      "uTu = 0.0010113166024316794\n",
      "lambda = 12.96875\n",
      "uTu = 0.0010004828511663672\n"
     ]
    },
    {
     "name": "stderr",
     "output_type": "stream",
     "text": [
      "\r",
      " 15%|█▍        | 28/190 [06:59<38:13, 14.16s/it]"
     ]
    },
    {
     "name": "stdout",
     "output_type": "stream",
     "text": [
      "Initial lambda is 10\n",
      "With corresponding starting state cost 0.0015316304123343823\n",
      "Increasing lmbda high - now lmbda = 20\n",
      "0.000885263505748343\n",
      "lambda = 10.0\n",
      "uTu = 0.0015316304123343823\n",
      "lambda = 15.0\n",
      "uTu = 0.0011178656380547822\n",
      "lambda = 17.5\n",
      "uTu = 0.0009875608270822401\n",
      "lambda = 16.25\n",
      "uTu = 0.0010485094782525844\n",
      "lambda = 16.875\n",
      "uTu = 0.0010170867297160417\n",
      "lambda = 17.1875\n",
      "uTu = 0.0010020980104515807\n",
      "lambda = 17.34375\n",
      "uTu = 0.0009947743132431098\n",
      "lambda = 17.265625\n",
      "uTu = 0.000998422221818263\n",
      "lambda = 17.2265625\n",
      "uTu = 0.0010002566103788986\n"
     ]
    },
    {
     "name": "stderr",
     "output_type": "stream",
     "text": [
      "\r",
      " 15%|█▌        | 29/190 [07:14<39:02, 14.55s/it]"
     ]
    },
    {
     "name": "stdout",
     "output_type": "stream",
     "text": [
      "Initial lambda is 10\n",
      "With corresponding starting state cost 0.0018324378986877602\n",
      "Increasing lmbda high - now lmbda = 20\n",
      "0.0012015838348602057\n",
      "Increasing lmbda high - now lmbda = 40\n",
      "0.0007599299264986009\n",
      "lambda = 20.0\n",
      "uTu = 0.0012015838348602057\n",
      "lambda = 30.0\n",
      "uTu = 0.00092532405259623\n",
      "lambda = 25.0\n",
      "uTu = 0.0010427310314395151\n",
      "lambda = 27.5\n",
      "uTu = 0.0009800543071279552\n",
      "lambda = 26.25\n",
      "uTu = 0.0010102808299377595\n",
      "lambda = 26.875\n",
      "uTu = 0.0009949059681755047\n",
      "lambda = 26.5625\n",
      "uTu = 0.0010025260620320387\n",
      "lambda = 26.71875\n",
      "uTu = 0.0009986994293116904\n",
      "lambda = 26.640625\n",
      "uTu = 0.0010006085685743873\n"
     ]
    },
    {
     "name": "stderr",
     "output_type": "stream",
     "text": [
      "\r",
      " 16%|█▌        | 30/190 [07:32<41:29, 15.56s/it]"
     ]
    },
    {
     "name": "stdout",
     "output_type": "stream",
     "text": [
      "Initial lambda is 10\n",
      "With corresponding starting state cost 0.00147750552295573\n",
      "Increasing lmbda high - now lmbda = 20\n",
      "0.0008248814089284292\n",
      "lambda = 10.0\n",
      "uTu = 0.00147750552295573\n",
      "lambda = 15.0\n",
      "uTu = 0.0010512883459854253\n",
      "lambda = 17.5\n",
      "uTu = 0.0009233311631454274\n",
      "lambda = 16.25\n",
      "uTu = 0.0009828180239481385\n",
      "lambda = 15.625\n",
      "uTu = 0.001015802853944685\n",
      "lambda = 15.9375\n",
      "uTu = 0.000999015283648451\n"
     ]
    },
    {
     "name": "stderr",
     "output_type": "stream",
     "text": [
      "\r",
      " 16%|█▋        | 31/190 [07:46<39:40, 14.97s/it]"
     ]
    },
    {
     "name": "stdout",
     "output_type": "stream",
     "text": [
      "Initial lambda is 10\n",
      "With corresponding starting state cost 0.0011252549228720605\n",
      "Increasing lmbda high - now lmbda = 20\n",
      "0.0006836872841387343\n",
      "lambda = 10.0\n",
      "uTu = 0.0011252549228720605\n",
      "lambda = 15.0\n",
      "uTu = 0.0008435922422135961\n",
      "lambda = 12.5\n",
      "uTu = 0.0009613245900290438\n",
      "lambda = 11.25\n",
      "uTu = 0.0010358494119610366\n",
      "lambda = 11.875\n",
      "uTu = 0.0009969845352265977\n",
      "lambda = 11.5625\n",
      "uTu = 0.001015988087331737\n",
      "lambda = 11.71875\n",
      "uTu = 0.0010063828359816182\n",
      "lambda = 11.796875\n",
      "uTu = 0.0010016582654448986\n",
      "lambda = 11.8359375\n",
      "uTu = 0.000999315100208925\n"
     ]
    },
    {
     "name": "stderr",
     "output_type": "stream",
     "text": [
      "\r",
      " 17%|█▋        | 32/190 [08:02<40:24, 15.34s/it]"
     ]
    },
    {
     "name": "stdout",
     "output_type": "stream",
     "text": [
      "Initial lambda is 10\n",
      "With corresponding starting state cost 0.0016041651066267724\n",
      "Increasing lmbda high - now lmbda = 20\n",
      "0.0010272155755188107\n",
      "Increasing lmbda high - now lmbda = 40\n",
      "0.0006387537777005663\n",
      "lambda = 20.0\n",
      "uTu = 0.0010272155755188107\n",
      "lambda = 30.0\n",
      "uTu = 0.0007827742942264587\n",
      "lambda = 25.0\n",
      "uTu = 0.0008860653815250739\n",
      "lambda = 22.5\n",
      "uTu = 0.0009505512886593652\n",
      "lambda = 21.25\n",
      "uTu = 0.0009871276952190572\n",
      "lambda = 20.625\n",
      "uTu = 0.001006697823052365\n",
      "lambda = 20.9375\n",
      "uTu = 0.0009967989669332448\n",
      "lambda = 20.78125\n",
      "uTu = 0.0010017193846284357\n",
      "lambda = 20.859375\n",
      "uTu = 0.0009992519946978283\n"
     ]
    },
    {
     "name": "stderr",
     "output_type": "stream",
     "text": [
      "\r",
      " 17%|█▋        | 33/190 [08:22<44:06, 16.85s/it]"
     ]
    },
    {
     "name": "stdout",
     "output_type": "stream",
     "text": [
      "Initial lambda is 10\n",
      "With corresponding starting state cost 0.001331491509684634\n",
      "Increasing lmbda high - now lmbda = 20\n",
      "0.0007762002177978069\n",
      "lambda = 10.0\n",
      "uTu = 0.001331491509684634\n",
      "lambda = 15.0\n",
      "uTu = 0.0009699272794693956\n",
      "lambda = 12.5\n",
      "uTu = 0.0011178595401258398\n",
      "lambda = 13.75\n",
      "uTu = 0.0010378136222953121\n",
      "lambda = 14.375\n",
      "uTu = 0.0010025387590013135\n",
      "lambda = 14.6875\n",
      "uTu = 0.000985920250689838\n",
      "lambda = 14.53125\n",
      "uTu = 0.000994148923748014\n",
      "lambda = 14.453125\n",
      "uTu = 0.000998323386612773\n",
      "lambda = 14.4140625\n",
      "uTu = 0.0010004259197246895\n"
     ]
    },
    {
     "name": "stderr",
     "output_type": "stream",
     "text": [
      "\r",
      " 18%|█▊        | 34/190 [08:41<45:23, 17.46s/it]"
     ]
    },
    {
     "name": "stdout",
     "output_type": "stream",
     "text": [
      "Initial lambda is 10\n",
      "With corresponding starting state cost 0.0023862543054530166\n",
      "Increasing lmbda high - now lmbda = 20\n",
      "0.0015726552453639198\n",
      "Increasing lmbda high - now lmbda = 40\n",
      "0.000987560912127221\n",
      "lambda = 20.0\n",
      "uTu = 0.0015726552453639198\n",
      "lambda = 30.0\n",
      "uTu = 0.0012076822138047463\n",
      "lambda = 35.0\n",
      "uTu = 0.0010860123969040016\n",
      "lambda = 37.5\n",
      "uTu = 0.0010343592033577756\n",
      "lambda = 38.75\n",
      "uTu = 0.0010104008575339547\n",
      "lambda = 39.375\n",
      "uTu = 0.0009988464696833513\n",
      "lambda = 39.0625\n",
      "uTu = 0.0010045894098895606\n",
      "lambda = 39.21875\n",
      "uTu = 0.0010017094589899738\n",
      "lambda = 39.296875\n",
      "uTu = 0.0010002758543429591\n"
     ]
    },
    {
     "name": "stderr",
     "output_type": "stream",
     "text": [
      "\r",
      " 18%|█▊        | 35/190 [08:59<45:27, 17.60s/it]"
     ]
    },
    {
     "name": "stdout",
     "output_type": "stream",
     "text": [
      "Initial lambda is 10\n",
      "With corresponding starting state cost 0.0020358151382523864\n",
      "Increasing lmbda high - now lmbda = 20\n",
      "0.001183147377849322\n",
      "Increasing lmbda high - now lmbda = 40\n",
      "0.0006555435251761499\n",
      "lambda = 20.0\n",
      "uTu = 0.001183147377849322\n",
      "lambda = 30.0\n",
      "uTu = 0.0008429667677789254\n",
      "lambda = 25.0\n",
      "uTu = 0.000983874063450214\n",
      "lambda = 22.5\n",
      "uTu = 0.0010740753369778643\n",
      "lambda = 23.75\n",
      "uTu = 0.0010269471543724027\n",
      "lambda = 24.375\n",
      "uTu = 0.0010049383574561707\n",
      "lambda = 24.6875\n",
      "uTu = 0.000994292127882286\n",
      "lambda = 24.53125\n",
      "uTu = 0.0009995862388817393\n"
     ]
    },
    {
     "name": "stderr",
     "output_type": "stream",
     "text": [
      "\r",
      " 19%|█▉        | 36/190 [09:14<42:56, 16.73s/it]"
     ]
    },
    {
     "name": "stdout",
     "output_type": "stream",
     "text": [
      "Initial lambda is 10\n",
      "With corresponding starting state cost 0.0016112493551901051\n",
      "Increasing lmbda high - now lmbda = 20\n",
      "0.000990888659252198\n",
      "lambda = 10.0\n",
      "uTu = 0.0016112493551901051\n",
      "lambda = 15.0\n",
      "uTu = 0.0012173747979745907\n",
      "lambda = 17.5\n",
      "uTu = 0.0010911691550439142\n",
      "lambda = 18.75\n",
      "uTu = 0.00103835487610161\n",
      "lambda = 19.375\n",
      "uTu = 0.00101400950057482\n",
      "lambda = 19.6875\n",
      "uTu = 0.0010023023341625581\n",
      "lambda = 19.84375\n",
      "uTu = 0.0009965595609494214\n",
      "lambda = 19.765625\n",
      "uTu = 0.000999421871458628\n"
     ]
    },
    {
     "name": "stderr",
     "output_type": "stream",
     "text": [
      "\r",
      " 19%|█▉        | 37/190 [09:27<40:03, 15.71s/it]"
     ]
    },
    {
     "name": "stdout",
     "output_type": "stream",
     "text": [
      "Initial lambda is 10\n",
      "With corresponding starting state cost 0.0012307555366006461\n",
      "Increasing lmbda high - now lmbda = 20\n",
      "0.000790818141919611\n",
      "lambda = 10.0\n",
      "uTu = 0.0012307555366006461\n",
      "lambda = 15.0\n",
      "uTu = 0.0009495685699577012\n",
      "lambda = 12.5\n",
      "uTu = 0.0010664396540307462\n",
      "lambda = 13.75\n",
      "uTu = 0.0010035836936968712\n",
      "lambda = 14.375\n",
      "uTu = 0.0009756045032988691\n",
      "lambda = 14.0625\n",
      "uTu = 0.0009893362824329845\n",
      "lambda = 13.90625\n",
      "uTu = 0.0009963935303090548\n",
      "lambda = 13.828125\n",
      "uTu = 0.0009999717376194066\n"
     ]
    },
    {
     "name": "stderr",
     "output_type": "stream",
     "text": [
      "\r",
      " 20%|██        | 38/190 [09:43<39:55, 15.76s/it]"
     ]
    },
    {
     "name": "stdout",
     "output_type": "stream",
     "text": [
      "Initial lambda is 10\n",
      "With corresponding starting state cost 0.0016298019237928423\n",
      "Increasing lmbda high - now lmbda = 20\n",
      "0.0009561823268362755\n",
      "lambda = 10.0\n",
      "uTu = 0.0016298019237928423\n",
      "lambda = 15.0\n",
      "uTu = 0.0011990310843290129\n",
      "lambda = 17.5\n",
      "uTu = 0.0010631412153721536\n",
      "lambda = 18.75\n",
      "uTu = 0.0010066862708403884\n",
      "lambda = 19.375\n",
      "uTu = 0.0009807539583582042\n",
      "lambda = 19.0625\n",
      "uTu = 0.0009935426804570837\n",
      "lambda = 18.90625\n",
      "uTu = 0.0010000691502018478\n"
     ]
    },
    {
     "name": "stderr",
     "output_type": "stream",
     "text": [
      "\r",
      " 21%|██        | 39/190 [09:57<38:11, 15.17s/it]"
     ]
    },
    {
     "name": "stdout",
     "output_type": "stream",
     "text": [
      "Initial lambda is 10\n",
      "With corresponding starting state cost 0.0014319405424761912\n",
      "Increasing lmbda high - now lmbda = 20\n",
      "0.0007635977342414733\n",
      "lambda = 10.0\n",
      "uTu = 0.0014319405424761912\n",
      "lambda = 15.0\n",
      "uTu = 0.0009915984140304137\n",
      "lambda = 12.5\n",
      "uTu = 0.001169885475250832\n",
      "lambda = 13.75\n",
      "uTu = 0.0010730355977317757\n",
      "lambda = 14.375\n",
      "uTu = 0.0010306336263874714\n",
      "lambda = 14.6875\n",
      "uTu = 0.0010107211693683982\n",
      "lambda = 14.84375\n",
      "uTu = 0.0010010640952278023\n",
      "lambda = 14.921875\n",
      "uTu = 0.0009963076940930243\n",
      "lambda = 14.8828125\n",
      "uTu = 0.0009986799596590477\n",
      "lambda = 14.86328125\n",
      "uTu = 0.0009998705380344724\n"
     ]
    },
    {
     "name": "stderr",
     "output_type": "stream",
     "text": [
      "\r",
      " 21%|██        | 40/190 [10:13<38:49, 15.53s/it]"
     ]
    },
    {
     "name": "stdout",
     "output_type": "stream",
     "text": [
      "Initial lambda is 10\n",
      "With corresponding starting state cost 0.001164274929840896\n",
      "Increasing lmbda high - now lmbda = 20\n",
      "0.0007308610179365298\n",
      "lambda = 10.0\n",
      "uTu = 0.001164274929840896\n",
      "lambda = 15.0\n",
      "uTu = 0.000887016083669642\n",
      "lambda = 12.5\n",
      "uTu = 0.0010021392870151918\n",
      "lambda = 13.75\n",
      "uTu = 0.0009402050397679544\n",
      "lambda = 13.125\n",
      "uTu = 0.0009699342218074327\n",
      "lambda = 12.8125\n",
      "uTu = 0.000985706198956656\n",
      "lambda = 12.65625\n",
      "uTu = 0.000993837251105788\n",
      "lambda = 12.578125\n",
      "uTu = 0.000997966524517091\n",
      "lambda = 12.5390625\n",
      "uTu = 0.001000047422207015\n"
     ]
    },
    {
     "name": "stderr",
     "output_type": "stream",
     "text": [
      "\r",
      " 22%|██▏       | 41/190 [10:28<37:56, 15.28s/it]"
     ]
    },
    {
     "name": "stdout",
     "output_type": "stream",
     "text": [
      "Initial lambda is 10\n",
      "With corresponding starting state cost 0.0024483892455112177\n",
      "Increasing lmbda high - now lmbda = 20\n",
      "0.0014226211526355021\n",
      "Increasing lmbda high - now lmbda = 40\n",
      "0.0007764437927006926\n",
      "lambda = 20.0\n",
      "uTu = 0.0014226211526355021\n",
      "lambda = 30.0\n",
      "uTu = 0.0010066170691053619\n",
      "lambda = 35.0\n",
      "uTu = 0.0008772146053663086\n",
      "lambda = 32.5\n",
      "uTu = 0.0009376106167550394\n",
      "lambda = 31.25\n",
      "uTu = 0.0009709240163373493\n",
      "lambda = 30.625\n",
      "uTu = 0.000988457079104684\n",
      "lambda = 30.3125\n",
      "uTu = 0.000997456577773602\n",
      "lambda = 30.15625\n",
      "uTu = 0.0010020164243814656\n",
      "lambda = 30.234375\n",
      "uTu = 0.0009997314360839307\n"
     ]
    },
    {
     "name": "stderr",
     "output_type": "stream",
     "text": [
      "\r",
      " 22%|██▏       | 42/190 [10:45<38:48, 15.73s/it]"
     ]
    },
    {
     "name": "stdout",
     "output_type": "stream",
     "text": [
      "Initial lambda is 10\n",
      "With corresponding starting state cost 0.0021468605195419936\n",
      "Increasing lmbda high - now lmbda = 20\n",
      "0.0012864017372458804\n",
      "Increasing lmbda high - now lmbda = 40\n",
      "0.0007241215841994593\n",
      "lambda = 20.0\n",
      "uTu = 0.0012864017372458804\n",
      "lambda = 30.0\n",
      "uTu = 0.0009272398555863333\n",
      "lambda = 25.0\n",
      "uTu = 0.0010774157687774113\n",
      "lambda = 27.5\n",
      "uTu = 0.0009967131485151435\n",
      "lambda = 26.25\n",
      "uTu = 0.001035489723007695\n",
      "lambda = 26.875\n",
      "uTu = 0.0010157313391389068\n",
      "lambda = 27.1875\n",
      "uTu = 0.001006132457131365\n",
      "lambda = 27.34375\n",
      "uTu = 0.0010014006861770845\n",
      "lambda = 27.421875\n",
      "uTu = 0.0009990514287078964\n"
     ]
    },
    {
     "name": "stderr",
     "output_type": "stream",
     "text": [
      "\r",
      " 23%|██▎       | 43/190 [11:00<38:33, 15.74s/it]"
     ]
    },
    {
     "name": "stdout",
     "output_type": "stream",
     "text": [
      "Initial lambda is 10\n",
      "With corresponding starting state cost 0.001232188775744298\n",
      "Increasing lmbda high - now lmbda = 20\n",
      "0.0006571184143518263\n",
      "lambda = 10.0\n",
      "uTu = 0.001232188775744298\n",
      "lambda = 15.0\n",
      "uTu = 0.0008554345290191256\n",
      "lambda = 12.5\n",
      "uTu = 0.0010091557007189686\n",
      "lambda = 13.75\n",
      "uTu = 0.0009258302477126541\n",
      "lambda = 13.125\n",
      "uTu = 0.0009656628961909474\n",
      "lambda = 12.8125\n",
      "uTu = 0.0009869208038285168\n",
      "lambda = 12.65625\n",
      "uTu = 0.0009979119456956357\n",
      "lambda = 12.578125\n",
      "uTu = 0.0010035017025651588\n",
      "lambda = 12.6171875\n",
      "uTu = 0.00100069886294848\n"
     ]
    },
    {
     "name": "stderr",
     "output_type": "stream",
     "text": [
      "\r",
      " 23%|██▎       | 44/190 [11:15<37:07, 15.25s/it]"
     ]
    },
    {
     "name": "stdout",
     "output_type": "stream",
     "text": [
      "Initial lambda is 10\n",
      "With corresponding starting state cost 0.002120536665788\n",
      "Increasing lmbda high - now lmbda = 20\n",
      "0.0013312826227006292\n",
      "Increasing lmbda high - now lmbda = 40\n",
      "0.0007953802344681845\n",
      "lambda = 20.0\n",
      "uTu = 0.0013312826227006292\n",
      "lambda = 30.0\n",
      "uTu = 0.0009921529736498058\n",
      "lambda = 25.0\n",
      "uTu = 0.0011350530394476537\n",
      "lambda = 27.5\n",
      "uTu = 0.0010584898294923244\n",
      "lambda = 28.75\n",
      "uTu = 0.0010241845265614037\n",
      "lambda = 29.375\n",
      "uTu = 0.0010078998768961378\n",
      "lambda = 29.6875\n",
      "uTu = 0.000999961000360203\n"
     ]
    },
    {
     "name": "stderr",
     "output_type": "stream",
     "text": [
      "\r",
      " 24%|██▎       | 45/190 [11:27<34:38, 14.33s/it]"
     ]
    },
    {
     "name": "stdout",
     "output_type": "stream",
     "text": [
      "Initial lambda is 10\n",
      "With corresponding starting state cost 0.002203449291267579\n",
      "Increasing lmbda high - now lmbda = 20\n",
      "0.0012705302578137289\n",
      "Increasing lmbda high - now lmbda = 40\n",
      "0.0007115065900619417\n",
      "lambda = 20.0\n",
      "uTu = 0.0012705302578137289\n",
      "lambda = 30.0\n",
      "uTu = 0.0009090471287879786\n",
      "lambda = 25.0\n",
      "uTu = 0.0010581935203457086\n",
      "lambda = 27.5\n",
      "uTu = 0.0009776975358786178\n",
      "lambda = 26.25\n",
      "uTu = 0.0010162727549051565\n",
      "lambda = 26.875\n",
      "uTu = 0.0009965935628046328\n",
      "lambda = 26.5625\n",
      "uTu = 0.0010063321193068682\n",
      "lambda = 26.71875\n",
      "uTu = 0.0010014379848654424\n",
      "lambda = 26.796875\n",
      "uTu = 0.0009990096092892889\n"
     ]
    },
    {
     "name": "stderr",
     "output_type": "stream",
     "text": [
      "\r",
      " 24%|██▍       | 46/190 [11:43<35:31, 14.80s/it]"
     ]
    },
    {
     "name": "stdout",
     "output_type": "stream",
     "text": [
      "Initial lambda is 10\n",
      "With corresponding starting state cost 0.0022804570980653684\n",
      "Increasing lmbda high - now lmbda = 20\n",
      "0.0013798658239053644\n",
      "Increasing lmbda high - now lmbda = 40\n",
      "0.0008303872615566072\n",
      "lambda = 20.0\n",
      "uTu = 0.0013798658239053644\n",
      "lambda = 30.0\n",
      "uTu = 0.0010281283019278264\n",
      "lambda = 35.0\n",
      "uTu = 0.0009176248528489359\n",
      "lambda = 32.5\n",
      "uTu = 0.0009693648467150646\n",
      "lambda = 31.25\n",
      "uTu = 0.0009977733097125254\n",
      "lambda = 30.625\n",
      "uTu = 0.001012693963635511\n",
      "lambda = 30.9375\n",
      "uTu = 0.0010051711978337461\n",
      "lambda = 31.09375\n",
      "uTu = 0.0010014568581338324\n",
      "lambda = 31.171875\n",
      "uTu = 0.000999611261326926\n"
     ]
    },
    {
     "name": "stderr",
     "output_type": "stream",
     "text": [
      "\r",
      " 25%|██▍       | 47/190 [12:00<37:17, 15.65s/it]"
     ]
    },
    {
     "name": "stdout",
     "output_type": "stream",
     "text": [
      "Initial lambda is 10\n",
      "With corresponding starting state cost 0.0021086540609512668\n",
      "Increasing lmbda high - now lmbda = 20\n",
      "0.0012080977336689563\n",
      "Increasing lmbda high - now lmbda = 40\n",
      "0.0006848934313980959\n",
      "lambda = 20.0\n",
      "uTu = 0.0012080977336689563\n",
      "lambda = 30.0\n",
      "uTu = 0.0008690914077766903\n",
      "lambda = 25.0\n",
      "uTu = 0.0010085070732609197\n",
      "lambda = 27.5\n",
      "uTu = 0.0009332016617589673\n",
      "lambda = 26.25\n",
      "uTu = 0.0009692692274634109\n",
      "lambda = 25.625\n",
      "uTu = 0.0009884648707892323\n",
      "lambda = 25.3125\n",
      "uTu = 0.0009983764996018992\n",
      "lambda = 25.15625\n",
      "uTu = 0.0010034139428062052\n",
      "lambda = 25.234375\n",
      "uTu = 0.0010008883206167188\n"
     ]
    },
    {
     "name": "stderr",
     "output_type": "stream",
     "text": [
      "\r",
      " 25%|██▌       | 48/190 [12:16<37:03, 15.66s/it]"
     ]
    },
    {
     "name": "stdout",
     "output_type": "stream",
     "text": [
      "Initial lambda is 10\n",
      "With corresponding starting state cost 0.0009656589710583523\n",
      "lambda = 5.0\n",
      "uTu = 0.001736524124216781\n",
      "lambda = 7.5\n",
      "uTu = 0.0012409022514996274\n",
      "lambda = 8.75\n",
      "uTu = 0.0010863112894262503\n",
      "lambda = 9.375\n",
      "uTu = 0.0010224984870243312\n",
      "lambda = 9.6875\n",
      "uTu = 0.0009932820850989004\n",
      "lambda = 9.53125\n",
      "uTu = 0.0010076824450682774\n",
      "lambda = 9.609375\n",
      "uTu = 0.0010004314298121548\n"
     ]
    },
    {
     "name": "stderr",
     "output_type": "stream",
     "text": [
      "\r",
      " 26%|██▌       | 49/190 [12:25<32:21, 13.77s/it]"
     ]
    },
    {
     "name": "stdout",
     "output_type": "stream",
     "text": [
      "Initial lambda is 10\n",
      "With corresponding starting state cost 0.001302086579229138\n",
      "Increasing lmbda high - now lmbda = 20\n",
      "0.0007965191958699332\n",
      "lambda = 10.0\n",
      "uTu = 0.001302086579229138\n",
      "lambda = 15.0\n",
      "uTu = 0.0009802874947791719\n",
      "lambda = 12.5\n",
      "uTu = 0.0011148110274310761\n",
      "lambda = 13.75\n",
      "uTu = 0.0010425779173150517\n",
      "lambda = 14.375\n",
      "uTu = 0.0010103347507627587\n",
      "lambda = 14.6875\n",
      "uTu = 0.0009950522282732672\n",
      "lambda = 14.53125\n",
      "uTu = 0.001002626913966493\n",
      "lambda = 14.609375\n",
      "uTu = 0.0009988231644678597\n",
      "lambda = 14.5703125\n",
      "uTu = 0.0010007209082688196\n"
     ]
    },
    {
     "name": "stderr",
     "output_type": "stream",
     "text": [
      "\r",
      " 26%|██▋       | 50/190 [12:42<33:51, 14.51s/it]"
     ]
    },
    {
     "name": "stdout",
     "output_type": "stream",
     "text": [
      "Initial lambda is 10\n",
      "With corresponding starting state cost 0.0017687622589403636\n",
      "Increasing lmbda high - now lmbda = 20\n",
      "0.001043444024253888\n",
      "Increasing lmbda high - now lmbda = 40\n",
      "0.0006131375199514205\n",
      "lambda = 20.0\n",
      "uTu = 0.001043444024253888\n",
      "lambda = 30.0\n",
      "uTu = 0.0007663015741095634\n",
      "lambda = 25.0\n",
      "uTu = 0.0008808331047715279\n",
      "lambda = 22.5\n",
      "uTu = 0.0009542732286990141\n",
      "lambda = 21.25\n",
      "uTu = 0.0009965693250404968\n",
      "lambda = 20.625\n",
      "uTu = 0.0010193857906017367\n",
      "lambda = 20.9375\n",
      "uTu = 0.001007828840835168\n",
      "lambda = 21.09375\n",
      "uTu = 0.0010021626762479609\n",
      "lambda = 21.171875\n",
      "uTu = 0.000999356993149107\n"
     ]
    },
    {
     "name": "stderr",
     "output_type": "stream",
     "text": [
      "\r",
      " 27%|██▋       | 51/190 [12:58<35:06, 15.15s/it]"
     ]
    },
    {
     "name": "stdout",
     "output_type": "stream",
     "text": [
      "Initial lambda is 10\n",
      "With corresponding starting state cost 0.0026577522109123477\n",
      "Increasing lmbda high - now lmbda = 20\n",
      "0.001666875097992148\n",
      "Increasing lmbda high - now lmbda = 40\n",
      "0.000987639183083498\n",
      "lambda = 20.0\n",
      "uTu = 0.001666875097992148\n",
      "lambda = 30.0\n",
      "uTu = 0.0012385683511987238\n",
      "lambda = 35.0\n",
      "uTu = 0.0010990722226059328\n",
      "lambda = 37.5\n",
      "uTu = 0.0010404381497374766\n",
      "lambda = 38.75\n",
      "uTu = 0.0010133683259759259\n",
      "lambda = 39.375\n",
      "uTu = 0.001000342829431978\n"
     ]
    },
    {
     "name": "stderr",
     "output_type": "stream",
     "text": [
      "\r",
      " 27%|██▋       | 52/190 [13:10<32:40, 14.21s/it]"
     ]
    },
    {
     "name": "stdout",
     "output_type": "stream",
     "text": [
      "Initial lambda is 10\n",
      "With corresponding starting state cost 0.0020514624821336724\n",
      "Increasing lmbda high - now lmbda = 20\n",
      "0.001230686560084513\n",
      "Increasing lmbda high - now lmbda = 40\n",
      "0.0007065727142739142\n",
      "lambda = 20.0\n",
      "uTu = 0.001230686560084513\n",
      "lambda = 30.0\n",
      "uTu = 0.0008947444068320833\n",
      "lambda = 25.0\n",
      "uTu = 0.001034657869657353\n",
      "lambda = 27.5\n",
      "uTu = 0.0009593746315375812\n",
      "lambda = 26.25\n",
      "uTu = 0.0009955188496203779\n",
      "lambda = 25.625\n",
      "uTu = 0.0010146901252850939\n",
      "lambda = 25.9375\n",
      "uTu = 0.001005008075716495\n",
      "lambda = 26.09375\n",
      "uTu = 0.0010002397382785143\n"
     ]
    },
    {
     "name": "stderr",
     "output_type": "stream",
     "text": [
      "\r",
      " 28%|██▊       | 53/190 [13:28<35:05, 15.37s/it]"
     ]
    },
    {
     "name": "stdout",
     "output_type": "stream",
     "text": [
      "Initial lambda is 10\n",
      "With corresponding starting state cost 0.0014748416754488457\n",
      "Increasing lmbda high - now lmbda = 20\n",
      "0.0008633144139026742\n",
      "lambda = 10.0\n",
      "uTu = 0.0014748416754488457\n",
      "lambda = 15.0\n",
      "uTu = 0.001084356228390843\n",
      "lambda = 17.5\n",
      "uTu = 0.0009607618384388238\n",
      "lambda = 16.25\n",
      "uTu = 0.0010186332583453901\n",
      "lambda = 16.875\n",
      "uTu = 0.0009888120874170384\n",
      "lambda = 16.5625\n",
      "uTu = 0.0010034903383475391\n",
      "lambda = 16.71875\n",
      "uTu = 0.0009960945585688358\n",
      "lambda = 16.640625\n",
      "uTu = 0.0009997781100234914\n"
     ]
    },
    {
     "name": "stderr",
     "output_type": "stream",
     "text": [
      "\r",
      " 28%|██▊       | 54/190 [13:42<33:34, 14.81s/it]"
     ]
    },
    {
     "name": "stdout",
     "output_type": "stream",
     "text": [
      "Initial lambda is 10\n",
      "With corresponding starting state cost 0.0011953678284707988\n",
      "Increasing lmbda high - now lmbda = 20\n",
      "0.0008212520283779575\n",
      "lambda = 10.0\n",
      "uTu = 0.0011953678284707988\n",
      "lambda = 15.0\n",
      "uTu = 0.0009636928468994429\n",
      "lambda = 12.5\n",
      "uTu = 0.001062821126124772\n",
      "lambda = 13.75\n",
      "uTu = 0.0010100623179241863\n",
      "lambda = 14.375\n",
      "uTu = 0.0009861671658515352\n",
      "lambda = 14.0625\n",
      "uTu = 0.0009979272259956844\n",
      "lambda = 13.90625\n",
      "uTu = 0.001003946565425127\n",
      "lambda = 13.984375\n",
      "uTu = 0.0010009250142482345\n"
     ]
    },
    {
     "name": "stderr",
     "output_type": "stream",
     "text": [
      "\r",
      " 29%|██▉       | 55/190 [13:54<31:46, 14.12s/it]"
     ]
    },
    {
     "name": "stdout",
     "output_type": "stream",
     "text": [
      "Initial lambda is 10\n",
      "With corresponding starting state cost 0.001224557235839552\n",
      "Increasing lmbda high - now lmbda = 20\n",
      "0.0008312765467246927\n",
      "lambda = 10.0\n",
      "uTu = 0.001224557235839552\n",
      "lambda = 15.0\n",
      "uTu = 0.0009761777602980099\n",
      "lambda = 12.5\n",
      "uTu = 0.001080505912458193\n",
      "lambda = 13.75\n",
      "uTu = 0.001024614687342207\n",
      "lambda = 14.375\n",
      "uTu = 0.0009995743213517933\n"
     ]
    },
    {
     "name": "stderr",
     "output_type": "stream",
     "text": [
      "\r",
      " 29%|██▉       | 56/190 [14:05<29:11, 13.07s/it]"
     ]
    },
    {
     "name": "stdout",
     "output_type": "stream",
     "text": [
      "Initial lambda is 10\n",
      "With corresponding starting state cost 0.000991342737520787\n",
      "lambda = 5.0\n",
      "uTu = 0.001548393356976033\n",
      "lambda = 7.5\n",
      "uTu = 0.001188069657341811\n",
      "lambda = 8.75\n",
      "uTu = 0.0010776296043390544\n",
      "lambda = 9.375\n",
      "uTu = 0.0010320374705935543\n",
      "lambda = 9.6875\n",
      "uTu = 0.0010111336014558903\n",
      "lambda = 9.84375\n",
      "uTu = 0.0010011052537548827\n",
      "lambda = 9.921875\n",
      "uTu = 0.0009961915015371796\n",
      "lambda = 9.8828125\n",
      "uTu = 0.0009986401640223411\n",
      "lambda = 9.86328125\n",
      "uTu = 0.0009998706440694396\n"
     ]
    },
    {
     "name": "stderr",
     "output_type": "stream",
     "text": [
      "\r",
      " 30%|███       | 57/190 [14:18<29:02, 13.10s/it]"
     ]
    },
    {
     "name": "stdout",
     "output_type": "stream",
     "text": [
      "Initial lambda is 10\n",
      "With corresponding starting state cost 0.0017302958042704412\n",
      "Increasing lmbda high - now lmbda = 20\n",
      "0.0010957613605576942\n",
      "Increasing lmbda high - now lmbda = 40\n",
      "0.0006520060766277371\n",
      "lambda = 20.0\n",
      "uTu = 0.0010957613605576942\n",
      "lambda = 30.0\n",
      "uTu = 0.000815604366446681\n",
      "lambda = 25.0\n",
      "uTu = 0.0009340437398641592\n",
      "lambda = 22.5\n",
      "uTu = 0.0010080341664992134\n",
      "lambda = 23.75\n",
      "uTu = 0.0009695452053016553\n",
      "lambda = 23.125\n",
      "uTu = 0.000988391565701324\n",
      "lambda = 22.8125\n",
      "uTu = 0.0009981099984190157\n",
      "lambda = 22.65625\n",
      "uTu = 0.0010030459311339175\n",
      "lambda = 22.734375\n",
      "uTu = 0.001000571482043982\n"
     ]
    },
    {
     "name": "stderr",
     "output_type": "stream",
     "text": [
      "\r",
      " 31%|███       | 58/190 [14:34<30:25, 13.83s/it]"
     ]
    },
    {
     "name": "stdout",
     "output_type": "stream",
     "text": [
      "Initial lambda is 10\n",
      "With corresponding starting state cost 0.0016756987042982694\n",
      "Increasing lmbda high - now lmbda = 20\n",
      "0.001170689187234996\n",
      "Increasing lmbda high - now lmbda = 40\n",
      "0.0007735546554588115\n",
      "lambda = 20.0\n",
      "uTu = 0.001170689187234996\n",
      "lambda = 30.0\n",
      "uTu = 0.0009263108748143554\n",
      "lambda = 25.0\n",
      "uTu = 0.0010319020618731326\n",
      "lambda = 27.5\n",
      "uTu = 0.0009758419043998888\n",
      "lambda = 26.25\n",
      "uTu = 0.0010029671817627153\n",
      "lambda = 26.875\n",
      "uTu = 0.0009891904898769494\n",
      "lambda = 26.5625\n",
      "uTu = 0.000996023878131905\n",
      "lambda = 26.40625\n",
      "uTu = 0.0009994816038014678\n"
     ]
    },
    {
     "name": "stderr",
     "output_type": "stream",
     "text": [
      "\r",
      " 31%|███       | 59/190 [14:48<30:13, 13.85s/it]"
     ]
    },
    {
     "name": "stdout",
     "output_type": "stream",
     "text": [
      "Initial lambda is 10\n",
      "With corresponding starting state cost 0.0011760086904424312\n",
      "Increasing lmbda high - now lmbda = 20\n",
      "0.000740026879694353\n",
      "lambda = 10.0\n",
      "uTu = 0.0011760086904424312\n",
      "lambda = 15.0\n",
      "uTu = 0.0009016481562008613\n",
      "lambda = 12.5\n",
      "uTu = 0.0010179190679825637\n",
      "lambda = 13.75\n",
      "uTu = 0.0009557399078286143\n",
      "lambda = 13.125\n",
      "uTu = 0.0009857008492526298\n",
      "lambda = 12.8125\n",
      "uTu = 0.0010015109510138802\n",
      "lambda = 12.96875\n",
      "uTu = 0.0009935333625879772\n",
      "lambda = 12.890625\n",
      "uTu = 0.0009975037527902375\n",
      "lambda = 12.8515625\n",
      "uTu = 0.0009995027165840597\n"
     ]
    },
    {
     "name": "stderr",
     "output_type": "stream",
     "text": [
      "\r",
      " 32%|███▏      | 60/190 [15:02<30:16, 13.97s/it]"
     ]
    },
    {
     "name": "stdout",
     "output_type": "stream",
     "text": [
      "Initial lambda is 10\n",
      "With corresponding starting state cost 0.0016685137258618972\n",
      "Increasing lmbda high - now lmbda = 20\n",
      "0.0010740284072651518\n",
      "Increasing lmbda high - now lmbda = 40\n",
      "0.0006614336485945554\n",
      "lambda = 20.0\n",
      "uTu = 0.0010740284072651518\n",
      "lambda = 30.0\n",
      "uTu = 0.0008158562735457084\n",
      "lambda = 25.0\n",
      "uTu = 0.0009255763087070545\n",
      "lambda = 22.5\n",
      "uTu = 0.0009936071869813237\n",
      "lambda = 21.25\n",
      "uTu = 0.0010320365037797055\n",
      "lambda = 21.875\n",
      "uTu = 0.0010124094091962365\n",
      "lambda = 22.1875\n",
      "uTu = 0.0010029089246555098\n",
      "lambda = 22.34375\n",
      "uTu = 0.000998233658318414\n",
      "lambda = 22.265625\n",
      "uTu = 0.001000565137280187\n"
     ]
    },
    {
     "name": "stderr",
     "output_type": "stream",
     "text": [
      "\r",
      " 32%|███▏      | 61/190 [15:19<31:59, 14.88s/it]"
     ]
    },
    {
     "name": "stdout",
     "output_type": "stream",
     "text": [
      "Initial lambda is 10\n",
      "With corresponding starting state cost 0.0010819254056815572\n",
      "Increasing lmbda high - now lmbda = 20\n",
      "0.000678360009988084\n",
      "lambda = 10.0\n",
      "uTu = 0.0010819254056815572\n",
      "lambda = 15.0\n",
      "uTu = 0.0008272035979651814\n",
      "lambda = 12.5\n",
      "uTu = 0.0009345453740424809\n",
      "lambda = 11.25\n",
      "uTu = 0.001001789263525855\n",
      "lambda = 11.875\n",
      "uTu = 0.0009667793141943045\n",
      "lambda = 11.5625\n",
      "uTu = 0.0009839128102878522\n",
      "lambda = 11.40625\n",
      "uTu = 0.0009927548395547484\n",
      "lambda = 11.328125\n",
      "uTu = 0.0009972475678655562\n",
      "lambda = 11.2890625\n",
      "uTu = 0.0009995122392808106\n"
     ]
    },
    {
     "name": "stderr",
     "output_type": "stream",
     "text": [
      "\r",
      " 33%|███▎      | 62/190 [15:32<30:51, 14.47s/it]"
     ]
    },
    {
     "name": "stdout",
     "output_type": "stream",
     "text": [
      "Initial lambda is 10\n",
      "With corresponding starting state cost 0.0016605290364248872\n",
      "Increasing lmbda high - now lmbda = 20\n",
      "0.0010402523198059389\n",
      "Increasing lmbda high - now lmbda = 40\n",
      "0.0006383041017203801\n",
      "lambda = 20.0\n",
      "uTu = 0.0010402523198059389\n",
      "lambda = 30.0\n",
      "uTu = 0.0007853698306541428\n",
      "lambda = 25.0\n",
      "uTu = 0.0008922634799177993\n",
      "lambda = 22.5\n",
      "uTu = 0.0009596081658157284\n",
      "lambda = 21.25\n",
      "uTu = 0.0009980070590893861\n",
      "lambda = 20.625\n",
      "uTu = 0.0010186099211691656\n",
      "lambda = 20.9375\n",
      "uTu = 0.0010081837560930176\n",
      "lambda = 21.09375\n",
      "uTu = 0.0010030648438034957\n",
      "lambda = 21.171875\n",
      "uTu = 0.0010005283861110183\n"
     ]
    },
    {
     "name": "stderr",
     "output_type": "stream",
     "text": [
      "\r",
      " 33%|███▎      | 63/190 [15:48<31:21, 14.81s/it]"
     ]
    },
    {
     "name": "stdout",
     "output_type": "stream",
     "text": [
      "Initial lambda is 10\n",
      "With corresponding starting state cost 0.0013614127829675864\n",
      "Increasing lmbda high - now lmbda = 20\n",
      "0.0007539843674928508\n",
      "lambda = 10.0\n",
      "uTu = 0.0013614127829675864\n",
      "lambda = 15.0\n",
      "uTu = 0.0009638559589656897\n",
      "lambda = 12.5\n",
      "uTu = 0.001125970519198807\n",
      "lambda = 13.75\n",
      "uTu = 0.0010381112551795903\n",
      "lambda = 14.375\n",
      "uTu = 0.0009994927615523887\n"
     ]
    },
    {
     "name": "stderr",
     "output_type": "stream",
     "text": [
      "\r",
      " 34%|███▎      | 64/190 [15:57<27:22, 13.03s/it]"
     ]
    },
    {
     "name": "stdout",
     "output_type": "stream",
     "text": [
      "Initial lambda is 10\n",
      "With corresponding starting state cost 0.0011664707733992229\n",
      "Increasing lmbda high - now lmbda = 20\n",
      "0.0007691887185757641\n",
      "lambda = 10.0\n",
      "uTu = 0.0011664707733992229\n",
      "lambda = 15.0\n",
      "uTu = 0.0009183722607707908\n",
      "lambda = 12.5\n",
      "uTu = 0.0010240435368254488\n",
      "lambda = 13.75\n",
      "uTu = 0.0009676654036441165\n",
      "lambda = 13.125\n",
      "uTu = 0.000994865087307098\n",
      "lambda = 12.8125\n",
      "uTu = 0.0010091920591497124\n",
      "lambda = 12.96875\n",
      "uTu = 0.0010019649722702066\n",
      "lambda = 13.046875\n",
      "uTu = 0.0009983993657536236\n",
      "lambda = 13.0078125\n",
      "uTu = 0.0010001782238683715\n"
     ]
    },
    {
     "name": "stderr",
     "output_type": "stream",
     "text": [
      "\r",
      " 34%|███▍      | 65/190 [16:10<26:58, 12.95s/it]"
     ]
    },
    {
     "name": "stdout",
     "output_type": "stream",
     "text": [
      "Initial lambda is 10\n",
      "With corresponding starting state cost 0.0014997630484547481\n",
      "Increasing lmbda high - now lmbda = 20\n",
      "0.0010094278187570646\n",
      "Increasing lmbda high - now lmbda = 40\n",
      "0.0006578678789436647\n",
      "lambda = 20.0\n",
      "uTu = 0.0010094278187570646\n",
      "lambda = 30.0\n",
      "uTu = 0.0007912864203466617\n",
      "lambda = 25.0\n",
      "uTu = 0.0008846079558842622\n",
      "lambda = 22.5\n",
      "uTu = 0.0009419891566074136\n",
      "lambda = 21.25\n",
      "uTu = 0.0009742638273429703\n",
      "lambda = 20.625\n",
      "uTu = 0.0009914566542694274\n",
      "lambda = 20.3125\n",
      "uTu = 0.001000341095266187\n"
     ]
    },
    {
     "name": "stderr",
     "output_type": "stream",
     "text": [
      "\r",
      " 35%|███▍      | 66/190 [16:24<27:38, 13.38s/it]"
     ]
    },
    {
     "name": "stdout",
     "output_type": "stream",
     "text": [
      "Initial lambda is 10\n",
      "With corresponding starting state cost 0.002065788042344294\n",
      "Increasing lmbda high - now lmbda = 20\n",
      "0.0013315254673344201\n",
      "Increasing lmbda high - now lmbda = 40\n",
      "0.0008331675949620488\n",
      "lambda = 20.0\n",
      "uTu = 0.0013315254673344201\n",
      "lambda = 30.0\n",
      "uTu = 0.0010184638243513477\n",
      "lambda = 35.0\n",
      "uTu = 0.0009157860425888736\n",
      "lambda = 32.5\n",
      "uTu = 0.0009641347478762753\n",
      "lambda = 31.25\n",
      "uTu = 0.0009904763318305848\n",
      "lambda = 30.625\n",
      "uTu = 0.001004253704932099\n",
      "lambda = 30.9375\n",
      "uTu = 0.000997312314979324\n",
      "lambda = 30.78125\n",
      "uTu = 0.0010007696643520518\n"
     ]
    },
    {
     "name": "stderr",
     "output_type": "stream",
     "text": [
      "\r",
      " 35%|███▌      | 67/190 [16:39<28:30, 13.90s/it]"
     ]
    },
    {
     "name": "stdout",
     "output_type": "stream",
     "text": [
      "Initial lambda is 10\n",
      "With corresponding starting state cost 0.002989029769793626\n",
      "Increasing lmbda high - now lmbda = 20\n",
      "0.00218492865851801\n",
      "Increasing lmbda high - now lmbda = 40\n",
      "0.0014842648477754895\n",
      "Increasing lmbda high - now lmbda = 80\n",
      "0.0009072824589568028\n",
      "lambda = 40.0\n",
      "uTu = 0.0014842648477754895\n",
      "lambda = 60.0\n",
      "uTu = 0.0011291102494816198\n",
      "lambda = 70.0\n",
      "uTu = 0.0010069208174875756\n",
      "lambda = 75.0\n",
      "uTu = 0.0009547053667567575\n",
      "lambda = 72.5\n",
      "uTu = 0.0009801682696924641\n",
      "lambda = 71.25\n",
      "uTu = 0.0009933770785860274\n",
      "lambda = 70.625\n",
      "uTu = 0.0010001062620204324\n"
     ]
    },
    {
     "name": "stderr",
     "output_type": "stream",
     "text": [
      "\r",
      " 36%|███▌      | 68/190 [16:53<28:22, 13.95s/it]"
     ]
    },
    {
     "name": "stdout",
     "output_type": "stream",
     "text": [
      "Initial lambda is 10\n",
      "With corresponding starting state cost 0.0019884719917416123\n",
      "Increasing lmbda high - now lmbda = 20\n",
      "0.0012263368581378724\n",
      "Increasing lmbda high - now lmbda = 40\n",
      "0.0007352577761297433\n",
      "lambda = 20.0\n",
      "uTu = 0.0012263368581378724\n",
      "lambda = 30.0\n",
      "uTu = 0.0009140360994760075\n",
      "lambda = 25.0\n",
      "uTu = 0.0010448426901798007\n",
      "lambda = 27.5\n",
      "uTu = 0.0009746358323298477\n",
      "lambda = 26.25\n",
      "uTu = 0.0010083888743384905\n",
      "lambda = 26.875\n",
      "uTu = 0.0009911954348038312\n",
      "lambda = 26.5625\n",
      "uTu = 0.0009997104797865623\n"
     ]
    },
    {
     "name": "stderr",
     "output_type": "stream",
     "text": [
      "\r",
      " 36%|███▋      | 69/190 [17:06<27:27, 13.61s/it]"
     ]
    },
    {
     "name": "stdout",
     "output_type": "stream",
     "text": [
      "Initial lambda is 10\n",
      "With corresponding starting state cost 0.001314139725508831\n",
      "Increasing lmbda high - now lmbda = 20\n",
      "0.0008312056129055319\n",
      "lambda = 10.0\n",
      "uTu = 0.001314139725508831\n",
      "lambda = 15.0\n",
      "uTu = 0.0010058843953516066\n",
      "lambda = 17.5\n",
      "uTu = 0.0009084650945431616\n",
      "lambda = 16.25\n",
      "uTu = 0.0009541322676193988\n",
      "lambda = 15.625\n",
      "uTu = 0.0009791650930810597\n",
      "lambda = 15.3125\n",
      "uTu = 0.0009923022046060713\n",
      "lambda = 15.15625\n",
      "uTu = 0.0009990360979889022\n"
     ]
    },
    {
     "name": "stderr",
     "output_type": "stream",
     "text": [
      "\r",
      " 37%|███▋      | 70/190 [17:17<25:29, 12.74s/it]"
     ]
    },
    {
     "name": "stdout",
     "output_type": "stream",
     "text": [
      "Initial lambda is 10\n",
      "With corresponding starting state cost 0.001511732074135107\n",
      "Increasing lmbda high - now lmbda = 20\n",
      "0.0009566830886857094\n",
      "lambda = 10.0\n",
      "uTu = 0.001511732074135107\n",
      "lambda = 15.0\n",
      "uTu = 0.0011564494537452672\n",
      "lambda = 17.5\n",
      "uTu = 0.0010449827978293283\n",
      "lambda = 18.75\n",
      "uTu = 0.0009984712118806256\n",
      "lambda = 18.125\n",
      "uTu = 0.0010210809385428072\n",
      "lambda = 18.4375\n",
      "uTu = 0.0010096220808144462\n",
      "lambda = 18.59375\n",
      "uTu = 0.0010040090346217418\n",
      "lambda = 18.671875\n",
      "uTu = 0.0010012308280477515\n",
      "lambda = 18.7109375\n",
      "uTu = 0.0009998487094396748\n"
     ]
    },
    {
     "name": "stderr",
     "output_type": "stream",
     "text": [
      "\r",
      " 37%|███▋      | 71/190 [17:30<25:52, 13.05s/it]"
     ]
    },
    {
     "name": "stdout",
     "output_type": "stream",
     "text": [
      "Initial lambda is 10\n",
      "With corresponding starting state cost 0.0013582291428273032\n",
      "Increasing lmbda high - now lmbda = 20\n",
      "0.0008670676289598835\n",
      "lambda = 10.0\n",
      "uTu = 0.0013582291428273032\n",
      "lambda = 15.0\n",
      "uTu = 0.00104051548808756\n",
      "lambda = 17.5\n",
      "uTu = 0.0009432904270859898\n",
      "lambda = 16.25\n",
      "uTu = 0.0009886965922489028\n",
      "lambda = 15.625\n",
      "uTu = 0.001013711609425329\n",
      "lambda = 15.9375\n",
      "uTu = 0.0010009932298461984\n"
     ]
    },
    {
     "name": "stderr",
     "output_type": "stream",
     "text": [
      "\r",
      " 38%|███▊      | 72/190 [17:43<25:22, 12.90s/it]"
     ]
    },
    {
     "name": "stdout",
     "output_type": "stream",
     "text": [
      "Initial lambda is 10\n",
      "With corresponding starting state cost 0.001150028633248729\n",
      "Increasing lmbda high - now lmbda = 20\n",
      "0.0007934591055836409\n",
      "lambda = 10.0\n",
      "uTu = 0.001150028633248729\n",
      "lambda = 15.0\n",
      "uTu = 0.0009286064584162301\n",
      "lambda = 12.5\n",
      "uTu = 0.0010231637691470708\n",
      "lambda = 13.75\n",
      "uTu = 0.0009727939148507605\n",
      "lambda = 13.125\n",
      "uTu = 0.0009971133231642716\n",
      "lambda = 12.8125\n",
      "uTu = 0.0010099087914552615\n",
      "lambda = 12.96875\n",
      "uTu = 0.001003455381860677\n",
      "lambda = 13.046875\n",
      "uTu = 0.0010002706456567504\n"
     ]
    },
    {
     "name": "stderr",
     "output_type": "stream",
     "text": [
      "\r",
      " 38%|███▊      | 73/190 [17:58<26:07, 13.40s/it]"
     ]
    },
    {
     "name": "stdout",
     "output_type": "stream",
     "text": [
      "Initial lambda is 10\n",
      "With corresponding starting state cost 0.001200589347673042\n",
      "Increasing lmbda high - now lmbda = 20\n",
      "0.0007786474696528891\n",
      "lambda = 10.0\n",
      "uTu = 0.001200589347673042\n",
      "lambda = 15.0\n",
      "uTu = 0.0009334634664869842\n",
      "lambda = 12.5\n",
      "uTu = 0.0010454149207117399\n",
      "lambda = 13.75\n",
      "uTu = 0.0009853950912814147\n",
      "lambda = 13.125\n",
      "uTu = 0.0010142630598803544\n",
      "lambda = 13.4375\n",
      "uTu = 0.0009995617784370912\n"
     ]
    },
    {
     "name": "stderr",
     "output_type": "stream",
     "text": [
      "\r",
      " 39%|███▉      | 74/190 [18:09<25:00, 12.94s/it]"
     ]
    },
    {
     "name": "stdout",
     "output_type": "stream",
     "text": [
      "Initial lambda is 10\n",
      "With corresponding starting state cost 0.0015763619094003641\n",
      "Increasing lmbda high - now lmbda = 20\n",
      "0.0010422062831835785\n",
      "Increasing lmbda high - now lmbda = 40\n",
      "0.0006768815350947459\n",
      "lambda = 20.0\n",
      "uTu = 0.0010422062831835785\n",
      "lambda = 30.0\n",
      "uTu = 0.0008135497874964334\n",
      "lambda = 25.0\n",
      "uTu = 0.000910539561455607\n",
      "lambda = 22.5\n",
      "uTu = 0.000970793212869889\n",
      "lambda = 21.25\n",
      "uTu = 0.0010048903170474168\n",
      "lambda = 21.875\n",
      "uTu = 0.0009874697731534776\n",
      "lambda = 21.5625\n",
      "uTu = 0.0009960835071103715\n",
      "lambda = 21.40625\n",
      "uTu = 0.0010004623141009774\n"
     ]
    },
    {
     "name": "stderr",
     "output_type": "stream",
     "text": [
      "\r",
      " 39%|███▉      | 75/190 [18:25<26:17, 13.72s/it]"
     ]
    },
    {
     "name": "stdout",
     "output_type": "stream",
     "text": [
      "Initial lambda is 10\n",
      "With corresponding starting state cost 0.0015672670641648245\n",
      "Increasing lmbda high - now lmbda = 20\n",
      "0.0009865126084107635\n",
      "lambda = 10.0\n",
      "uTu = 0.0015672670641648245\n",
      "lambda = 15.0\n",
      "uTu = 0.0012004126464345438\n",
      "lambda = 17.5\n",
      "uTu = 0.0010815680794495543\n",
      "lambda = 18.75\n",
      "uTu = 0.0010315803628661718\n",
      "lambda = 19.375\n",
      "uTu = 0.0010084825004790157\n",
      "lambda = 19.6875\n",
      "uTu = 0.0009973622935788475\n",
      "lambda = 19.53125\n",
      "uTu = 0.0010028878907204404\n",
      "lambda = 19.609375\n",
      "uTu = 0.001000116553507931\n"
     ]
    },
    {
     "name": "stderr",
     "output_type": "stream",
     "text": [
      "\r",
      " 40%|████      | 76/190 [18:39<26:13, 13.80s/it]"
     ]
    },
    {
     "name": "stdout",
     "output_type": "stream",
     "text": [
      "Initial lambda is 10\n",
      "With corresponding starting state cost 0.001042405228500012\n",
      "Increasing lmbda high - now lmbda = 20\n",
      "0.0006746067991077037\n",
      "lambda = 10.0\n",
      "uTu = 0.001042405228500012\n",
      "lambda = 15.0\n",
      "uTu = 0.000811061828553352\n",
      "lambda = 12.5\n",
      "uTu = 0.0009085760574423225\n",
      "lambda = 11.25\n",
      "uTu = 0.0009695846611169652\n",
      "lambda = 10.625\n",
      "uTu = 0.0010042805579531012\n",
      "lambda = 10.9375\n",
      "uTu = 0.000986537817822174\n",
      "lambda = 10.78125\n",
      "uTu = 0.0009953065577599388\n",
      "lambda = 10.703125\n",
      "uTu = 0.0009997673847524397\n"
     ]
    },
    {
     "name": "stderr",
     "output_type": "stream",
     "text": [
      "\r",
      " 41%|████      | 77/190 [18:52<25:23, 13.49s/it]"
     ]
    },
    {
     "name": "stdout",
     "output_type": "stream",
     "text": [
      "Initial lambda is 10\n",
      "With corresponding starting state cost 0.0029368695039104853\n",
      "Increasing lmbda high - now lmbda = 20\n",
      "0.0019574737539523046\n",
      "Increasing lmbda high - now lmbda = 40\n",
      "0.001257318123780832\n",
      "Increasing lmbda high - now lmbda = 80\n",
      "0.000744294465959694\n",
      "lambda = 40.0\n",
      "uTu = 0.001257318123780832\n",
      "lambda = 60.0\n",
      "uTu = 0.0009369892901033103\n",
      "lambda = 50.0\n",
      "uTu = 0.0010737682739755624\n",
      "lambda = 55.0\n",
      "uTu = 0.0010008200035035045\n"
     ]
    },
    {
     "name": "stderr",
     "output_type": "stream",
     "text": [
      "\r",
      " 41%|████      | 78/190 [19:05<24:48, 13.29s/it]"
     ]
    },
    {
     "name": "stdout",
     "output_type": "stream",
     "text": [
      "Initial lambda is 10\n",
      "With corresponding starting state cost 0.0017451290594173053\n",
      "Increasing lmbda high - now lmbda = 20\n",
      "0.0009292064913545446\n",
      "lambda = 10.0\n",
      "uTu = 0.0017451290594173053\n",
      "lambda = 15.0\n",
      "uTu = 0.0012037389713475315\n",
      "lambda = 17.5\n",
      "uTu = 0.001047344873286083\n",
      "lambda = 18.75\n",
      "uTu = 0.0009844469662575346\n",
      "lambda = 18.125\n",
      "uTu = 0.0010148400655193616\n",
      "lambda = 18.4375\n",
      "uTu = 0.0009993929296733713\n"
     ]
    },
    {
     "name": "stderr",
     "output_type": "stream",
     "text": [
      "\r",
      " 42%|████▏     | 79/190 [19:16<23:21, 12.63s/it]"
     ]
    },
    {
     "name": "stdout",
     "output_type": "stream",
     "text": [
      "Initial lambda is 10\n",
      "With corresponding starting state cost 0.0010843966830115326\n",
      "Increasing lmbda high - now lmbda = 20\n",
      "0.0006381331899502006\n",
      "lambda = 10.0\n",
      "uTu = 0.0010843966830115326\n",
      "lambda = 15.0\n",
      "uTu = 0.0007964878900291115\n",
      "lambda = 12.5\n",
      "uTu = 0.0009153987467628821\n",
      "lambda = 11.25\n",
      "uTu = 0.0009917290392641536\n",
      "lambda = 10.625\n",
      "uTu = 0.0010356904758812328\n",
      "lambda = 10.9375\n",
      "uTu = 0.0010131634731186834\n",
      "lambda = 11.09375\n",
      "uTu = 0.0010023149940749654\n",
      "lambda = 11.171875\n",
      "uTu = 0.0009969898342334102\n",
      "lambda = 11.1328125\n",
      "uTu = 0.0009996442907125986\n"
     ]
    },
    {
     "name": "stderr",
     "output_type": "stream",
     "text": [
      "\r",
      " 42%|████▏     | 80/190 [19:32<25:15, 13.77s/it]"
     ]
    },
    {
     "name": "stdout",
     "output_type": "stream",
     "text": [
      "Initial lambda is 10\n",
      "With corresponding starting state cost 0.0014601342175665857\n",
      "Increasing lmbda high - now lmbda = 20\n",
      "0.0009156545992083017\n",
      "lambda = 10.0\n",
      "uTu = 0.0014601342175665857\n",
      "lambda = 15.0\n",
      "uTu = 0.0011157144278926172\n",
      "lambda = 17.5\n",
      "uTu = 0.001004504598613785\n",
      "lambda = 18.75\n",
      "uTu = 0.0009577716914901642\n",
      "lambda = 18.125\n",
      "uTu = 0.000980509862481338\n",
      "lambda = 17.8125\n",
      "uTu = 0.0009923430321753604\n",
      "lambda = 17.65625\n",
      "uTu = 0.0009983818246566542\n",
      "lambda = 17.578125\n",
      "uTu = 0.0010014325929764973\n",
      "lambda = 17.6171875\n",
      "uTu = 0.0009999045694263956\n"
     ]
    },
    {
     "name": "stderr",
     "output_type": "stream",
     "text": [
      "\r",
      " 43%|████▎     | 81/190 [19:48<26:11, 14.42s/it]"
     ]
    },
    {
     "name": "stdout",
     "output_type": "stream",
     "text": [
      "Initial lambda is 10\n",
      "With corresponding starting state cost 0.0023193181769016603\n",
      "Increasing lmbda high - now lmbda = 20\n",
      "0.0014516789398732715\n",
      "Increasing lmbda high - now lmbda = 40\n",
      "0.0008975435052205813\n",
      "lambda = 20.0\n",
      "uTu = 0.0014516789398732715\n",
      "lambda = 30.0\n",
      "uTu = 0.0011002013520698582\n",
      "lambda = 35.0\n",
      "uTu = 0.0009874506827753182\n",
      "lambda = 32.5\n",
      "uTu = 0.0010403962672938126\n",
      "lambda = 33.75\n",
      "uTu = 0.0010131501395258323\n",
      "lambda = 34.375\n",
      "uTu = 0.0010001163447476578\n"
     ]
    },
    {
     "name": "stderr",
     "output_type": "stream",
     "text": [
      "\r",
      " 43%|████▎     | 82/190 [20:00<24:39, 13.70s/it]"
     ]
    },
    {
     "name": "stdout",
     "output_type": "stream",
     "text": [
      "Initial lambda is 10\n",
      "With corresponding starting state cost 0.0021315336040016422\n",
      "Increasing lmbda high - now lmbda = 20\n",
      "0.0014790377291195736\n",
      "Increasing lmbda high - now lmbda = 40\n",
      "0.0009680193230727788\n",
      "lambda = 20.0\n",
      "uTu = 0.0014790377291195736\n",
      "lambda = 30.0\n",
      "uTu = 0.0011659408374183056\n",
      "lambda = 35.0\n",
      "uTu = 0.0010574326513988718\n",
      "lambda = 37.5\n",
      "uTu = 0.0010107017904293365\n",
      "lambda = 38.75\n",
      "uTu = 0.000988891326222443\n",
      "lambda = 38.125\n",
      "uTu = 0.0009996749567757954\n"
     ]
    },
    {
     "name": "stderr",
     "output_type": "stream",
     "text": [
      "\r",
      " 44%|████▎     | 83/190 [20:10<22:37, 12.68s/it]"
     ]
    },
    {
     "name": "stdout",
     "output_type": "stream",
     "text": [
      "Initial lambda is 10\n",
      "With corresponding starting state cost 0.002076537378309244\n",
      "Increasing lmbda high - now lmbda = 20\n",
      "0.0013221839470974116\n",
      "Increasing lmbda high - now lmbda = 40\n",
      "0.000831956990568486\n",
      "lambda = 20.0\n",
      "uTu = 0.0013221839470974116\n",
      "lambda = 30.0\n",
      "uTu = 0.0010119834052702502\n",
      "lambda = 35.0\n",
      "uTu = 0.0009119182341778579\n",
      "lambda = 32.5\n",
      "uTu = 0.0009589376174286547\n",
      "lambda = 31.25\n",
      "uTu = 0.0009846287140361386\n",
      "lambda = 30.625\n",
      "uTu = 0.0009980870125548074\n",
      "lambda = 30.3125\n",
      "uTu = 0.0010049789678248705\n",
      "lambda = 30.46875\n",
      "uTu = 0.0010015191192028028\n",
      "lambda = 30.546875\n",
      "uTu = 0.0009997996214018792\n"
     ]
    },
    {
     "name": "stderr",
     "output_type": "stream",
     "text": [
      "\r",
      " 44%|████▍     | 84/190 [20:27<24:30, 13.87s/it]"
     ]
    },
    {
     "name": "stdout",
     "output_type": "stream",
     "text": [
      "Initial lambda is 10\n",
      "With corresponding starting state cost 0.0011757159242795712\n",
      "Increasing lmbda high - now lmbda = 20\n",
      "0.000643729424113776\n",
      "lambda = 10.0\n",
      "uTu = 0.0011757159242795712\n",
      "lambda = 15.0\n",
      "uTu = 0.0008256641614431786\n",
      "lambda = 12.5\n",
      "uTu = 0.0009675704934179207\n",
      "lambda = 11.25\n",
      "uTu = 0.0010607158658966617\n",
      "lambda = 11.875\n",
      "uTu = 0.0010118265267083423\n",
      "lambda = 12.1875\n",
      "uTu = 0.0009891622194377267\n",
      "lambda = 12.03125\n",
      "uTu = 0.0010003552781379511\n"
     ]
    },
    {
     "name": "stderr",
     "output_type": "stream",
     "text": [
      "\r",
      " 45%|████▍     | 85/190 [20:40<23:37, 13.50s/it]"
     ]
    },
    {
     "name": "stdout",
     "output_type": "stream",
     "text": [
      "Initial lambda is 10\n",
      "With corresponding starting state cost 0.001222683196030329\n",
      "Increasing lmbda high - now lmbda = 20\n",
      "0.0007499494597886555\n",
      "lambda = 10.0\n",
      "uTu = 0.001222683196030329\n",
      "lambda = 15.0\n",
      "uTu = 0.0009187472290802418\n",
      "lambda = 12.5\n",
      "uTu = 0.0010443694465358392\n",
      "lambda = 13.75\n",
      "uTu = 0.0009766753797258425\n",
      "lambda = 13.125\n",
      "uTu = 0.0010091381524691746\n",
      "lambda = 13.4375\n",
      "uTu = 0.0009925834507757709\n",
      "lambda = 13.28125\n",
      "uTu = 0.0010007772918017145\n"
     ]
    },
    {
     "name": "stderr",
     "output_type": "stream",
     "text": [
      "\r",
      " 45%|████▌     | 86/190 [20:53<23:16, 13.43s/it]"
     ]
    },
    {
     "name": "stdout",
     "output_type": "stream",
     "text": [
      "Initial lambda is 10\n",
      "With corresponding starting state cost 0.0015696816509820348\n",
      "Increasing lmbda high - now lmbda = 20\n",
      "0.0009363395635699984\n",
      "lambda = 10.0\n",
      "uTu = 0.0015696816509820348\n",
      "lambda = 15.0\n",
      "uTu = 0.0011645278274047095\n",
      "lambda = 17.5\n",
      "uTu = 0.0010368745943630307\n",
      "lambda = 18.75\n",
      "uTu = 0.0009838221989229875\n",
      "lambda = 18.125\n",
      "uTu = 0.0010095885515185332\n",
      "lambda = 18.4375\n",
      "uTu = 0.0009965239852551021\n",
      "lambda = 18.28125\n",
      "uTu = 0.001003009891514086\n",
      "lambda = 18.359375\n",
      "uTu = 0.0009997554753510092\n"
     ]
    },
    {
     "name": "stderr",
     "output_type": "stream",
     "text": [
      "\r",
      " 46%|████▌     | 87/190 [21:07<23:14, 13.54s/it]"
     ]
    },
    {
     "name": "stdout",
     "output_type": "stream",
     "text": [
      "Initial lambda is 10\n",
      "With corresponding starting state cost 0.002028126274371443\n",
      "Increasing lmbda high - now lmbda = 20\n",
      "0.0012815129440884709\n",
      "Increasing lmbda high - now lmbda = 40\n",
      "0.0007644552719996185\n",
      "lambda = 20.0\n",
      "uTu = 0.0012815129440884709\n",
      "lambda = 30.0\n",
      "uTu = 0.0009560943458293042\n",
      "lambda = 25.0\n",
      "uTu = 0.0010938692943305843\n",
      "lambda = 27.5\n",
      "uTu = 0.0010201859088085404\n",
      "lambda = 28.75\n",
      "uTu = 0.0009870719814585973\n",
      "lambda = 28.125\n",
      "uTu = 0.0010033471565982896\n",
      "lambda = 28.4375\n",
      "uTu = 0.00099514105496138\n",
      "lambda = 28.28125\n",
      "uTu = 0.000999226741504077\n"
     ]
    },
    {
     "name": "stderr",
     "output_type": "stream",
     "text": [
      "\r",
      " 46%|████▋     | 88/190 [21:23<24:22, 14.34s/it]"
     ]
    },
    {
     "name": "stdout",
     "output_type": "stream",
     "text": [
      "Initial lambda is 10\n",
      "With corresponding starting state cost 0.0010791789842608695\n",
      "Increasing lmbda high - now lmbda = 20\n",
      "0.0006824944830097742\n",
      "lambda = 10.0\n",
      "uTu = 0.0010791789842608695\n",
      "lambda = 15.0\n",
      "uTu = 0.0008231496032642938\n",
      "lambda = 12.5\n",
      "uTu = 0.000928683871397904\n",
      "lambda = 11.25\n",
      "uTu = 0.0009965608375902314\n",
      "lambda = 10.625\n",
      "uTu = 0.0010357229495697828\n",
      "lambda = 10.9375\n",
      "uTu = 0.0010156483641894929\n",
      "lambda = 11.09375\n",
      "uTu = 0.0010059861125106871\n",
      "lambda = 11.171875\n",
      "uTu = 0.0010012444361731118\n",
      "lambda = 11.2109375\n",
      "uTu = 0.0009988954483706658\n",
      "lambda = 11.19140625\n",
      "uTu = 0.0010000681363170547\n"
     ]
    },
    {
     "name": "stderr",
     "output_type": "stream",
     "text": [
      "\r",
      " 47%|████▋     | 89/190 [21:37<24:16, 14.42s/it]"
     ]
    },
    {
     "name": "stdout",
     "output_type": "stream",
     "text": [
      "Initial lambda is 10\n",
      "With corresponding starting state cost 0.0021004110369981493\n",
      "Increasing lmbda high - now lmbda = 20\n",
      "0.0013724302337328122\n",
      "Increasing lmbda high - now lmbda = 40\n",
      "0.0008756705177660427\n",
      "lambda = 20.0\n",
      "uTu = 0.0013724302337328122\n",
      "lambda = 30.0\n",
      "uTu = 0.0010612752280115504\n",
      "lambda = 35.0\n",
      "uTu = 0.0009586094458222138\n",
      "lambda = 32.5\n",
      "uTu = 0.0010070037759305022\n",
      "lambda = 33.75\n",
      "uTu = 0.000982140891641899\n",
      "lambda = 33.125\n",
      "uTu = 0.0009943980226476779\n",
      "lambda = 32.8125\n",
      "uTu = 0.0010006562772935912\n"
     ]
    },
    {
     "name": "stderr",
     "output_type": "stream",
     "text": [
      "\r",
      " 47%|████▋     | 90/190 [21:51<23:27, 14.08s/it]"
     ]
    },
    {
     "name": "stdout",
     "output_type": "stream",
     "text": [
      "Initial lambda is 10\n",
      "With corresponding starting state cost 0.001206641795877484\n",
      "Increasing lmbda high - now lmbda = 20\n",
      "0.000701203254439177\n",
      "lambda = 10.0\n",
      "uTu = 0.001206641795877484\n",
      "lambda = 15.0\n",
      "uTu = 0.0008759607549068955\n",
      "lambda = 12.5\n",
      "uTu = 0.0010106987899932054\n",
      "lambda = 13.75\n",
      "uTu = 0.0009376758742562975\n",
      "lambda = 13.125\n",
      "uTu = 0.0009725814329211035\n",
      "lambda = 12.8125\n",
      "uTu = 0.0009912106402218252\n",
      "lambda = 12.65625\n",
      "uTu = 0.0010008435573256916\n"
     ]
    },
    {
     "name": "stderr",
     "output_type": "stream",
     "text": [
      "\r",
      " 48%|████▊     | 91/190 [22:02<21:43, 13.17s/it]"
     ]
    },
    {
     "name": "stdout",
     "output_type": "stream",
     "text": [
      "Initial lambda is 10\n",
      "With corresponding starting state cost 0.0019769195157761854\n",
      "Increasing lmbda high - now lmbda = 20\n",
      "0.0011061502896996653\n",
      "Increasing lmbda high - now lmbda = 40\n",
      "0.0006216761398349853\n",
      "lambda = 20.0\n",
      "uTu = 0.0011061502896996653\n",
      "lambda = 30.0\n",
      "uTu = 0.0007894955093864204\n",
      "lambda = 25.0\n",
      "uTu = 0.0009185295004266124\n",
      "lambda = 22.5\n",
      "uTu = 0.0010026792145416824\n",
      "lambda = 23.75\n",
      "uTu = 0.0009585555013099834\n",
      "lambda = 23.125\n",
      "uTu = 0.0009800653115816665\n",
      "lambda = 22.8125\n",
      "uTu = 0.0009912288127948057\n",
      "lambda = 22.65625\n",
      "uTu = 0.000996917439689494\n",
      "lambda = 22.578125\n",
      "uTu = 0.0009997890926226932\n"
     ]
    },
    {
     "name": "stderr",
     "output_type": "stream",
     "text": [
      "\r",
      " 48%|████▊     | 92/190 [22:21<24:20, 14.90s/it]"
     ]
    },
    {
     "name": "stdout",
     "output_type": "stream",
     "text": [
      "Initial lambda is 10\n",
      "With corresponding starting state cost 0.0021600665128096376\n",
      "Increasing lmbda high - now lmbda = 20\n",
      "0.0013345406224037131\n",
      "Increasing lmbda high - now lmbda = 40\n",
      "0.0008289483718702374\n",
      "lambda = 20.0\n",
      "uTu = 0.0013345406224037131\n",
      "lambda = 30.0\n",
      "uTu = 0.0010123337028603847\n",
      "lambda = 35.0\n",
      "uTu = 0.0009101445126666914\n",
      "lambda = 32.5\n",
      "uTu = 0.0009580737871509535\n",
      "lambda = 31.25\n",
      "uTu = 0.0009843268483858182\n",
      "lambda = 30.625\n",
      "uTu = 0.000998098902785063\n",
      "lambda = 30.3125\n",
      "uTu = 0.0010051568365456198\n",
      "lambda = 30.46875\n",
      "uTu = 0.0010016132109472392\n",
      "lambda = 30.546875\n",
      "uTu = 0.0009998524177235772\n"
     ]
    },
    {
     "name": "stderr",
     "output_type": "stream",
     "text": [
      "\r",
      " 49%|████▉     | 93/190 [22:48<30:08, 18.64s/it]"
     ]
    },
    {
     "name": "stdout",
     "output_type": "stream",
     "text": [
      "Initial lambda is 10\n",
      "With corresponding starting state cost 0.0011097432199136037\n",
      "Increasing lmbda high - now lmbda = 20\n",
      "0.0006210643756481374\n",
      "lambda = 10.0\n",
      "uTu = 0.0011097432199136037\n",
      "lambda = 15.0\n",
      "uTu = 0.0007958730794812984\n",
      "lambda = 12.5\n",
      "uTu = 0.0009261952152290699\n",
      "lambda = 11.25\n",
      "uTu = 0.0010093322049849033\n",
      "lambda = 11.875\n",
      "uTu = 0.0009659137808522667\n",
      "lambda = 11.5625\n",
      "uTu = 0.0009871267796988468\n",
      "lambda = 11.40625\n",
      "uTu = 0.0009981008424417464\n",
      "lambda = 11.328125\n",
      "uTu = 0.0010036837605240743\n",
      "lambda = 11.3671875\n",
      "uTu = 0.0010008841869922848\n"
     ]
    },
    {
     "name": "stderr",
     "output_type": "stream",
     "text": [
      "\r",
      " 49%|████▉     | 94/190 [23:04<28:38, 17.91s/it]"
     ]
    },
    {
     "name": "stdout",
     "output_type": "stream",
     "text": [
      "Initial lambda is 10\n",
      "With corresponding starting state cost 0.001629084802041696\n",
      "Increasing lmbda high - now lmbda = 20\n",
      "0.0009521019404627954\n",
      "lambda = 10.0\n",
      "uTu = 0.001629084802041696\n",
      "lambda = 15.0\n",
      "uTu = 0.0011894934799214954\n",
      "lambda = 17.5\n",
      "uTu = 0.0010559171783503974\n",
      "lambda = 18.75\n",
      "uTu = 0.0010009935673334668\n"
     ]
    },
    {
     "name": "stderr",
     "output_type": "stream",
     "text": [
      "\r",
      " 50%|█████     | 95/190 [23:14<24:34, 15.52s/it]"
     ]
    },
    {
     "name": "stdout",
     "output_type": "stream",
     "text": [
      "Initial lambda is 10\n",
      "With corresponding starting state cost 0.0018291397890198232\n",
      "Increasing lmbda high - now lmbda = 20\n",
      "0.0011675170136964546\n",
      "Increasing lmbda high - now lmbda = 40\n",
      "0.000736638326824853\n",
      "lambda = 20.0\n",
      "uTu = 0.0011675170136964546\n",
      "lambda = 30.0\n",
      "uTu = 0.0008948050365831182\n",
      "lambda = 25.0\n",
      "uTu = 0.0010093193352635865\n",
      "lambda = 27.5\n",
      "uTu = 0.0009479381401251481\n",
      "lambda = 26.25\n",
      "uTu = 0.0009774676180638081\n",
      "lambda = 25.625\n",
      "uTu = 0.0009930843696116078\n",
      "lambda = 25.3125\n",
      "uTu = 0.0010011220341714312\n",
      "lambda = 25.46875\n",
      "uTu = 0.000997083574041058\n",
      "lambda = 25.390625\n",
      "uTu = 0.0009990978568863488\n"
     ]
    },
    {
     "name": "stderr",
     "output_type": "stream",
     "text": [
      "\r",
      " 51%|█████     | 96/190 [23:38<28:01, 17.89s/it]"
     ]
    },
    {
     "name": "stdout",
     "output_type": "stream",
     "text": [
      "Initial lambda is 10\n",
      "With corresponding starting state cost 0.0017185230421358651\n",
      "Increasing lmbda high - now lmbda = 20\n",
      "0.0012114361501805533\n",
      "Increasing lmbda high - now lmbda = 40\n",
      "0.000814867147687097\n",
      "lambda = 20.0\n",
      "uTu = 0.0012114361501805533\n",
      "lambda = 30.0\n",
      "uTu = 0.0009691242773534885\n",
      "lambda = 25.0\n",
      "uTu = 0.0010742418718947973\n",
      "lambda = 27.5\n",
      "uTu = 0.0010185511140823381\n",
      "lambda = 28.75\n",
      "uTu = 0.000993134768883341\n",
      "lambda = 28.125\n",
      "uTu = 0.0010056581689320753\n",
      "lambda = 28.4375\n",
      "uTu = 0.00099935145957111\n"
     ]
    },
    {
     "name": "stderr",
     "output_type": "stream",
     "text": [
      "\r",
      " 51%|█████     | 97/190 [23:54<27:00, 17.42s/it]"
     ]
    },
    {
     "name": "stdout",
     "output_type": "stream",
     "text": [
      "Initial lambda is 10\n",
      "With corresponding starting state cost 0.0017469804425985038\n",
      "Increasing lmbda high - now lmbda = 20\n",
      "0.0009196790724316113\n",
      "lambda = 10.0\n",
      "uTu = 0.0017469804425985038\n",
      "lambda = 15.0\n",
      "uTu = 0.0011922093492412204\n",
      "lambda = 17.5\n",
      "uTu = 0.0010361306602351763\n",
      "lambda = 18.75\n",
      "uTu = 0.0009739715256583396\n",
      "lambda = 18.125\n",
      "uTu = 0.0010039626796553955\n",
      "lambda = 18.4375\n",
      "uTu = 0.0009887092721680326\n",
      "lambda = 18.28125\n",
      "uTu = 0.0009962698120740655\n",
      "lambda = 18.203125\n",
      "uTu = 0.001000099485079004\n"
     ]
    },
    {
     "name": "stderr",
     "output_type": "stream",
     "text": [
      "\r",
      " 52%|█████▏    | 98/190 [24:11<26:20, 17.18s/it]"
     ]
    },
    {
     "name": "stdout",
     "output_type": "stream",
     "text": [
      "Initial lambda is 10\n",
      "With corresponding starting state cost 0.0018045236001681473\n",
      "Increasing lmbda high - now lmbda = 20\n",
      "0.0011349780088223832\n",
      "Increasing lmbda high - now lmbda = 40\n",
      "0.000705648799479025\n",
      "lambda = 20.0\n",
      "uTu = 0.0011349780088223832\n",
      "lambda = 30.0\n",
      "uTu = 0.0008640183707198364\n",
      "lambda = 25.0\n",
      "uTu = 0.000977953619354862\n",
      "lambda = 22.5\n",
      "uTu = 0.0010494557463451583\n",
      "lambda = 23.75\n",
      "uTu = 0.0010122065895060905\n",
      "lambda = 24.375\n",
      "uTu = 0.0009947318639889644\n",
      "lambda = 24.0625\n",
      "uTu = 0.0010033790868292194\n",
      "lambda = 24.21875\n",
      "uTu = 0.0009990333373574444\n"
     ]
    },
    {
     "name": "stderr",
     "output_type": "stream",
     "text": [
      "\r",
      " 52%|█████▏    | 99/190 [24:25<24:43, 16.31s/it]"
     ]
    },
    {
     "name": "stdout",
     "output_type": "stream",
     "text": [
      "Initial lambda is 10\n",
      "With corresponding starting state cost 0.001749116613935789\n",
      "Increasing lmbda high - now lmbda = 20\n",
      "0.0010030319787711407\n",
      "Increasing lmbda high - now lmbda = 40\n",
      "0.0005595620086086998\n",
      "lambda = 20.0\n",
      "uTu = 0.0010030319787711407\n",
      "lambda = 30.0\n",
      "uTu = 0.0007160075333154073\n",
      "lambda = 25.0\n",
      "uTu = 0.0008343114290213\n",
      "lambda = 22.5\n",
      "uTu = 0.0009104585610134531\n",
      "lambda = 21.25\n",
      "uTu = 0.0009543615836099225\n",
      "lambda = 20.625\n",
      "uTu = 0.0009780513851774689\n",
      "lambda = 20.3125\n",
      "uTu = 0.0009903735261856741\n",
      "lambda = 20.15625\n",
      "uTu = 0.0009966598194906461\n",
      "lambda = 20.078125\n",
      "uTu = 0.0009998350512799106\n"
     ]
    },
    {
     "name": "stderr",
     "output_type": "stream",
     "text": [
      "\r",
      " 53%|█████▎    | 100/190 [24:41<24:09, 16.11s/it]"
     ]
    },
    {
     "name": "stdout",
     "output_type": "stream",
     "text": [
      "Initial lambda is 10\n",
      "With corresponding starting state cost 0.0013561463663094848\n",
      "Increasing lmbda high - now lmbda = 20\n",
      "0.0008713404712406668\n",
      "lambda = 10.0\n",
      "uTu = 0.0013561463663094848\n",
      "lambda = 15.0\n",
      "uTu = 0.0010520365133263377\n",
      "lambda = 17.5\n",
      "uTu = 0.0009519521991091501\n",
      "lambda = 16.25\n",
      "uTu = 0.0009990950800575678\n"
     ]
    },
    {
     "name": "stderr",
     "output_type": "stream",
     "text": [
      "\r",
      " 53%|█████▎    | 101/190 [24:49<20:20, 13.72s/it]"
     ]
    },
    {
     "name": "stdout",
     "output_type": "stream",
     "text": [
      "Initial lambda is 10\n",
      "With corresponding starting state cost 0.0012236803352805843\n",
      "Increasing lmbda high - now lmbda = 20\n",
      "0.0007578305650013991\n",
      "lambda = 10.0\n",
      "uTu = 0.0012236803352805843\n",
      "lambda = 15.0\n",
      "uTu = 0.0009244006560403333\n",
      "lambda = 12.5\n",
      "uTu = 0.0010485460149389613\n",
      "lambda = 13.75\n",
      "uTu = 0.0009816799538414518\n",
      "lambda = 13.125\n",
      "uTu = 0.0010137605176731156\n",
      "lambda = 13.4375\n",
      "uTu = 0.000997403449321263\n",
      "lambda = 13.28125\n",
      "uTu = 0.0010055002652266942\n",
      "lambda = 13.359375\n",
      "uTu = 0.001001431751410786\n",
      "lambda = 13.3984375\n",
      "uTu = 0.000999412613601628\n"
     ]
    },
    {
     "name": "stderr",
     "output_type": "stream",
     "text": [
      "\r",
      " 54%|█████▎    | 102/190 [25:02<19:45, 13.47s/it]"
     ]
    },
    {
     "name": "stdout",
     "output_type": "stream",
     "text": [
      "Initial lambda is 10\n",
      "With corresponding starting state cost 0.0014696486706076114\n",
      "Increasing lmbda high - now lmbda = 20\n",
      "0.0008823815708961537\n",
      "lambda = 10.0\n",
      "uTu = 0.0014696486706076114\n",
      "lambda = 15.0\n",
      "uTu = 0.0010931310537731166\n",
      "lambda = 17.5\n",
      "uTu = 0.000975233801427069\n",
      "lambda = 16.25\n",
      "uTu = 0.0010304028744757868\n",
      "lambda = 16.875\n",
      "uTu = 0.0010019687480836723\n",
      "lambda = 17.1875\n",
      "uTu = 0.0009883993521091147\n",
      "lambda = 17.03125\n",
      "uTu = 0.0009951323168392895\n",
      "lambda = 16.953125\n",
      "uTu = 0.000998537437805796\n",
      "lambda = 16.9140625\n",
      "uTu = 0.0010002497988052244\n"
     ]
    },
    {
     "name": "stderr",
     "output_type": "stream",
     "text": [
      "\r",
      " 54%|█████▍    | 103/190 [25:16<19:57, 13.76s/it]"
     ]
    },
    {
     "name": "stdout",
     "output_type": "stream",
     "text": [
      "Initial lambda is 10\n",
      "With corresponding starting state cost 0.0013986281702260636\n",
      "Increasing lmbda high - now lmbda = 20\n",
      "0.0008630068587198583\n",
      "lambda = 10.0\n",
      "uTu = 0.0013986281702260636\n",
      "lambda = 15.0\n",
      "uTu = 0.0010550284795717325\n",
      "lambda = 17.5\n",
      "uTu = 0.0009475495459041682\n",
      "lambda = 16.25\n",
      "uTu = 0.0009978253098889354\n",
      "lambda = 15.625\n",
      "uTu = 0.0010254669185528749\n",
      "lambda = 15.9375\n",
      "uTu = 0.0010114189555531334\n",
      "lambda = 16.09375\n",
      "uTu = 0.0010045668452200245\n",
      "lambda = 16.171875\n",
      "uTu = 0.0010011824374992317\n",
      "lambda = 16.2109375\n",
      "uTu = 0.0009995004860486577\n"
     ]
    },
    {
     "name": "stderr",
     "output_type": "stream",
     "text": [
      "\r",
      " 55%|█████▍    | 104/190 [25:32<20:30, 14.30s/it]"
     ]
    },
    {
     "name": "stdout",
     "output_type": "stream",
     "text": [
      "Initial lambda is 10\n",
      "With corresponding starting state cost 0.0013493730347792347\n",
      "Increasing lmbda high - now lmbda = 20\n",
      "0.0008282542023369496\n",
      "lambda = 10.0\n",
      "uTu = 0.0013493730347792347\n",
      "lambda = 15.0\n",
      "uTu = 0.0010142705053922247\n",
      "lambda = 17.5\n",
      "uTu = 0.0009101204403009182\n",
      "lambda = 16.25\n",
      "uTu = 0.0009588181585930964\n",
      "lambda = 15.625\n",
      "uTu = 0.0009856062956284729\n",
      "lambda = 15.3125\n",
      "uTu = 0.0009996905822662332\n"
     ]
    },
    {
     "name": "stderr",
     "output_type": "stream",
     "text": [
      "\r",
      " 55%|█████▌    | 105/190 [25:42<18:42, 13.21s/it]"
     ]
    },
    {
     "name": "stdout",
     "output_type": "stream",
     "text": [
      "Initial lambda is 10\n",
      "With corresponding starting state cost 0.0013903708559878203\n",
      "Increasing lmbda high - now lmbda = 20\n",
      "0.0008093590148114324\n",
      "lambda = 10.0\n",
      "uTu = 0.0013903708559878203\n",
      "lambda = 15.0\n",
      "uTu = 0.0010087820821606988\n",
      "lambda = 17.5\n",
      "uTu = 0.0008959057115812226\n",
      "lambda = 16.25\n",
      "uTu = 0.0009483100289079601\n",
      "lambda = 15.625\n",
      "uTu = 0.000977418983909345\n",
      "lambda = 15.3125\n",
      "uTu = 0.0009928018392265036\n",
      "lambda = 15.15625\n",
      "uTu = 0.0010007150200924066\n"
     ]
    },
    {
     "name": "stderr",
     "output_type": "stream",
     "text": [
      "\r",
      " 56%|█████▌    | 106/190 [25:53<17:31, 12.52s/it]"
     ]
    },
    {
     "name": "stdout",
     "output_type": "stream",
     "text": [
      "Initial lambda is 10\n",
      "With corresponding starting state cost 0.000812468609285586\n",
      "lambda = 5.0\n",
      "uTu = 0.0011361768057591949\n",
      "lambda = 7.5\n",
      "uTu = 0.0009366801449078685\n",
      "lambda = 6.25\n",
      "uTu = 0.0010224962692910481\n",
      "lambda = 6.875\n",
      "uTu = 0.0009768966366200478\n",
      "lambda = 6.5625\n",
      "uTu = 0.0009989455369480804\n",
      "lambda = 6.40625\n",
      "uTu = 0.0010105219605779066\n",
      "lambda = 6.484375\n",
      "uTu = 0.0010046854893729189\n",
      "lambda = 6.5234375\n",
      "uTu = 0.0010018036259975321\n",
      "lambda = 6.54296875\n",
      "uTu = 0.001000371631482331\n"
     ]
    },
    {
     "name": "stderr",
     "output_type": "stream",
     "text": [
      "\r",
      " 56%|█████▋    | 107/190 [26:05<17:08, 12.39s/it]"
     ]
    },
    {
     "name": "stdout",
     "output_type": "stream",
     "text": [
      "Initial lambda is 10\n",
      "With corresponding starting state cost 0.0017077474702531595\n",
      "Increasing lmbda high - now lmbda = 20\n",
      "0.0012403345987422175\n",
      "Increasing lmbda high - now lmbda = 40\n",
      "0.0008487282159149462\n",
      "lambda = 20.0\n",
      "uTu = 0.0012403345987422175\n",
      "lambda = 30.0\n",
      "uTu = 0.0010042960029997014\n",
      "lambda = 35.0\n",
      "uTu = 0.0009196891077913789\n",
      "lambda = 32.5\n",
      "uTu = 0.0009600127941120677\n",
      "lambda = 31.25\n",
      "uTu = 0.000981617535805517\n",
      "lambda = 30.625\n",
      "uTu = 0.0009928167036762497\n",
      "lambda = 30.3125\n",
      "uTu = 0.0009985205622422527\n",
      "lambda = 30.15625\n",
      "uTu = 0.001001399235109996\n",
      "lambda = 30.234375\n",
      "uTu = 0.0009999576493990871\n"
     ]
    },
    {
     "name": "stderr",
     "output_type": "stream",
     "text": [
      "\r",
      " 57%|█████▋    | 108/190 [26:20<18:03, 13.21s/it]"
     ]
    },
    {
     "name": "stdout",
     "output_type": "stream",
     "text": [
      "Initial lambda is 10\n",
      "With corresponding starting state cost 0.0008117767624045289\n",
      "lambda = 5.0\n",
      "uTu = 0.0014003151226385157\n",
      "lambda = 7.5\n",
      "uTu = 0.0010127704079586932\n",
      "lambda = 8.75\n",
      "uTu = 0.0008988979380966229\n",
      "lambda = 8.125\n",
      "uTu = 0.0009517264720050611\n",
      "lambda = 7.8125\n",
      "uTu = 0.0009810992191531093\n",
      "lambda = 7.65625\n",
      "uTu = 0.0009966300304907359\n",
      "lambda = 7.578125\n",
      "uTu = 0.0010046216805832005\n",
      "lambda = 7.6171875\n",
      "uTu = 0.0010006065212671623\n"
     ]
    },
    {
     "name": "stderr",
     "output_type": "stream",
     "text": [
      "\r",
      " 57%|█████▋    | 109/190 [26:31<16:49, 12.46s/it]"
     ]
    },
    {
     "name": "stdout",
     "output_type": "stream",
     "text": [
      "Initial lambda is 10\n",
      "With corresponding starting state cost 0.0028230463958632086\n",
      "Increasing lmbda high - now lmbda = 20\n",
      "0.001982359009453222\n",
      "Increasing lmbda high - now lmbda = 40\n",
      "0.001314540170112224\n",
      "Increasing lmbda high - now lmbda = 80\n",
      "0.0007866657542896603\n",
      "lambda = 40.0\n",
      "uTu = 0.001314540170112224\n",
      "lambda = 60.0\n",
      "uTu = 0.0009878422706441246\n",
      "lambda = 50.0\n",
      "uTu = 0.0011287160079449675\n",
      "lambda = 55.0\n",
      "uTu = 0.0010538135453779082\n",
      "lambda = 57.5\n",
      "uTu = 0.0010198201398083113\n",
      "lambda = 58.75\n",
      "uTu = 0.0010035912289718483\n",
      "lambda = 59.375\n",
      "uTu = 0.0009956581640914862\n",
      "lambda = 59.0625\n",
      "uTu = 0.0009996098777352268\n"
     ]
    },
    {
     "name": "stderr",
     "output_type": "stream",
     "text": [
      "\r",
      " 58%|█████▊    | 110/190 [26:45<17:20, 13.01s/it]"
     ]
    },
    {
     "name": "stdout",
     "output_type": "stream",
     "text": [
      "Initial lambda is 10\n",
      "With corresponding starting state cost 0.0014355893308049025\n",
      "Increasing lmbda high - now lmbda = 20\n",
      "0.0008079162650308034\n",
      "lambda = 10.0\n",
      "uTu = 0.0014355893308049025\n",
      "lambda = 15.0\n",
      "uTu = 0.001032763623206512\n",
      "lambda = 17.5\n",
      "uTu = 0.0009065863483259634\n",
      "lambda = 16.25\n",
      "uTu = 0.0009655448072511542\n",
      "lambda = 15.625\n",
      "uTu = 0.0009980135629579579\n",
      "lambda = 15.3125\n",
      "uTu = 0.001015088186302166\n",
      "lambda = 15.46875\n",
      "uTu = 0.0010064777649474441\n",
      "lambda = 15.546875\n",
      "uTu = 0.0010022276276457672\n",
      "lambda = 15.5859375\n",
      "uTu = 0.001000116115888408\n"
     ]
    },
    {
     "name": "stderr",
     "output_type": "stream",
     "text": [
      "\r",
      " 58%|█████▊    | 111/190 [27:00<17:47, 13.51s/it]"
     ]
    },
    {
     "name": "stdout",
     "output_type": "stream",
     "text": [
      "Initial lambda is 10\n",
      "With corresponding starting state cost 0.001348373576090794\n",
      "Increasing lmbda high - now lmbda = 20\n",
      "0.0009154704879521383\n",
      "lambda = 10.0\n",
      "uTu = 0.001348373576090794\n",
      "lambda = 15.0\n",
      "uTu = 0.0010805272408414585\n",
      "lambda = 17.5\n",
      "uTu = 0.0009897348983900374\n",
      "lambda = 16.25\n",
      "uTu = 0.0010326861807026218\n",
      "lambda = 16.875\n",
      "uTu = 0.0010106542686419823\n",
      "lambda = 17.1875\n",
      "uTu = 0.001000061622048033\n"
     ]
    },
    {
     "name": "stderr",
     "output_type": "stream",
     "text": [
      "\r",
      " 59%|█████▉    | 112/190 [27:11<16:22, 12.60s/it]"
     ]
    },
    {
     "name": "stdout",
     "output_type": "stream",
     "text": [
      "Initial lambda is 10\n",
      "With corresponding starting state cost 0.0012339321701978843\n",
      "Increasing lmbda high - now lmbda = 20\n",
      "0.0008048455816768675\n",
      "lambda = 10.0\n",
      "uTu = 0.0012339321701978843\n",
      "lambda = 15.0\n",
      "uTu = 0.0009691753647271901\n",
      "lambda = 12.5\n",
      "uTu = 0.0010833161257834123\n",
      "lambda = 13.75\n",
      "uTu = 0.001022667953337041\n",
      "lambda = 14.375\n",
      "uTu = 0.0009951179110860857\n",
      "lambda = 14.0625\n",
      "uTu = 0.0010086817151996111\n",
      "lambda = 14.21875\n",
      "uTu = 0.0010018483528798933\n",
      "lambda = 14.296875\n",
      "uTu = 0.0009984704295298167\n",
      "lambda = 14.2578125\n",
      "uTu = 0.0010001561954978702\n"
     ]
    },
    {
     "name": "stderr",
     "output_type": "stream",
     "text": [
      "\r",
      " 59%|█████▉    | 113/190 [27:25<16:43, 13.03s/it]"
     ]
    },
    {
     "name": "stdout",
     "output_type": "stream",
     "text": [
      "Initial lambda is 10\n",
      "With corresponding starting state cost 0.0016349552103402606\n",
      "Increasing lmbda high - now lmbda = 20\n",
      "0.0010199901816486828\n",
      "Increasing lmbda high - now lmbda = 40\n",
      "0.0006062174065432542\n",
      "lambda = 20.0\n",
      "uTu = 0.0010199901816486828\n",
      "lambda = 30.0\n",
      "uTu = 0.000757491318909414\n",
      "lambda = 25.0\n",
      "uTu = 0.0008678601786105261\n",
      "lambda = 22.5\n",
      "uTu = 0.0009372462567349849\n",
      "lambda = 21.25\n",
      "uTu = 0.0009767007815879888\n",
      "lambda = 20.625\n",
      "uTu = 0.0009978294155478828\n",
      "lambda = 20.3125\n",
      "uTu = 0.0010087757604891013\n",
      "lambda = 20.46875\n",
      "uTu = 0.0010032697272600824\n",
      "lambda = 20.546875\n",
      "uTu = 0.0010005414354099852\n"
     ]
    },
    {
     "name": "stderr",
     "output_type": "stream",
     "text": [
      "\r",
      " 60%|██████    | 114/190 [27:42<18:09, 14.34s/it]"
     ]
    },
    {
     "name": "stdout",
     "output_type": "stream",
     "text": [
      "Initial lambda is 10\n",
      "With corresponding starting state cost 0.00316244356050102\n",
      "Increasing lmbda high - now lmbda = 20\n",
      "0.0019106764289843956\n",
      "Increasing lmbda high - now lmbda = 40\n",
      "0.00108158373134573\n",
      "Increasing lmbda high - now lmbda = 80\n",
      "0.0005673536254065439\n",
      "lambda = 40.0\n",
      "uTu = 0.00108158373134573\n",
      "lambda = 60.0\n",
      "uTu = 0.000748858217834835\n",
      "lambda = 50.0\n",
      "uTu = 0.0008864262503587414\n",
      "lambda = 45.0\n",
      "uTu = 0.0009747250716432269\n",
      "lambda = 42.5\n",
      "uTu = 0.0010254800029603638\n",
      "lambda = 43.75\n",
      "uTu = 0.0009994838536882154\n"
     ]
    },
    {
     "name": "stderr",
     "output_type": "stream",
     "text": [
      "\r",
      " 61%|██████    | 115/190 [27:57<18:04, 14.46s/it]"
     ]
    },
    {
     "name": "stdout",
     "output_type": "stream",
     "text": [
      "Initial lambda is 10\n",
      "With corresponding starting state cost 0.0010494959207862332\n",
      "Increasing lmbda high - now lmbda = 20\n",
      "0.0006481018841271328\n",
      "lambda = 10.0\n",
      "uTu = 0.0010494959207862332\n",
      "lambda = 15.0\n",
      "uTu = 0.0007953117894198054\n",
      "lambda = 12.5\n",
      "uTu = 0.0009021759222789877\n",
      "lambda = 11.25\n",
      "uTu = 0.0009693193759276076\n",
      "lambda = 10.625\n",
      "uTu = 0.001007527317550685\n",
      "lambda = 10.9375\n",
      "uTu = 0.0009879888095724277\n",
      "lambda = 10.78125\n",
      "uTu = 0.0009976452843683788\n",
      "lambda = 10.703125\n",
      "uTu = 0.0010025575635751764\n",
      "lambda = 10.7421875\n",
      "uTu = 0.0010000943085904826\n"
     ]
    },
    {
     "name": "stderr",
     "output_type": "stream",
     "text": [
      "\r",
      " 61%|██████    | 116/190 [28:10<17:35, 14.26s/it]"
     ]
    },
    {
     "name": "stdout",
     "output_type": "stream",
     "text": [
      "Initial lambda is 10\n",
      "With corresponding starting state cost 0.003475119407728462\n",
      "Increasing lmbda high - now lmbda = 20\n",
      "0.0020840344662211826\n",
      "Increasing lmbda high - now lmbda = 40\n",
      "0.0011722408141249595\n",
      "Increasing lmbda high - now lmbda = 80\n",
      "0.0006044632135766846\n",
      "lambda = 40.0\n",
      "uTu = 0.0011722408141249595\n",
      "lambda = 60.0\n",
      "uTu = 0.0008052813328043028\n",
      "lambda = 50.0\n",
      "uTu = 0.0009571930195041008\n",
      "lambda = 45.0\n",
      "uTu = 0.0010545519202946137\n",
      "lambda = 47.5\n",
      "uTu = 0.0010036820466738773\n",
      "lambda = 48.75\n",
      "uTu = 0.0009799267152303152\n",
      "lambda = 48.125\n",
      "uTu = 0.0009916723447441992\n",
      "lambda = 47.8125\n",
      "uTu = 0.0009976436230992253\n",
      "lambda = 47.65625\n",
      "uTu = 0.0010006543698469722\n"
     ]
    },
    {
     "name": "stderr",
     "output_type": "stream",
     "text": [
      "\r",
      " 62%|██████▏   | 117/190 [28:27<18:21, 15.08s/it]"
     ]
    },
    {
     "name": "stdout",
     "output_type": "stream",
     "text": [
      "Initial lambda is 10\n",
      "With corresponding starting state cost 0.0028118152511369767\n",
      "Increasing lmbda high - now lmbda = 20\n",
      "0.0016132880872902853\n",
      "Increasing lmbda high - now lmbda = 40\n",
      "0.0008942830842365808\n",
      "lambda = 20.0\n",
      "uTu = 0.0016132880872902853\n",
      "lambda = 30.0\n",
      "uTu = 0.0011485691261351122\n",
      "lambda = 35.0\n",
      "uTu = 0.001005486727963765\n",
      "lambda = 37.5\n",
      "uTu = 0.000946626450793192\n",
      "lambda = 36.25\n",
      "uTu = 0.0009751657398314692\n",
      "lambda = 35.625\n",
      "uTu = 0.0009900929078953957\n",
      "lambda = 35.3125\n",
      "uTu = 0.0009977300834899498\n",
      "lambda = 35.15625\n",
      "uTu = 0.0010015932916849924\n",
      "lambda = 35.234375\n",
      "uTu = 0.0009996579318632506\n"
     ]
    },
    {
     "name": "stderr",
     "output_type": "stream",
     "text": [
      "\r",
      " 62%|██████▏   | 118/190 [28:43<18:16, 15.24s/it]"
     ]
    },
    {
     "name": "stdout",
     "output_type": "stream",
     "text": [
      "Initial lambda is 10\n",
      "With corresponding starting state cost 0.0020156961496794923\n",
      "Increasing lmbda high - now lmbda = 20\n",
      "0.0011525885302316658\n",
      "Increasing lmbda high - now lmbda = 40\n",
      "0.0006131449296694774\n",
      "lambda = 20.0\n",
      "uTu = 0.0011525885302316658\n",
      "lambda = 30.0\n",
      "uTu = 0.0008040683677111428\n",
      "lambda = 25.0\n",
      "uTu = 0.0009483899186293427\n",
      "lambda = 22.5\n",
      "uTu = 0.0010408538492786771\n",
      "lambda = 23.75\n",
      "uTu = 0.0009925446842385477\n",
      "lambda = 23.125\n",
      "uTu = 0.0010161434905630964\n",
      "lambda = 23.4375\n",
      "uTu = 0.001004209972664756\n",
      "lambda = 23.59375\n",
      "uTu = 0.0009983443785515466\n",
      "lambda = 23.515625\n",
      "uTu = 0.0010012688668523818\n",
      "lambda = 23.5546875\n",
      "uTu = 0.000999804554488701\n"
     ]
    },
    {
     "name": "stderr",
     "output_type": "stream",
     "text": [
      "\r",
      " 63%|██████▎   | 119/190 [29:02<19:11, 16.22s/it]"
     ]
    },
    {
     "name": "stdout",
     "output_type": "stream",
     "text": [
      "Initial lambda is 10\n",
      "With corresponding starting state cost 0.0029107458233007073\n",
      "Increasing lmbda high - now lmbda = 20\n",
      "0.0018378924258028641\n",
      "Increasing lmbda high - now lmbda = 40\n",
      "0.0010732977849321056\n",
      "Increasing lmbda high - now lmbda = 80\n",
      "0.0005658891444128434\n",
      "lambda = 40.0\n",
      "uTu = 0.0010732977849321056\n",
      "lambda = 60.0\n",
      "uTu = 0.0007479981434495373\n",
      "lambda = 50.0\n",
      "uTu = 0.0008838937332728042\n",
      "lambda = 45.0\n",
      "uTu = 0.0009700823453948108\n",
      "lambda = 42.5\n",
      "uTu = 0.0010192548502777835\n",
      "lambda = 43.75\n",
      "uTu = 0.0009941028036452564\n",
      "lambda = 43.125\n",
      "uTu = 0.0010065323334913653\n",
      "lambda = 43.4375\n",
      "uTu = 0.0010002815950820602\n"
     ]
    },
    {
     "name": "stderr",
     "output_type": "stream",
     "text": [
      "\r",
      " 63%|██████▎   | 120/190 [29:16<18:20, 15.73s/it]"
     ]
    },
    {
     "name": "stdout",
     "output_type": "stream",
     "text": [
      "Initial lambda is 10\n",
      "With corresponding starting state cost 0.0030772053725332967\n",
      "Increasing lmbda high - now lmbda = 20\n",
      "0.0018260586602536627\n",
      "Increasing lmbda high - now lmbda = 40\n",
      "0.0010408622635029044\n",
      "Increasing lmbda high - now lmbda = 80\n",
      "0.0005605577172978018\n",
      "lambda = 40.0\n",
      "uTu = 0.0010408622635029044\n",
      "lambda = 60.0\n",
      "uTu = 0.0007306269619338758\n",
      "lambda = 50.0\n",
      "uTu = 0.0008589183782925304\n",
      "lambda = 45.0\n",
      "uTu = 0.0009412042262834886\n",
      "lambda = 42.5\n",
      "uTu = 0.000988521925411365\n",
      "lambda = 41.25\n",
      "uTu = 0.0010140135970471932\n",
      "lambda = 41.875\n",
      "uTu = 0.0010011049018976332\n",
      "lambda = 42.1875\n",
      "uTu = 0.0009947735043457817\n",
      "lambda = 42.03125\n",
      "uTu = 0.000997929126813864\n",
      "lambda = 41.953125\n",
      "uTu = 0.0009995144827589278\n"
     ]
    },
    {
     "name": "stderr",
     "output_type": "stream",
     "text": [
      "\r",
      " 64%|██████▎   | 121/190 [29:33<18:26, 16.03s/it]"
     ]
    },
    {
     "name": "stdout",
     "output_type": "stream",
     "text": [
      "Initial lambda is 10\n",
      "With corresponding starting state cost 0.002394408171271816\n",
      "Increasing lmbda high - now lmbda = 20\n",
      "0.0016377518074404927\n",
      "Increasing lmbda high - now lmbda = 40\n",
      "0.001042478292199145\n",
      "Increasing lmbda high - now lmbda = 80\n",
      "0.0006002689628472446\n",
      "lambda = 40.0\n",
      "uTu = 0.001042478292199145\n",
      "lambda = 60.0\n",
      "uTu = 0.0007650668101360726\n",
      "lambda = 50.0\n",
      "uTu = 0.0008832696244557462\n",
      "lambda = 45.0\n",
      "uTu = 0.0009564543906422789\n",
      "lambda = 42.5\n",
      "uTu = 0.000997646879916357\n",
      "lambda = 41.25\n",
      "uTu = 0.001019576347134474\n",
      "lambda = 41.875\n",
      "uTu = 0.0010084942120051428\n",
      "lambda = 42.1875\n",
      "uTu = 0.0010030416934894866\n",
      "lambda = 42.34375\n",
      "uTu = 0.0010003371345214268\n"
     ]
    },
    {
     "name": "stderr",
     "output_type": "stream",
     "text": [
      "\r",
      " 64%|██████▍   | 122/190 [29:48<17:55, 15.82s/it]"
     ]
    },
    {
     "name": "stdout",
     "output_type": "stream",
     "text": [
      "Initial lambda is 10\n",
      "With corresponding starting state cost 0.002488638962057645\n",
      "Increasing lmbda high - now lmbda = 20\n",
      "0.0013568304559357705\n",
      "Increasing lmbda high - now lmbda = 40\n",
      "0.0007041043554676164\n",
      "lambda = 20.0\n",
      "uTu = 0.0013568304559357705\n",
      "lambda = 30.0\n",
      "uTu = 0.0009304034693606681\n",
      "lambda = 25.0\n",
      "uTu = 0.0011048249261295718\n",
      "lambda = 27.5\n",
      "uTu = 0.0010103702351191542\n",
      "lambda = 28.75\n",
      "uTu = 0.0009687948644098988\n",
      "lambda = 28.125\n",
      "uTu = 0.0009891600241874253\n",
      "lambda = 27.8125\n",
      "uTu = 0.0009996562068566109\n"
     ]
    },
    {
     "name": "stderr",
     "output_type": "stream",
     "text": [
      "\r",
      " 65%|██████▍   | 123/190 [30:01<16:46, 15.02s/it]"
     ]
    },
    {
     "name": "stdout",
     "output_type": "stream",
     "text": [
      "Initial lambda is 10\n",
      "With corresponding starting state cost 0.0021108519126193854\n",
      "Increasing lmbda high - now lmbda = 20\n",
      "0.0012099736322095267\n",
      "Increasing lmbda high - now lmbda = 40\n",
      "0.0006606958189965169\n",
      "lambda = 20.0\n",
      "uTu = 0.0012099736322095267\n",
      "lambda = 30.0\n",
      "uTu = 0.0008550294497466301\n",
      "lambda = 25.0\n",
      "uTu = 0.0010017227143876968\n",
      "lambda = 27.5\n",
      "uTu = 0.0009225769925271592\n",
      "lambda = 26.25\n",
      "uTu = 0.000960514946205701\n",
      "lambda = 25.625\n",
      "uTu = 0.0009806833538420657\n",
      "lambda = 25.3125\n",
      "uTu = 0.0009910905570885168\n",
      "lambda = 25.15625\n",
      "uTu = 0.0009963780475508587\n",
      "lambda = 25.078125\n",
      "uTu = 0.000999043174136094\n"
     ]
    },
    {
     "name": "stderr",
     "output_type": "stream",
     "text": [
      "\r",
      " 65%|██████▌   | 124/190 [30:17<16:48, 15.28s/it]"
     ]
    },
    {
     "name": "stdout",
     "output_type": "stream",
     "text": [
      "Initial lambda is 10\n",
      "With corresponding starting state cost 0.001963497810069059\n",
      "Increasing lmbda high - now lmbda = 20\n",
      "0.0013264267892401144\n",
      "Increasing lmbda high - now lmbda = 40\n",
      "0.0008587231328108702\n",
      "lambda = 20.0\n",
      "uTu = 0.0013264267892401144\n",
      "lambda = 30.0\n",
      "uTu = 0.0010350001723065775\n",
      "lambda = 35.0\n",
      "uTu = 0.000937611805835237\n",
      "lambda = 32.5\n",
      "uTu = 0.0009835644464580996\n",
      "lambda = 31.25\n",
      "uTu = 0.0010085305462004198\n",
      "lambda = 31.875\n",
      "uTu = 0.000995868549205527\n",
      "lambda = 31.5625\n",
      "uTu = 0.0010021537344283567\n",
      "lambda = 31.71875\n",
      "uTu = 0.0009989998258992231\n",
      "lambda = 31.640625\n",
      "uTu = 0.0010005739341909594\n"
     ]
    },
    {
     "name": "stderr",
     "output_type": "stream",
     "text": [
      "\r",
      " 66%|██████▌   | 125/190 [30:32<16:27, 15.20s/it]"
     ]
    },
    {
     "name": "stdout",
     "output_type": "stream",
     "text": [
      "Initial lambda is 10\n",
      "With corresponding starting state cost 0.001687653351435853\n",
      "Increasing lmbda high - now lmbda = 20\n",
      "0.0009501940402309877\n",
      "lambda = 10.0\n",
      "uTu = 0.001687653351435853\n",
      "lambda = 15.0\n",
      "uTu = 0.0012054416977140853\n",
      "lambda = 17.5\n",
      "uTu = 0.0010610738493452617\n",
      "lambda = 18.75\n",
      "uTu = 0.0010022448753416449\n",
      "lambda = 19.375\n",
      "uTu = 0.0009754500942943455\n",
      "lambda = 19.0625\n",
      "uTu = 0.0009886461747573736\n",
      "lambda = 18.90625\n",
      "uTu = 0.0009953940139686144\n",
      "lambda = 18.828125\n",
      "uTu = 0.0009988064148027218\n",
      "lambda = 18.7890625\n",
      "uTu = 0.0010005223683324745\n"
     ]
    },
    {
     "name": "stderr",
     "output_type": "stream",
     "text": [
      "\r",
      " 66%|██████▋   | 126/190 [30:48<16:16, 15.26s/it]"
     ]
    },
    {
     "name": "stdout",
     "output_type": "stream",
     "text": [
      "Initial lambda is 10\n",
      "With corresponding starting state cost 0.0012111828006003615\n",
      "Increasing lmbda high - now lmbda = 20\n",
      "0.0008387825195779278\n",
      "lambda = 10.0\n",
      "uTu = 0.0012111828006003615\n",
      "lambda = 15.0\n",
      "uTu = 0.000981451449853376\n",
      "lambda = 12.5\n",
      "uTu = 0.0010802725411603606\n",
      "lambda = 13.75\n",
      "uTu = 0.0010277522397079191\n",
      "lambda = 14.375\n",
      "uTu = 0.0010039066315942265\n",
      "lambda = 14.6875\n",
      "uTu = 0.0009925141732356558\n",
      "lambda = 14.53125\n",
      "uTu = 0.0009981681208382626\n",
      "lambda = 14.453125\n",
      "uTu = 0.0010010266683628192\n",
      "lambda = 14.4921875\n",
      "uTu = 0.0009995947350209336\n"
     ]
    },
    {
     "name": "stderr",
     "output_type": "stream",
     "text": [
      "\r",
      " 67%|██████▋   | 127/190 [31:14<19:23, 18.48s/it]"
     ]
    },
    {
     "name": "stdout",
     "output_type": "stream",
     "text": [
      "Initial lambda is 10\n",
      "With corresponding starting state cost 0.0026441334877221516\n",
      "Increasing lmbda high - now lmbda = 20\n",
      "0.0017135870647844327\n",
      "Increasing lmbda high - now lmbda = 40\n",
      "0.001073068312068244\n",
      "Increasing lmbda high - now lmbda = 80\n",
      "0.0006267126826845412\n",
      "lambda = 40.0\n",
      "uTu = 0.001073068312068244\n",
      "lambda = 60.0\n",
      "uTu = 0.0007919619971147378\n",
      "lambda = 50.0\n",
      "uTu = 0.0009109854353380722\n",
      "lambda = 45.0\n",
      "uTu = 0.0009851778413108082\n",
      "lambda = 42.5\n",
      "uTu = 0.0010271621202361334\n",
      "lambda = 43.75\n",
      "uTu = 0.0010057147284686903\n",
      "lambda = 44.375\n",
      "uTu = 0.0009953364645202793\n",
      "lambda = 44.0625\n",
      "uTu = 0.0010004976578755057\n"
     ]
    },
    {
     "name": "stderr",
     "output_type": "stream",
     "text": [
      "\r",
      " 67%|██████▋   | 128/190 [31:33<19:16, 18.65s/it]"
     ]
    },
    {
     "name": "stdout",
     "output_type": "stream",
     "text": [
      "Initial lambda is 10\n",
      "With corresponding starting state cost 0.001699821072526692\n",
      "Increasing lmbda high - now lmbda = 20\n",
      "0.0009600301792485839\n",
      "lambda = 10.0\n",
      "uTu = 0.001699821072526692\n",
      "lambda = 15.0\n",
      "uTu = 0.0012178578256966525\n",
      "lambda = 17.5\n",
      "uTu = 0.0010722514976258043\n",
      "lambda = 18.75\n",
      "uTu = 0.0010127512147650624\n",
      "lambda = 19.375\n",
      "uTu = 0.0009856201490317316\n",
      "lambda = 19.0625\n",
      "uTu = 0.0009989841861644015\n",
      "lambda = 18.90625\n",
      "uTu = 0.0010058161583646587\n",
      "lambda = 18.984375\n",
      "uTu = 0.0010023874356149258\n",
      "lambda = 19.0234375\n",
      "uTu = 0.0010006826450824828\n"
     ]
    },
    {
     "name": "stderr",
     "output_type": "stream",
     "text": [
      "\r",
      " 68%|██████▊   | 129/190 [31:50<18:32, 18.24s/it]"
     ]
    },
    {
     "name": "stdout",
     "output_type": "stream",
     "text": [
      "Initial lambda is 10\n",
      "With corresponding starting state cost 0.001223786495360557\n",
      "Increasing lmbda high - now lmbda = 20\n",
      "0.0007416172908067271\n",
      "lambda = 10.0\n",
      "uTu = 0.001223786495360557\n",
      "lambda = 15.0\n",
      "uTu = 0.000915877452546283\n",
      "lambda = 12.5\n",
      "uTu = 0.0010444348987788228\n",
      "lambda = 13.75\n",
      "uTu = 0.000975341026865538\n",
      "lambda = 13.125\n",
      "uTu = 0.001008533907868318\n",
      "lambda = 13.4375\n",
      "uTu = 0.0009916197154966604\n",
      "lambda = 13.28125\n",
      "uTu = 0.000999994916904227\n"
     ]
    },
    {
     "name": "stderr",
     "output_type": "stream",
     "text": [
      "\r",
      " 68%|██████▊   | 130/190 [32:04<17:05, 17.10s/it]"
     ]
    },
    {
     "name": "stdout",
     "output_type": "stream",
     "text": [
      "Initial lambda is 10\n",
      "With corresponding starting state cost 0.002190035714903365\n",
      "Increasing lmbda high - now lmbda = 20\n",
      "0.0014621029287006251\n",
      "Increasing lmbda high - now lmbda = 40\n",
      "0.0009144737055706998\n",
      "lambda = 20.0\n",
      "uTu = 0.0014621029287006251\n",
      "lambda = 30.0\n",
      "uTu = 0.0011223852827747314\n",
      "lambda = 35.0\n",
      "uTu = 0.0010076653381855\n",
      "lambda = 37.5\n",
      "uTu = 0.0009588049368335983\n",
      "lambda = 36.25\n",
      "uTu = 0.0009826233810461557\n",
      "lambda = 35.625\n",
      "uTu = 0.0009949851388221251\n",
      "lambda = 35.3125\n",
      "uTu = 0.001001284607633378\n",
      "lambda = 35.46875\n",
      "uTu = 0.0009981248206158136\n",
      "lambda = 35.390625\n",
      "uTu = 0.0009997021879544433\n"
     ]
    },
    {
     "name": "stderr",
     "output_type": "stream",
     "text": [
      "\r",
      " 69%|██████▉   | 131/190 [32:26<18:00, 18.32s/it]"
     ]
    },
    {
     "name": "stdout",
     "output_type": "stream",
     "text": [
      "Initial lambda is 10\n",
      "With corresponding starting state cost 0.0019618082787079888\n",
      "Increasing lmbda high - now lmbda = 20\n",
      "0.0011906024251768896\n",
      "Increasing lmbda high - now lmbda = 40\n",
      "0.0007037005231044922\n",
      "lambda = 20.0\n",
      "uTu = 0.0011906024251768896\n",
      "lambda = 30.0\n",
      "uTu = 0.0008793452997016191\n",
      "lambda = 25.0\n",
      "uTu = 0.0010091280872398807\n",
      "lambda = 27.5\n",
      "uTu = 0.0009393512863577804\n",
      "lambda = 26.25\n",
      "uTu = 0.0009728646075075271\n",
      "lambda = 25.625\n",
      "uTu = 0.0009906303581702636\n",
      "lambda = 25.3125\n",
      "uTu = 0.0009997847276558116\n"
     ]
    },
    {
     "name": "stderr",
     "output_type": "stream",
     "text": [
      "\r",
      " 69%|██████▉   | 132/190 [32:45<18:00, 18.63s/it]"
     ]
    },
    {
     "name": "stdout",
     "output_type": "stream",
     "text": [
      "Initial lambda is 10\n",
      "With corresponding starting state cost 0.002440582372373759\n",
      "Increasing lmbda high - now lmbda = 20\n",
      "0.0016673730355195484\n",
      "Increasing lmbda high - now lmbda = 40\n",
      "0.001067264377925342\n",
      "Increasing lmbda high - now lmbda = 80\n",
      "0.0006201232602664399\n",
      "lambda = 40.0\n",
      "uTu = 0.001067264377925342\n",
      "lambda = 60.0\n",
      "uTu = 0.0007874345229623325\n",
      "lambda = 50.0\n",
      "uTu = 0.0009068588918737792\n",
      "lambda = 45.0\n",
      "uTu = 0.0009806392239395626\n",
      "lambda = 42.5\n",
      "uTu = 0.0010221298789707992\n",
      "lambda = 43.75\n",
      "uTu = 0.001000959275084936\n"
     ]
    },
    {
     "name": "stderr",
     "output_type": "stream",
     "text": [
      "\r",
      " 70%|███████   | 133/190 [33:02<17:08, 18.04s/it]"
     ]
    },
    {
     "name": "stdout",
     "output_type": "stream",
     "text": [
      "Initial lambda is 10\n",
      "With corresponding starting state cost 0.002793718192535916\n",
      "Increasing lmbda high - now lmbda = 20\n",
      "0.0017381838088214394\n",
      "Increasing lmbda high - now lmbda = 40\n",
      "0.0010324225690873812\n",
      "Increasing lmbda high - now lmbda = 80\n",
      "0.0005763653070843045\n",
      "lambda = 40.0\n",
      "uTu = 0.0010324225690873812\n",
      "lambda = 60.0\n",
      "uTu = 0.0007405386866810123\n",
      "lambda = 50.0\n",
      "uTu = 0.0008623261171670553\n",
      "lambda = 45.0\n",
      "uTu = 0.0009396145916770485\n",
      "lambda = 42.5\n",
      "uTu = 0.0009837855380861113\n",
      "lambda = 41.25\n",
      "uTu = 0.001007502289539192\n",
      "lambda = 41.875\n",
      "uTu = 0.0009954992710739451\n",
      "lambda = 41.5625\n",
      "uTu = 0.0010014639190486234\n",
      "lambda = 41.71875\n",
      "uTu = 0.0009984724687750093\n",
      "lambda = 41.640625\n",
      "uTu = 0.0009999659013044653\n"
     ]
    },
    {
     "name": "stderr",
     "output_type": "stream",
     "text": [
      "\r",
      " 71%|███████   | 134/190 [33:27<18:52, 20.22s/it]"
     ]
    },
    {
     "name": "stdout",
     "output_type": "stream",
     "text": [
      "Initial lambda is 10\n",
      "With corresponding starting state cost 0.0018709856955172626\n",
      "Increasing lmbda high - now lmbda = 20\n",
      "0.0011383171943956986\n",
      "Increasing lmbda high - now lmbda = 40\n",
      "0.0006417263987613971\n",
      "lambda = 20.0\n",
      "uTu = 0.0011383171943956986\n",
      "lambda = 30.0\n",
      "uTu = 0.0008226972226696304\n",
      "lambda = 25.0\n",
      "uTu = 0.0009553911808489874\n",
      "lambda = 22.5\n",
      "uTu = 0.0010388578198869214\n",
      "lambda = 23.75\n",
      "uTu = 0.00099538893577025\n",
      "lambda = 23.125\n",
      "uTu = 0.0010166604088722518\n",
      "lambda = 23.4375\n",
      "uTu = 0.0010059127744700602\n",
      "lambda = 23.59375\n",
      "uTu = 0.0010006233418820621\n"
     ]
    },
    {
     "name": "stderr",
     "output_type": "stream",
     "text": [
      "\r",
      " 71%|███████   | 135/190 [33:42<17:00, 18.55s/it]"
     ]
    },
    {
     "name": "stdout",
     "output_type": "stream",
     "text": [
      "Initial lambda is 10\n",
      "With corresponding starting state cost 0.00232602973814376\n",
      "Increasing lmbda high - now lmbda = 20\n",
      "0.0014382661295669849\n",
      "Increasing lmbda high - now lmbda = 40\n",
      "0.0008900129069784908\n",
      "lambda = 20.0\n",
      "uTu = 0.0014382661295669849\n",
      "lambda = 30.0\n",
      "uTu = 0.0010885840278989202\n",
      "lambda = 35.0\n",
      "uTu = 0.000977848794331265\n",
      "lambda = 32.5\n",
      "uTu = 0.0010297638970117613\n",
      "lambda = 33.75\n",
      "uTu = 0.001003029842220707\n",
      "lambda = 34.375\n",
      "uTu = 0.000990254717639441\n",
      "lambda = 34.0625\n",
      "uTu = 0.000996594990593601\n",
      "lambda = 33.90625\n",
      "uTu = 0.0009998004473516112\n"
     ]
    },
    {
     "name": "stderr",
     "output_type": "stream",
     "text": [
      "\r",
      " 72%|███████▏  | 136/190 [33:58<16:00, 17.78s/it]"
     ]
    },
    {
     "name": "stdout",
     "output_type": "stream",
     "text": [
      "Initial lambda is 10\n",
      "With corresponding starting state cost 0.0016018975848934663\n",
      "Increasing lmbda high - now lmbda = 20\n",
      "0.0009926392838826075\n",
      "lambda = 10.0\n",
      "uTu = 0.0016018975848934663\n",
      "lambda = 15.0\n",
      "uTu = 0.0012151718598271755\n",
      "lambda = 17.5\n",
      "uTu = 0.001091074200963008\n",
      "lambda = 18.75\n",
      "uTu = 0.00103920380866162\n",
      "lambda = 19.375\n",
      "uTu = 0.0010153136459563632\n",
      "lambda = 19.6875\n",
      "uTu = 0.001003830720936256\n",
      "lambda = 19.84375\n",
      "uTu = 0.0009981993070740667\n",
      "lambda = 19.765625\n",
      "uTu = 0.0010010059992154397\n",
      "lambda = 19.8046875\n",
      "uTu = 0.0009996004109164695\n"
     ]
    },
    {
     "name": "stderr",
     "output_type": "stream",
     "text": [
      "\r",
      " 72%|███████▏  | 137/190 [34:16<15:50, 17.94s/it]"
     ]
    },
    {
     "name": "stdout",
     "output_type": "stream",
     "text": [
      "Initial lambda is 10\n",
      "With corresponding starting state cost 0.0022034709714096046\n",
      "Increasing lmbda high - now lmbda = 20\n",
      "0.0013498679011927108\n",
      "Increasing lmbda high - now lmbda = 40\n",
      "0.0008056599611929456\n",
      "lambda = 20.0\n",
      "uTu = 0.0013498679011927108\n",
      "lambda = 30.0\n",
      "uTu = 0.0010021672591123696\n",
      "lambda = 35.0\n",
      "uTu = 0.0008923055588846276\n",
      "lambda = 32.5\n",
      "uTu = 0.0009437453955174679\n",
      "lambda = 31.25\n",
      "uTu = 0.0009719912002292686\n",
      "lambda = 30.625\n",
      "uTu = 0.000986824897215797\n",
      "lambda = 30.3125\n",
      "uTu = 0.0009944307562314131\n",
      "lambda = 30.15625\n",
      "uTu = 0.0009982824526337847\n",
      "lambda = 30.078125\n",
      "uTu = 0.0010002206885777313\n"
     ]
    },
    {
     "name": "stderr",
     "output_type": "stream",
     "text": [
      "\r",
      " 73%|███████▎  | 138/190 [34:34<15:30, 17.89s/it]"
     ]
    },
    {
     "name": "stdout",
     "output_type": "stream",
     "text": [
      "Initial lambda is 10\n",
      "With corresponding starting state cost 0.0017958062673503212\n",
      "Increasing lmbda high - now lmbda = 20\n",
      "0.0011714683581171906\n",
      "Increasing lmbda high - now lmbda = 40\n",
      "0.0007498528596821242\n",
      "lambda = 20.0\n",
      "uTu = 0.0011714683581171906\n",
      "lambda = 30.0\n",
      "uTu = 0.0009063525502162248\n",
      "lambda = 25.0\n",
      "uTu = 0.001018435211728037\n",
      "lambda = 27.5\n",
      "uTu = 0.0009584938225027322\n",
      "lambda = 26.25\n",
      "uTu = 0.0009873703699734284\n",
      "lambda = 25.625\n",
      "uTu = 0.0010026120575255093\n",
      "lambda = 25.9375\n",
      "uTu = 0.0009949207980048977\n",
      "lambda = 25.78125\n",
      "uTu = 0.0009987485482192784\n",
      "lambda = 25.703125\n",
      "uTu = 0.001000675797866488\n"
     ]
    },
    {
     "name": "stderr",
     "output_type": "stream",
     "text": [
      "\r",
      " 73%|███████▎  | 139/190 [34:50<14:56, 17.57s/it]"
     ]
    },
    {
     "name": "stdout",
     "output_type": "stream",
     "text": [
      "Initial lambda is 10\n",
      "With corresponding starting state cost 0.0011217875132493575\n",
      "Increasing lmbda high - now lmbda = 20\n",
      "0.000696121788513247\n",
      "lambda = 10.0\n",
      "uTu = 0.0011217875132493575\n",
      "lambda = 15.0\n",
      "uTu = 0.0008506907061744778\n",
      "lambda = 12.5\n",
      "uTu = 0.0009640393581224031\n",
      "lambda = 11.25\n",
      "uTu = 0.0010357348234963073\n",
      "lambda = 11.875\n",
      "uTu = 0.0009983454101330205\n",
      "lambda = 11.5625\n",
      "uTu = 0.0010166270235834388\n",
      "lambda = 11.71875\n",
      "uTu = 0.0010073866153778206\n",
      "lambda = 11.796875\n",
      "uTu = 0.0010028415517094784\n",
      "lambda = 11.8359375\n",
      "uTu = 0.0010005874194041358\n"
     ]
    },
    {
     "name": "stderr",
     "output_type": "stream",
     "text": [
      "\r",
      " 74%|███████▎  | 140/190 [35:07<14:28, 17.36s/it]"
     ]
    },
    {
     "name": "stdout",
     "output_type": "stream",
     "text": [
      "Initial lambda is 10\n",
      "With corresponding starting state cost 0.0017554790390155394\n",
      "Increasing lmbda high - now lmbda = 20\n",
      "0.0010612329375906996\n",
      "Increasing lmbda high - now lmbda = 40\n",
      "0.0006200995521160898\n",
      "lambda = 20.0\n",
      "uTu = 0.0010612329375906996\n",
      "lambda = 30.0\n",
      "uTu = 0.000779908655002762\n",
      "lambda = 25.0\n",
      "uTu = 0.0008974255247832024\n",
      "lambda = 22.5\n",
      "uTu = 0.000971842190351468\n",
      "lambda = 21.25\n",
      "uTu = 0.0010143725615594967\n",
      "lambda = 21.875\n",
      "uTu = 0.000992607645195412\n",
      "lambda = 21.5625\n",
      "uTu = 0.001003360330664558\n",
      "lambda = 21.71875\n",
      "uTu = 0.0009979521699843349\n",
      "lambda = 21.640625\n",
      "uTu = 0.00100064821899592\n"
     ]
    },
    {
     "name": "stderr",
     "output_type": "stream",
     "text": [
      "\r",
      " 74%|███████▍  | 141/190 [35:26<14:32, 17.81s/it]"
     ]
    },
    {
     "name": "stdout",
     "output_type": "stream",
     "text": [
      "Initial lambda is 10\n",
      "With corresponding starting state cost 0.0019293866767311186\n",
      "Increasing lmbda high - now lmbda = 20\n",
      "0.001144499114821932\n",
      "Increasing lmbda high - now lmbda = 40\n",
      "0.0006949149438937005\n",
      "lambda = 20.0\n",
      "uTu = 0.001144499114821932\n",
      "lambda = 30.0\n",
      "uTu = 0.0008528726169435128\n",
      "lambda = 25.0\n",
      "uTu = 0.0009724554429120551\n",
      "lambda = 22.5\n",
      "uTu = 0.0010498437853655859\n",
      "lambda = 23.75\n",
      "uTu = 0.0010093161835452338\n",
      "lambda = 24.375\n",
      "uTu = 0.000990461078756009\n",
      "lambda = 24.0625\n",
      "uTu = 0.000999778506384859\n"
     ]
    },
    {
     "name": "stderr",
     "output_type": "stream",
     "text": [
      "\r",
      " 75%|███████▍  | 142/190 [35:43<13:56, 17.44s/it]"
     ]
    },
    {
     "name": "stdout",
     "output_type": "stream",
     "text": [
      "Initial lambda is 10\n",
      "With corresponding starting state cost 0.0018208626333880988\n",
      "Increasing lmbda high - now lmbda = 20\n",
      "0.0012540351357156671\n",
      "Increasing lmbda high - now lmbda = 40\n",
      "0.0008297889591072789\n",
      "lambda = 20.0\n",
      "uTu = 0.0012540351357156671\n",
      "lambda = 30.0\n",
      "uTu = 0.0009930420840258442\n",
      "lambda = 25.0\n",
      "uTu = 0.0011054856392802332\n",
      "lambda = 27.5\n",
      "uTu = 0.001045776456389133\n",
      "lambda = 28.75\n",
      "uTu = 0.0010186302163503187\n",
      "lambda = 29.375\n",
      "uTu = 0.001005651437064584\n",
      "lambda = 29.6875\n",
      "uTu = 0.0009993017560294172\n"
     ]
    },
    {
     "name": "stderr",
     "output_type": "stream",
     "text": [
      "\r",
      " 75%|███████▌  | 143/190 [35:57<12:58, 16.57s/it]"
     ]
    },
    {
     "name": "stdout",
     "output_type": "stream",
     "text": [
      "Initial lambda is 10\n",
      "With corresponding starting state cost 0.0017160579677027075\n",
      "Increasing lmbda high - now lmbda = 20\n",
      "0.0009220697828143592\n",
      "lambda = 10.0\n",
      "uTu = 0.0017160579677027075\n",
      "lambda = 15.0\n",
      "uTu = 0.0011954708257908256\n",
      "lambda = 17.5\n",
      "uTu = 0.001040446137907013\n",
      "lambda = 18.75\n",
      "uTu = 0.0009775483670989957\n",
      "lambda = 18.125\n",
      "uTu = 0.0010079788017507661\n",
      "lambda = 18.4375\n",
      "uTu = 0.0009925212719050559\n",
      "lambda = 18.28125\n",
      "uTu = 0.0010001879837371087\n"
     ]
    },
    {
     "name": "stderr",
     "output_type": "stream",
     "text": [
      "\r",
      " 76%|███████▌  | 144/190 [36:10<11:47, 15.37s/it]"
     ]
    },
    {
     "name": "stdout",
     "output_type": "stream",
     "text": [
      "Initial lambda is 10\n",
      "With corresponding starting state cost 0.0013355065476941563\n",
      "Increasing lmbda high - now lmbda = 20\n",
      "0.0008248347244744983\n",
      "lambda = 10.0\n",
      "uTu = 0.0013355065476941563\n",
      "lambda = 15.0\n",
      "uTu = 0.0010071898386718211\n",
      "lambda = 17.5\n",
      "uTu = 0.0009050521966118849\n",
      "lambda = 16.25\n",
      "uTu = 0.0009528025858041897\n",
      "lambda = 15.625\n",
      "uTu = 0.0009790752296164019\n",
      "lambda = 15.3125\n",
      "uTu = 0.0009928893271003469\n",
      "lambda = 15.15625\n",
      "uTu = 0.0009999770505504794\n"
     ]
    },
    {
     "name": "stderr",
     "output_type": "stream",
     "text": [
      "\r",
      " 76%|███████▋  | 145/190 [36:25<11:23, 15.19s/it]"
     ]
    },
    {
     "name": "stdout",
     "output_type": "stream",
     "text": [
      "Initial lambda is 10\n",
      "With corresponding starting state cost 0.00185714011505968\n",
      "Increasing lmbda high - now lmbda = 20\n",
      "0.0010560758783024183\n",
      "Increasing lmbda high - now lmbda = 40\n",
      "0.0005945173421934008\n",
      "lambda = 20.0\n",
      "uTu = 0.0010560758783024183\n",
      "lambda = 30.0\n",
      "uTu = 0.0007570602774069531\n",
      "lambda = 25.0\n",
      "uTu = 0.0008799767148980317\n",
      "lambda = 22.5\n",
      "uTu = 0.0009592982188873625\n",
      "lambda = 21.25\n",
      "uTu = 0.0010051418301069708\n",
      "lambda = 21.875\n",
      "uTu = 0.0009816353933722875\n",
      "lambda = 21.5625\n",
      "uTu = 0.0009932364478563624\n",
      "lambda = 21.40625\n",
      "uTu = 0.0009991503101446685\n"
     ]
    },
    {
     "name": "stderr",
     "output_type": "stream",
     "text": [
      "\r",
      " 77%|███████▋  | 146/190 [36:41<11:29, 15.67s/it]"
     ]
    },
    {
     "name": "stdout",
     "output_type": "stream",
     "text": [
      "Initial lambda is 10\n",
      "With corresponding starting state cost 0.00203199546530541\n",
      "Increasing lmbda high - now lmbda = 20\n",
      "0.0012156564401051846\n",
      "Increasing lmbda high - now lmbda = 40\n",
      "0.000746039698010665\n",
      "lambda = 20.0\n",
      "uTu = 0.0012156564401051846\n",
      "lambda = 30.0\n",
      "uTu = 0.0009137032389733601\n",
      "lambda = 25.0\n",
      "uTu = 0.001038269071461687\n",
      "lambda = 27.5\n",
      "uTu = 0.0009711292963180601\n",
      "lambda = 26.25\n",
      "uTu = 0.0010033183959638817\n",
      "lambda = 26.875\n",
      "uTu = 0.0009869018758064912\n",
      "lambda = 26.5625\n",
      "uTu = 0.0009950269097011779\n",
      "lambda = 26.40625\n",
      "uTu = 0.0009991514905242594\n"
     ]
    },
    {
     "name": "stderr",
     "output_type": "stream",
     "text": [
      "\r",
      " 77%|███████▋  | 147/190 [36:57<11:12, 15.64s/it]"
     ]
    },
    {
     "name": "stdout",
     "output_type": "stream",
     "text": [
      "Initial lambda is 10\n",
      "With corresponding starting state cost 0.0017402570191630668\n",
      "Increasing lmbda high - now lmbda = 20\n",
      "0.0008111598411893854\n",
      "lambda = 10.0\n",
      "uTu = 0.0017402570191630668\n",
      "lambda = 15.0\n",
      "uTu = 0.0011141949088508307\n",
      "lambda = 17.5\n",
      "uTu = 0.0009399836458754313\n",
      "lambda = 16.25\n",
      "uTu = 0.0010200656014349202\n",
      "lambda = 16.875\n",
      "uTu = 0.0009784692823340576\n",
      "lambda = 16.5625\n",
      "uTu = 0.000998855937313984\n",
      "lambda = 16.40625\n",
      "uTu = 0.0010093548674533848\n",
      "lambda = 16.484375\n",
      "uTu = 0.0010040793142348206\n",
      "lambda = 16.5234375\n",
      "uTu = 0.001001461151339499\n",
      "lambda = 16.54296875\n",
      "uTu = 0.0010001569316183238\n"
     ]
    },
    {
     "name": "stderr",
     "output_type": "stream",
     "text": [
      "\r",
      " 78%|███████▊  | 148/190 [37:16<11:45, 16.79s/it]"
     ]
    },
    {
     "name": "stdout",
     "output_type": "stream",
     "text": [
      "Initial lambda is 10\n",
      "With corresponding starting state cost 0.0013378377305560717\n",
      "Increasing lmbda high - now lmbda = 20\n",
      "0.0008880234133306381\n",
      "lambda = 10.0\n",
      "uTu = 0.0013378377305560717\n",
      "lambda = 15.0\n",
      "uTu = 0.0010536307131415621\n",
      "lambda = 17.5\n",
      "uTu = 0.000961711690447853\n",
      "lambda = 16.25\n",
      "uTu = 0.001004934589085026\n",
      "lambda = 16.875\n",
      "uTu = 0.00098270598604917\n",
      "lambda = 16.5625\n",
      "uTu = 0.0009936583554046084\n",
      "lambda = 16.40625\n",
      "uTu = 0.0009992549749589295\n"
     ]
    },
    {
     "name": "stderr",
     "output_type": "stream",
     "text": [
      "\r",
      " 78%|███████▊  | 149/190 [37:31<10:57, 16.03s/it]"
     ]
    },
    {
     "name": "stdout",
     "output_type": "stream",
     "text": [
      "Initial lambda is 10\n",
      "With corresponding starting state cost 0.0017687998519356784\n",
      "Increasing lmbda high - now lmbda = 20\n",
      "0.001195266918507294\n",
      "Increasing lmbda high - now lmbda = 40\n",
      "0.0007993261979186851\n",
      "lambda = 20.0\n",
      "uTu = 0.001195266918507294\n",
      "lambda = 30.0\n",
      "uTu = 0.0009484099964423754\n",
      "lambda = 25.0\n",
      "uTu = 0.0010533803361098002\n",
      "lambda = 27.5\n",
      "uTu = 0.000997386921488411\n",
      "lambda = 26.25\n",
      "uTu = 0.0010243988259752898\n",
      "lambda = 26.875\n",
      "uTu = 0.0010106615849422137\n",
      "lambda = 27.1875\n",
      "uTu = 0.0010039681562384651\n",
      "lambda = 27.34375\n",
      "uTu = 0.0010006637223049098\n"
     ]
    },
    {
     "name": "stderr",
     "output_type": "stream",
     "text": [
      "\r",
      " 79%|███████▉  | 150/190 [37:48<10:56, 16.41s/it]"
     ]
    },
    {
     "name": "stdout",
     "output_type": "stream",
     "text": [
      "Initial lambda is 10\n",
      "With corresponding starting state cost 0.0015478543029652536\n",
      "Increasing lmbda high - now lmbda = 20\n",
      "0.0008060453255185387\n",
      "lambda = 10.0\n",
      "uTu = 0.0015478543029652536\n",
      "lambda = 15.0\n",
      "uTu = 0.0010560391136843637\n",
      "lambda = 17.5\n",
      "uTu = 0.0009135776663924144\n",
      "lambda = 16.25\n",
      "uTu = 0.000979450722501699\n",
      "lambda = 15.625\n",
      "uTu = 0.0010162474286503167\n",
      "lambda = 15.9375\n",
      "uTu = 0.0009974963681058404\n",
      "lambda = 15.78125\n",
      "uTu = 0.0010067811452733795\n",
      "lambda = 15.859375\n",
      "uTu = 0.001002116398245856\n",
      "lambda = 15.8984375\n",
      "uTu = 0.0009998008340963691\n"
     ]
    },
    {
     "name": "stderr",
     "output_type": "stream",
     "text": [
      "\r",
      " 79%|███████▉  | 151/190 [38:05<10:47, 16.59s/it]"
     ]
    },
    {
     "name": "stdout",
     "output_type": "stream",
     "text": [
      "Initial lambda is 10\n",
      "With corresponding starting state cost 0.0026349763086602166\n",
      "Increasing lmbda high - now lmbda = 20\n",
      "0.0017828977238479662\n",
      "Increasing lmbda high - now lmbda = 40\n",
      "0.0011765815810670566\n",
      "Increasing lmbda high - now lmbda = 80\n",
      "0.0007267364402970061\n",
      "lambda = 40.0\n",
      "uTu = 0.0011765815810670566\n",
      "lambda = 60.0\n",
      "uTu = 0.0008970016448820812\n",
      "lambda = 50.0\n",
      "uTu = 0.0010167558444632255\n",
      "lambda = 55.0\n",
      "uTu = 0.0009529754208742463\n",
      "lambda = 52.5\n",
      "uTu = 0.000983779964871988\n",
      "lambda = 51.25\n",
      "uTu = 0.000999980767171704\n"
     ]
    },
    {
     "name": "stderr",
     "output_type": "stream",
     "text": [
      "\r",
      " 80%|████████  | 152/190 [38:19<10:04, 15.90s/it]"
     ]
    },
    {
     "name": "stdout",
     "output_type": "stream",
     "text": [
      "Initial lambda is 10\n",
      "With corresponding starting state cost 0.0018957415447864126\n",
      "Increasing lmbda high - now lmbda = 20\n",
      "0.0012402875354214763\n",
      "Increasing lmbda high - now lmbda = 40\n",
      "0.0007848713773140031\n",
      "lambda = 20.0\n",
      "uTu = 0.0012402875354214763\n",
      "lambda = 30.0\n",
      "uTu = 0.0009550612074708987\n",
      "lambda = 25.0\n",
      "uTu = 0.0010761680508781248\n",
      "lambda = 27.5\n",
      "uTu = 0.0010114919119491028\n",
      "lambda = 28.75\n",
      "uTu = 0.0009823592553200517\n",
      "lambda = 28.125\n",
      "uTu = 0.0009966834972863746\n",
      "lambda = 27.8125\n",
      "uTu = 0.0010040254760977077\n",
      "lambda = 27.96875\n",
      "uTu = 0.0010003391482609396\n"
     ]
    },
    {
     "name": "stderr",
     "output_type": "stream",
     "text": [
      "\r",
      " 81%|████████  | 153/190 [38:33<09:28, 15.36s/it]"
     ]
    },
    {
     "name": "stdout",
     "output_type": "stream",
     "text": [
      "Initial lambda is 10\n",
      "With corresponding starting state cost 0.0018167567001677973\n",
      "Increasing lmbda high - now lmbda = 20\n",
      "0.0011402137571609264\n",
      "Increasing lmbda high - now lmbda = 40\n",
      "0.0006939948950852686\n",
      "lambda = 20.0\n",
      "uTu = 0.0011402137571609264\n",
      "lambda = 30.0\n",
      "uTu = 0.000858252245479706\n",
      "lambda = 25.0\n",
      "uTu = 0.0009769833312992461\n",
      "lambda = 22.5\n",
      "uTu = 0.0010514277458294162\n",
      "lambda = 23.75\n",
      "uTu = 0.001012662925175806\n",
      "lambda = 24.375\n",
      "uTu = 0.0009944634987669738\n",
      "lambda = 24.0625\n",
      "uTu = 0.001003470247621917\n",
      "lambda = 24.21875\n",
      "uTu = 0.0009989440256495008\n",
      "lambda = 24.140625\n",
      "uTu = 0.001001201376294647\n",
      "lambda = 24.1796875\n",
      "uTu = 0.0010000712669890098\n"
     ]
    },
    {
     "name": "stderr",
     "output_type": "stream",
     "text": [
      "\r",
      " 81%|████████  | 154/190 [38:53<10:02, 16.73s/it]"
     ]
    },
    {
     "name": "stdout",
     "output_type": "stream",
     "text": [
      "Initial lambda is 10\n",
      "With corresponding starting state cost 0.0019492485368585604\n",
      "Increasing lmbda high - now lmbda = 20\n",
      "0.0012274855896699346\n",
      "Increasing lmbda high - now lmbda = 40\n",
      "0.0007508864887091341\n",
      "lambda = 20.0\n",
      "uTu = 0.0012274855896699346\n",
      "lambda = 30.0\n",
      "uTu = 0.0009256512140494137\n",
      "lambda = 25.0\n",
      "uTu = 0.001052515103836683\n",
      "lambda = 27.5\n",
      "uTu = 0.0009845130142558999\n",
      "lambda = 26.25\n",
      "uTu = 0.001017230319013717\n",
      "lambda = 26.875\n",
      "uTu = 0.0010005702467449195\n"
     ]
    },
    {
     "name": "stderr",
     "output_type": "stream",
     "text": [
      "\r",
      " 82%|████████▏ | 155/190 [39:08<09:21, 16.05s/it]"
     ]
    },
    {
     "name": "stdout",
     "output_type": "stream",
     "text": [
      "Initial lambda is 10\n",
      "With corresponding starting state cost 0.0021563366617340495\n",
      "Increasing lmbda high - now lmbda = 20\n",
      "0.0011960104032699248\n",
      "Increasing lmbda high - now lmbda = 40\n",
      "0.000647365999036532\n",
      "lambda = 20.0\n",
      "uTu = 0.0011960104032699248\n",
      "lambda = 30.0\n",
      "uTu = 0.0008388838215583915\n",
      "lambda = 25.0\n",
      "uTu = 0.0009852060064562882\n",
      "lambda = 22.5\n",
      "uTu = 0.0010800412563780385\n",
      "lambda = 23.75\n",
      "uTu = 0.001030374080608602\n",
      "lambda = 24.375\n",
      "uTu = 0.0010072682383342347\n",
      "lambda = 24.6875\n",
      "uTu = 0.0009961113134627463\n",
      "lambda = 24.53125\n",
      "uTu = 0.0010016577610456171\n",
      "lambda = 24.609375\n",
      "uTu = 0.0009988766049358617\n",
      "lambda = 24.5703125\n",
      "uTu = 0.001000265191054642\n"
     ]
    },
    {
     "name": "stderr",
     "output_type": "stream",
     "text": [
      "\r",
      " 82%|████████▏ | 156/190 [39:28<09:43, 17.17s/it]"
     ]
    },
    {
     "name": "stdout",
     "output_type": "stream",
     "text": [
      "Initial lambda is 10\n",
      "With corresponding starting state cost 0.0014369943688407039\n",
      "Increasing lmbda high - now lmbda = 20\n",
      "0.0008477154927929037\n",
      "lambda = 10.0\n",
      "uTu = 0.0014369943688407039\n",
      "lambda = 15.0\n",
      "uTu = 0.001059172745663099\n",
      "lambda = 17.5\n",
      "uTu = 0.00094069548432789\n",
      "lambda = 16.25\n",
      "uTu = 0.0009960970971563783\n",
      "lambda = 15.625\n",
      "uTu = 0.0010265737496764071\n",
      "lambda = 15.9375\n",
      "uTu = 0.0010110840122898289\n",
      "lambda = 16.09375\n",
      "uTu = 0.0010035293290912818\n",
      "lambda = 16.171875\n",
      "uTu = 0.0009997981038115207\n"
     ]
    },
    {
     "name": "stderr",
     "output_type": "stream",
     "text": [
      "\r",
      " 83%|████████▎ | 157/190 [39:44<09:21, 17.02s/it]"
     ]
    },
    {
     "name": "stdout",
     "output_type": "stream",
     "text": [
      "Initial lambda is 10\n",
      "With corresponding starting state cost 0.0016696302305846456\n",
      "Increasing lmbda high - now lmbda = 20\n",
      "0.0010460814940651837\n",
      "Increasing lmbda high - now lmbda = 40\n",
      "0.0006241617958837921\n",
      "lambda = 20.0\n",
      "uTu = 0.0010460814940651837\n",
      "lambda = 30.0\n",
      "uTu = 0.000779368703606393\n",
      "lambda = 25.0\n",
      "uTu = 0.0008918315882577106\n",
      "lambda = 22.5\n",
      "uTu = 0.0009622717231466065\n",
      "lambda = 21.25\n",
      "uTu = 0.001002256064950032\n",
      "lambda = 21.875\n",
      "uTu = 0.000981818918282212\n",
      "lambda = 21.5625\n",
      "uTu = 0.0009919221389513065\n",
      "lambda = 21.40625\n",
      "uTu = 0.0009970597266661053\n",
      "lambda = 21.328125\n",
      "uTu = 0.0009996504833019667\n"
     ]
    },
    {
     "name": "stderr",
     "output_type": "stream",
     "text": [
      "\r",
      " 83%|████████▎ | 158/190 [40:03<09:23, 17.62s/it]"
     ]
    },
    {
     "name": "stdout",
     "output_type": "stream",
     "text": [
      "Initial lambda is 10\n",
      "With corresponding starting state cost 0.0021834659613306903\n",
      "Increasing lmbda high - now lmbda = 20\n",
      "0.0013658394552839468\n",
      "Increasing lmbda high - now lmbda = 40\n",
      "0.000838797228940527\n",
      "lambda = 20.0\n",
      "uTu = 0.0013658394552839468\n",
      "lambda = 30.0\n",
      "uTu = 0.0010305076444233423\n",
      "lambda = 35.0\n",
      "uTu = 0.0009236123342775503\n",
      "lambda = 32.5\n",
      "uTu = 0.0009737424920033258\n",
      "lambda = 31.25\n",
      "uTu = 0.0010012082148179537\n",
      "lambda = 31.875\n",
      "uTu = 0.000987258058122151\n",
      "lambda = 31.5625\n",
      "uTu = 0.000994177390585864\n",
      "lambda = 31.40625\n",
      "uTu = 0.000997678682797469\n",
      "lambda = 31.328125\n",
      "uTu = 0.0009994398955353008\n"
     ]
    },
    {
     "name": "stderr",
     "output_type": "stream",
     "text": [
      "\r",
      " 84%|████████▎ | 159/190 [40:23<09:23, 18.19s/it]"
     ]
    },
    {
     "name": "stdout",
     "output_type": "stream",
     "text": [
      "Initial lambda is 10\n",
      "With corresponding starting state cost 0.0017423473777014912\n",
      "Increasing lmbda high - now lmbda = 20\n",
      "0.0011739204434288502\n",
      "Increasing lmbda high - now lmbda = 40\n",
      "0.0007724637548728734\n",
      "lambda = 20.0\n",
      "uTu = 0.0011739204434288502\n",
      "lambda = 30.0\n",
      "uTu = 0.0009234532747432938\n",
      "lambda = 25.0\n",
      "uTu = 0.0010301192559103057\n",
      "lambda = 27.5\n",
      "uTu = 0.0009732223156164284\n",
      "lambda = 26.25\n",
      "uTu = 0.0010006739422055513\n"
     ]
    },
    {
     "name": "stderr",
     "output_type": "stream",
     "text": [
      "\r",
      " 84%|████████▍ | 160/190 [40:36<08:16, 16.56s/it]"
     ]
    },
    {
     "name": "stdout",
     "output_type": "stream",
     "text": [
      "Initial lambda is 10\n",
      "With corresponding starting state cost 0.0020757410811334948\n",
      "Increasing lmbda high - now lmbda = 20\n",
      "0.0011841968864317349\n",
      "Increasing lmbda high - now lmbda = 40\n",
      "0.0006739036005611655\n",
      "lambda = 20.0\n",
      "uTu = 0.0011841968864317349\n",
      "lambda = 30.0\n",
      "uTu = 0.0008528641761863798\n",
      "lambda = 25.0\n",
      "uTu = 0.0009888086404198108\n",
      "lambda = 22.5\n",
      "uTu = 0.00107674454139348\n",
      "lambda = 23.75\n",
      "uTu = 0.0010307017992421859\n",
      "lambda = 24.375\n",
      "uTu = 0.0010092742103728644\n",
      "lambda = 24.6875\n",
      "uTu = 0.0009989254812899364\n",
      "lambda = 24.53125\n",
      "uTu = 0.0010040703378056644\n",
      "lambda = 24.609375\n",
      "uTu = 0.001001490598789465\n",
      "lambda = 24.6484375\n",
      "uTu = 0.0010002062205425823\n"
     ]
    },
    {
     "name": "stderr",
     "output_type": "stream",
     "text": [
      "\r",
      " 85%|████████▍ | 161/190 [40:54<08:17, 17.17s/it]"
     ]
    },
    {
     "name": "stdout",
     "output_type": "stream",
     "text": [
      "Initial lambda is 10\n",
      "With corresponding starting state cost 0.002025573679401594\n",
      "Increasing lmbda high - now lmbda = 20\n",
      "0.0012491267550394165\n",
      "Increasing lmbda high - now lmbda = 40\n",
      "0.0007296941651230315\n",
      "lambda = 20.0\n",
      "uTu = 0.0012491267550394165\n",
      "lambda = 30.0\n",
      "uTu = 0.0009193269596454881\n",
      "lambda = 25.0\n",
      "uTu = 0.0010579170398977537\n",
      "lambda = 27.5\n",
      "uTu = 0.0009835850747921316\n",
      "lambda = 26.25\n",
      "uTu = 0.0010193399985522406\n",
      "lambda = 26.875\n",
      "uTu = 0.0010011307010955519\n",
      "lambda = 27.1875\n",
      "uTu = 0.000992277358436818\n",
      "lambda = 27.03125\n",
      "uTu = 0.0009966836014823933\n",
      "lambda = 26.953125\n",
      "uTu = 0.0009989020065662004\n",
      "lambda = 26.9140625\n",
      "uTu = 0.0010000150629014242\n"
     ]
    },
    {
     "name": "stderr",
     "output_type": "stream",
     "text": [
      "\r",
      " 85%|████████▌ | 162/190 [41:13<08:15, 17.69s/it]"
     ]
    },
    {
     "name": "stdout",
     "output_type": "stream",
     "text": [
      "Initial lambda is 10\n",
      "With corresponding starting state cost 0.0017391653769271442\n",
      "Increasing lmbda high - now lmbda = 20\n",
      "0.0011109230472931247\n",
      "Increasing lmbda high - now lmbda = 40\n",
      "0.0007239132659748747\n",
      "lambda = 20.0\n",
      "uTu = 0.0011109230472931247\n",
      "lambda = 30.0\n",
      "uTu = 0.0008661879339647178\n",
      "lambda = 25.0\n",
      "uTu = 0.000968670508409487\n",
      "lambda = 22.5\n",
      "uTu = 0.001033264013254338\n",
      "lambda = 23.75\n",
      "uTu = 0.0009995802126422423\n"
     ]
    },
    {
     "name": "stderr",
     "output_type": "stream",
     "text": [
      "\r",
      " 86%|████████▌ | 163/190 [41:26<07:18, 16.22s/it]"
     ]
    },
    {
     "name": "stdout",
     "output_type": "stream",
     "text": [
      "Initial lambda is 10\n",
      "With corresponding starting state cost 0.0014611666929386523\n",
      "Increasing lmbda high - now lmbda = 20\n",
      "0.0009596880390225212\n",
      "lambda = 10.0\n",
      "uTu = 0.0014611666929386523\n",
      "lambda = 15.0\n",
      "uTu = 0.0011420580471733974\n",
      "lambda = 17.5\n",
      "uTu = 0.0010405907514171749\n",
      "lambda = 18.75\n",
      "uTu = 0.0009980384746476427\n",
      "lambda = 18.125\n",
      "uTu = 0.0010187403343427136\n",
      "lambda = 18.4375\n",
      "uTu = 0.001008252460746457\n",
      "lambda = 18.59375\n",
      "uTu = 0.0010031120135356633\n",
      "lambda = 18.671875\n",
      "uTu = 0.0010005669755454292\n"
     ]
    },
    {
     "name": "stderr",
     "output_type": "stream",
     "text": [
      "\r",
      " 86%|████████▋ | 164/190 [41:39<06:40, 15.39s/it]"
     ]
    },
    {
     "name": "stdout",
     "output_type": "stream",
     "text": [
      "Initial lambda is 10\n",
      "With corresponding starting state cost 0.001972015374407536\n",
      "Increasing lmbda high - now lmbda = 20\n",
      "0.0013227679844672801\n",
      "Increasing lmbda high - now lmbda = 40\n",
      "0.0008935268476985778\n",
      "lambda = 20.0\n",
      "uTu = 0.0013227679844672801\n",
      "lambda = 30.0\n",
      "uTu = 0.00105536765237758\n",
      "lambda = 35.0\n",
      "uTu = 0.0009663134931311298\n",
      "lambda = 32.5\n",
      "uTu = 0.00100840895184213\n",
      "lambda = 33.75\n",
      "uTu = 0.0009868118051958863\n",
      "lambda = 33.125\n",
      "uTu = 0.0009974663695789484\n",
      "lambda = 32.8125\n",
      "uTu = 0.0010029007740921102\n",
      "lambda = 32.96875\n",
      "uTu = 0.0010001744632181164\n"
     ]
    },
    {
     "name": "stderr",
     "output_type": "stream",
     "text": [
      "\r",
      " 87%|████████▋ | 165/190 [41:58<06:47, 16.31s/it]"
     ]
    },
    {
     "name": "stdout",
     "output_type": "stream",
     "text": [
      "Initial lambda is 10\n",
      "With corresponding starting state cost 0.0016321370960991736\n",
      "Increasing lmbda high - now lmbda = 20\n",
      "0.0009751879842560521\n",
      "lambda = 10.0\n",
      "uTu = 0.0016321370960991736\n",
      "lambda = 15.0\n",
      "uTu = 0.0012053491308799814\n",
      "lambda = 17.5\n",
      "uTu = 0.0010756780490327675\n",
      "lambda = 18.75\n",
      "uTu = 0.0010224762026273342\n",
      "lambda = 19.375\n",
      "uTu = 0.0009981605472302606\n",
      "lambda = 19.0625\n",
      "uTu = 0.0010101426953622067\n",
      "lambda = 19.21875\n",
      "uTu = 0.0010041087134809842\n",
      "lambda = 19.296875\n",
      "uTu = 0.0010011240264747143\n",
      "lambda = 19.3359375\n",
      "uTu = 0.000999639651057827\n"
     ]
    },
    {
     "name": "stderr",
     "output_type": "stream",
     "text": [
      "\r",
      " 87%|████████▋ | 166/190 [42:14<06:30, 16.27s/it]"
     ]
    },
    {
     "name": "stdout",
     "output_type": "stream",
     "text": [
      "Initial lambda is 10\n",
      "With corresponding starting state cost 0.003530627737764573\n",
      "Increasing lmbda high - now lmbda = 20\n",
      "0.0024578207537233466\n",
      "Increasing lmbda high - now lmbda = 40\n",
      "0.001652634153116815\n",
      "Increasing lmbda high - now lmbda = 80\n",
      "0.0010262601901429376\n",
      "Increasing lmbda high - now lmbda = 160\n",
      "0.0005654346753827717\n",
      "lambda = 80.0\n",
      "uTu = 0.0010262601901429376\n",
      "lambda = 120.0\n",
      "uTu = 0.0007363499011259268\n",
      "lambda = 100.0\n",
      "uTu = 0.0008596400698499738\n",
      "lambda = 90.0\n",
      "uTu = 0.0009361659644066369\n",
      "lambda = 85.0\n",
      "uTu = 0.0009792900440997578\n",
      "lambda = 82.5\n",
      "uTu = 0.0010022611545551863\n",
      "lambda = 83.75\n",
      "uTu = 0.000990651510332179\n",
      "lambda = 83.125\n",
      "uTu = 0.0009964247767895098\n",
      "lambda = 82.8125\n",
      "uTu = 0.0009993350086557134\n"
     ]
    },
    {
     "name": "stderr",
     "output_type": "stream",
     "text": [
      "\r",
      " 88%|████████▊ | 167/190 [42:37<06:57, 18.16s/it]"
     ]
    },
    {
     "name": "stdout",
     "output_type": "stream",
     "text": [
      "Initial lambda is 10\n",
      "With corresponding starting state cost 0.0023274757798282227\n",
      "Increasing lmbda high - now lmbda = 20\n",
      "0.0013603318271339859\n",
      "Increasing lmbda high - now lmbda = 40\n",
      "0.000771956694479667\n",
      "lambda = 20.0\n",
      "uTu = 0.0013603318271339859\n",
      "lambda = 30.0\n",
      "uTu = 0.0009823742932544236\n",
      "lambda = 25.0\n",
      "uTu = 0.0011391786167313435\n",
      "lambda = 27.5\n",
      "uTu = 0.0010547363697096482\n",
      "lambda = 28.75\n",
      "uTu = 0.0010172235287613084\n",
      "lambda = 29.375\n",
      "uTu = 0.0009994851162291683\n"
     ]
    },
    {
     "name": "stderr",
     "output_type": "stream",
     "text": [
      "\r",
      " 88%|████████▊ | 168/190 [42:50<06:09, 16.81s/it]"
     ]
    },
    {
     "name": "stdout",
     "output_type": "stream",
     "text": [
      "Initial lambda is 10\n",
      "With corresponding starting state cost 0.0026148025879233865\n",
      "Increasing lmbda high - now lmbda = 20\n",
      "0.0018160220654695487\n",
      "Increasing lmbda high - now lmbda = 40\n",
      "0.0011831352334362158\n",
      "Increasing lmbda high - now lmbda = 80\n",
      "0.0006990067650874583\n",
      "lambda = 40.0\n",
      "uTu = 0.0011831352334362158\n",
      "lambda = 60.0\n",
      "uTu = 0.0008819204164454637\n",
      "lambda = 50.0\n",
      "uTu = 0.0010111062335045164\n",
      "lambda = 55.0\n",
      "uTu = 0.000942293931698574\n",
      "lambda = 52.5\n",
      "uTu = 0.000975530918933067\n",
      "lambda = 51.25\n",
      "uTu = 0.0009930100278507912\n",
      "lambda = 50.625\n",
      "uTu = 0.0010019788191172596\n",
      "lambda = 50.9375\n",
      "uTu = 0.0009974748741859284\n",
      "lambda = 50.78125\n",
      "uTu = 0.0009997219249392622\n"
     ]
    },
    {
     "name": "stderr",
     "output_type": "stream",
     "text": [
      "\r",
      " 89%|████████▉ | 169/190 [43:09<06:02, 17.27s/it]"
     ]
    },
    {
     "name": "stdout",
     "output_type": "stream",
     "text": [
      "Initial lambda is 10\n",
      "With corresponding starting state cost 0.0011416287275863774\n",
      "Increasing lmbda high - now lmbda = 20\n",
      "0.0007133283448225256\n",
      "lambda = 10.0\n",
      "uTu = 0.0011416287275863774\n",
      "lambda = 15.0\n",
      "uTu = 0.0008580401656397765\n",
      "lambda = 12.5\n",
      "uTu = 0.0009715131174577836\n",
      "lambda = 11.25\n",
      "uTu = 0.0010470064404820094\n",
      "lambda = 11.875\n",
      "uTu = 0.0010072636718372354\n",
      "lambda = 12.1875\n",
      "uTu = 0.000988929619841306\n",
      "lambda = 12.03125\n",
      "uTu = 0.0009979772583894703\n",
      "lambda = 11.953125\n",
      "uTu = 0.001002590003743689\n",
      "lambda = 11.9921875\n",
      "uTu = 0.0010002760938314897\n"
     ]
    },
    {
     "name": "stderr",
     "output_type": "stream",
     "text": [
      "\r",
      " 89%|████████▉ | 170/190 [43:25<05:42, 17.11s/it]"
     ]
    },
    {
     "name": "stdout",
     "output_type": "stream",
     "text": [
      "Initial lambda is 10\n",
      "With corresponding starting state cost 0.0017435703934904907\n",
      "Increasing lmbda high - now lmbda = 20\n",
      "0.001048138934711503\n",
      "Increasing lmbda high - now lmbda = 40\n",
      "0.0006637055992054742\n",
      "lambda = 20.0\n",
      "uTu = 0.001048138934711503\n",
      "lambda = 30.0\n",
      "uTu = 0.0008008263923554904\n",
      "lambda = 25.0\n",
      "uTu = 0.0009025927008761879\n",
      "lambda = 22.5\n",
      "uTu = 0.0009680660907879501\n",
      "lambda = 21.25\n",
      "uTu = 0.0010059518633622247\n",
      "lambda = 21.875\n",
      "uTu = 0.0009865180424525968\n",
      "lambda = 21.5625\n",
      "uTu = 0.0009961068159736982\n",
      "lambda = 21.40625\n",
      "uTu = 0.0010009965943234608\n"
     ]
    },
    {
     "name": "stderr",
     "output_type": "stream",
     "text": [
      "\r",
      " 90%|█████████ | 171/190 [43:39<05:04, 16.04s/it]"
     ]
    },
    {
     "name": "stdout",
     "output_type": "stream",
     "text": [
      "Initial lambda is 10\n",
      "With corresponding starting state cost 0.0020671390134991835\n",
      "Increasing lmbda high - now lmbda = 20\n",
      "0.0011393487515720933\n",
      "Increasing lmbda high - now lmbda = 40\n",
      "0.0006330903502988086\n",
      "lambda = 20.0\n",
      "uTu = 0.0011393487515720933\n",
      "lambda = 30.0\n",
      "uTu = 0.0008086800586540234\n",
      "lambda = 25.0\n",
      "uTu = 0.000943425738825794\n",
      "lambda = 22.5\n",
      "uTu = 0.0010312671393626317\n",
      "lambda = 23.75\n",
      "uTu = 0.0009852059375535195\n",
      "lambda = 23.125\n",
      "uTu = 0.0010076592328095205\n",
      "lambda = 23.4375\n",
      "uTu = 0.000996293878861984\n",
      "lambda = 23.28125\n",
      "uTu = 0.0010019412000608775\n",
      "lambda = 23.359375\n",
      "uTu = 0.000999108786821103\n"
     ]
    },
    {
     "name": "stderr",
     "output_type": "stream",
     "text": [
      "\r",
      " 91%|█████████ | 172/190 [43:59<05:09, 17.20s/it]"
     ]
    },
    {
     "name": "stdout",
     "output_type": "stream",
     "text": [
      "Initial lambda is 10\n",
      "With corresponding starting state cost 0.0031819148962224353\n",
      "Increasing lmbda high - now lmbda = 20\n",
      "0.002172248050392982\n",
      "Increasing lmbda high - now lmbda = 40\n",
      "0.0014227901034780427\n",
      "Increasing lmbda high - now lmbda = 80\n",
      "0.0008546200465529296\n",
      "lambda = 40.0\n",
      "uTu = 0.0014227901034780427\n",
      "lambda = 60.0\n",
      "uTu = 0.00106954692012962\n",
      "lambda = 70.0\n",
      "uTu = 0.0009506968729386803\n",
      "lambda = 65.0\n",
      "uTu = 0.0010067728825919324\n",
      "lambda = 67.5\n",
      "uTu = 0.0009779698995056197\n",
      "lambda = 66.25\n",
      "uTu = 0.0009921718096520806\n",
      "lambda = 65.625\n",
      "uTu = 0.000999421352125008\n"
     ]
    },
    {
     "name": "stderr",
     "output_type": "stream",
     "text": [
      "\r",
      " 91%|█████████ | 173/190 [44:17<04:55, 17.40s/it]"
     ]
    },
    {
     "name": "stdout",
     "output_type": "stream",
     "text": [
      "Initial lambda is 10\n",
      "With corresponding starting state cost 0.002418298806566855\n",
      "Increasing lmbda high - now lmbda = 20\n",
      "0.001470509492958115\n",
      "Increasing lmbda high - now lmbda = 40\n",
      "0.000889301736936101\n",
      "lambda = 20.0\n",
      "uTu = 0.001470509492958115\n",
      "lambda = 30.0\n",
      "uTu = 0.0010982318049069164\n",
      "lambda = 35.0\n",
      "uTu = 0.000981370832461862\n",
      "lambda = 32.5\n",
      "uTu = 0.0010360627180329718\n",
      "lambda = 33.75\n",
      "uTu = 0.0010078758988514799\n",
      "lambda = 34.375\n",
      "uTu = 0.0009944234700440307\n",
      "lambda = 34.0625\n",
      "uTu = 0.001001098475416582\n",
      "lambda = 34.21875\n",
      "uTu = 0.000997748328154597\n",
      "lambda = 34.140625\n",
      "uTu = 0.000999420221142026\n"
     ]
    },
    {
     "name": "stderr",
     "output_type": "stream",
     "text": [
      "\r",
      " 92%|█████████▏| 174/190 [44:37<04:53, 18.34s/it]"
     ]
    },
    {
     "name": "stdout",
     "output_type": "stream",
     "text": [
      "Initial lambda is 10\n",
      "With corresponding starting state cost 0.0015997016298874658\n",
      "Increasing lmbda high - now lmbda = 20\n",
      "0.0008855212407046715\n",
      "lambda = 10.0\n",
      "uTu = 0.0015997016298874658\n",
      "lambda = 15.0\n",
      "uTu = 0.0011332230896314106\n",
      "lambda = 17.5\n",
      "uTu = 0.0009931879868434342\n",
      "lambda = 16.25\n",
      "uTu = 0.0010582818111732127\n",
      "lambda = 16.875\n",
      "uTu = 0.0010246331729205646\n",
      "lambda = 17.1875\n",
      "uTu = 0.0010086493219613895\n",
      "lambda = 17.34375\n",
      "uTu = 0.001000855004301192\n"
     ]
    },
    {
     "name": "stderr",
     "output_type": "stream",
     "text": [
      "\r",
      " 92%|█████████▏| 175/190 [44:51<04:14, 16.99s/it]"
     ]
    },
    {
     "name": "stdout",
     "output_type": "stream",
     "text": [
      "Initial lambda is 10\n",
      "With corresponding starting state cost 0.0009632849770798481\n",
      "lambda = 5.0\n",
      "uTu = 0.0015422592296603671\n",
      "lambda = 7.5\n",
      "uTu = 0.0011682544754264138\n",
      "lambda = 8.75\n",
      "uTu = 0.001053051710200569\n",
      "lambda = 9.375\n",
      "uTu = 0.0010055796156861415\n",
      "lambda = 9.6875\n",
      "uTu = 0.0009838432886571464\n",
      "lambda = 9.53125\n",
      "uTu = 0.0009945574879593583\n",
      "lambda = 9.453125\n",
      "uTu = 0.0010000291761992032\n"
     ]
    },
    {
     "name": "stderr",
     "output_type": "stream",
     "text": [
      "\r",
      " 93%|█████████▎| 176/190 [45:02<03:34, 15.34s/it]"
     ]
    },
    {
     "name": "stdout",
     "output_type": "stream",
     "text": [
      "Initial lambda is 10\n",
      "With corresponding starting state cost 0.001591849546656492\n",
      "Increasing lmbda high - now lmbda = 20\n",
      "0.00099496547136171\n",
      "lambda = 10.0\n",
      "uTu = 0.001591849546656492\n",
      "lambda = 15.0\n",
      "uTu = 0.0012081749606615768\n",
      "lambda = 17.5\n",
      "uTu = 0.0010887809464791103\n",
      "lambda = 18.75\n",
      "uTu = 0.001039264926101011\n",
      "lambda = 19.375\n",
      "uTu = 0.0010165209623623523\n",
      "lambda = 19.6875\n",
      "uTu = 0.0010056011263510263\n",
      "lambda = 19.84375\n",
      "uTu = 0.0010002485426553423\n"
     ]
    },
    {
     "name": "stderr",
     "output_type": "stream",
     "text": [
      "\r",
      " 93%|█████████▎| 177/190 [45:17<03:15, 15.03s/it]"
     ]
    },
    {
     "name": "stdout",
     "output_type": "stream",
     "text": [
      "Initial lambda is 10\n",
      "With corresponding starting state cost 0.0021099697266207004\n",
      "Increasing lmbda high - now lmbda = 20\n",
      "0.001423198276500966\n",
      "Increasing lmbda high - now lmbda = 40\n",
      "0.0009085482054131032\n",
      "lambda = 20.0\n",
      "uTu = 0.001423198276500966\n",
      "lambda = 30.0\n",
      "uTu = 0.001104526741825616\n",
      "lambda = 35.0\n",
      "uTu = 0.0009965583882000715\n",
      "lambda = 32.5\n",
      "uTu = 0.0010476001395068768\n",
      "lambda = 33.75\n",
      "uTu = 0.0010214083815173038\n",
      "lambda = 34.375\n",
      "uTu = 0.0010088228758066008\n",
      "lambda = 34.6875\n",
      "uTu = 0.0010026513578914248\n",
      "lambda = 34.84375\n",
      "uTu = 0.000999595158324548\n"
     ]
    },
    {
     "name": "stderr",
     "output_type": "stream",
     "text": [
      "\r",
      " 94%|█████████▎| 178/190 [45:33<03:06, 15.50s/it]"
     ]
    },
    {
     "name": "stdout",
     "output_type": "stream",
     "text": [
      "Initial lambda is 10\n",
      "With corresponding starting state cost 0.001852927669193992\n",
      "Increasing lmbda high - now lmbda = 20\n",
      "0.00115758603750048\n",
      "Increasing lmbda high - now lmbda = 40\n",
      "0.0006823307305979085\n",
      "lambda = 20.0\n",
      "uTu = 0.00115758603750048\n",
      "lambda = 30.0\n",
      "uTu = 0.0008568801047443681\n",
      "lambda = 25.0\n",
      "uTu = 0.000983682529123987\n",
      "lambda = 22.5\n",
      "uTu = 0.0010631260428894144\n",
      "lambda = 23.75\n",
      "uTu = 0.001021776467808055\n",
      "lambda = 24.375\n",
      "uTu = 0.0010023487614513587\n",
      "lambda = 24.6875\n",
      "uTu = 0.000992923482997966\n",
      "lambda = 24.53125\n",
      "uTu = 0.0009976127144454277\n",
      "lambda = 24.453125\n",
      "uTu = 0.0009999748392045932\n"
     ]
    },
    {
     "name": "stderr",
     "output_type": "stream",
     "text": [
      "\r",
      " 94%|█████████▍| 179/190 [45:51<02:59, 16.28s/it]"
     ]
    },
    {
     "name": "stdout",
     "output_type": "stream",
     "text": [
      "Initial lambda is 10\n",
      "With corresponding starting state cost 0.0013421055655704656\n",
      "Increasing lmbda high - now lmbda = 20\n",
      "0.0008477338012063618\n",
      "lambda = 10.0\n",
      "uTu = 0.0013421055655704656\n",
      "lambda = 15.0\n",
      "uTu = 0.0010337918977125396\n",
      "lambda = 17.5\n",
      "uTu = 0.0009308405275317086\n",
      "lambda = 16.25\n",
      "uTu = 0.0009793839654897451\n",
      "lambda = 15.625\n",
      "uTu = 0.0010057853428481847\n",
      "lambda = 15.9375\n",
      "uTu = 0.0009923934100134744\n",
      "lambda = 15.78125\n",
      "uTu = 0.000999040438741945\n"
     ]
    },
    {
     "name": "stderr",
     "output_type": "stream",
     "text": [
      "\r",
      " 95%|█████████▍| 180/190 [46:06<02:38, 15.82s/it]"
     ]
    },
    {
     "name": "stdout",
     "output_type": "stream",
     "text": [
      "Initial lambda is 10\n",
      "With corresponding starting state cost 0.0020707609821613\n",
      "Increasing lmbda high - now lmbda = 20\n",
      "0.001480442693766973\n",
      "Increasing lmbda high - now lmbda = 40\n",
      "0.0010325882845526621\n",
      "Increasing lmbda high - now lmbda = 80\n",
      "0.0006664210591175217\n",
      "lambda = 40.0\n",
      "uTu = 0.0010325882845526621\n",
      "lambda = 60.0\n",
      "uTu = 0.0008092120759539543\n",
      "lambda = 50.0\n",
      "uTu = 0.0009064988610835274\n",
      "lambda = 45.0\n",
      "uTu = 0.0009650662809239035\n",
      "lambda = 42.5\n",
      "uTu = 0.0009975612068399806\n",
      "lambda = 41.25\n",
      "uTu = 0.0010147366209342474\n",
      "lambda = 41.875\n",
      "uTu = 0.0010060672546132914\n",
      "lambda = 42.1875\n",
      "uTu = 0.0010017941590079594\n",
      "lambda = 42.34375\n",
      "uTu = 0.0009996727069389111\n"
     ]
    },
    {
     "name": "stderr",
     "output_type": "stream",
     "text": [
      "\r",
      " 95%|█████████▌| 181/190 [46:26<02:34, 17.15s/it]"
     ]
    },
    {
     "name": "stdout",
     "output_type": "stream",
     "text": [
      "Initial lambda is 10\n",
      "With corresponding starting state cost 0.0020038124168186323\n",
      "Increasing lmbda high - now lmbda = 20\n",
      "0.001265721671320248\n",
      "Increasing lmbda high - now lmbda = 40\n",
      "0.0007640093447422605\n",
      "lambda = 20.0\n",
      "uTu = 0.001265721671320248\n",
      "lambda = 30.0\n",
      "uTu = 0.0009503677880393237\n",
      "lambda = 25.0\n",
      "uTu = 0.0010838596240868587\n",
      "lambda = 27.5\n",
      "uTu = 0.0010124907036512516\n",
      "lambda = 28.75\n",
      "uTu = 0.0009804015690816552\n",
      "lambda = 28.125\n",
      "uTu = 0.00099617482189978\n",
      "lambda = 27.8125\n",
      "uTu = 0.001004263007002446\n",
      "lambda = 27.96875\n",
      "uTu = 0.001000201722495373\n"
     ]
    },
    {
     "name": "stderr",
     "output_type": "stream",
     "text": [
      "\r",
      " 96%|█████████▌| 182/190 [46:44<02:18, 17.31s/it]"
     ]
    },
    {
     "name": "stdout",
     "output_type": "stream",
     "text": [
      "Initial lambda is 10\n",
      "With corresponding starting state cost 0.002330713261784677\n",
      "Increasing lmbda high - now lmbda = 20\n",
      "0.0014833440072862165\n",
      "Increasing lmbda high - now lmbda = 40\n",
      "0.0009069919049566075\n",
      "lambda = 20.0\n",
      "uTu = 0.0014833440072862165\n",
      "lambda = 30.0\n",
      "uTu = 0.0011196422088658312\n",
      "lambda = 35.0\n",
      "uTu = 0.0010014547436512178\n",
      "lambda = 37.5\n",
      "uTu = 0.000951763440932081\n",
      "lambda = 36.25\n",
      "uTu = 0.000975940618299169\n",
      "lambda = 35.625\n",
      "uTu = 0.0009885231478956452\n",
      "lambda = 35.3125\n",
      "uTu = 0.0009949443347618365\n",
      "lambda = 35.15625\n",
      "uTu = 0.0009981882608595494\n",
      "lambda = 35.078125\n",
      "uTu = 0.0009998186667519115\n"
     ]
    },
    {
     "name": "stderr",
     "output_type": "stream",
     "text": [
      "\r",
      " 96%|█████████▋| 183/190 [47:10<02:19, 19.86s/it]"
     ]
    },
    {
     "name": "stdout",
     "output_type": "stream",
     "text": [
      "Initial lambda is 10\n",
      "With corresponding starting state cost 0.0015872490558489257\n",
      "Increasing lmbda high - now lmbda = 20\n",
      "0.0009778181763592463\n",
      "lambda = 10.0\n",
      "uTu = 0.0015872490558489257\n",
      "lambda = 15.0\n",
      "uTu = 0.0011989326537585655\n",
      "lambda = 17.5\n",
      "uTu = 0.0010755735839328728\n",
      "lambda = 18.75\n",
      "uTu = 0.001024065932960642\n",
      "lambda = 19.375\n",
      "uTu = 0.0010003409552076957\n"
     ]
    },
    {
     "name": "stderr",
     "output_type": "stream",
     "text": [
      "\r",
      " 97%|█████████▋| 184/190 [47:20<01:41, 16.93s/it]"
     ]
    },
    {
     "name": "stdout",
     "output_type": "stream",
     "text": [
      "Initial lambda is 10\n",
      "With corresponding starting state cost 0.002796413815381616\n",
      "Increasing lmbda high - now lmbda = 20\n",
      "0.0018991517692789328\n",
      "Increasing lmbda high - now lmbda = 40\n",
      "0.0012751313910655186\n",
      "Increasing lmbda high - now lmbda = 80\n",
      "0.0008016329120202287\n",
      "lambda = 40.0\n",
      "uTu = 0.0012751313910655186\n",
      "lambda = 60.0\n",
      "uTu = 0.0009829659017918772\n",
      "lambda = 50.0\n",
      "uTu = 0.001108845799903919\n",
      "lambda = 55.0\n",
      "uTu = 0.0010419587125334072\n",
      "lambda = 57.5\n",
      "uTu = 0.0010115766261545602\n",
      "lambda = 58.75\n",
      "uTu = 0.0009970608589536087\n",
      "lambda = 58.125\n",
      "uTu = 0.0010042648275928787\n",
      "lambda = 58.4375\n",
      "uTu = 0.0010006495324850278\n"
     ]
    },
    {
     "name": "stderr",
     "output_type": "stream",
     "text": [
      "\r",
      " 97%|█████████▋| 185/190 [47:39<01:27, 17.47s/it]"
     ]
    },
    {
     "name": "stdout",
     "output_type": "stream",
     "text": [
      "Initial lambda is 10\n",
      "With corresponding starting state cost 0.002100426095556658\n",
      "Increasing lmbda high - now lmbda = 20\n",
      "0.0011493649330035138\n",
      "Increasing lmbda high - now lmbda = 40\n",
      "0.0006418793966685235\n",
      "lambda = 20.0\n",
      "uTu = 0.0011493649330035138\n",
      "lambda = 30.0\n",
      "uTu = 0.00081527556224144\n",
      "lambda = 25.0\n",
      "uTu = 0.0009504849246512216\n",
      "lambda = 22.5\n",
      "uTu = 0.001039383027829451\n",
      "lambda = 23.75\n",
      "uTu = 0.00099270443067532\n",
      "lambda = 23.125\n",
      "uTu = 0.0010154423015772754\n",
      "lambda = 23.4375\n",
      "uTu = 0.00100392887298441\n",
      "lambda = 23.59375\n",
      "uTu = 0.0009982812283069915\n",
      "lambda = 23.515625\n",
      "uTu = 0.0010010961087145505\n",
      "lambda = 23.5546875\n",
      "uTu = 0.0009996864438714466\n"
     ]
    },
    {
     "name": "stderr",
     "output_type": "stream",
     "text": [
      "\r",
      " 98%|█████████▊| 186/190 [47:59<01:13, 18.32s/it]"
     ]
    },
    {
     "name": "stdout",
     "output_type": "stream",
     "text": [
      "Initial lambda is 10\n",
      "With corresponding starting state cost 0.0019238797930699436\n",
      "Increasing lmbda high - now lmbda = 20\n",
      "0.0012620903485580375\n",
      "Increasing lmbda high - now lmbda = 40\n",
      "0.0007969109258547541\n",
      "lambda = 20.0\n",
      "uTu = 0.0012620903485580375\n",
      "lambda = 30.0\n",
      "uTu = 0.0009709251678980951\n",
      "lambda = 25.0\n",
      "uTu = 0.0010946484428567096\n",
      "lambda = 27.5\n",
      "uTu = 0.0010285875638477871\n",
      "lambda = 28.75\n",
      "uTu = 0.0009988214872043734\n",
      "lambda = 28.125\n",
      "uTu = 0.0010134578560988142\n",
      "lambda = 28.4375\n",
      "uTu = 0.0010060797017395326\n",
      "lambda = 28.59375\n",
      "uTu = 0.0010024358069759887\n",
      "lambda = 28.671875\n",
      "uTu = 0.0010006249754058738\n"
     ]
    },
    {
     "name": "stderr",
     "output_type": "stream",
     "text": [
      "\r",
      " 98%|█████████▊| 187/190 [48:22<00:59, 19.74s/it]"
     ]
    },
    {
     "name": "stdout",
     "output_type": "stream",
     "text": [
      "Initial lambda is 10\n",
      "With corresponding starting state cost 0.002738854225076883\n",
      "Increasing lmbda high - now lmbda = 20\n",
      "0.0017740635537150772\n",
      "Increasing lmbda high - now lmbda = 40\n",
      "0.0011276069806999058\n",
      "Increasing lmbda high - now lmbda = 80\n",
      "0.0006640980485486149\n",
      "lambda = 40.0\n",
      "uTu = 0.0011276069806999058\n",
      "lambda = 60.0\n",
      "uTu = 0.0008375227915643932\n",
      "lambda = 50.0\n",
      "uTu = 0.0009611073445814722\n",
      "lambda = 45.0\n",
      "uTu = 0.0010375677510915165\n",
      "lambda = 47.5\n",
      "uTu = 0.0009978593039984835\n",
      "lambda = 46.25\n",
      "uTu = 0.0010173198429906639\n",
      "lambda = 46.875\n",
      "uTu = 0.001007494343976158\n",
      "lambda = 47.1875\n",
      "uTu = 0.0010026533992932361\n",
      "lambda = 47.34375\n",
      "uTu = 0.0010002505423381105\n"
     ]
    },
    {
     "name": "stderr",
     "output_type": "stream",
     "text": [
      "\r",
      " 99%|█████████▉| 188/190 [48:43<00:40, 20.01s/it]"
     ]
    },
    {
     "name": "stdout",
     "output_type": "stream",
     "text": [
      "Initial lambda is 10\n",
      "With corresponding starting state cost 0.002466463794431579\n",
      "Increasing lmbda high - now lmbda = 20\n",
      "0.0017023734310287815\n",
      "Increasing lmbda high - now lmbda = 40\n",
      "0.0010939660338216955\n",
      "Increasing lmbda high - now lmbda = 80\n",
      "0.0006246833974367066\n",
      "lambda = 40.0\n",
      "uTu = 0.0010939660338216955\n",
      "lambda = 60.0\n",
      "uTu = 0.0008014186004547923\n",
      "lambda = 50.0\n",
      "uTu = 0.0009268799252075182\n",
      "lambda = 45.0\n",
      "uTu = 0.0010039575603987818\n",
      "lambda = 47.5\n",
      "uTu = 0.0009639930504591669\n",
      "lambda = 46.25\n",
      "uTu = 0.0009835976175523588\n",
      "lambda = 45.625\n",
      "uTu = 0.0009936803077070623\n",
      "lambda = 45.3125\n",
      "uTu = 0.000998794242652208\n",
      "lambda = 45.15625\n",
      "uTu = 0.0010013696813979084\n",
      "lambda = 45.234375\n",
      "uTu = 0.001000080412943412\n"
     ]
    },
    {
     "name": "stderr",
     "output_type": "stream",
     "text": [
      "\r",
      " 99%|█████████▉| 189/190 [49:03<00:20, 20.21s/it]"
     ]
    },
    {
     "name": "stdout",
     "output_type": "stream",
     "text": [
      "Initial lambda is 10\n",
      "With corresponding starting state cost 0.0014789788804260764\n",
      "Increasing lmbda high - now lmbda = 20\n",
      "0.0009659005186141385\n",
      "lambda = 10.0\n",
      "uTu = 0.0014789788804260764\n",
      "lambda = 15.0\n",
      "uTu = 0.001152871147759185\n",
      "lambda = 17.5\n",
      "uTu = 0.0010487645396046903\n",
      "lambda = 18.75\n",
      "uTu = 0.001005151502847891\n",
      "lambda = 19.375\n",
      "uTu = 0.0009850275660713383\n",
      "lambda = 19.0625\n",
      "uTu = 0.0009949595159809653\n",
      "lambda = 18.90625\n",
      "uTu = 0.0010000222927522538\n"
     ]
    },
    {
     "name": "stderr",
     "output_type": "stream",
     "text": [
      "100%|██████████| 190/190 [49:19<00:00, 15.58s/it]\n",
      "  0%|          | 0/30 [00:00<?, ?it/s]"
     ]
    },
    {
     "name": "stdout",
     "output_type": "stream",
     "text": [
      "Initial lambda is 10\n",
      "With corresponding starting state cost 0.003068036515923675\n",
      "Increasing lmbda high - now lmbda = 20\n",
      "0.0017296146800460186\n",
      "Increasing lmbda high - now lmbda = 40\n",
      "0.0009469914814602607\n",
      "lambda = 20.0\n",
      "uTu = 0.0017296146800460186\n",
      "lambda = 30.0\n",
      "uTu = 0.0012209551530666155\n",
      "lambda = 35.0\n",
      "uTu = 0.0010664490365347057\n",
      "lambda = 37.5\n",
      "uTu = 0.0010031583822341609\n",
      "lambda = 38.75\n",
      "uTu = 0.0009742648432681923\n",
      "lambda = 38.125\n",
      "uTu = 0.000988499825431399\n",
      "lambda = 37.8125\n",
      "uTu = 0.0009957749352670843\n",
      "lambda = 37.65625\n",
      "uTu = 0.000999452959681377\n"
     ]
    },
    {
     "name": "stderr",
     "output_type": "stream",
     "text": [
      "\r",
      "  3%|▎         | 1/30 [00:27<13:16, 27.48s/it]"
     ]
    },
    {
     "name": "stdout",
     "output_type": "stream",
     "text": [
      "Initial lambda is 10\n",
      "With corresponding starting state cost 0.0030000743909686387\n",
      "Increasing lmbda high - now lmbda = 20\n",
      "0.0014230286156487499\n",
      "Increasing lmbda high - now lmbda = 40\n",
      "0.0006325253326402204\n",
      "lambda = 20.0\n",
      "uTu = 0.0014230286156487499\n",
      "lambda = 30.0\n",
      "uTu = 0.0008903616777949053\n",
      "lambda = 25.0\n",
      "uTu = 0.0011017725722899936\n",
      "lambda = 27.5\n",
      "uTu = 0.0009860444939541445\n",
      "lambda = 26.25\n",
      "uTu = 0.001041045971197518\n",
      "lambda = 26.875\n",
      "uTu = 0.0010128792437079234\n",
      "lambda = 27.1875\n",
      "uTu = 0.0009993010935838594\n"
     ]
    },
    {
     "name": "stderr",
     "output_type": "stream",
     "text": [
      "\r",
      "  7%|▋         | 2/30 [00:44<09:50, 21.08s/it]"
     ]
    },
    {
     "name": "stdout",
     "output_type": "stream",
     "text": [
      "Initial lambda is 10\n",
      "With corresponding starting state cost 0.0039320082831181165\n",
      "Increasing lmbda high - now lmbda = 20\n",
      "0.0018858820964279162\n",
      "Increasing lmbda high - now lmbda = 40\n",
      "0.0009038720518774459\n",
      "lambda = 20.0\n",
      "uTu = 0.0018858820964279162\n",
      "lambda = 30.0\n",
      "uTu = 0.00122299637412764\n",
      "lambda = 35.0\n",
      "uTu = 0.0010394197094146433\n",
      "lambda = 37.5\n",
      "uTu = 0.000966892796997918\n",
      "lambda = 36.25\n",
      "uTu = 0.0010018392533508193\n",
      "lambda = 36.875\n",
      "uTu = 0.0009840542669121957\n",
      "lambda = 36.5625\n",
      "uTu = 0.0009928667299498974\n",
      "lambda = 36.40625\n",
      "uTu = 0.000997332714718094\n",
      "lambda = 36.328125\n",
      "uTu = 0.0009995808806079066\n"
     ]
    },
    {
     "name": "stderr",
     "output_type": "stream",
     "text": [
      "\r",
      " 10%|█         | 3/30 [01:07<09:58, 22.17s/it]"
     ]
    },
    {
     "name": "stdout",
     "output_type": "stream",
     "text": [
      "Initial lambda is 10\n",
      "With corresponding starting state cost 0.001717332629771565\n",
      "Increasing lmbda high - now lmbda = 20\n",
      "0.0010135263610124292\n",
      "Increasing lmbda high - now lmbda = 40\n",
      "0.0005843832457550632\n",
      "lambda = 20.0\n",
      "uTu = 0.0010135263610124292\n",
      "lambda = 30.0\n",
      "uTu = 0.000736936698842197\n",
      "lambda = 25.0\n",
      "uTu = 0.0008513510481544399\n",
      "lambda = 22.5\n",
      "uTu = 0.0009246770747978935\n",
      "lambda = 21.25\n",
      "uTu = 0.0009668530375640534\n",
      "lambda = 20.625\n",
      "uTu = 0.0009895815151411069\n",
      "lambda = 20.3125\n",
      "uTu = 0.0010013955731903255\n",
      "lambda = 20.46875\n",
      "uTu = 0.0009954497704405864\n",
      "lambda = 20.390625\n",
      "uTu = 0.000998412877991989\n",
      "lambda = 20.3515625\n",
      "uTu = 0.0009999017644317307\n"
     ]
    },
    {
     "name": "stderr",
     "output_type": "stream",
     "text": [
      "\r",
      " 13%|█▎        | 4/30 [01:33<10:14, 23.63s/it]"
     ]
    },
    {
     "name": "stdout",
     "output_type": "stream",
     "text": [
      "Initial lambda is 10\n",
      "With corresponding starting state cost 0.0012027517096783018\n",
      "Increasing lmbda high - now lmbda = 20\n",
      "0.0005996572571619682\n",
      "lambda = 10.0\n",
      "uTu = 0.0012027517096783018\n",
      "lambda = 15.0\n",
      "uTu = 0.0008054133572656164\n",
      "lambda = 12.5\n",
      "uTu = 0.0009666566220041519\n",
      "lambda = 11.25\n",
      "uTu = 0.0010724270258287427\n",
      "lambda = 11.875\n",
      "uTu = 0.0010169289561377797\n",
      "lambda = 12.1875\n",
      "uTu = 0.0009911868582522904\n",
      "lambda = 12.03125\n",
      "uTu = 0.0010039008788296038\n",
      "lambda = 12.109375\n",
      "uTu = 0.0009975053259185962\n",
      "lambda = 12.0703125\n",
      "uTu = 0.001000693378784195\n"
     ]
    },
    {
     "name": "stderr",
     "output_type": "stream",
     "text": [
      "\r",
      " 17%|█▋        | 5/30 [01:50<08:50, 21.23s/it]"
     ]
    },
    {
     "name": "stdout",
     "output_type": "stream",
     "text": [
      "Initial lambda is 10\n",
      "With corresponding starting state cost 0.003649060067241159\n",
      "Increasing lmbda high - now lmbda = 20\n",
      "0.0018217736897969158\n",
      "Increasing lmbda high - now lmbda = 40\n",
      "0.000829847736010782\n",
      "lambda = 20.0\n",
      "uTu = 0.0018217736897969158\n",
      "lambda = 30.0\n",
      "uTu = 0.0011617448332864075\n",
      "lambda = 35.0\n",
      "uTu = 0.0009716847849825442\n",
      "lambda = 32.5\n",
      "uTu = 0.0010593417904591626\n",
      "lambda = 33.75\n",
      "uTu = 0.0010138677335016241\n",
      "lambda = 34.375\n",
      "uTu = 0.0009923865975729924\n",
      "lambda = 34.0625\n",
      "uTu = 0.001003027152555431\n",
      "lambda = 34.21875\n",
      "uTu = 0.0009976822035574636\n",
      "lambda = 34.140625\n",
      "uTu = 0.001000348469163089\n"
     ]
    },
    {
     "name": "stderr",
     "output_type": "stream",
     "text": [
      "\r",
      " 20%|██        | 6/30 [02:15<09:00, 22.51s/it]"
     ]
    },
    {
     "name": "stdout",
     "output_type": "stream",
     "text": [
      "Initial lambda is 10\n",
      "With corresponding starting state cost 0.0028801738613606046\n",
      "Increasing lmbda high - now lmbda = 20\n",
      "0.0016478597858600847\n",
      "Increasing lmbda high - now lmbda = 40\n",
      "0.0008678335864659304\n",
      "lambda = 20.0\n",
      "uTu = 0.0016478597858600847\n",
      "lambda = 30.0\n",
      "uTu = 0.0011425920852297987\n",
      "lambda = 35.0\n",
      "uTu = 0.0009874363784256998\n",
      "lambda = 32.5\n",
      "uTu = 0.001059660112528207\n",
      "lambda = 33.75\n",
      "uTu = 0.0010223421495441781\n",
      "lambda = 34.375\n",
      "uTu = 0.0010046024212776916\n",
      "lambda = 34.6875\n",
      "uTu = 0.00099594942138215\n",
      "lambda = 34.53125\n",
      "uTu = 0.0010002582145419072\n"
     ]
    },
    {
     "name": "stderr",
     "output_type": "stream",
     "text": [
      "\r",
      " 23%|██▎       | 7/30 [02:39<08:52, 23.14s/it]"
     ]
    },
    {
     "name": "stdout",
     "output_type": "stream",
     "text": [
      "Initial lambda is 10\n",
      "With corresponding starting state cost 0.00289201079425713\n",
      "Increasing lmbda high - now lmbda = 20\n",
      "0.0013237090005473536\n",
      "Increasing lmbda high - now lmbda = 40\n",
      "0.0005970572752000494\n",
      "lambda = 20.0\n",
      "uTu = 0.0013237090005473536\n",
      "lambda = 30.0\n",
      "uTu = 0.0008304140525172868\n",
      "lambda = 25.0\n",
      "uTu = 0.0010241325007481843\n",
      "lambda = 27.5\n",
      "uTu = 0.0009177782257019148\n",
      "lambda = 26.25\n",
      "uTu = 0.0009682270759277041\n",
      "lambda = 25.625\n",
      "uTu = 0.0009954456984038662\n",
      "lambda = 25.3125\n",
      "uTu = 0.0010095985044339807\n",
      "lambda = 25.46875\n",
      "uTu = 0.0010024753642028244\n",
      "lambda = 25.546875\n",
      "uTu = 0.0009989489584745028\n",
      "lambda = 25.5078125\n",
      "uTu = 0.0010007092543051857\n"
     ]
    },
    {
     "name": "stderr",
     "output_type": "stream",
     "text": [
      "\r",
      " 27%|██▋       | 8/30 [03:01<08:20, 22.73s/it]"
     ]
    },
    {
     "name": "stdout",
     "output_type": "stream",
     "text": [
      "Initial lambda is 10\n",
      "With corresponding starting state cost 0.0017546344204245686\n",
      "Increasing lmbda high - now lmbda = 20\n",
      "0.0008511837621154716\n",
      "lambda = 10.0\n",
      "uTu = 0.0017546344204245686\n",
      "lambda = 15.0\n",
      "uTu = 0.0011510633228159434\n",
      "lambda = 17.5\n",
      "uTu = 0.000979415572013072\n",
      "lambda = 16.25\n",
      "uTu = 0.001058556986067427\n",
      "lambda = 16.875\n",
      "uTu = 0.0010175015336745862\n",
      "lambda = 17.1875\n",
      "uTu = 0.0009981076572602545\n",
      "lambda = 17.03125\n",
      "uTu = 0.001007714451070507\n",
      "lambda = 17.109375\n",
      "uTu = 0.0010028888275082227\n",
      "lambda = 17.1484375\n",
      "uTu = 0.0010004927237860636\n"
     ]
    },
    {
     "name": "stderr",
     "output_type": "stream",
     "text": [
      "\r",
      " 30%|███       | 9/30 [03:20<07:31, 21.50s/it]"
     ]
    },
    {
     "name": "stdout",
     "output_type": "stream",
     "text": [
      "Initial lambda is 10\n",
      "With corresponding starting state cost 0.0012021989476211597\n",
      "Increasing lmbda high - now lmbda = 20\n",
      "0.0006782299829929096\n",
      "lambda = 10.0\n",
      "uTu = 0.0012021989476211597\n",
      "lambda = 15.0\n",
      "uTu = 0.000858821695340646\n",
      "lambda = 12.5\n",
      "uTu = 0.000998649407418975\n",
      "lambda = 11.25\n",
      "uTu = 0.0010899600420624703\n",
      "lambda = 11.875\n",
      "uTu = 0.0010420793073577055\n",
      "lambda = 12.1875\n",
      "uTu = 0.001019848468790954\n",
      "lambda = 12.34375\n",
      "uTu = 0.001009124596776765\n",
      "lambda = 12.421875\n",
      "uTu = 0.0010038564713225882\n",
      "lambda = 12.4609375\n",
      "uTu = 0.0010012453745464995\n",
      "lambda = 12.48046875\n",
      "uTu = 0.000999945508171775\n"
     ]
    },
    {
     "name": "stderr",
     "output_type": "stream",
     "text": [
      "\r",
      " 33%|███▎      | 10/30 [03:34<06:24, 19.20s/it]"
     ]
    },
    {
     "name": "stdout",
     "output_type": "stream",
     "text": [
      "Initial lambda is 10\n",
      "With corresponding starting state cost 0.002668329599892401\n",
      "Increasing lmbda high - now lmbda = 20\n",
      "0.001336746839258309\n",
      "Increasing lmbda high - now lmbda = 40\n",
      "0.0006633575647274057\n",
      "lambda = 20.0\n",
      "uTu = 0.001336746839258309\n",
      "lambda = 30.0\n",
      "uTu = 0.000888296904382645\n",
      "lambda = 25.0\n",
      "uTu = 0.0010678328061733634\n",
      "lambda = 27.5\n",
      "uTu = 0.000969934017057087\n",
      "lambda = 26.25\n",
      "uTu = 0.0010165604848780532\n",
      "lambda = 26.875\n",
      "uTu = 0.0009927069955855768\n",
      "lambda = 26.5625\n",
      "uTu = 0.0010044939129405922\n",
      "lambda = 26.71875\n",
      "uTu = 0.0009985661101978899\n",
      "lambda = 26.640625\n",
      "uTu = 0.0010015213500757887\n",
      "lambda = 26.6796875\n",
      "uTu = 0.00100004157426684\n"
     ]
    },
    {
     "name": "stderr",
     "output_type": "stream",
     "text": [
      "\r",
      " 37%|███▋      | 11/30 [03:49<05:39, 17.88s/it]"
     ]
    },
    {
     "name": "stdout",
     "output_type": "stream",
     "text": [
      "Initial lambda is 10\n",
      "With corresponding starting state cost 0.00290213048870373\n",
      "Increasing lmbda high - now lmbda = 20\n",
      "0.0013831864973600793\n",
      "Increasing lmbda high - now lmbda = 40\n",
      "0.0006596560934346422\n",
      "lambda = 20.0\n",
      "uTu = 0.0013831864973600793\n",
      "lambda = 30.0\n",
      "uTu = 0.0008944999110703308\n",
      "lambda = 25.0\n",
      "uTu = 0.0010874210596346343\n",
      "lambda = 27.5\n",
      "uTu = 0.000981694399687369\n",
      "lambda = 26.25\n",
      "uTu = 0.0010318996310726693\n",
      "lambda = 26.875\n",
      "uTu = 0.0010061801900000465\n",
      "lambda = 27.1875\n",
      "uTu = 0.000993788568333158\n",
      "lambda = 27.03125\n",
      "uTu = 0.0009999465324999463\n"
     ]
    },
    {
     "name": "stderr",
     "output_type": "stream",
     "text": [
      "\r",
      " 40%|████      | 12/30 [04:02<04:54, 16.37s/it]"
     ]
    },
    {
     "name": "stdout",
     "output_type": "stream",
     "text": [
      "Initial lambda is 10\n",
      "With corresponding starting state cost 0.0014554052457960197\n",
      "Increasing lmbda high - now lmbda = 20\n",
      "0.0008114300350522446\n",
      "lambda = 10.0\n",
      "uTu = 0.0014554052457960197\n",
      "lambda = 15.0\n",
      "uTu = 0.0010434702610580668\n",
      "lambda = 17.5\n",
      "uTu = 0.0009133528398578103\n",
      "lambda = 16.25\n",
      "uTu = 0.0009741948952810115\n",
      "lambda = 15.625\n",
      "uTu = 0.001007670826621638\n",
      "lambda = 15.9375\n",
      "uTu = 0.0009906570254013926\n",
      "lambda = 15.78125\n",
      "uTu = 0.0009990932210014473\n"
     ]
    },
    {
     "name": "stderr",
     "output_type": "stream",
     "text": [
      "\r",
      " 43%|████▎     | 13/30 [04:13<04:09, 14.68s/it]"
     ]
    },
    {
     "name": "stdout",
     "output_type": "stream",
     "text": [
      "Initial lambda is 10\n",
      "With corresponding starting state cost 0.004925805100150596\n",
      "Increasing lmbda high - now lmbda = 20\n",
      "0.002211970687694713\n",
      "Increasing lmbda high - now lmbda = 40\n",
      "0.0009073694965743663\n",
      "lambda = 20.0\n",
      "uTu = 0.002211970687694713\n",
      "lambda = 30.0\n",
      "uTu = 0.0013241023300909938\n",
      "lambda = 35.0\n",
      "uTu = 0.0010825482776380092\n",
      "lambda = 37.5\n",
      "uTu = 0.0009883866948663328\n",
      "lambda = 36.25\n",
      "uTu = 0.0010336461697462906\n",
      "lambda = 36.875\n",
      "uTu = 0.0010105852911487861\n",
      "lambda = 37.1875\n",
      "uTu = 0.000999381052136855\n"
     ]
    },
    {
     "name": "stderr",
     "output_type": "stream",
     "text": [
      "\r",
      " 47%|████▋     | 14/30 [04:24<03:41, 13.83s/it]"
     ]
    },
    {
     "name": "stdout",
     "output_type": "stream",
     "text": [
      "Initial lambda is 10\n",
      "With corresponding starting state cost 0.001605380123764475\n",
      "Increasing lmbda high - now lmbda = 20\n",
      "0.0008450576405096232\n",
      "lambda = 10.0\n",
      "uTu = 0.001605380123764475\n",
      "lambda = 15.0\n",
      "uTu = 0.0011060829742330419\n",
      "lambda = 17.5\n",
      "uTu = 0.0009581366549974001\n",
      "lambda = 16.25\n",
      "uTu = 0.0010267901680573544\n",
      "lambda = 16.875\n",
      "uTu = 0.000991275363358308\n",
      "lambda = 16.5625\n",
      "uTu = 0.001008719655674973\n",
      "lambda = 16.71875\n",
      "uTu = 0.0009999213360536911\n"
     ]
    },
    {
     "name": "stderr",
     "output_type": "stream",
     "text": [
      "\r",
      " 50%|█████     | 15/30 [04:35<03:12, 12.84s/it]"
     ]
    },
    {
     "name": "stdout",
     "output_type": "stream",
     "text": [
      "Initial lambda is 10\n",
      "With corresponding starting state cost 0.004202960930573679\n",
      "Increasing lmbda high - now lmbda = 20\n",
      "0.0021249790525650026\n",
      "Increasing lmbda high - now lmbda = 40\n",
      "0.0009955966037269155\n",
      "lambda = 20.0\n",
      "uTu = 0.0021249790525650026\n",
      "lambda = 30.0\n",
      "uTu = 0.0013764866829334501\n",
      "lambda = 35.0\n",
      "uTu = 0.0011590302355949619\n",
      "lambda = 37.5\n",
      "uTu = 0.0010718678525825434\n",
      "lambda = 38.75\n",
      "uTu = 0.0010324987751737132\n",
      "lambda = 39.375\n",
      "uTu = 0.0010137536082775373\n",
      "lambda = 39.6875\n",
      "uTu = 0.001004603276197486\n",
      "lambda = 39.84375\n",
      "uTu = 0.001000082188233489\n"
     ]
    },
    {
     "name": "stderr",
     "output_type": "stream",
     "text": [
      "\r",
      " 53%|█████▎    | 16/30 [04:48<02:59, 12.86s/it]"
     ]
    },
    {
     "name": "stdout",
     "output_type": "stream",
     "text": [
      "Initial lambda is 10\n",
      "With corresponding starting state cost 0.0019403682353046632\n",
      "Increasing lmbda high - now lmbda = 20\n",
      "0.0009453923904498571\n",
      "lambda = 10.0\n",
      "uTu = 0.0019403682353046632\n",
      "lambda = 15.0\n",
      "uTu = 0.00127857359480739\n",
      "lambda = 17.5\n",
      "uTu = 0.0010878794700287494\n",
      "lambda = 18.75\n",
      "uTu = 0.0010117879238817854\n",
      "lambda = 19.375\n",
      "uTu = 0.0009774934874249891\n",
      "lambda = 19.0625\n",
      "uTu = 0.0009943532576085826\n",
      "lambda = 18.90625\n",
      "uTu = 0.001002996976295841\n",
      "lambda = 18.984375\n",
      "uTu = 0.0009986569367277454\n",
      "lambda = 18.9453125\n",
      "uTu = 0.0010008223838088458\n"
     ]
    },
    {
     "name": "stderr",
     "output_type": "stream",
     "text": [
      "\r",
      " 57%|█████▋    | 17/30 [05:01<02:47, 12.88s/it]"
     ]
    },
    {
     "name": "stdout",
     "output_type": "stream",
     "text": [
      "Initial lambda is 10\n",
      "With corresponding starting state cost 0.0018401231654734493\n",
      "Increasing lmbda high - now lmbda = 20\n",
      "0.0009363402578914826\n",
      "lambda = 10.0\n",
      "uTu = 0.0018401231654734493\n",
      "lambda = 15.0\n",
      "uTu = 0.0012436980914778209\n",
      "lambda = 17.5\n",
      "uTu = 0.0010685551965215173\n",
      "lambda = 18.75\n",
      "uTu = 0.0009981112323061763\n",
      "lambda = 18.125\n",
      "uTu = 0.0010321413199408547\n",
      "lambda = 18.4375\n",
      "uTu = 0.0010148428533123678\n",
      "lambda = 18.59375\n",
      "uTu = 0.0010064079048154129\n",
      "lambda = 18.671875\n",
      "uTu = 0.0010022424928260278\n",
      "lambda = 18.7109375\n",
      "uTu = 0.0010001726193669268\n"
     ]
    },
    {
     "name": "stderr",
     "output_type": "stream",
     "text": [
      "\r",
      " 60%|██████    | 18/30 [05:14<02:34, 12.90s/it]"
     ]
    },
    {
     "name": "stdout",
     "output_type": "stream",
     "text": [
      "Initial lambda is 10\n",
      "With corresponding starting state cost 0.0021456978420187193\n",
      "Increasing lmbda high - now lmbda = 20\n",
      "0.001272082920412375\n",
      "Increasing lmbda high - now lmbda = 40\n",
      "0.0006923386796422119\n",
      "lambda = 20.0\n",
      "uTu = 0.001272082920412375\n",
      "lambda = 30.0\n",
      "uTu = 0.0008999522844257037\n",
      "lambda = 25.0\n",
      "uTu = 0.0010551834463001226\n",
      "lambda = 27.5\n",
      "uTu = 0.0009716401322655164\n",
      "lambda = 26.25\n",
      "uTu = 0.0010117522534888025\n",
      "lambda = 26.875\n",
      "uTu = 0.0009913057013157382\n",
      "lambda = 26.5625\n",
      "uTu = 0.0010014284576704887\n",
      "lambda = 26.71875\n",
      "uTu = 0.0009963423206524487\n",
      "lambda = 26.640625\n",
      "uTu = 0.000998879153642013\n",
      "lambda = 26.6015625\n",
      "uTu = 0.0010001522410002977\n"
     ]
    },
    {
     "name": "stderr",
     "output_type": "stream",
     "text": [
      "\r",
      " 63%|██████▎   | 19/30 [05:29<02:28, 13.53s/it]"
     ]
    },
    {
     "name": "stdout",
     "output_type": "stream",
     "text": [
      "Initial lambda is 10\n",
      "With corresponding starting state cost 0.002375887214838201\n",
      "Increasing lmbda high - now lmbda = 20\n",
      "0.0013084486212406794\n",
      "Increasing lmbda high - now lmbda = 40\n",
      "0.0007152437239510219\n",
      "lambda = 20.0\n",
      "uTu = 0.0013084486212406794\n",
      "lambda = 30.0\n",
      "uTu = 0.0009205571738467587\n",
      "lambda = 25.0\n",
      "uTu = 0.0010786326460975396\n",
      "lambda = 27.5\n",
      "uTu = 0.0009929761047305938\n",
      "lambda = 26.25\n",
      "uTu = 0.0010339237100085896\n",
      "lambda = 26.875\n",
      "uTu = 0.0010130111648915371\n",
      "lambda = 27.1875\n",
      "uTu = 0.0010028875711590155\n",
      "lambda = 27.34375\n",
      "uTu = 0.000997905757242336\n",
      "lambda = 27.265625\n",
      "uTu = 0.0010003900903782748\n"
     ]
    },
    {
     "name": "stderr",
     "output_type": "stream",
     "text": [
      "\r",
      " 67%|██████▋   | 20/30 [05:43<02:16, 13.69s/it]"
     ]
    },
    {
     "name": "stdout",
     "output_type": "stream",
     "text": [
      "Initial lambda is 10\n",
      "With corresponding starting state cost 0.0020382628361768564\n",
      "Increasing lmbda high - now lmbda = 20\n",
      "0.0011549274494226003\n",
      "Increasing lmbda high - now lmbda = 40\n",
      "0.0006380843906002077\n",
      "lambda = 20.0\n",
      "uTu = 0.0011549274494226003\n",
      "lambda = 30.0\n",
      "uTu = 0.0008186907609301323\n",
      "lambda = 25.0\n",
      "uTu = 0.0009565780584925352\n",
      "lambda = 22.5\n",
      "uTu = 0.0010458797455535937\n",
      "lambda = 23.75\n",
      "uTu = 0.000999120731297075\n"
     ]
    },
    {
     "name": "stderr",
     "output_type": "stream",
     "text": [
      "\r",
      " 70%|███████   | 21/30 [05:52<01:52, 12.46s/it]"
     ]
    },
    {
     "name": "stdout",
     "output_type": "stream",
     "text": [
      "Initial lambda is 10\n",
      "With corresponding starting state cost 0.0030695867496876475\n",
      "Increasing lmbda high - now lmbda = 20\n",
      "0.001578931541910402\n",
      "Increasing lmbda high - now lmbda = 40\n",
      "0.0007644364408391838\n",
      "lambda = 20.0\n",
      "uTu = 0.001578931541910402\n",
      "lambda = 30.0\n",
      "uTu = 0.0010399360135499847\n",
      "lambda = 35.0\n",
      "uTu = 0.0008828310392732154\n",
      "lambda = 32.5\n",
      "uTu = 0.000955470656782893\n",
      "lambda = 31.25\n",
      "uTu = 0.0009960549960072373\n",
      "lambda = 30.625\n",
      "uTu = 0.0010175592606046018\n",
      "lambda = 30.9375\n",
      "uTu = 0.001006701232536687\n",
      "lambda = 31.09375\n",
      "uTu = 0.0010013520227231494\n",
      "lambda = 31.171875\n",
      "uTu = 0.0009986970334777512\n",
      "lambda = 31.1328125\n",
      "uTu = 0.0010000229032887155\n"
     ]
    },
    {
     "name": "stderr",
     "output_type": "stream",
     "text": [
      "\r",
      " 73%|███████▎  | 22/30 [06:07<01:45, 13.20s/it]"
     ]
    },
    {
     "name": "stdout",
     "output_type": "stream",
     "text": [
      "Initial lambda is 10\n",
      "With corresponding starting state cost 0.0028872819023044163\n",
      "Increasing lmbda high - now lmbda = 20\n",
      "0.0015185745183024632\n",
      "Increasing lmbda high - now lmbda = 40\n",
      "0.0007568436704262952\n",
      "lambda = 20.0\n",
      "uTu = 0.0015185745183024632\n",
      "lambda = 30.0\n",
      "uTu = 0.0010167977277810271\n",
      "lambda = 35.0\n",
      "uTu = 0.0008689568389429156\n",
      "lambda = 32.5\n",
      "uTu = 0.000937430693086641\n",
      "lambda = 31.25\n",
      "uTu = 0.0009755974528903517\n",
      "lambda = 30.625\n",
      "uTu = 0.000995796389275957\n",
      "lambda = 30.3125\n",
      "uTu = 0.0010061938188551927\n",
      "lambda = 30.46875\n",
      "uTu = 0.0010009696704940886\n"
     ]
    },
    {
     "name": "stderr",
     "output_type": "stream",
     "text": [
      "\r",
      " 77%|███████▋  | 23/30 [06:20<01:31, 13.09s/it]"
     ]
    },
    {
     "name": "stdout",
     "output_type": "stream",
     "text": [
      "Initial lambda is 10\n",
      "With corresponding starting state cost 0.0017268869774078196\n",
      "Increasing lmbda high - now lmbda = 20\n",
      "0.0008773207721124731\n",
      "lambda = 10.0\n",
      "uTu = 0.0017268869774078196\n",
      "lambda = 15.0\n",
      "uTu = 0.0011673090491057703\n",
      "lambda = 17.5\n",
      "uTu = 0.0010025440052279892\n",
      "lambda = 18.75\n",
      "uTu = 0.0009359403365682477\n",
      "lambda = 18.125\n",
      "uTu = 0.0009681451531671912\n",
      "lambda = 17.8125\n",
      "uTu = 0.0009850564808677198\n",
      "lambda = 17.65625\n",
      "uTu = 0.0009937263843593379\n",
      "lambda = 17.578125\n",
      "uTu = 0.0009981164939618812\n",
      "lambda = 17.5390625\n",
      "uTu = 0.0010003255444220116\n"
     ]
    },
    {
     "name": "stderr",
     "output_type": "stream",
     "text": [
      "\r",
      " 80%|████████  | 24/30 [06:33<01:17, 12.98s/it]"
     ]
    },
    {
     "name": "stdout",
     "output_type": "stream",
     "text": [
      "Initial lambda is 10\n",
      "With corresponding starting state cost 0.0014296356972818833\n",
      "Increasing lmbda high - now lmbda = 20\n",
      "0.000724947857770892\n",
      "lambda = 10.0\n",
      "uTu = 0.0014296356972818833\n",
      "lambda = 15.0\n",
      "uTu = 0.0009667846541671175\n",
      "lambda = 12.5\n",
      "uTu = 0.0011551956414620262\n",
      "lambda = 13.75\n",
      "uTu = 0.0010529824568729512\n",
      "lambda = 14.375\n",
      "uTu = 0.0010081261650158285\n",
      "lambda = 14.6875\n",
      "uTu = 0.0009870423335074235\n",
      "lambda = 14.53125\n",
      "uTu = 0.000997477862588523\n",
      "lambda = 14.453125\n",
      "uTu = 0.001002775013548356\n",
      "lambda = 14.4921875\n",
      "uTu = 0.0010001197390933749\n"
     ]
    },
    {
     "name": "stderr",
     "output_type": "stream",
     "text": [
      "\r",
      " 83%|████████▎ | 25/30 [06:46<01:04, 12.92s/it]"
     ]
    },
    {
     "name": "stdout",
     "output_type": "stream",
     "text": [
      "Initial lambda is 10\n",
      "With corresponding starting state cost 0.003534594210969194\n",
      "Increasing lmbda high - now lmbda = 20\n",
      "0.0017965251652376543\n",
      "Increasing lmbda high - now lmbda = 40\n",
      "0.0008665836975809338\n",
      "lambda = 20.0\n",
      "uTu = 0.0017965251652376543\n",
      "lambda = 30.0\n",
      "uTu = 0.0011777517740878827\n",
      "lambda = 35.0\n",
      "uTu = 0.000999792604911057\n"
     ]
    },
    {
     "name": "stderr",
     "output_type": "stream",
     "text": [
      "\r",
      " 87%|████████▋ | 26/30 [06:53<00:45, 11.33s/it]"
     ]
    },
    {
     "name": "stdout",
     "output_type": "stream",
     "text": [
      "Initial lambda is 10\n",
      "With corresponding starting state cost 0.0021855607345499417\n",
      "Increasing lmbda high - now lmbda = 20\n",
      "0.001071488295888247\n",
      "Increasing lmbda high - now lmbda = 40\n",
      "0.0005151486460025896\n",
      "lambda = 20.0\n",
      "uTu = 0.001071488295888247\n",
      "lambda = 30.0\n",
      "uTu = 0.0006991059611767842\n",
      "lambda = 25.0\n",
      "uTu = 0.0008474920147801867\n",
      "lambda = 22.5\n",
      "uTu = 0.0009468852350138074\n",
      "lambda = 21.25\n",
      "uTu = 0.001005481952478337\n",
      "lambda = 21.875\n",
      "uTu = 0.0009753362641256924\n",
      "lambda = 21.5625\n",
      "uTu = 0.0009901881145652756\n",
      "lambda = 21.40625\n",
      "uTu = 0.0009977785827273884\n",
      "lambda = 21.328125\n",
      "uTu = 0.0010016160008450954\n",
      "lambda = 21.3671875\n",
      "uTu = 0.0009996937445260969\n"
     ]
    },
    {
     "name": "stderr",
     "output_type": "stream",
     "text": [
      "\r",
      " 90%|█████████ | 27/30 [07:08<00:37, 12.47s/it]"
     ]
    },
    {
     "name": "stdout",
     "output_type": "stream",
     "text": [
      "Initial lambda is 10\n",
      "With corresponding starting state cost 0.0022447613001625065\n",
      "Increasing lmbda high - now lmbda = 20\n",
      "0.001222476000470156\n",
      "Increasing lmbda high - now lmbda = 40\n",
      "0.000633038604807029\n",
      "lambda = 20.0\n",
      "uTu = 0.001222476000470156\n",
      "lambda = 30.0\n",
      "uTu = 0.0008369184234461123\n",
      "lambda = 25.0\n",
      "uTu = 0.0009944912947046358\n",
      "lambda = 22.5\n",
      "uTu = 0.0010970067351471317\n",
      "lambda = 23.75\n",
      "uTu = 0.0010432955475125297\n",
      "lambda = 24.375\n",
      "uTu = 0.0010183233716409505\n",
      "lambda = 24.6875\n",
      "uTu = 0.0010062697909825947\n",
      "lambda = 24.84375\n",
      "uTu = 0.0010003467532403317\n"
     ]
    },
    {
     "name": "stderr",
     "output_type": "stream",
     "text": [
      "\r",
      " 93%|█████████▎| 28/30 [07:21<00:25, 12.61s/it]"
     ]
    },
    {
     "name": "stdout",
     "output_type": "stream",
     "text": [
      "Initial lambda is 10\n",
      "With corresponding starting state cost 0.0024356994895118438\n",
      "Increasing lmbda high - now lmbda = 20\n",
      "0.001234311686417356\n",
      "Increasing lmbda high - now lmbda = 40\n",
      "0.0006177830768574208\n",
      "lambda = 20.0\n",
      "uTu = 0.001234311686417356\n",
      "lambda = 30.0\n",
      "uTu = 0.0008239818618830155\n",
      "lambda = 25.0\n",
      "uTu = 0.0009884268239828435\n",
      "lambda = 22.5\n",
      "uTu = 0.0010978388898042768\n",
      "lambda = 23.75\n",
      "uTu = 0.0010402768870842233\n",
      "lambda = 24.375\n",
      "uTu = 0.0010136921407741895\n",
      "lambda = 24.6875\n",
      "uTu = 0.0010009007496352654\n"
     ]
    },
    {
     "name": "stderr",
     "output_type": "stream",
     "text": [
      "\r",
      " 97%|█████████▋| 29/30 [07:33<00:12, 12.38s/it]"
     ]
    },
    {
     "name": "stdout",
     "output_type": "stream",
     "text": [
      "Initial lambda is 10\n",
      "With corresponding starting state cost 0.002206811755304551\n",
      "Increasing lmbda high - now lmbda = 20\n",
      "0.0011223951398253635\n",
      "Increasing lmbda high - now lmbda = 40\n",
      "0.0005264010105972504\n",
      "lambda = 20.0\n",
      "uTu = 0.0011223951398253635\n",
      "lambda = 30.0\n",
      "uTu = 0.0007272252841762314\n",
      "lambda = 25.0\n",
      "uTu = 0.0008868031157044799\n",
      "lambda = 22.5\n",
      "uTu = 0.0009921537310803737\n",
      "lambda = 21.25\n",
      "uTu = 0.0010536563515803853\n",
      "lambda = 21.875\n",
      "uTu = 0.001022072165204284\n",
      "lambda = 22.1875\n",
      "uTu = 0.001006912873762412\n",
      "lambda = 22.34375\n",
      "uTu = 0.0009994842561011183\n"
     ]
    },
    {
     "name": "stderr",
     "output_type": "stream",
     "text": [
      "100%|██████████| 30/30 [07:46<00:00, 15.56s/it]\n",
      "  0%|          | 0/120 [00:00<?, ?it/s]"
     ]
    },
    {
     "name": "stdout",
     "output_type": "stream",
     "text": [
      "Initial lambda is 10\n",
      "With corresponding starting state cost 0.0016395076076565387\n",
      "Increasing lmbda high - now lmbda = 20\n",
      "0.000980329416455024\n",
      "lambda = 10.0\n",
      "uTu = 0.0016395076076565387\n",
      "lambda = 15.0\n",
      "uTu = 0.0012194213117974015\n",
      "lambda = 17.5\n",
      "uTu = 0.0010858145873016113\n",
      "lambda = 18.75\n",
      "uTu = 0.0010301720849956925\n",
      "lambda = 19.375\n",
      "uTu = 0.00100458699740521\n",
      "lambda = 19.6875\n",
      "uTu = 0.0009922991563945894\n",
      "lambda = 19.53125\n",
      "uTu = 0.000998402484205727\n",
      "lambda = 19.453125\n",
      "uTu = 0.00100148448625889\n",
      "lambda = 19.4921875\n",
      "uTu = 0.0009999409350118645\n"
     ]
    },
    {
     "name": "stderr",
     "output_type": "stream",
     "text": [
      "\r",
      "  1%|          | 1/120 [00:12<25:27, 12.84s/it]"
     ]
    },
    {
     "name": "stdout",
     "output_type": "stream",
     "text": [
      "Initial lambda is 10\n",
      "With corresponding starting state cost 0.001753348275413394\n",
      "Increasing lmbda high - now lmbda = 20\n",
      "0.0009769234042884714\n",
      "lambda = 10.0\n",
      "uTu = 0.001753348275413394\n",
      "lambda = 15.0\n",
      "uTu = 0.0012514887892220918\n",
      "lambda = 17.5\n",
      "uTu = 0.0010969425832863793\n",
      "lambda = 18.75\n",
      "uTu = 0.0010334037768542997\n",
      "lambda = 19.375\n",
      "uTu = 0.0010043590000987145\n",
      "lambda = 19.6875\n",
      "uTu = 0.0009904487682717935\n",
      "lambda = 19.53125\n",
      "uTu = 0.0009973547268073153\n",
      "lambda = 19.453125\n",
      "uTu = 0.0010008444395881273\n"
     ]
    },
    {
     "name": "stderr",
     "output_type": "stream",
     "text": [
      "\r",
      "  2%|▏         | 2/120 [00:25<24:29, 12.46s/it]"
     ]
    },
    {
     "name": "stdout",
     "output_type": "stream",
     "text": [
      "Initial lambda is 10\n",
      "With corresponding starting state cost 0.0012307555366006461\n",
      "Increasing lmbda high - now lmbda = 20\n",
      "0.000790818141919611\n",
      "lambda = 10.0\n",
      "uTu = 0.0012307555366006461\n",
      "lambda = 15.0\n",
      "uTu = 0.0009495685699577012\n",
      "lambda = 12.5\n",
      "uTu = 0.0010664396540307462\n",
      "lambda = 13.75\n",
      "uTu = 0.0010035836936968712\n",
      "lambda = 14.375\n",
      "uTu = 0.0009756045032988691\n",
      "lambda = 14.0625\n",
      "uTu = 0.0009893362824329845\n",
      "lambda = 13.90625\n",
      "uTu = 0.0009963935303090548\n",
      "lambda = 13.828125\n",
      "uTu = 0.0009999717376194066\n"
     ]
    },
    {
     "name": "stderr",
     "output_type": "stream",
     "text": [
      "\r",
      "  2%|▎         | 3/120 [00:36<23:43, 12.17s/it]"
     ]
    },
    {
     "name": "stdout",
     "output_type": "stream",
     "text": [
      "Initial lambda is 10\n",
      "With corresponding starting state cost 0.0011953678284707988\n",
      "Increasing lmbda high - now lmbda = 20\n",
      "0.0008212520283779575\n",
      "lambda = 10.0\n",
      "uTu = 0.0011953678284707988\n",
      "lambda = 15.0\n",
      "uTu = 0.0009636928468994429\n",
      "lambda = 12.5\n",
      "uTu = 0.001062821126124772\n",
      "lambda = 13.75\n",
      "uTu = 0.0010100623179241863\n",
      "lambda = 14.375\n",
      "uTu = 0.0009861671658515352\n",
      "lambda = 14.0625\n",
      "uTu = 0.0009979272259956844\n",
      "lambda = 13.90625\n",
      "uTu = 0.001003946565425127\n",
      "lambda = 13.984375\n",
      "uTu = 0.0010009250142482345\n"
     ]
    },
    {
     "name": "stderr",
     "output_type": "stream",
     "text": [
      "\r",
      "  3%|▎         | 4/120 [00:48<23:09, 11.98s/it]"
     ]
    },
    {
     "name": "stdout",
     "output_type": "stream",
     "text": [
      "Initial lambda is 10\n",
      "With corresponding starting state cost 0.001511732074135107\n",
      "Increasing lmbda high - now lmbda = 20\n",
      "0.0009566830886857094\n",
      "lambda = 10.0\n",
      "uTu = 0.001511732074135107\n",
      "lambda = 15.0\n",
      "uTu = 0.0011564494537452672\n",
      "lambda = 17.5\n",
      "uTu = 0.0010449827978293283\n",
      "lambda = 18.75\n",
      "uTu = 0.0009984712118806256\n",
      "lambda = 18.125\n",
      "uTu = 0.0010210809385428072\n",
      "lambda = 18.4375\n",
      "uTu = 0.0010096220808144462\n",
      "lambda = 18.59375\n",
      "uTu = 0.0010040090346217418\n",
      "lambda = 18.671875\n",
      "uTu = 0.0010012308280477515\n",
      "lambda = 18.7109375\n",
      "uTu = 0.0009998487094396748\n"
     ]
    },
    {
     "name": "stderr",
     "output_type": "stream",
     "text": [
      "\r",
      "  4%|▍         | 5/120 [01:01<23:36, 12.32s/it]"
     ]
    },
    {
     "name": "stdout",
     "output_type": "stream",
     "text": [
      "Initial lambda is 10\n",
      "With corresponding starting state cost 0.001222683196030329\n",
      "Increasing lmbda high - now lmbda = 20\n",
      "0.0007499494597886555\n",
      "lambda = 10.0\n",
      "uTu = 0.001222683196030329\n",
      "lambda = 15.0\n",
      "uTu = 0.0009187472290802418\n",
      "lambda = 12.5\n",
      "uTu = 0.0010443694465358392\n",
      "lambda = 13.75\n",
      "uTu = 0.0009766753797258425\n",
      "lambda = 13.125\n",
      "uTu = 0.0010091381524691746\n",
      "lambda = 13.4375\n",
      "uTu = 0.0009925834507757709\n",
      "lambda = 13.28125\n",
      "uTu = 0.0010007772918017145\n"
     ]
    },
    {
     "name": "stderr",
     "output_type": "stream",
     "text": [
      "\r",
      "  5%|▌         | 6/120 [01:11<22:12, 11.69s/it]"
     ]
    },
    {
     "name": "stdout",
     "output_type": "stream",
     "text": [
      "Initial lambda is 10\n",
      "With corresponding starting state cost 0.001749116613935789\n",
      "Increasing lmbda high - now lmbda = 20\n",
      "0.0010030319787711407\n",
      "Increasing lmbda high - now lmbda = 40\n",
      "0.0005595620086086998\n",
      "lambda = 20.0\n",
      "uTu = 0.0010030319787711407\n",
      "lambda = 30.0\n",
      "uTu = 0.0007160075333154073\n",
      "lambda = 25.0\n",
      "uTu = 0.0008343114290213\n",
      "lambda = 22.5\n",
      "uTu = 0.0009104585610134531\n",
      "lambda = 21.25\n",
      "uTu = 0.0009543615836099225\n",
      "lambda = 20.625\n",
      "uTu = 0.0009780513851774689\n",
      "lambda = 20.3125\n",
      "uTu = 0.0009903735261856741\n",
      "lambda = 20.15625\n",
      "uTu = 0.0009966598194906461\n",
      "lambda = 20.078125\n",
      "uTu = 0.0009998350512799106\n"
     ]
    },
    {
     "name": "stderr",
     "output_type": "stream",
     "text": [
      "\r",
      "  6%|▌         | 7/120 [01:25<23:27, 12.46s/it]"
     ]
    },
    {
     "name": "stdout",
     "output_type": "stream",
     "text": [
      "Initial lambda is 10\n",
      "With corresponding starting state cost 0.0012339321701978843\n",
      "Increasing lmbda high - now lmbda = 20\n",
      "0.0008048455816768675\n",
      "lambda = 10.0\n",
      "uTu = 0.0012339321701978843\n",
      "lambda = 15.0\n",
      "uTu = 0.0009691753647271901\n",
      "lambda = 12.5\n",
      "uTu = 0.0010833161257834123\n",
      "lambda = 13.75\n",
      "uTu = 0.001022667953337041\n",
      "lambda = 14.375\n",
      "uTu = 0.0009951179110860857\n",
      "lambda = 14.0625\n",
      "uTu = 0.0010086817151996111\n",
      "lambda = 14.21875\n",
      "uTu = 0.0010018483528798933\n",
      "lambda = 14.296875\n",
      "uTu = 0.0009984704295298167\n",
      "lambda = 14.2578125\n",
      "uTu = 0.0010001561954978702\n"
     ]
    },
    {
     "name": "stderr",
     "output_type": "stream",
     "text": [
      "\r",
      "  7%|▋         | 8/120 [01:38<23:16, 12.47s/it]"
     ]
    },
    {
     "name": "stdout",
     "output_type": "stream",
     "text": [
      "Initial lambda is 10\n",
      "With corresponding starting state cost 0.001963497810069059\n",
      "Increasing lmbda high - now lmbda = 20\n",
      "0.0013264267892401144\n",
      "Increasing lmbda high - now lmbda = 40\n",
      "0.0008587231328108702\n",
      "lambda = 20.0\n",
      "uTu = 0.0013264267892401144\n",
      "lambda = 30.0\n",
      "uTu = 0.0010350001723065775\n",
      "lambda = 35.0\n",
      "uTu = 0.000937611805835237\n",
      "lambda = 32.5\n",
      "uTu = 0.0009835644464580996\n",
      "lambda = 31.25\n",
      "uTu = 0.0010085305462004198\n",
      "lambda = 31.875\n",
      "uTu = 0.000995868549205527\n",
      "lambda = 31.5625\n",
      "uTu = 0.0010021537344283567\n",
      "lambda = 31.71875\n",
      "uTu = 0.0009989998258992231\n",
      "lambda = 31.640625\n",
      "uTu = 0.0010005739341909594\n"
     ]
    },
    {
     "name": "stderr",
     "output_type": "stream",
     "text": [
      "\r",
      "  8%|▊         | 9/120 [01:52<23:52, 12.90s/it]"
     ]
    },
    {
     "name": "stdout",
     "output_type": "stream",
     "text": [
      "Initial lambda is 10\n",
      "With corresponding starting state cost 0.00232602973814376\n",
      "Increasing lmbda high - now lmbda = 20\n",
      "0.0014382661295669849\n",
      "Increasing lmbda high - now lmbda = 40\n",
      "0.0008900129069784908\n",
      "lambda = 20.0\n",
      "uTu = 0.0014382661295669849\n",
      "lambda = 30.0\n",
      "uTu = 0.0010885840278989202\n",
      "lambda = 35.0\n",
      "uTu = 0.000977848794331265\n",
      "lambda = 32.5\n",
      "uTu = 0.0010297638970117613\n",
      "lambda = 33.75\n",
      "uTu = 0.001003029842220707\n",
      "lambda = 34.375\n",
      "uTu = 0.000990254717639441\n",
      "lambda = 34.0625\n",
      "uTu = 0.000996594990593601\n",
      "lambda = 33.90625\n",
      "uTu = 0.0009998004473516112\n"
     ]
    },
    {
     "name": "stderr",
     "output_type": "stream",
     "text": [
      "\r",
      "  8%|▊         | 10/120 [02:05<23:32, 12.84s/it]"
     ]
    },
    {
     "name": "stdout",
     "output_type": "stream",
     "text": [
      "Initial lambda is 10\n",
      "With corresponding starting state cost 0.00185714011505968\n",
      "Increasing lmbda high - now lmbda = 20\n",
      "0.0010560758783024183\n",
      "Increasing lmbda high - now lmbda = 40\n",
      "0.0005945173421934008\n",
      "lambda = 20.0\n",
      "uTu = 0.0010560758783024183\n",
      "lambda = 30.0\n",
      "uTu = 0.0007570602774069531\n",
      "lambda = 25.0\n",
      "uTu = 0.0008799767148980317\n",
      "lambda = 22.5\n",
      "uTu = 0.0009592982188873625\n",
      "lambda = 21.25\n",
      "uTu = 0.0010051418301069708\n",
      "lambda = 21.875\n",
      "uTu = 0.0009816353933722875\n",
      "lambda = 21.5625\n",
      "uTu = 0.0009932364478563624\n",
      "lambda = 21.40625\n",
      "uTu = 0.0009991503101446685\n"
     ]
    },
    {
     "name": "stderr",
     "output_type": "stream",
     "text": [
      "\r",
      "  9%|▉         | 11/120 [02:17<23:19, 12.84s/it]"
     ]
    },
    {
     "name": "stdout",
     "output_type": "stream",
     "text": [
      "Initial lambda is 10\n",
      "With corresponding starting state cost 0.0019492485368585604\n",
      "Increasing lmbda high - now lmbda = 20\n",
      "0.0012274855896699346\n",
      "Increasing lmbda high - now lmbda = 40\n",
      "0.0007508864887091341\n",
      "lambda = 20.0\n",
      "uTu = 0.0012274855896699346\n",
      "lambda = 30.0\n",
      "uTu = 0.0009256512140494137\n",
      "lambda = 25.0\n",
      "uTu = 0.001052515103836683\n",
      "lambda = 27.5\n",
      "uTu = 0.0009845130142558999\n",
      "lambda = 26.25\n",
      "uTu = 0.001017230319013717\n",
      "lambda = 26.875\n",
      "uTu = 0.0010005702467449195\n"
     ]
    },
    {
     "name": "stderr",
     "output_type": "stream",
     "text": [
      "\r",
      " 10%|█         | 12/120 [02:28<21:57, 12.20s/it]"
     ]
    },
    {
     "name": "stdout",
     "output_type": "stream",
     "text": [
      "Initial lambda is 10\n",
      "With corresponding starting state cost 0.0017391653769271442\n",
      "Increasing lmbda high - now lmbda = 20\n",
      "0.0011109230472931247\n",
      "Increasing lmbda high - now lmbda = 40\n",
      "0.0007239132659748747\n",
      "lambda = 20.0\n",
      "uTu = 0.0011109230472931247\n",
      "lambda = 30.0\n",
      "uTu = 0.0008661879339647178\n",
      "lambda = 25.0\n",
      "uTu = 0.000968670508409487\n",
      "lambda = 22.5\n",
      "uTu = 0.001033264013254338\n",
      "lambda = 23.75\n",
      "uTu = 0.0009995802126422423\n"
     ]
    },
    {
     "name": "stderr",
     "output_type": "stream",
     "text": [
      "\r",
      " 11%|█         | 13/120 [02:40<21:26, 12.03s/it]"
     ]
    },
    {
     "name": "stdout",
     "output_type": "stream",
     "text": [
      "Initial lambda is 10\n",
      "With corresponding starting state cost 0.0011416287275863774\n",
      "Increasing lmbda high - now lmbda = 20\n",
      "0.0007133283448225256\n",
      "lambda = 10.0\n",
      "uTu = 0.0011416287275863774\n",
      "lambda = 15.0\n",
      "uTu = 0.0008580401656397765\n",
      "lambda = 12.5\n",
      "uTu = 0.0009715131174577836\n",
      "lambda = 11.25\n",
      "uTu = 0.0010470064404820094\n",
      "lambda = 11.875\n",
      "uTu = 0.0010072636718372354\n",
      "lambda = 12.1875\n",
      "uTu = 0.000988929619841306\n",
      "lambda = 12.03125\n",
      "uTu = 0.0009979772583894703\n",
      "lambda = 11.953125\n",
      "uTu = 0.001002590003743689\n",
      "lambda = 11.9921875\n",
      "uTu = 0.0010002760938314897\n"
     ]
    },
    {
     "name": "stderr",
     "output_type": "stream",
     "text": [
      "\r",
      " 12%|█▏        | 14/120 [02:57<24:15, 13.73s/it]"
     ]
    },
    {
     "name": "stdout",
     "output_type": "stream",
     "text": [
      "Initial lambda is 10\n",
      "With corresponding starting state cost 0.0009632849770798481\n",
      "lambda = 5.0\n",
      "uTu = 0.0015422592296603671\n",
      "lambda = 7.5\n",
      "uTu = 0.0011682544754264138\n",
      "lambda = 8.75\n",
      "uTu = 0.001053051710200569\n",
      "lambda = 9.375\n",
      "uTu = 0.0010055796156861415\n",
      "lambda = 9.6875\n",
      "uTu = 0.0009838432886571464\n",
      "lambda = 9.53125\n",
      "uTu = 0.0009945574879593583\n",
      "lambda = 9.453125\n",
      "uTu = 0.0010000291761992032\n"
     ]
    },
    {
     "name": "stderr",
     "output_type": "stream",
     "text": [
      "\r",
      " 12%|█▎        | 15/120 [03:09<22:44, 12.99s/it]"
     ]
    },
    {
     "name": "stdout",
     "output_type": "stream",
     "text": [
      "Initial lambda is 10\n",
      "With corresponding starting state cost 0.0020707609821613\n",
      "Increasing lmbda high - now lmbda = 20\n",
      "0.001480442693766973\n",
      "Increasing lmbda high - now lmbda = 40\n",
      "0.0010325882845526621\n",
      "Increasing lmbda high - now lmbda = 80\n",
      "0.0006664210591175217\n",
      "lambda = 40.0\n",
      "uTu = 0.0010325882845526621\n",
      "lambda = 60.0\n",
      "uTu = 0.0008092120759539543\n",
      "lambda = 50.0\n",
      "uTu = 0.0009064988610835274\n",
      "lambda = 45.0\n",
      "uTu = 0.0009650662809239035\n",
      "lambda = 42.5\n",
      "uTu = 0.0009975612068399806\n",
      "lambda = 41.25\n",
      "uTu = 0.0010147366209342474\n",
      "lambda = 41.875\n",
      "uTu = 0.0010060672546132914\n",
      "lambda = 42.1875\n",
      "uTu = 0.0010017941590079594\n",
      "lambda = 42.34375\n",
      "uTu = 0.0009996727069389111\n"
     ]
    },
    {
     "name": "stderr",
     "output_type": "stream",
     "text": [
      "\r",
      " 13%|█▎        | 16/120 [03:24<23:55, 13.81s/it]"
     ]
    },
    {
     "name": "stdout",
     "output_type": "stream",
     "text": [
      "Initial lambda is 10\n",
      "With corresponding starting state cost 0.002796413815381616\n",
      "Increasing lmbda high - now lmbda = 20\n",
      "0.0018991517692789328\n",
      "Increasing lmbda high - now lmbda = 40\n",
      "0.0012751313910655186\n",
      "Increasing lmbda high - now lmbda = 80\n",
      "0.0008016329120202287\n",
      "lambda = 40.0\n",
      "uTu = 0.0012751313910655186\n",
      "lambda = 60.0\n",
      "uTu = 0.0009829659017918772\n",
      "lambda = 50.0\n",
      "uTu = 0.001108845799903919\n",
      "lambda = 55.0\n",
      "uTu = 0.0010419587125334072\n",
      "lambda = 57.5\n",
      "uTu = 0.0010115766261545602\n",
      "lambda = 58.75\n",
      "uTu = 0.0009970608589536087\n",
      "lambda = 58.125\n",
      "uTu = 0.0010042648275928787\n",
      "lambda = 58.4375\n",
      "uTu = 0.0010006495324850278\n"
     ]
    },
    {
     "name": "stderr",
     "output_type": "stream",
     "text": [
      "\r",
      " 14%|█▍        | 17/120 [03:38<23:45, 13.84s/it]"
     ]
    },
    {
     "name": "stdout",
     "output_type": "stream",
     "text": [
      "Initial lambda is 10\n",
      "With corresponding starting state cost 0.002738854225076883\n",
      "Increasing lmbda high - now lmbda = 20\n",
      "0.0017740635537150772\n",
      "Increasing lmbda high - now lmbda = 40\n",
      "0.0011276069806999058\n",
      "Increasing lmbda high - now lmbda = 80\n",
      "0.0006640980485486149\n",
      "lambda = 40.0\n",
      "uTu = 0.0011276069806999058\n",
      "lambda = 60.0\n",
      "uTu = 0.0008375227915643932\n",
      "lambda = 50.0\n",
      "uTu = 0.0009611073445814722\n",
      "lambda = 45.0\n",
      "uTu = 0.0010375677510915165\n",
      "lambda = 47.5\n",
      "uTu = 0.0009978593039984835\n",
      "lambda = 46.25\n",
      "uTu = 0.0010173198429906639\n",
      "lambda = 46.875\n",
      "uTu = 0.001007494343976158\n",
      "lambda = 47.1875\n",
      "uTu = 0.0010026533992932361\n",
      "lambda = 47.34375\n",
      "uTu = 0.0010002505423381105\n"
     ]
    },
    {
     "name": "stderr",
     "output_type": "stream",
     "text": [
      "\r",
      " 15%|█▌        | 18/120 [03:53<24:10, 14.22s/it]"
     ]
    },
    {
     "name": "stdout",
     "output_type": "stream",
     "text": [
      "Initial lambda is 10\n",
      "With corresponding starting state cost 0.0014789788804260764\n",
      "Increasing lmbda high - now lmbda = 20\n",
      "0.0009659005186141385\n",
      "lambda = 10.0\n",
      "uTu = 0.0014789788804260764\n",
      "lambda = 15.0\n",
      "uTu = 0.001152871147759185\n",
      "lambda = 17.5\n",
      "uTu = 0.0010487645396046903\n",
      "lambda = 18.75\n",
      "uTu = 0.001005151502847891\n",
      "lambda = 19.375\n",
      "uTu = 0.0009850275660713383\n",
      "lambda = 19.0625\n",
      "uTu = 0.0009949595159809653\n",
      "lambda = 18.90625\n",
      "uTu = 0.0010000222927522538\n"
     ]
    },
    {
     "name": "stderr",
     "output_type": "stream",
     "text": [
      "\r",
      " 16%|█▌        | 19/120 [04:04<22:11, 13.19s/it]"
     ]
    },
    {
     "name": "stdout",
     "output_type": "stream",
     "text": [
      "Initial lambda is 10\n",
      "With corresponding starting state cost 0.0022156754826450718\n",
      "Increasing lmbda high - now lmbda = 20\n",
      "0.0013686198918422955\n",
      "Increasing lmbda high - now lmbda = 40\n",
      "0.0008196428280507352\n",
      "lambda = 20.0\n",
      "uTu = 0.0013686198918422955\n",
      "lambda = 30.0\n",
      "uTu = 0.0010196316774803513\n",
      "lambda = 35.0\n",
      "uTu = 0.000908134414206442\n",
      "lambda = 32.5\n",
      "uTu = 0.0009604318165398896\n",
      "lambda = 31.25\n",
      "uTu = 0.0009890787301448762\n",
      "lambda = 30.625\n",
      "uTu = 0.001004104206988858\n",
      "lambda = 30.9375\n",
      "uTu = 0.000996530385662848\n",
      "lambda = 30.78125\n",
      "uTu = 0.0010003018221435948\n"
     ]
    },
    {
     "name": "stderr",
     "output_type": "stream",
     "text": [
      "\r",
      " 17%|█▋        | 20/120 [04:17<21:41, 13.01s/it]"
     ]
    },
    {
     "name": "stdout",
     "output_type": "stream",
     "text": [
      "Initial lambda is 10\n",
      "With corresponding starting state cost 0.0026299112231663083\n",
      "Increasing lmbda high - now lmbda = 20\n",
      "0.00126589380047715\n",
      "Increasing lmbda high - now lmbda = 40\n",
      "0.0006072039043468138\n",
      "lambda = 20.0\n",
      "uTu = 0.00126589380047715\n",
      "lambda = 30.0\n",
      "uTu = 0.0008222818918756073\n",
      "lambda = 25.0\n",
      "uTu = 0.000997958021852103\n",
      "lambda = 22.5\n",
      "uTu = 0.0011164883388636259\n",
      "lambda = 23.75\n",
      "uTu = 0.0010539797630203323\n",
      "lambda = 24.375\n",
      "uTu = 0.0010252213109214143\n",
      "lambda = 24.6875\n",
      "uTu = 0.001011409982354474\n",
      "lambda = 24.84375\n",
      "uTu = 0.0010046399429520876\n",
      "lambda = 24.921875\n",
      "uTu = 0.0010012880729883102\n",
      "lambda = 24.9609375\n",
      "uTu = 0.0009996203330945447\n"
     ]
    },
    {
     "name": "stderr",
     "output_type": "stream",
     "text": [
      "\r",
      " 18%|█▊        | 21/120 [04:32<22:25, 13.60s/it]"
     ]
    },
    {
     "name": "stdout",
     "output_type": "stream",
     "text": [
      "Initial lambda is 10\n",
      "With corresponding starting state cost 0.0016638204205585573\n",
      "Increasing lmbda high - now lmbda = 20\n",
      "0.0008954645396386527\n",
      "lambda = 10.0\n",
      "uTu = 0.0016638204205585573\n",
      "lambda = 15.0\n",
      "uTu = 0.0011630986944641498\n",
      "lambda = 17.5\n",
      "uTu = 0.001011670579026723\n",
      "lambda = 18.75\n",
      "uTu = 0.0009499808108222313\n",
      "lambda = 18.125\n",
      "uTu = 0.0009798432582208397\n",
      "lambda = 17.8125\n",
      "uTu = 0.0009954993765758987\n",
      "lambda = 17.65625\n",
      "uTu = 0.0010035190154834936\n",
      "lambda = 17.734375\n",
      "uTu = 0.0009994929065559248\n"
     ]
    },
    {
     "name": "stderr",
     "output_type": "stream",
     "text": [
      "\r",
      " 18%|█▊        | 22/120 [04:44<21:20, 13.07s/it]"
     ]
    },
    {
     "name": "stdout",
     "output_type": "stream",
     "text": [
      "Initial lambda is 10\n",
      "With corresponding starting state cost 0.0016245489452263763\n",
      "Increasing lmbda high - now lmbda = 20\n",
      "0.0008962461386821842\n",
      "lambda = 10.0\n",
      "uTu = 0.0016245489452263763\n",
      "lambda = 15.0\n",
      "uTu = 0.0011464087106072814\n",
      "lambda = 17.5\n",
      "uTu = 0.001004491877987834\n",
      "lambda = 18.75\n",
      "uTu = 0.0009469668918372493\n",
      "lambda = 18.125\n",
      "uTu = 0.0009747946346741899\n",
      "lambda = 17.8125\n",
      "uTu = 0.0009893978055236627\n",
      "lambda = 17.65625\n",
      "uTu = 0.0009968819216470586\n",
      "lambda = 17.578125\n",
      "uTu = 0.0010006709693312873\n"
     ]
    },
    {
     "name": "stderr",
     "output_type": "stream",
     "text": [
      "\r",
      " 19%|█▉        | 23/120 [04:55<20:30, 12.69s/it]"
     ]
    },
    {
     "name": "stdout",
     "output_type": "stream",
     "text": [
      "Initial lambda is 10\n",
      "With corresponding starting state cost 0.002777954696989265\n",
      "Increasing lmbda high - now lmbda = 20\n",
      "0.0013933925373230665\n",
      "Increasing lmbda high - now lmbda = 40\n",
      "0.00067307428382664\n",
      "lambda = 20.0\n",
      "uTu = 0.0013933925373230665\n",
      "lambda = 30.0\n",
      "uTu = 0.0009129019351833419\n",
      "lambda = 25.0\n",
      "uTu = 0.0011054470143933522\n",
      "lambda = 27.5\n",
      "uTu = 0.001000418099836857\n"
     ]
    },
    {
     "name": "stderr",
     "output_type": "stream",
     "text": [
      "\r",
      " 20%|██        | 24/120 [05:04<18:18, 11.44s/it]"
     ]
    },
    {
     "name": "stdout",
     "output_type": "stream",
     "text": [
      "Initial lambda is 10\n",
      "With corresponding starting state cost 0.002536500386423453\n",
      "Increasing lmbda high - now lmbda = 20\n",
      "0.0013137116887487253\n",
      "Increasing lmbda high - now lmbda = 40\n",
      "0.0006576955528955442\n",
      "lambda = 20.0\n",
      "uTu = 0.0013137116887487253\n",
      "lambda = 30.0\n",
      "uTu = 0.000880249571832492\n",
      "lambda = 25.0\n",
      "uTu = 0.0010554365126861655\n",
      "lambda = 27.5\n",
      "uTu = 0.0009601877302744594\n",
      "lambda = 26.25\n",
      "uTu = 0.0010056354116852874\n",
      "lambda = 26.875\n",
      "uTu = 0.000982403941822898\n",
      "lambda = 26.5625\n",
      "uTu = 0.0009938884603028462\n",
      "lambda = 26.40625\n",
      "uTu = 0.000999728571710639\n"
     ]
    },
    {
     "name": "stderr",
     "output_type": "stream",
     "text": [
      "\r",
      " 21%|██        | 25/120 [05:17<18:44, 11.84s/it]"
     ]
    },
    {
     "name": "stdout",
     "output_type": "stream",
     "text": [
      "Initial lambda is 10\n",
      "With corresponding starting state cost 0.0021299135220106593\n",
      "Increasing lmbda high - now lmbda = 20\n",
      "0.0012362466513205351\n",
      "Increasing lmbda high - now lmbda = 40\n",
      "0.0007011614861828345\n",
      "lambda = 20.0\n",
      "uTu = 0.0012362466513205351\n",
      "lambda = 30.0\n",
      "uTu = 0.000890718940336381\n",
      "lambda = 25.0\n",
      "uTu = 0.0010334421497741656\n",
      "lambda = 27.5\n",
      "uTu = 0.0009564494829671097\n",
      "lambda = 26.25\n",
      "uTu = 0.0009933557300271444\n",
      "lambda = 25.625\n",
      "uTu = 0.0010129749939043816\n",
      "lambda = 25.9375\n",
      "uTu = 0.0010030628649965896\n",
      "lambda = 26.09375\n",
      "uTu = 0.0009981840923038577\n",
      "lambda = 26.015625\n",
      "uTu = 0.001000617125706281\n"
     ]
    },
    {
     "name": "stderr",
     "output_type": "stream",
     "text": [
      "\r",
      " 22%|██▏       | 26/120 [05:31<19:32, 12.47s/it]"
     ]
    },
    {
     "name": "stdout",
     "output_type": "stream",
     "text": [
      "Initial lambda is 10\n",
      "With corresponding starting state cost 0.0035285860851424606\n",
      "Increasing lmbda high - now lmbda = 20\n",
      "0.0022253881847389104\n",
      "Increasing lmbda high - now lmbda = 40\n",
      "0.0013024357292756022\n",
      "Increasing lmbda high - now lmbda = 80\n",
      "0.0006926779420473167\n",
      "lambda = 40.0\n",
      "uTu = 0.0013024357292756022\n",
      "lambda = 60.0\n",
      "uTu = 0.0009120444443464269\n",
      "lambda = 50.0\n",
      "uTu = 0.0010751742501215087\n",
      "lambda = 55.0\n",
      "uTu = 0.0009874562344954704\n",
      "lambda = 52.5\n",
      "uTu = 0.0010295922547125668\n",
      "lambda = 53.75\n",
      "uTu = 0.001008118913348268\n",
      "lambda = 54.375\n",
      "uTu = 0.0009976891957721966\n",
      "lambda = 54.0625\n",
      "uTu = 0.001002879099951548\n",
      "lambda = 54.21875\n",
      "uTu = 0.0010002779547811963\n"
     ]
    },
    {
     "name": "stderr",
     "output_type": "stream",
     "text": [
      "\r",
      " 22%|██▎       | 27/120 [05:46<20:32, 13.25s/it]"
     ]
    },
    {
     "name": "stdout",
     "output_type": "stream",
     "text": [
      "Initial lambda is 10\n",
      "With corresponding starting state cost 0.005145971536696018\n",
      "Increasing lmbda high - now lmbda = 20\n",
      "0.003231399228090309\n",
      "Increasing lmbda high - now lmbda = 40\n",
      "0.0018972758229761754\n",
      "Increasing lmbda high - now lmbda = 80\n",
      "0.0010180116439831902\n",
      "Increasing lmbda high - now lmbda = 160\n",
      "0.0004881028333862899\n",
      "lambda = 80.0\n",
      "uTu = 0.0010180116439831902\n",
      "lambda = 120.0\n",
      "uTu = 0.0006722638131984065\n",
      "lambda = 100.0\n",
      "uTu = 0.000814269317247681\n",
      "lambda = 90.0\n",
      "uTu = 0.0009061775229348175\n",
      "lambda = 85.0\n",
      "uTu = 0.0009592214079856274\n",
      "lambda = 82.5\n",
      "uTu = 0.0009878414931224994\n",
      "lambda = 81.25\n",
      "uTu = 0.001002725044242868\n",
      "lambda = 81.875\n",
      "uTu = 0.0009952338911232495\n",
      "lambda = 81.5625\n",
      "uTu = 0.0009989669999782372\n",
      "lambda = 81.40625\n",
      "uTu = 0.0010008428895869502\n"
     ]
    },
    {
     "name": "stderr",
     "output_type": "stream",
     "text": [
      "\r",
      " 23%|██▎       | 28/120 [06:03<22:17, 14.54s/it]"
     ]
    },
    {
     "name": "stdout",
     "output_type": "stream",
     "text": [
      "Initial lambda is 10\n",
      "With corresponding starting state cost 0.0033928233850643043\n",
      "Increasing lmbda high - now lmbda = 20\n",
      "0.0022230295144225133\n",
      "Increasing lmbda high - now lmbda = 40\n",
      "0.0013582966405351613\n",
      "Increasing lmbda high - now lmbda = 80\n",
      "0.0007544937749375747\n",
      "lambda = 40.0\n",
      "uTu = 0.0013582966405351613\n",
      "lambda = 60.0\n",
      "uTu = 0.0009753592050217852\n",
      "lambda = 50.0\n",
      "uTu = 0.0011368604359077907\n",
      "lambda = 55.0\n",
      "uTu = 0.0010502954378274053\n",
      "lambda = 57.5\n",
      "uTu = 0.0010115289900173346\n",
      "lambda = 58.75\n",
      "uTu = 0.0009931364740878728\n",
      "lambda = 58.125\n",
      "uTu = 0.001002253802297842\n",
      "lambda = 58.4375\n",
      "uTu = 0.0009976756644371001\n",
      "lambda = 58.28125\n",
      "uTu = 0.0009999598329582247\n"
     ]
    },
    {
     "name": "stderr",
     "output_type": "stream",
     "text": [
      "\r",
      " 24%|██▍       | 29/120 [06:19<22:23, 14.77s/it]"
     ]
    },
    {
     "name": "stdout",
     "output_type": "stream",
     "text": [
      "Initial lambda is 10\n",
      "With corresponding starting state cost 0.005386944824816367\n",
      "Increasing lmbda high - now lmbda = 20\n",
      "0.0030189166050744475\n",
      "Increasing lmbda high - now lmbda = 40\n",
      "0.0015979027144838488\n",
      "Increasing lmbda high - now lmbda = 80\n",
      "0.0007826361375367524\n",
      "lambda = 40.0\n",
      "uTu = 0.0015979027144838488\n",
      "lambda = 60.0\n",
      "uTu = 0.0010642604220102584\n",
      "lambda = 70.0\n",
      "uTu = 0.0009045717907801218\n",
      "lambda = 65.0\n",
      "uTu = 0.0009786893735725943\n",
      "lambda = 62.5\n",
      "uTu = 0.0010198843601881918\n",
      "lambda = 63.75\n",
      "uTu = 0.0009989109118171266\n",
      "lambda = 63.125\n",
      "uTu = 0.0010093010629591097\n",
      "lambda = 63.4375\n",
      "uTu = 0.0010040821746116861\n",
      "lambda = 63.59375\n",
      "uTu = 0.0010014906306653553\n",
      "lambda = 63.671875\n",
      "uTu = 0.0010001992981437595\n"
     ]
    },
    {
     "name": "stderr",
     "output_type": "stream",
     "text": [
      "\r",
      " 25%|██▌       | 30/120 [06:35<22:52, 15.25s/it]"
     ]
    },
    {
     "name": "stdout",
     "output_type": "stream",
     "text": [
      "Initial lambda is 10\n",
      "With corresponding starting state cost 0.0033195547305440052\n",
      "Increasing lmbda high - now lmbda = 20\n",
      "0.0018678719332216594\n",
      "Increasing lmbda high - now lmbda = 40\n",
      "0.0009924376252171314\n",
      "lambda = 20.0\n",
      "uTu = 0.0018678719332216594\n",
      "lambda = 30.0\n",
      "uTu = 0.0012999803013231373\n",
      "lambda = 35.0\n",
      "uTu = 0.0011264590983153515\n",
      "lambda = 37.5\n",
      "uTu = 0.0010554148783166848\n",
      "lambda = 38.75\n",
      "uTu = 0.001023007203820499\n",
      "lambda = 39.375\n",
      "uTu = 0.0010075026681964998\n",
      "lambda = 39.6875\n",
      "uTu = 0.0009999163981654392\n"
     ]
    },
    {
     "name": "stderr",
     "output_type": "stream",
     "text": [
      "\r",
      " 26%|██▌       | 31/120 [06:47<21:03, 14.20s/it]"
     ]
    },
    {
     "name": "stdout",
     "output_type": "stream",
     "text": [
      "Initial lambda is 10\n",
      "With corresponding starting state cost 0.0024471543552673338\n",
      "Increasing lmbda high - now lmbda = 20\n",
      "0.001547608013669315\n",
      "Increasing lmbda high - now lmbda = 40\n",
      "0.0009521766593252127\n",
      "lambda = 20.0\n",
      "uTu = 0.001547608013669315\n",
      "lambda = 30.0\n",
      "uTu = 0.0011697513573932436\n",
      "lambda = 35.0\n",
      "uTu = 0.0010485458330761904\n",
      "lambda = 37.5\n",
      "uTu = 0.0009978011393691796\n",
      "lambda = 36.25\n",
      "uTu = 0.0010224760430762256\n",
      "lambda = 36.875\n",
      "uTu = 0.0010099719579511938\n",
      "lambda = 37.1875\n",
      "uTu = 0.001003845804758048\n",
      "lambda = 37.34375\n",
      "uTu = 0.0010008133973563077\n"
     ]
    },
    {
     "name": "stderr",
     "output_type": "stream",
     "text": [
      "\r",
      " 27%|██▋       | 32/120 [07:00<20:20, 13.87s/it]"
     ]
    },
    {
     "name": "stdout",
     "output_type": "stream",
     "text": [
      "Initial lambda is 10\n",
      "With corresponding starting state cost 0.0017353453672000175\n",
      "Increasing lmbda high - now lmbda = 20\n",
      "0.0010882284652192196\n",
      "Increasing lmbda high - now lmbda = 40\n",
      "0.0006387586619715474\n",
      "lambda = 20.0\n",
      "uTu = 0.0010882284652192196\n",
      "lambda = 30.0\n",
      "uTu = 0.0008038760513766133\n",
      "lambda = 25.0\n",
      "uTu = 0.0009238996164220159\n",
      "lambda = 22.5\n",
      "uTu = 0.000999031432871184\n"
     ]
    },
    {
     "name": "stderr",
     "output_type": "stream",
     "text": [
      "\r",
      " 28%|██▊       | 33/120 [07:08<17:47, 12.27s/it]"
     ]
    },
    {
     "name": "stdout",
     "output_type": "stream",
     "text": [
      "Initial lambda is 10\n",
      "With corresponding starting state cost 0.00732039090393205\n",
      "Increasing lmbda high - now lmbda = 20\n",
      "0.0048182750772843615\n",
      "Increasing lmbda high - now lmbda = 40\n",
      "0.002874334474838391\n",
      "Increasing lmbda high - now lmbda = 80\n",
      "0.0015392661242170026\n",
      "Increasing lmbda high - now lmbda = 160\n",
      "0.0007320446419075263\n",
      "lambda = 80.0\n",
      "uTu = 0.0015392661242170026\n",
      "lambda = 120.0\n",
      "uTu = 0.0010116706761522875\n",
      "lambda = 140.0\n",
      "uTu = 0.0008529557495860092\n",
      "lambda = 130.0\n",
      "uTu = 0.0009266004210249528\n",
      "lambda = 125.0\n",
      "uTu = 0.0009675529599007538\n",
      "lambda = 122.5\n",
      "uTu = 0.0009891944036489611\n",
      "lambda = 121.25\n",
      "uTu = 0.0010003252896936005\n"
     ]
    },
    {
     "name": "stderr",
     "output_type": "stream",
     "text": [
      "\r",
      " 28%|██▊       | 34/120 [07:22<18:22, 12.82s/it]"
     ]
    },
    {
     "name": "stdout",
     "output_type": "stream",
     "text": [
      "Initial lambda is 10\n",
      "With corresponding starting state cost 0.003389899206354336\n",
      "Increasing lmbda high - now lmbda = 20\n",
      "0.0020022452795309146\n",
      "Increasing lmbda high - now lmbda = 40\n",
      "0.0011025919156440966\n",
      "Increasing lmbda high - now lmbda = 80\n",
      "0.0005541545459421575\n",
      "lambda = 40.0\n",
      "uTu = 0.0011025919156440966\n",
      "lambda = 60.0\n",
      "uTu = 0.0007465657308621243\n",
      "lambda = 50.0\n",
      "uTu = 0.0008933491753090898\n",
      "lambda = 45.0\n",
      "uTu = 0.000987886782554132\n",
      "lambda = 42.5\n",
      "uTu = 0.0010423296689212494\n",
      "lambda = 43.75\n",
      "uTu = 0.001014435619714938\n",
      "lambda = 44.375\n",
      "uTu = 0.0010009992940004547\n"
     ]
    },
    {
     "name": "stderr",
     "output_type": "stream",
     "text": [
      "\r",
      " 29%|██▉       | 35/120 [07:35<18:14, 12.88s/it]"
     ]
    },
    {
     "name": "stdout",
     "output_type": "stream",
     "text": [
      "Initial lambda is 10\n",
      "With corresponding starting state cost 0.004533723075445757\n",
      "Increasing lmbda high - now lmbda = 20\n",
      "0.002460720521920988\n",
      "Increasing lmbda high - now lmbda = 40\n",
      "0.0012354439205863154\n",
      "Increasing lmbda high - now lmbda = 80\n",
      "0.0005719137954646095\n",
      "lambda = 40.0\n",
      "uTu = 0.0012354439205863154\n",
      "lambda = 60.0\n",
      "uTu = 0.0007957449054853503\n",
      "lambda = 50.0\n",
      "uTu = 0.000973225857678429\n",
      "lambda = 45.0\n",
      "uTu = 0.00109041158321542\n",
      "lambda = 47.5\n",
      "uTu = 0.0010288577000107618\n",
      "lambda = 48.75\n",
      "uTu = 0.0010003554798247408\n"
     ]
    },
    {
     "name": "stderr",
     "output_type": "stream",
     "text": [
      "\r",
      " 30%|███       | 36/120 [07:47<17:38, 12.60s/it]"
     ]
    },
    {
     "name": "stdout",
     "output_type": "stream",
     "text": [
      "Initial lambda is 10\n",
      "With corresponding starting state cost 0.005345069114886009\n",
      "Increasing lmbda high - now lmbda = 20\n",
      "0.003327008035272073\n",
      "Increasing lmbda high - now lmbda = 40\n",
      "0.0019275021275119292\n",
      "Increasing lmbda high - now lmbda = 80\n",
      "0.0010148786205097344\n",
      "Increasing lmbda high - now lmbda = 160\n",
      "0.0004738629389919611\n",
      "lambda = 80.0\n",
      "uTu = 0.0010148786205097344\n",
      "lambda = 120.0\n",
      "uTu = 0.00066036132687605\n",
      "lambda = 100.0\n",
      "uTu = 0.0008054499808054861\n",
      "lambda = 90.0\n",
      "uTu = 0.000899770118573017\n",
      "lambda = 85.0\n",
      "uTu = 0.0009543252189909414\n",
      "lambda = 82.5\n",
      "uTu = 0.0009837926809963661\n",
      "lambda = 81.25\n",
      "uTu = 0.000999125202318664\n"
     ]
    },
    {
     "name": "stderr",
     "output_type": "stream",
     "text": [
      "\r",
      " 31%|███       | 37/120 [08:02<18:06, 13.09s/it]"
     ]
    },
    {
     "name": "stdout",
     "output_type": "stream",
     "text": [
      "Initial lambda is 10\n",
      "With corresponding starting state cost 0.002140114585920308\n",
      "Increasing lmbda high - now lmbda = 20\n",
      "0.001360025210368585\n",
      "Increasing lmbda high - now lmbda = 40\n",
      "0.0008156843412089233\n",
      "lambda = 20.0\n",
      "uTu = 0.001360025210368585\n",
      "lambda = 30.0\n",
      "uTu = 0.0010169282485713081\n",
      "lambda = 35.0\n",
      "uTu = 0.0009050279796969774\n",
      "lambda = 32.5\n",
      "uTu = 0.0009576228370275115\n",
      "lambda = 31.25\n",
      "uTu = 0.0009863536881641519\n",
      "lambda = 30.625\n",
      "uTu = 0.001001398848957048\n",
      "lambda = 30.9375\n",
      "uTu = 0.0009938172593090709\n",
      "lambda = 30.78125\n",
      "uTu = 0.0009975931159199008\n",
      "lambda = 30.703125\n",
      "uTu = 0.0009994922242897992\n"
     ]
    },
    {
     "name": "stderr",
     "output_type": "stream",
     "text": [
      "\r",
      " 32%|███▏      | 38/120 [08:15<18:11, 13.31s/it]"
     ]
    },
    {
     "name": "stdout",
     "output_type": "stream",
     "text": [
      "Initial lambda is 10\n",
      "With corresponding starting state cost 0.0032345338523478485\n",
      "Increasing lmbda high - now lmbda = 20\n",
      "0.0015959113748080591\n",
      "Increasing lmbda high - now lmbda = 40\n",
      "0.000718774142932438\n",
      "lambda = 20.0\n",
      "uTu = 0.0015959113748080591\n",
      "lambda = 30.0\n",
      "uTu = 0.001010294499038771\n",
      "lambda = 35.0\n",
      "uTu = 0.0008430145525256429\n",
      "lambda = 32.5\n",
      "uTu = 0.0009200633806397747\n",
      "lambda = 31.25\n",
      "uTu = 0.0009633395574632106\n",
      "lambda = 30.625\n",
      "uTu = 0.0009863299996533115\n",
      "lambda = 30.3125\n",
      "uTu = 0.0009981868629429795\n",
      "lambda = 30.15625\n",
      "uTu = 0.001004208865219403\n",
      "lambda = 30.234375\n",
      "uTu = 0.0010011899694990546\n",
      "lambda = 30.2734375\n",
      "uTu = 0.0009996864499323748\n"
     ]
    },
    {
     "name": "stderr",
     "output_type": "stream",
     "text": [
      "\r",
      " 32%|███▎      | 39/120 [08:31<18:42, 13.85s/it]"
     ]
    },
    {
     "name": "stdout",
     "output_type": "stream",
     "text": [
      "Initial lambda is 10\n",
      "With corresponding starting state cost 0.004184659687874013\n",
      "Increasing lmbda high - now lmbda = 20\n",
      "0.0020330991774094925\n",
      "Increasing lmbda high - now lmbda = 40\n",
      "0.00089953773446418\n",
      "lambda = 20.0\n",
      "uTu = 0.0020330991774094925\n",
      "lambda = 30.0\n",
      "uTu = 0.0012735846829756267\n",
      "lambda = 35.0\n",
      "uTu = 0.0010586175832841692\n",
      "lambda = 37.5\n",
      "uTu = 0.0009734839041236337\n",
      "lambda = 36.25\n",
      "uTu = 0.0010145074105877437\n",
      "lambda = 36.875\n",
      "uTu = 0.0009936294313645003\n",
      "lambda = 36.5625\n",
      "uTu = 0.0010039745154571218\n",
      "lambda = 36.71875\n",
      "uTu = 0.0009987787967413086\n",
      "lambda = 36.640625\n",
      "uTu = 0.0010013708248567696\n",
      "lambda = 36.6796875\n",
      "uTu = 0.0010000733576468214\n"
     ]
    },
    {
     "name": "stderr",
     "output_type": "stream",
     "text": [
      "\r",
      " 33%|███▎      | 40/120 [08:46<18:58, 14.23s/it]"
     ]
    },
    {
     "name": "stdout",
     "output_type": "stream",
     "text": [
      "Initial lambda is 10\n",
      "With corresponding starting state cost 0.005328308183413701\n",
      "Increasing lmbda high - now lmbda = 20\n",
      "0.0027330449308765395\n",
      "Increasing lmbda high - now lmbda = 40\n",
      "0.001358084627651116\n",
      "Increasing lmbda high - now lmbda = 80\n",
      "0.000665488784408183\n",
      "lambda = 40.0\n",
      "uTu = 0.001358084627651116\n",
      "lambda = 60.0\n",
      "uTu = 0.0008969570988922142\n",
      "lambda = 50.0\n",
      "uTu = 0.0010814951835518482\n",
      "lambda = 55.0\n",
      "uTu = 0.0009808708345665563\n",
      "lambda = 52.5\n",
      "uTu = 0.0010287940508920024\n",
      "lambda = 53.75\n",
      "uTu = 0.0010042770921602322\n",
      "lambda = 54.375\n",
      "uTu = 0.0009924399398780473\n",
      "lambda = 54.0625\n",
      "uTu = 0.0009983244258089687\n",
      "lambda = 53.90625\n",
      "uTu = 0.00100129216190407\n",
      "lambda = 53.984375\n",
      "uTu = 0.0009998061539699533\n"
     ]
    },
    {
     "name": "stderr",
     "output_type": "stream",
     "text": [
      "\r",
      " 34%|███▍      | 41/120 [09:02<19:30, 14.82s/it]"
     ]
    },
    {
     "name": "stdout",
     "output_type": "stream",
     "text": [
      "Initial lambda is 10\n",
      "With corresponding starting state cost 0.004438609839301629\n",
      "Increasing lmbda high - now lmbda = 20\n",
      "0.002086431070608275\n",
      "Increasing lmbda high - now lmbda = 40\n",
      "0.0009656668383001572\n",
      "lambda = 20.0\n",
      "uTu = 0.002086431070608275\n",
      "lambda = 30.0\n",
      "uTu = 0.0013283842623677798\n",
      "lambda = 35.0\n",
      "uTu = 0.0011194018900247617\n",
      "lambda = 37.5\n",
      "uTu = 0.0010370665678448314\n",
      "lambda = 38.75\n",
      "uTu = 0.0010001380384551657\n"
     ]
    },
    {
     "name": "stderr",
     "output_type": "stream",
     "text": [
      "\r",
      " 35%|███▌      | 42/120 [09:11<17:14, 13.27s/it]"
     ]
    },
    {
     "name": "stdout",
     "output_type": "stream",
     "text": [
      "Initial lambda is 10\n",
      "With corresponding starting state cost 0.0026172305649841557\n",
      "Increasing lmbda high - now lmbda = 20\n",
      "0.0014082301749403755\n",
      "Increasing lmbda high - now lmbda = 40\n",
      "0.0007584676929146046\n",
      "lambda = 20.0\n",
      "uTu = 0.0014082301749403755\n",
      "lambda = 30.0\n",
      "uTu = 0.0009804317958343569\n",
      "lambda = 25.0\n",
      "uTu = 0.001153516956469974\n",
      "lambda = 27.5\n",
      "uTu = 0.0010594954527880598\n",
      "lambda = 28.75\n",
      "uTu = 0.001018333098164394\n",
      "lambda = 29.375\n",
      "uTu = 0.0009990003463002804\n"
     ]
    },
    {
     "name": "stderr",
     "output_type": "stream",
     "text": [
      "\r",
      " 36%|███▌      | 43/120 [09:22<16:06, 12.55s/it]"
     ]
    },
    {
     "name": "stdout",
     "output_type": "stream",
     "text": [
      "Initial lambda is 10\n",
      "With corresponding starting state cost 0.0019852853065692273\n",
      "Increasing lmbda high - now lmbda = 20\n",
      "0.001000142917446438\n",
      "Increasing lmbda high - now lmbda = 40\n",
      "0.0005098022325225903\n",
      "lambda = 20.0\n",
      "uTu = 0.001000142917446438\n",
      "lambda = 30.0\n",
      "uTu = 0.0006730828952925812\n",
      "lambda = 25.0\n",
      "uTu = 0.0008037850610496007\n",
      "lambda = 22.5\n",
      "uTu = 0.0008910093662545552\n",
      "lambda = 21.25\n",
      "uTu = 0.0009423524844314135\n",
      "lambda = 20.625\n",
      "uTu = 0.0009703682958021738\n",
      "lambda = 20.3125\n",
      "uTu = 0.0009850255794752291\n",
      "lambda = 20.15625\n",
      "uTu = 0.000992525400661178\n",
      "lambda = 20.078125\n",
      "uTu = 0.0009963192749114854\n",
      "lambda = 20.0390625\n",
      "uTu = 0.0009982273533256211\n",
      "lambda = 20.01953125\n",
      "uTu = 0.0009991841969268455\n"
     ]
    },
    {
     "name": "stderr",
     "output_type": "stream",
     "text": [
      "\r",
      " 37%|███▋      | 44/120 [09:39<17:16, 13.64s/it]"
     ]
    },
    {
     "name": "stdout",
     "output_type": "stream",
     "text": [
      "Initial lambda is 10\n",
      "With corresponding starting state cost 0.004754755814588399\n",
      "Increasing lmbda high - now lmbda = 20\n",
      "0.0023294186464195505\n",
      "Increasing lmbda high - now lmbda = 40\n",
      "0.0010918153199374054\n",
      "Increasing lmbda high - now lmbda = 80\n",
      "0.0005006411760294118\n",
      "lambda = 40.0\n",
      "uTu = 0.0010918153199374054\n",
      "lambda = 60.0\n",
      "uTu = 0.0006935590176914362\n",
      "lambda = 50.0\n",
      "uTu = 0.0008511878938208281\n",
      "lambda = 45.0\n",
      "uTu = 0.0009575883807339492\n",
      "lambda = 42.5\n",
      "uTu = 0.001020597854504306\n",
      "lambda = 43.75\n",
      "uTu = 0.0009881565413967168\n",
      "lambda = 43.125\n",
      "uTu = 0.0010041326876003638\n",
      "lambda = 43.4375\n",
      "uTu = 0.000996084829441384\n",
      "lambda = 43.28125\n",
      "uTu = 0.00100009364747681\n"
     ]
    },
    {
     "name": "stderr",
     "output_type": "stream",
     "text": [
      "\r",
      " 38%|███▊      | 45/120 [09:53<17:28, 13.98s/it]"
     ]
    },
    {
     "name": "stdout",
     "output_type": "stream",
     "text": [
      "Initial lambda is 10\n",
      "With corresponding starting state cost 0.0066875636492348236\n",
      "Increasing lmbda high - now lmbda = 20\n",
      "0.003227773102969583\n",
      "Increasing lmbda high - now lmbda = 40\n",
      "0.0014453036732262566\n",
      "Increasing lmbda high - now lmbda = 80\n",
      "0.0006282309063652964\n",
      "lambda = 40.0\n",
      "uTu = 0.0014453036732262566\n",
      "lambda = 60.0\n",
      "uTu = 0.0008893021726799404\n",
      "lambda = 50.0\n",
      "uTu = 0.001107154743312733\n",
      "lambda = 55.0\n",
      "uTu = 0.0009874527086871725\n",
      "lambda = 52.5\n",
      "uTu = 0.0010442059005570583\n",
      "lambda = 53.75\n",
      "uTu = 0.0010151113282221042\n",
      "lambda = 54.375\n",
      "uTu = 0.0010011090055096008\n",
      "lambda = 54.6875\n",
      "uTu = 0.0009942383809328254\n",
      "lambda = 54.53125\n",
      "uTu = 0.000997662978467361\n",
      "lambda = 54.453125\n",
      "uTu = 0.000999383301213191\n"
     ]
    },
    {
     "name": "stderr",
     "output_type": "stream",
     "text": [
      "\r",
      " 38%|███▊      | 46/120 [10:10<18:04, 14.65s/it]"
     ]
    },
    {
     "name": "stdout",
     "output_type": "stream",
     "text": [
      "Initial lambda is 10\n",
      "With corresponding starting state cost 0.0035604547384198173\n",
      "Increasing lmbda high - now lmbda = 20\n",
      "0.0015756933322454698\n",
      "Increasing lmbda high - now lmbda = 40\n",
      "0.0006514257089526035\n",
      "lambda = 20.0\n",
      "uTu = 0.0015756933322454698\n",
      "lambda = 30.0\n",
      "uTu = 0.0009443203555793653\n",
      "lambda = 25.0\n",
      "uTu = 0.001191430818594933\n",
      "lambda = 27.5\n",
      "uTu = 0.001055501896674453\n",
      "lambda = 28.75\n",
      "uTu = 0.0009972340266469974\n",
      "lambda = 28.125\n",
      "uTu = 0.0010256524161449934\n",
      "lambda = 28.4375\n",
      "uTu = 0.0010112704367599666\n",
      "lambda = 28.59375\n",
      "uTu = 0.0010042097691028698\n",
      "lambda = 28.671875\n",
      "uTu = 0.001000711372170161\n"
     ]
    },
    {
     "name": "stderr",
     "output_type": "stream",
     "text": [
      "\r",
      " 39%|███▉      | 47/120 [10:24<17:35, 14.47s/it]"
     ]
    },
    {
     "name": "stdout",
     "output_type": "stream",
     "text": [
      "Initial lambda is 10\n",
      "With corresponding starting state cost 0.002844813599254508\n",
      "Increasing lmbda high - now lmbda = 20\n",
      "0.001379008879689018\n",
      "Increasing lmbda high - now lmbda = 40\n",
      "0.0006642510710637171\n",
      "lambda = 20.0\n",
      "uTu = 0.001379008879689018\n",
      "lambda = 30.0\n",
      "uTu = 0.000900663338863478\n",
      "lambda = 25.0\n",
      "uTu = 0.001091107763233835\n",
      "lambda = 27.5\n",
      "uTu = 0.0009870784118648464\n",
      "lambda = 26.25\n",
      "uTu = 0.0010365710460355283\n",
      "lambda = 26.875\n",
      "uTu = 0.0010112389675095675\n",
      "lambda = 27.1875\n",
      "uTu = 0.0009990173872048416\n"
     ]
    },
    {
     "name": "stderr",
     "output_type": "stream",
     "text": [
      "\r",
      " 40%|████      | 48/120 [10:36<16:29, 13.74s/it]"
     ]
    },
    {
     "name": "stdout",
     "output_type": "stream",
     "text": [
      "Initial lambda is 10\n",
      "With corresponding starting state cost 0.002814678172512035\n",
      "Increasing lmbda high - now lmbda = 20\n",
      "0.00154121969718377\n",
      "Increasing lmbda high - now lmbda = 40\n",
      "0.0008066331464215044\n",
      "lambda = 20.0\n",
      "uTu = 0.00154121969718377\n",
      "lambda = 30.0\n",
      "uTu = 0.0010627814653977742\n",
      "lambda = 35.0\n",
      "uTu = 0.0009181133024229864\n",
      "lambda = 32.5\n",
      "uTu = 0.0009854123836419149\n",
      "lambda = 31.25\n",
      "uTu = 0.00102269800999525\n",
      "lambda = 31.875\n",
      "uTu = 0.0010037246192881916\n",
      "lambda = 32.1875\n",
      "uTu = 0.0009944880963308898\n",
      "lambda = 32.03125\n",
      "uTu = 0.0009990859831031762\n"
     ]
    },
    {
     "name": "stderr",
     "output_type": "stream",
     "text": [
      "\r",
      " 41%|████      | 49/120 [10:48<15:56, 13.47s/it]"
     ]
    },
    {
     "name": "stdout",
     "output_type": "stream",
     "text": [
      "Initial lambda is 10\n",
      "With corresponding starting state cost 0.0038566811215173997\n",
      "Increasing lmbda high - now lmbda = 20\n",
      "0.0018728621872731457\n",
      "Increasing lmbda high - now lmbda = 40\n",
      "0.0008437015927602739\n",
      "lambda = 20.0\n",
      "uTu = 0.0018728621872731457\n",
      "lambda = 30.0\n",
      "uTu = 0.0011837711497541756\n",
      "lambda = 35.0\n",
      "uTu = 0.0009885489133529904\n",
      "lambda = 32.5\n",
      "uTu = 0.0010784177583765106\n",
      "lambda = 33.75\n",
      "uTu = 0.0010317610968958368\n",
      "lambda = 34.375\n",
      "uTu = 0.0010097478025265295\n",
      "lambda = 34.6875\n",
      "uTu = 0.0009990492971181358\n"
     ]
    },
    {
     "name": "stderr",
     "output_type": "stream",
     "text": [
      "\r",
      " 42%|████▏     | 50/120 [11:00<15:08, 12.97s/it]"
     ]
    },
    {
     "name": "stdout",
     "output_type": "stream",
     "text": [
      "Initial lambda is 10\n",
      "With corresponding starting state cost 0.003305987987062561\n",
      "Increasing lmbda high - now lmbda = 20\n",
      "0.0014944832378463032\n",
      "Increasing lmbda high - now lmbda = 40\n",
      "0.0006517116389856901\n",
      "lambda = 20.0\n",
      "uTu = 0.0014944832378463032\n",
      "lambda = 30.0\n",
      "uTu = 0.0009209953411100642\n",
      "lambda = 25.0\n",
      "uTu = 0.0011459936671904432\n",
      "lambda = 27.5\n",
      "uTu = 0.001022380558252517\n",
      "lambda = 28.75\n",
      "uTu = 0.0009692849254078459\n",
      "lambda = 28.125\n",
      "uTu = 0.0009951903115153046\n",
      "lambda = 27.8125\n",
      "uTu = 0.0010086192040308496\n",
      "lambda = 27.96875\n",
      "uTu = 0.001001863922783315\n",
      "lambda = 28.046875\n",
      "uTu = 0.0009985169969654603\n",
      "lambda = 28.0078125\n",
      "uTu = 0.0010001879188358614\n"
     ]
    },
    {
     "name": "stderr",
     "output_type": "stream",
     "text": [
      "\r",
      " 42%|████▎     | 51/120 [11:15<15:34, 13.55s/it]"
     ]
    },
    {
     "name": "stdout",
     "output_type": "stream",
     "text": [
      "Initial lambda is 10\n",
      "With corresponding starting state cost 0.0025938287357685193\n",
      "Increasing lmbda high - now lmbda = 20\n",
      "0.0012931227611174645\n",
      "Increasing lmbda high - now lmbda = 40\n",
      "0.0006373051225591133\n",
      "lambda = 20.0\n",
      "uTu = 0.0012931227611174645\n",
      "lambda = 30.0\n",
      "uTu = 0.0008548369664095212\n",
      "lambda = 25.0\n",
      "uTu = 0.0010298061077797698\n",
      "lambda = 27.5\n",
      "uTu = 0.0009342826278074994\n",
      "lambda = 26.25\n",
      "uTu = 0.000979747204204938\n",
      "lambda = 25.625\n",
      "uTu = 0.0010041603763518531\n",
      "lambda = 25.9375\n",
      "uTu = 0.0009918052808985083\n",
      "lambda = 25.78125\n",
      "uTu = 0.0009979450269798273\n",
      "lambda = 25.703125\n",
      "uTu = 0.0010010431651985038\n",
      "lambda = 25.7421875\n",
      "uTu = 0.0009994917228097933\n"
     ]
    },
    {
     "name": "stderr",
     "output_type": "stream",
     "text": [
      "\r",
      " 43%|████▎     | 52/120 [11:30<15:54, 14.04s/it]"
     ]
    },
    {
     "name": "stdout",
     "output_type": "stream",
     "text": [
      "Initial lambda is 10\n",
      "With corresponding starting state cost 0.002112502363505278\n",
      "Increasing lmbda high - now lmbda = 20\n",
      "0.0012072793108917881\n",
      "Increasing lmbda high - now lmbda = 40\n",
      "0.0006828099899839608\n",
      "lambda = 20.0\n",
      "uTu = 0.0012072793108917881\n",
      "lambda = 30.0\n",
      "uTu = 0.0008678850371534892\n",
      "lambda = 25.0\n",
      "uTu = 0.001007528625808676\n",
      "lambda = 27.5\n",
      "uTu = 0.0009321279028396245\n",
      "lambda = 26.25\n",
      "uTu = 0.0009682473065447534\n",
      "lambda = 25.625\n",
      "uTu = 0.0009874656252701246\n",
      "lambda = 25.3125\n",
      "uTu = 0.0009973878706147374\n",
      "lambda = 25.15625\n",
      "uTu = 0.0010024304565434726\n",
      "lambda = 25.234375\n",
      "uTu = 0.0009999022762960635\n"
     ]
    },
    {
     "name": "stderr",
     "output_type": "stream",
     "text": [
      "\r",
      " 44%|████▍     | 53/120 [11:44<15:37, 13.99s/it]"
     ]
    },
    {
     "name": "stdout",
     "output_type": "stream",
     "text": [
      "Initial lambda is 10\n",
      "With corresponding starting state cost 0.002863100103341555\n",
      "Increasing lmbda high - now lmbda = 20\n",
      "0.001423159297574879\n",
      "Increasing lmbda high - now lmbda = 40\n",
      "0.000745425793777387\n",
      "lambda = 20.0\n",
      "uTu = 0.001423159297574879\n",
      "lambda = 30.0\n",
      "uTu = 0.0009686527258669285\n",
      "lambda = 25.0\n",
      "uTu = 0.001148697024549333\n",
      "lambda = 27.5\n",
      "uTu = 0.0010502385511059471\n",
      "lambda = 28.75\n",
      "uTu = 0.0010076252019622647\n",
      "lambda = 29.375\n",
      "uTu = 0.0009877143618587862\n",
      "lambda = 29.0625\n",
      "uTu = 0.0009975600312421026\n",
      "lambda = 28.90625\n",
      "uTu = 0.0010025647111887013\n",
      "lambda = 28.984375\n",
      "uTu = 0.001000055454150144\n"
     ]
    },
    {
     "name": "stderr",
     "output_type": "stream",
     "text": [
      "\r",
      " 45%|████▌     | 54/120 [11:58<15:20, 13.95s/it]"
     ]
    },
    {
     "name": "stdout",
     "output_type": "stream",
     "text": [
      "Initial lambda is 10\n",
      "With corresponding starting state cost 0.005192041181787182\n",
      "Increasing lmbda high - now lmbda = 20\n",
      "0.0022503146114059504\n",
      "Increasing lmbda high - now lmbda = 40\n",
      "0.0008831039523989513\n",
      "lambda = 20.0\n",
      "uTu = 0.0022503146114059504\n",
      "lambda = 30.0\n",
      "uTu = 0.0013137862486698826\n",
      "lambda = 35.0\n",
      "uTu = 0.0010632340525505474\n",
      "lambda = 37.5\n",
      "uTu = 0.0009662283954101438\n",
      "lambda = 36.25\n",
      "uTu = 0.001012804155747922\n",
      "lambda = 36.875\n",
      "uTu = 0.0009890605778016181\n",
      "lambda = 36.5625\n",
      "uTu = 0.0010008153258462967\n"
     ]
    },
    {
     "name": "stderr",
     "output_type": "stream",
     "text": [
      "\r",
      " 46%|████▌     | 55/120 [12:10<14:27, 13.35s/it]"
     ]
    },
    {
     "name": "stdout",
     "output_type": "stream",
     "text": [
      "Initial lambda is 10\n",
      "With corresponding starting state cost 0.009644619739104084\n",
      "Increasing lmbda high - now lmbda = 20\n",
      "0.004357752222198411\n",
      "Increasing lmbda high - now lmbda = 40\n",
      "0.0017385179021482701\n",
      "Increasing lmbda high - now lmbda = 80\n",
      "0.0006320266275074769\n",
      "lambda = 40.0\n",
      "uTu = 0.0017385179021482701\n",
      "lambda = 60.0\n",
      "uTu = 0.0009699668063529898\n",
      "lambda = 50.0\n",
      "uTu = 0.0012652844634191173\n",
      "lambda = 55.0\n",
      "uTu = 0.0011018392498816018\n",
      "lambda = 57.5\n",
      "uTu = 0.0010325115565337818\n",
      "lambda = 58.75\n",
      "uTu = 0.0010004500195936001\n"
     ]
    },
    {
     "name": "stderr",
     "output_type": "stream",
     "text": [
      "\r",
      " 47%|████▋     | 56/120 [12:22<13:49, 12.95s/it]"
     ]
    },
    {
     "name": "stdout",
     "output_type": "stream",
     "text": [
      "Initial lambda is 10\n",
      "With corresponding starting state cost 0.006258793309379987\n",
      "Increasing lmbda high - now lmbda = 20\n",
      "0.002731703353868394\n",
      "Increasing lmbda high - now lmbda = 40\n",
      "0.001088270574872068\n",
      "Increasing lmbda high - now lmbda = 80\n",
      "0.00042016463172467203\n",
      "lambda = 40.0\n",
      "uTu = 0.001088270574872068\n",
      "lambda = 60.0\n",
      "uTu = 0.0006236968676688953\n",
      "lambda = 50.0\n",
      "uTu = 0.0008015044305539363\n",
      "lambda = 45.0\n",
      "uTu = 0.0009262688315783609\n",
      "lambda = 42.5\n",
      "uTu = 0.0010017193521414658\n",
      "lambda = 43.75\n",
      "uTu = 0.0009627351391915341\n",
      "lambda = 43.125\n",
      "uTu = 0.000981897638999705\n",
      "lambda = 42.8125\n",
      "uTu = 0.0009917241364397178\n",
      "lambda = 42.65625\n",
      "uTu = 0.000996700403299028\n",
      "lambda = 42.578125\n",
      "uTu = 0.0009992045106520073\n"
     ]
    },
    {
     "name": "stderr",
     "output_type": "stream",
     "text": [
      "\r",
      " 48%|████▊     | 57/120 [12:38<14:36, 13.91s/it]"
     ]
    },
    {
     "name": "stdout",
     "output_type": "stream",
     "text": [
      "Initial lambda is 10\n",
      "With corresponding starting state cost 0.008273755593825493\n",
      "Increasing lmbda high - now lmbda = 20\n",
      "0.003621261286662302\n",
      "Increasing lmbda high - now lmbda = 40\n",
      "0.0014636737270486018\n",
      "Increasing lmbda high - now lmbda = 80\n",
      "0.0005738670596929054\n",
      "lambda = 40.0\n",
      "uTu = 0.0014636737270486018\n",
      "lambda = 60.0\n",
      "uTu = 0.0008473095734663684\n",
      "lambda = 50.0\n",
      "uTu = 0.0010841181774913853\n",
      "lambda = 55.0\n",
      "uTu = 0.0009531487387749078\n",
      "lambda = 52.5\n",
      "uTu = 0.0010149976226258145\n",
      "lambda = 53.75\n",
      "uTu = 0.0009832336527699826\n",
      "lambda = 53.125\n",
      "uTu = 0.0009988976162188152\n",
      "lambda = 52.8125\n",
      "uTu = 0.0010068920520125983\n",
      "lambda = 52.96875\n",
      "uTu = 0.0010028810770883012\n",
      "lambda = 53.046875\n",
      "uTu = 0.001000885924066218\n"
     ]
    },
    {
     "name": "stderr",
     "output_type": "stream",
     "text": [
      "\r",
      " 48%|████▊     | 58/120 [12:55<15:08, 14.66s/it]"
     ]
    },
    {
     "name": "stdout",
     "output_type": "stream",
     "text": [
      "Initial lambda is 10\n",
      "With corresponding starting state cost 0.010768631076537406\n",
      "Increasing lmbda high - now lmbda = 20\n",
      "0.004932027223565617\n",
      "Increasing lmbda high - now lmbda = 40\n",
      "0.0020345298585489066\n",
      "Increasing lmbda high - now lmbda = 80\n",
      "0.000768726565545783\n",
      "lambda = 40.0\n",
      "uTu = 0.0020345298585489066\n",
      "lambda = 60.0\n",
      "uTu = 0.0011625682935605213\n",
      "lambda = 70.0\n",
      "uTu = 0.0009329849781184365\n",
      "lambda = 65.0\n",
      "uTu = 0.0010375675034991249\n",
      "lambda = 67.5\n",
      "uTu = 0.0009830287275852047\n",
      "lambda = 66.25\n",
      "uTu = 0.0010097018776895538\n",
      "lambda = 66.875\n",
      "uTu = 0.0009962207471985523\n",
      "lambda = 66.5625\n",
      "uTu = 0.0010029246243374967\n",
      "lambda = 66.71875\n",
      "uTu = 0.0009995635832344052\n"
     ]
    },
    {
     "name": "stderr",
     "output_type": "stream",
     "text": [
      "\r",
      " 49%|████▉     | 59/120 [13:10<15:07, 14.87s/it]"
     ]
    },
    {
     "name": "stdout",
     "output_type": "stream",
     "text": [
      "Initial lambda is 10\n",
      "With corresponding starting state cost 0.002809548564862517\n",
      "Increasing lmbda high - now lmbda = 20\n",
      "0.0012798286240596943\n",
      "Increasing lmbda high - now lmbda = 40\n",
      "0.0005772821094372434\n",
      "lambda = 20.0\n",
      "uTu = 0.0012798286240596943\n",
      "lambda = 30.0\n",
      "uTu = 0.0008030925995196388\n",
      "lambda = 25.0\n",
      "uTu = 0.0009903226392724378\n",
      "lambda = 22.5\n",
      "uTu = 0.0011178444742646167\n",
      "lambda = 23.75\n",
      "uTu = 0.0010504806263280364\n",
      "lambda = 24.375\n",
      "uTu = 0.0010195729468252322\n",
      "lambda = 24.6875\n",
      "uTu = 0.0010047488145864506\n",
      "lambda = 24.84375\n",
      "uTu = 0.0009974869604561776\n",
      "lambda = 24.765625\n",
      "uTu = 0.0010011055756035025\n",
      "lambda = 24.8046875\n",
      "uTu = 0.000999293205208719\n"
     ]
    },
    {
     "name": "stderr",
     "output_type": "stream",
     "text": [
      "\r",
      " 50%|█████     | 60/120 [13:25<14:54, 14.90s/it]"
     ]
    },
    {
     "name": "stdout",
     "output_type": "stream",
     "text": [
      "Initial lambda is 10\n",
      "With corresponding starting state cost 0.0024494299935439944\n",
      "Increasing lmbda high - now lmbda = 20\n",
      "0.001124540951966973\n",
      "Increasing lmbda high - now lmbda = 40\n",
      "0.0005287165420644056\n",
      "lambda = 20.0\n",
      "uTu = 0.001124540951966973\n",
      "lambda = 30.0\n",
      "uTu = 0.000720939875017363\n",
      "lambda = 25.0\n",
      "uTu = 0.0008793826436316484\n",
      "lambda = 22.5\n",
      "uTu = 0.0009872709144509\n",
      "lambda = 21.25\n",
      "uTu = 0.0010515443658032824\n",
      "lambda = 21.875\n",
      "uTu = 0.0010184161461539627\n",
      "lambda = 22.1875\n",
      "uTu = 0.0010026067545600063\n",
      "lambda = 22.34375\n",
      "uTu = 0.0009948809572287234\n",
      "lambda = 22.265625\n",
      "uTu = 0.000998729224995809\n",
      "lambda = 22.2265625\n",
      "uTu = 0.0010006643115973205\n"
     ]
    },
    {
     "name": "stderr",
     "output_type": "stream",
     "text": [
      "\r",
      " 51%|█████     | 61/120 [13:40<14:41, 14.95s/it]"
     ]
    },
    {
     "name": "stdout",
     "output_type": "stream",
     "text": [
      "Initial lambda is 10\n",
      "With corresponding starting state cost 0.004507663572388537\n",
      "Increasing lmbda high - now lmbda = 20\n",
      "0.0021714057264125798\n",
      "Increasing lmbda high - now lmbda = 40\n",
      "0.0009487844995953416\n",
      "lambda = 20.0\n",
      "uTu = 0.0021714057264125798\n",
      "lambda = 30.0\n",
      "uTu = 0.001350829871397133\n",
      "lambda = 35.0\n",
      "uTu = 0.001119520046090477\n",
      "lambda = 37.5\n",
      "uTu = 0.0010280944561461506\n",
      "lambda = 38.75\n",
      "uTu = 0.000987072616134984\n",
      "lambda = 38.125\n",
      "uTu = 0.0010072248508266686\n",
      "lambda = 38.4375\n",
      "uTu = 0.0009970612678799058\n",
      "lambda = 38.28125\n",
      "uTu = 0.001002120922746204\n",
      "lambda = 38.359375\n",
      "uTu = 0.0009995855952740224\n"
     ]
    },
    {
     "name": "stderr",
     "output_type": "stream",
     "text": [
      "\r",
      " 52%|█████▏    | 62/120 [13:54<14:07, 14.61s/it]"
     ]
    },
    {
     "name": "stdout",
     "output_type": "stream",
     "text": [
      "Initial lambda is 10\n",
      "With corresponding starting state cost 0.010096631245224287\n",
      "Increasing lmbda high - now lmbda = 20\n",
      "0.004489879893776753\n",
      "Increasing lmbda high - now lmbda = 40\n",
      "0.001785345010806115\n",
      "Increasing lmbda high - now lmbda = 80\n",
      "0.0006647141356304877\n",
      "lambda = 40.0\n",
      "uTu = 0.001785345010806115\n",
      "lambda = 60.0\n",
      "uTu = 0.0010063497987469867\n",
      "lambda = 70.0\n",
      "uTu = 0.0008062779359932502\n",
      "lambda = 65.0\n",
      "uTu = 0.0008971091800516473\n",
      "lambda = 62.5\n",
      "uTu = 0.0009491210301943042\n",
      "lambda = 61.25\n",
      "uTu = 0.0009770390498475329\n",
      "lambda = 60.625\n",
      "uTu = 0.0009915143786779722\n",
      "lambda = 60.3125\n",
      "uTu = 0.0009988863044290738\n",
      "lambda = 60.15625\n",
      "uTu = 0.0010026065070500925\n",
      "lambda = 60.234375\n",
      "uTu = 0.0010007435319978268\n"
     ]
    },
    {
     "name": "stderr",
     "output_type": "stream",
     "text": [
      "\r",
      " 52%|█████▎    | 63/120 [14:10<14:19, 15.08s/it]"
     ]
    },
    {
     "name": "stdout",
     "output_type": "stream",
     "text": [
      "Initial lambda is 10\n",
      "With corresponding starting state cost 0.008275527885223838\n",
      "Increasing lmbda high - now lmbda = 20\n",
      "0.0034338493724392592\n",
      "Increasing lmbda high - now lmbda = 40\n",
      "0.0013256340749912055\n",
      "Increasing lmbda high - now lmbda = 80\n",
      "0.0004894526007882823\n",
      "lambda = 40.0\n",
      "uTu = 0.0013256340749912055\n",
      "lambda = 60.0\n",
      "uTu = 0.0007431030321731926\n",
      "lambda = 50.0\n",
      "uTu = 0.000965515377937811\n",
      "lambda = 45.0\n",
      "uTu = 0.0011219715885667472\n",
      "lambda = 47.5\n",
      "uTu = 0.001038865581856512\n",
      "lambda = 48.75\n",
      "uTu = 0.0010010745368377134\n",
      "lambda = 49.375\n",
      "uTu = 0.0009830276924551753\n",
      "lambda = 49.0625\n",
      "uTu = 0.0009919828831030549\n",
      "lambda = 48.90625\n",
      "uTu = 0.0009965114709445326\n",
      "lambda = 48.828125\n",
      "uTu = 0.0009987886712213938\n",
      "lambda = 48.7890625\n",
      "uTu = 0.0009999305179808364\n"
     ]
    },
    {
     "name": "stderr",
     "output_type": "stream",
     "text": [
      "\r",
      " 53%|█████▎    | 64/120 [14:28<14:48, 15.87s/it]"
     ]
    },
    {
     "name": "stdout",
     "output_type": "stream",
     "text": [
      "Initial lambda is 10\n",
      "With corresponding starting state cost 0.005744192096576553\n",
      "Increasing lmbda high - now lmbda = 20\n",
      "0.002518769919476155\n",
      "Increasing lmbda high - now lmbda = 40\n",
      "0.0011145032998174356\n",
      "Increasing lmbda high - now lmbda = 80\n",
      "0.0005032968591434807\n",
      "lambda = 40.0\n",
      "uTu = 0.0011145032998174356\n",
      "lambda = 60.0\n",
      "uTu = 0.0006986305192248373\n",
      "lambda = 50.0\n",
      "uTu = 0.0008611263489935154\n",
      "lambda = 45.0\n",
      "uTu = 0.0009723652680220538\n",
      "lambda = 42.5\n",
      "uTu = 0.0010388369822810514\n",
      "lambda = 43.75\n",
      "uTu = 0.0010045575336404984\n",
      "lambda = 44.375\n",
      "uTu = 0.0009882123456385614\n",
      "lambda = 44.0625\n",
      "uTu = 0.000996321250953622\n",
      "lambda = 43.90625\n",
      "uTu = 0.001000423287325045\n"
     ]
    },
    {
     "name": "stderr",
     "output_type": "stream",
     "text": [
      "\r",
      " 54%|█████▍    | 65/120 [14:43<14:19, 15.63s/it]"
     ]
    },
    {
     "name": "stdout",
     "output_type": "stream",
     "text": [
      "Initial lambda is 10\n",
      "With corresponding starting state cost 0.005407096565359045\n",
      "Increasing lmbda high - now lmbda = 20\n",
      "0.0023012912078396166\n",
      "Increasing lmbda high - now lmbda = 40\n",
      "0.0009568217832617316\n",
      "lambda = 20.0\n",
      "uTu = 0.0023012912078396166\n",
      "lambda = 30.0\n",
      "uTu = 0.001376334806560479\n",
      "lambda = 35.0\n",
      "uTu = 0.0011322853010830474\n",
      "lambda = 37.5\n",
      "uTu = 0.0010378410805531263\n",
      "lambda = 38.75\n",
      "uTu = 0.000995830626373059\n",
      "lambda = 38.125\n",
      "uTu = 0.0010164404131740607\n",
      "lambda = 38.4375\n",
      "uTu = 0.001006039298710649\n",
      "lambda = 38.59375\n",
      "uTu = 0.0010009112272406635\n"
     ]
    },
    {
     "name": "stderr",
     "output_type": "stream",
     "text": [
      "\r",
      " 55%|█████▌    | 66/120 [14:56<13:20, 14.82s/it]"
     ]
    },
    {
     "name": "stdout",
     "output_type": "stream",
     "text": [
      "Initial lambda is 10\n",
      "With corresponding starting state cost 0.008992763216653\n",
      "Increasing lmbda high - now lmbda = 20\n",
      "0.003888546884847387\n",
      "Increasing lmbda high - now lmbda = 40\n",
      "0.001632557561751467\n",
      "Increasing lmbda high - now lmbda = 80\n",
      "0.0006838652570068454\n",
      "lambda = 40.0\n",
      "uTu = 0.001632557561751467\n",
      "lambda = 60.0\n",
      "uTu = 0.000981247097273273\n",
      "lambda = 50.0\n",
      "uTu = 0.0012335247364497505\n",
      "lambda = 55.0\n",
      "uTu = 0.0010944442974457603\n",
      "lambda = 57.5\n",
      "uTu = 0.0010350685982365468\n",
      "lambda = 58.75\n",
      "uTu = 0.0010075118010222253\n",
      "lambda = 59.375\n",
      "uTu = 0.000994223493185973\n",
      "lambda = 59.0625\n",
      "uTu = 0.001000827983233497\n"
     ]
    },
    {
     "name": "stderr",
     "output_type": "stream",
     "text": [
      "\r",
      " 56%|█████▌    | 67/120 [15:10<12:53, 14.60s/it]"
     ]
    },
    {
     "name": "stdout",
     "output_type": "stream",
     "text": [
      "Initial lambda is 10\n",
      "With corresponding starting state cost 0.00656517140620953\n",
      "Increasing lmbda high - now lmbda = 20\n",
      "0.003207513061729924\n",
      "Increasing lmbda high - now lmbda = 40\n",
      "0.0015041915799529652\n",
      "Increasing lmbda high - now lmbda = 80\n",
      "0.0006809881779378931\n",
      "lambda = 40.0\n",
      "uTu = 0.0015041915799529652\n",
      "lambda = 60.0\n",
      "uTu = 0.0009511514959759085\n",
      "lambda = 50.0\n",
      "uTu = 0.0011706935896495024\n",
      "lambda = 55.0\n",
      "uTu = 0.0010506213565144634\n",
      "lambda = 57.5\n",
      "uTu = 0.0009986527828211116\n",
      "lambda = 56.25\n",
      "uTu = 0.0010240407486500757\n",
      "lambda = 56.875\n",
      "uTu = 0.0010112026876195998\n",
      "lambda = 57.1875\n",
      "uTu = 0.0010048923167743204\n",
      "lambda = 57.34375\n",
      "uTu = 0.0010017637688721473\n",
      "lambda = 57.421875\n",
      "uTu = 0.0010002060897372632\n"
     ]
    },
    {
     "name": "stderr",
     "output_type": "stream",
     "text": [
      "\r",
      " 57%|█████▋    | 68/120 [15:26<13:06, 15.12s/it]"
     ]
    },
    {
     "name": "stdout",
     "output_type": "stream",
     "text": [
      "Initial lambda is 10\n",
      "With corresponding starting state cost 0.0035982483404637085\n",
      "Increasing lmbda high - now lmbda = 20\n",
      "0.0017455074562774384\n",
      "Increasing lmbda high - now lmbda = 40\n",
      "0.0008103075933619602\n",
      "lambda = 20.0\n",
      "uTu = 0.0017455074562774384\n",
      "lambda = 30.0\n",
      "uTu = 0.0011198307802398272\n",
      "lambda = 35.0\n",
      "uTu = 0.0009424309749739015\n",
      "lambda = 32.5\n",
      "uTu = 0.0010241636675812813\n",
      "lambda = 33.75\n",
      "uTu = 0.0009817489947304252\n",
      "lambda = 33.125\n",
      "uTu = 0.0010025473253943643\n",
      "lambda = 33.4375\n",
      "uTu = 0.0009920487760860287\n",
      "lambda = 33.28125\n",
      "uTu = 0.000997272854651629\n",
      "lambda = 33.203125\n",
      "uTu = 0.0009999037465246673\n"
     ]
    },
    {
     "name": "stderr",
     "output_type": "stream",
     "text": [
      "\r",
      " 57%|█████▊    | 69/120 [15:40<12:33, 14.78s/it]"
     ]
    },
    {
     "name": "stdout",
     "output_type": "stream",
     "text": [
      "Initial lambda is 10\n",
      "With corresponding starting state cost 0.0020577451504131842\n",
      "Increasing lmbda high - now lmbda = 20\n",
      "0.0010685150144663534\n",
      "Increasing lmbda high - now lmbda = 40\n",
      "0.0005320147801608567\n",
      "lambda = 20.0\n",
      "uTu = 0.0010685150144663534\n",
      "lambda = 30.0\n",
      "uTu = 0.0007132401713367548\n",
      "lambda = 25.0\n",
      "uTu = 0.000856694830292479\n",
      "lambda = 22.5\n",
      "uTu = 0.0009513737388203918\n",
      "lambda = 21.25\n",
      "uTu = 0.0010066718312876813\n",
      "lambda = 21.875\n",
      "uTu = 0.0009782705114532598\n",
      "lambda = 21.5625\n",
      "uTu = 0.0009922754283722144\n",
      "lambda = 21.40625\n",
      "uTu = 0.0009994236889237357\n"
     ]
    },
    {
     "name": "stderr",
     "output_type": "stream",
     "text": [
      "\r",
      " 58%|█████▊    | 70/120 [15:53<11:52, 14.25s/it]"
     ]
    },
    {
     "name": "stdout",
     "output_type": "stream",
     "text": [
      "Initial lambda is 10\n",
      "With corresponding starting state cost 0.005445831745411212\n",
      "Increasing lmbda high - now lmbda = 20\n",
      "0.002528490331184601\n",
      "Increasing lmbda high - now lmbda = 40\n",
      "0.0011175705843703132\n",
      "Increasing lmbda high - now lmbda = 80\n",
      "0.00047688233288821307\n",
      "lambda = 40.0\n",
      "uTu = 0.0011175705843703132\n",
      "lambda = 60.0\n",
      "uTu = 0.0006821890240120263\n",
      "lambda = 50.0\n",
      "uTu = 0.0008529494832947014\n",
      "lambda = 45.0\n",
      "uTu = 0.0009694288612744377\n",
      "lambda = 42.5\n",
      "uTu = 0.001038812860420219\n",
      "lambda = 43.75\n",
      "uTu = 0.0010030535902646682\n",
      "lambda = 44.375\n",
      "uTu = 0.0009859861500946233\n",
      "lambda = 44.0625\n",
      "uTu = 0.0009944546867123715\n",
      "lambda = 43.90625\n",
      "uTu = 0.0009987376612986794\n",
      "lambda = 43.828125\n",
      "uTu = 0.001000891483529698\n"
     ]
    },
    {
     "name": "stderr",
     "output_type": "stream",
     "text": [
      "\r",
      " 59%|█████▉    | 71/120 [16:09<12:08, 14.87s/it]"
     ]
    },
    {
     "name": "stdout",
     "output_type": "stream",
     "text": [
      "Initial lambda is 10\n",
      "With corresponding starting state cost 0.004130656645414496\n",
      "Increasing lmbda high - now lmbda = 20\n",
      "0.0019321245027361593\n",
      "Increasing lmbda high - now lmbda = 40\n",
      "0.0008846781231490965\n",
      "lambda = 20.0\n",
      "uTu = 0.0019321245027361593\n",
      "lambda = 30.0\n",
      "uTu = 0.0012247478929088378\n",
      "lambda = 35.0\n",
      "uTu = 0.001028984040521877\n",
      "lambda = 37.5\n",
      "uTu = 0.0009517305848959997\n",
      "lambda = 36.25\n",
      "uTu = 0.000988945006771168\n",
      "lambda = 35.625\n",
      "uTu = 0.0010085921447788673\n",
      "lambda = 35.9375\n",
      "uTu = 0.0009986780010270938\n",
      "lambda = 35.78125\n",
      "uTu = 0.0010036121212426536\n",
      "lambda = 35.859375\n",
      "uTu = 0.001001139362144762\n",
      "lambda = 35.8984375\n",
      "uTu = 0.0009999072616661926\n"
     ]
    },
    {
     "name": "stderr",
     "output_type": "stream",
     "text": [
      "\r",
      " 60%|██████    | 72/120 [16:25<12:00, 15.00s/it]"
     ]
    },
    {
     "name": "stdout",
     "output_type": "stream",
     "text": [
      "Initial lambda is 10\n",
      "With corresponding starting state cost 0.0017876255997108213\n",
      "Increasing lmbda high - now lmbda = 20\n",
      "0.0007776016770510217\n",
      "lambda = 10.0\n",
      "uTu = 0.0017876255997108213\n",
      "lambda = 15.0\n",
      "uTu = 0.0011053534210886825\n",
      "lambda = 17.5\n",
      "uTu = 0.0009161775065614848\n",
      "lambda = 16.25\n",
      "uTu = 0.001002955474375399\n",
      "lambda = 16.875\n",
      "uTu = 0.0009578334687583678\n",
      "lambda = 16.5625\n",
      "uTu = 0.0009799363223779662\n",
      "lambda = 16.40625\n",
      "uTu = 0.0009913280454481633\n",
      "lambda = 16.328125\n",
      "uTu = 0.0009971118685975628\n",
      "lambda = 16.2890625\n",
      "uTu = 0.001000026144266353\n"
     ]
    },
    {
     "name": "stderr",
     "output_type": "stream",
     "text": [
      "\r",
      " 61%|██████    | 73/120 [16:38<11:13, 14.32s/it]"
     ]
    },
    {
     "name": "stdout",
     "output_type": "stream",
     "text": [
      "Initial lambda is 10\n",
      "With corresponding starting state cost 0.0031330007705395097\n",
      "Increasing lmbda high - now lmbda = 20\n",
      "0.0013477601826824615\n",
      "Increasing lmbda high - now lmbda = 40\n",
      "0.0006141403323968537\n",
      "lambda = 20.0\n",
      "uTu = 0.0013477601826824615\n",
      "lambda = 30.0\n",
      "uTu = 0.0008444468267941916\n",
      "lambda = 25.0\n",
      "uTu = 0.0010390147674771693\n",
      "lambda = 27.5\n",
      "uTu = 0.0009317416723519555\n",
      "lambda = 26.25\n",
      "uTu = 0.000982483012184703\n",
      "lambda = 25.625\n",
      "uTu = 0.0010099661123721122\n",
      "lambda = 25.9375\n",
      "uTu = 0.0009960367207016347\n",
      "lambda = 25.78125\n",
      "uTu = 0.0010029535067207127\n",
      "lambda = 25.859375\n",
      "uTu = 0.0009994832568751358\n"
     ]
    },
    {
     "name": "stderr",
     "output_type": "stream",
     "text": [
      "\r",
      " 62%|██████▏   | 74/120 [16:51<10:52, 14.19s/it]"
     ]
    },
    {
     "name": "stdout",
     "output_type": "stream",
     "text": [
      "Initial lambda is 10\n",
      "With corresponding starting state cost 0.0019275625203718345\n",
      "Increasing lmbda high - now lmbda = 20\n",
      "0.0008402383152271954\n",
      "lambda = 10.0\n",
      "uTu = 0.0019275625203718345\n",
      "lambda = 15.0\n",
      "uTu = 0.0012014037279370305\n",
      "lambda = 17.5\n",
      "uTu = 0.0009940366226716044\n",
      "lambda = 16.25\n",
      "uTu = 0.0010895234612460798\n",
      "lambda = 16.875\n",
      "uTu = 0.0010399513820795706\n",
      "lambda = 17.1875\n",
      "uTu = 0.001016561075769064\n",
      "lambda = 17.34375\n",
      "uTu = 0.001005193465919374\n",
      "lambda = 17.421875\n",
      "uTu = 0.00099958904389249\n"
     ]
    },
    {
     "name": "stderr",
     "output_type": "stream",
     "text": [
      "\r",
      " 62%|██████▎   | 75/120 [17:03<10:05, 13.45s/it]"
     ]
    },
    {
     "name": "stdout",
     "output_type": "stream",
     "text": [
      "Initial lambda is 10\n",
      "With corresponding starting state cost 0.0019649973198917203\n",
      "Increasing lmbda high - now lmbda = 20\n",
      "0.0009770005241699895\n",
      "lambda = 10.0\n",
      "uTu = 0.0019649973198917203\n",
      "lambda = 15.0\n",
      "uTu = 0.0013100158539275332\n",
      "lambda = 17.5\n",
      "uTu = 0.0011200035205112327\n",
      "lambda = 18.75\n",
      "uTu = 0.0010437740653604203\n",
      "lambda = 19.375\n",
      "uTu = 0.0010093173724517227\n",
      "lambda = 19.6875\n",
      "uTu = 0.000992903962691262\n",
      "lambda = 19.53125\n",
      "uTu = 0.001001045420060513\n",
      "lambda = 19.609375\n",
      "uTu = 0.0009969585707730133\n",
      "lambda = 19.5703125\n",
      "uTu = 0.0009989979415888025\n",
      "lambda = 19.55078125\n",
      "uTu = 0.001000020664387859\n"
     ]
    },
    {
     "name": "stderr",
     "output_type": "stream",
     "text": [
      "\r",
      " 63%|██████▎   | 76/120 [17:17<10:00, 13.65s/it]"
     ]
    },
    {
     "name": "stdout",
     "output_type": "stream",
     "text": [
      "Initial lambda is 10\n",
      "With corresponding starting state cost 0.0047400799032597946\n",
      "Increasing lmbda high - now lmbda = 20\n",
      "0.002216210218456797\n",
      "Increasing lmbda high - now lmbda = 40\n",
      "0.0010095488147109232\n",
      "Increasing lmbda high - now lmbda = 80\n",
      "0.00045576115574940583\n",
      "lambda = 40.0\n",
      "uTu = 0.0010095488147109232\n",
      "lambda = 60.0\n",
      "uTu = 0.0006344965491170487\n",
      "lambda = 50.0\n",
      "uTu = 0.0007820147224630919\n",
      "lambda = 45.0\n",
      "uTu = 0.0008822927036770631\n",
      "lambda = 42.5\n",
      "uTu = 0.0009419283334844357\n",
      "lambda = 41.25\n",
      "uTu = 0.0009746461290506071\n",
      "lambda = 40.625\n",
      "uTu = 0.0009918112721348017\n",
      "lambda = 40.3125\n",
      "uTu = 0.001000606766916341\n"
     ]
    },
    {
     "name": "stderr",
     "output_type": "stream",
     "text": [
      "\r",
      " 64%|██████▍   | 77/120 [17:32<09:55, 13.84s/it]"
     ]
    },
    {
     "name": "stdout",
     "output_type": "stream",
     "text": [
      "Initial lambda is 10\n",
      "With corresponding starting state cost 0.005204413561842388\n",
      "Increasing lmbda high - now lmbda = 20\n",
      "0.002187227967283155\n",
      "Increasing lmbda high - now lmbda = 40\n",
      "0.000957832168232351\n",
      "lambda = 20.0\n",
      "uTu = 0.002187227967283155\n",
      "lambda = 30.0\n",
      "uTu = 0.0013409105019112906\n",
      "lambda = 35.0\n",
      "uTu = 0.0011184739727412955\n",
      "lambda = 37.5\n",
      "uTu = 0.001032126148357857\n",
      "lambda = 38.75\n",
      "uTu = 0.000993633073160242\n",
      "lambda = 38.125\n",
      "uTu = 0.001012524788975555\n",
      "lambda = 38.4375\n",
      "uTu = 0.001002992613856719\n",
      "lambda = 38.59375\n",
      "uTu = 0.0009982915535843098\n",
      "lambda = 38.515625\n",
      "uTu = 0.0010006367254641881\n"
     ]
    },
    {
     "name": "stderr",
     "output_type": "stream",
     "text": [
      "\r",
      " 65%|██████▌   | 78/120 [17:45<09:42, 13.86s/it]"
     ]
    },
    {
     "name": "stdout",
     "output_type": "stream",
     "text": [
      "Initial lambda is 10\n",
      "With corresponding starting state cost 0.001563234314478474\n",
      "Increasing lmbda high - now lmbda = 20\n",
      "0.0007586816880882645\n",
      "lambda = 10.0\n",
      "uTu = 0.001563234314478474\n",
      "lambda = 15.0\n",
      "uTu = 0.0010238387555230957\n",
      "lambda = 17.5\n",
      "uTu = 0.0008719051703973575\n",
      "lambda = 16.25\n",
      "uTu = 0.0009418954791186\n",
      "lambda = 15.625\n",
      "uTu = 0.000981190288892502\n",
      "lambda = 15.3125\n",
      "uTu = 0.0010020691602267312\n",
      "lambda = 15.46875\n",
      "uTu = 0.000991521821175319\n",
      "lambda = 15.390625\n",
      "uTu = 0.0009967680962934295\n",
      "lambda = 15.3515625\n",
      "uTu = 0.0009994117263911876\n"
     ]
    },
    {
     "name": "stderr",
     "output_type": "stream",
     "text": [
      "\r",
      " 66%|██████▌   | 79/120 [17:58<09:15, 13.54s/it]"
     ]
    },
    {
     "name": "stdout",
     "output_type": "stream",
     "text": [
      "Initial lambda is 10\n",
      "With corresponding starting state cost 0.0013793969718560069\n",
      "Increasing lmbda high - now lmbda = 20\n",
      "0.0007191893838414847\n",
      "lambda = 10.0\n",
      "uTu = 0.0013793969718560069\n",
      "lambda = 15.0\n",
      "uTu = 0.0009428414341241044\n",
      "lambda = 12.5\n",
      "uTu = 0.0011189961569028552\n",
      "lambda = 13.75\n",
      "uTu = 0.00102318836992047\n",
      "lambda = 14.375\n",
      "uTu = 0.0009813280353079803\n",
      "lambda = 14.0625\n",
      "uTu = 0.001001809106706113\n",
      "lambda = 14.21875\n",
      "uTu = 0.0009914599033583888\n",
      "lambda = 14.140625\n",
      "uTu = 0.000996606899508805\n",
      "lambda = 14.1015625\n",
      "uTu = 0.0009992010458604857\n"
     ]
    },
    {
     "name": "stderr",
     "output_type": "stream",
     "text": [
      "\r",
      " 67%|██████▋   | 80/120 [18:11<08:51, 13.28s/it]"
     ]
    },
    {
     "name": "stdout",
     "output_type": "stream",
     "text": [
      "Initial lambda is 10\n",
      "With corresponding starting state cost 0.0032954319506842042\n",
      "Increasing lmbda high - now lmbda = 20\n",
      "0.0014840174431723014\n",
      "Increasing lmbda high - now lmbda = 40\n",
      "0.0007192070313771293\n",
      "lambda = 20.0\n",
      "uTu = 0.0014840174431723014\n",
      "lambda = 30.0\n",
      "uTu = 0.0009627073230104963\n",
      "lambda = 25.0\n",
      "uTu = 0.001165616455466073\n",
      "lambda = 27.5\n",
      "uTu = 0.0010540112528606136\n",
      "lambda = 28.75\n",
      "uTu = 0.0010061830843386423\n",
      "lambda = 29.375\n",
      "uTu = 0.0009839391065617391\n",
      "lambda = 29.0625\n",
      "uTu = 0.0009949301018229283\n",
      "lambda = 28.90625\n",
      "uTu = 0.001000523263196875\n"
     ]
    },
    {
     "name": "stderr",
     "output_type": "stream",
     "text": [
      "\r",
      " 68%|██████▊   | 81/120 [18:24<08:34, 13.20s/it]"
     ]
    },
    {
     "name": "stdout",
     "output_type": "stream",
     "text": [
      "Initial lambda is 10\n",
      "With corresponding starting state cost 0.0021893796437674087\n",
      "Increasing lmbda high - now lmbda = 20\n",
      "0.000992733290407352\n",
      "lambda = 10.0\n",
      "uTu = 0.0021893796437674087\n",
      "lambda = 15.0\n",
      "uTu = 0.0013762132324655312\n",
      "lambda = 17.5\n",
      "uTu = 0.001154858930896292\n",
      "lambda = 18.75\n",
      "uTu = 0.0010679507643209098\n",
      "lambda = 19.375\n",
      "uTu = 0.0010290297803814852\n",
      "lambda = 19.6875\n",
      "uTu = 0.001010569955449121\n",
      "lambda = 19.84375\n",
      "uTu = 0.0010015756699406349\n",
      "lambda = 19.921875\n",
      "uTu = 0.000997135727736941\n",
      "lambda = 19.8828125\n",
      "uTu = 0.0009993509815549458\n"
     ]
    },
    {
     "name": "stderr",
     "output_type": "stream",
     "text": [
      "\r",
      " 68%|██████▊   | 82/120 [18:37<08:17, 13.10s/it]"
     ]
    },
    {
     "name": "stdout",
     "output_type": "stream",
     "text": [
      "Initial lambda is 10\n",
      "With corresponding starting state cost 0.002228894214286724\n",
      "Increasing lmbda high - now lmbda = 20\n",
      "0.0010498946934775302\n",
      "Increasing lmbda high - now lmbda = 40\n",
      "0.00048599495422759463\n",
      "lambda = 20.0\n",
      "uTu = 0.0010498946934775302\n",
      "lambda = 30.0\n",
      "uTu = 0.0006689799426543087\n",
      "lambda = 25.0\n",
      "uTu = 0.0008194437482294449\n",
      "lambda = 22.5\n",
      "uTu = 0.0009212780952788336\n",
      "lambda = 21.25\n",
      "uTu = 0.0009816410328492796\n",
      "lambda = 20.625\n",
      "uTu = 0.001014691166622694\n",
      "lambda = 20.9375\n",
      "uTu = 0.000997909051340798\n",
      "lambda = 20.78125\n",
      "uTu = 0.0010062343872966704\n",
      "lambda = 20.859375\n",
      "uTu = 0.0010020554747134191\n",
      "lambda = 20.8984375\n",
      "uTu = 0.0009999782248032686\n"
     ]
    },
    {
     "name": "stderr",
     "output_type": "stream",
     "text": [
      "\r",
      " 69%|██████▉   | 83/120 [18:52<08:27, 13.71s/it]"
     ]
    },
    {
     "name": "stdout",
     "output_type": "stream",
     "text": [
      "Initial lambda is 10\n",
      "With corresponding starting state cost 0.0022413254773139242\n",
      "Increasing lmbda high - now lmbda = 20\n",
      "0.0011702800836593703\n",
      "Increasing lmbda high - now lmbda = 40\n",
      "0.0005638612796522292\n",
      "lambda = 20.0\n",
      "uTu = 0.0011702800836593703\n",
      "lambda = 30.0\n",
      "uTu = 0.0007705454765751417\n",
      "lambda = 25.0\n",
      "uTu = 0.0009329729683220829\n",
      "lambda = 22.5\n",
      "uTu = 0.0010394275823966503\n",
      "lambda = 23.75\n",
      "uTu = 0.000983590899761093\n",
      "lambda = 23.125\n",
      "uTu = 0.0010108086583600793\n",
      "lambda = 23.4375\n",
      "uTu = 0.0009970310309702051\n",
      "lambda = 23.28125\n",
      "uTu = 0.0010038768824922558\n",
      "lambda = 23.359375\n",
      "uTu = 0.001000443314563966\n"
     ]
    },
    {
     "name": "stderr",
     "output_type": "stream",
     "text": [
      "\r",
      " 70%|███████   | 84/120 [19:06<08:14, 13.75s/it]"
     ]
    },
    {
     "name": "stdout",
     "output_type": "stream",
     "text": [
      "Initial lambda is 10\n",
      "With corresponding starting state cost 0.0019117622765674846\n",
      "Increasing lmbda high - now lmbda = 20\n",
      "0.0010120943564567429\n",
      "Increasing lmbda high - now lmbda = 40\n",
      "0.0005036684290891612\n",
      "lambda = 20.0\n",
      "uTu = 0.0010120943564567429\n",
      "lambda = 30.0\n",
      "uTu = 0.0006772045931991746\n",
      "lambda = 25.0\n",
      "uTu = 0.0008132621016712322\n",
      "lambda = 22.5\n",
      "uTu = 0.0009024332297374195\n",
      "lambda = 21.25\n",
      "uTu = 0.0009542905310456633\n",
      "lambda = 20.625\n",
      "uTu = 0.0009823877058161277\n",
      "lambda = 20.3125\n",
      "uTu = 0.0009970314182224888\n",
      "lambda = 20.15625\n",
      "uTu = 0.0010045093786600805\n",
      "lambda = 20.234375\n",
      "uTu = 0.0010007571618759965\n"
     ]
    },
    {
     "name": "stderr",
     "output_type": "stream",
     "text": [
      "\r",
      " 71%|███████   | 85/120 [19:20<08:03, 13.81s/it]"
     ]
    },
    {
     "name": "stdout",
     "output_type": "stream",
     "text": [
      "Initial lambda is 10\n",
      "With corresponding starting state cost 0.0039036295090703805\n",
      "Increasing lmbda high - now lmbda = 20\n",
      "0.0019283284222500689\n",
      "Increasing lmbda high - now lmbda = 40\n",
      "0.0008943956685645764\n",
      "lambda = 20.0\n",
      "uTu = 0.0019283284222500689\n",
      "lambda = 30.0\n",
      "uTu = 0.0012389416617379614\n",
      "lambda = 35.0\n",
      "uTu = 0.001041551366493627\n",
      "lambda = 37.5\n",
      "uTu = 0.000962928917589331\n",
      "lambda = 36.25\n",
      "uTu = 0.0010008503464735206\n"
     ]
    },
    {
     "name": "stderr",
     "output_type": "stream",
     "text": [
      "\r",
      " 72%|███████▏  | 86/120 [19:30<07:09, 12.64s/it]"
     ]
    },
    {
     "name": "stdout",
     "output_type": "stream",
     "text": [
      "Initial lambda is 10\n",
      "With corresponding starting state cost 0.0027340887649774655\n",
      "Increasing lmbda high - now lmbda = 20\n",
      "0.0012331678663410092\n",
      "Increasing lmbda high - now lmbda = 40\n",
      "0.00057283563241731\n",
      "lambda = 20.0\n",
      "uTu = 0.0012331678663410092\n",
      "lambda = 30.0\n",
      "uTu = 0.0007833562427506045\n",
      "lambda = 25.0\n",
      "uTu = 0.0009590330676644951\n",
      "lambda = 22.5\n",
      "uTu = 0.0010793995963968414\n",
      "lambda = 23.75\n",
      "uTu = 0.0010157410990994059\n",
      "lambda = 24.375\n",
      "uTu = 0.0009865894506481787\n",
      "lambda = 24.0625\n",
      "uTu = 0.0010009575721924104\n"
     ]
    },
    {
     "name": "stderr",
     "output_type": "stream",
     "text": [
      "\r",
      " 72%|███████▎  | 87/120 [19:41<06:47, 12.35s/it]"
     ]
    },
    {
     "name": "stdout",
     "output_type": "stream",
     "text": [
      "Initial lambda is 10\n",
      "With corresponding starting state cost 0.00141197967489958\n",
      "Increasing lmbda high - now lmbda = 20\n",
      "0.0006824346236931843\n",
      "lambda = 10.0\n",
      "uTu = 0.00141197967489958\n",
      "lambda = 15.0\n",
      "uTu = 0.0009227530489098363\n",
      "lambda = 12.5\n",
      "uTu = 0.0011179527084166007\n",
      "lambda = 13.75\n",
      "uTu = 0.0010112871776171894\n",
      "lambda = 14.375\n",
      "uTu = 0.0009650444237870361\n",
      "lambda = 14.0625\n",
      "uTu = 0.0009876394256861103\n",
      "lambda = 13.90625\n",
      "uTu = 0.0009993273438239976\n"
     ]
    },
    {
     "name": "stderr",
     "output_type": "stream",
     "text": [
      "\r",
      " 73%|███████▎  | 88/120 [19:52<06:19, 11.84s/it]"
     ]
    },
    {
     "name": "stdout",
     "output_type": "stream",
     "text": [
      "Initial lambda is 10\n",
      "With corresponding starting state cost 0.0013426459752316137\n",
      "Increasing lmbda high - now lmbda = 20\n",
      "0.000654453567912842\n",
      "lambda = 10.0\n",
      "uTu = 0.0013426459752316137\n",
      "lambda = 15.0\n",
      "uTu = 0.0008800583913477056\n",
      "lambda = 12.5\n",
      "uTu = 0.0010637495562451878\n",
      "lambda = 13.75\n",
      "uTu = 0.0009632688774696333\n",
      "lambda = 13.125\n",
      "uTu = 0.0010110388178334283\n",
      "lambda = 13.4375\n",
      "uTu = 0.0009865797127332052\n",
      "lambda = 13.28125\n",
      "uTu = 0.000998660616495334\n",
      "lambda = 13.203125\n",
      "uTu = 0.001004811889219718\n",
      "lambda = 13.2421875\n",
      "uTu = 0.0010017268803114753\n",
      "lambda = 13.26171875\n",
      "uTu = 0.001000191415713613\n"
     ]
    },
    {
     "name": "stderr",
     "output_type": "stream",
     "text": [
      "\r",
      " 74%|███████▍  | 89/120 [20:06<06:24, 12.41s/it]"
     ]
    },
    {
     "name": "stdout",
     "output_type": "stream",
     "text": [
      "Initial lambda is 10\n",
      "With corresponding starting state cost 0.001388897573922371\n",
      "Increasing lmbda high - now lmbda = 20\n",
      "0.0007570853713570445\n",
      "lambda = 10.0\n",
      "uTu = 0.001388897573922371\n",
      "lambda = 15.0\n",
      "uTu = 0.0009703634880823883\n",
      "lambda = 12.5\n",
      "uTu = 0.001138392027514538\n",
      "lambda = 13.75\n",
      "uTu = 0.0010469158996772021\n",
      "lambda = 14.375\n",
      "uTu = 0.0010070201787376303\n",
      "lambda = 14.6875\n",
      "uTu = 0.000988313046113389\n",
      "lambda = 14.53125\n",
      "uTu = 0.0009975688323894272\n",
      "lambda = 14.453125\n",
      "uTu = 0.001002269660328706\n",
      "lambda = 14.4921875\n",
      "uTu = 0.0009999130857639097\n"
     ]
    },
    {
     "name": "stderr",
     "output_type": "stream",
     "text": [
      "\r",
      " 75%|███████▌  | 90/120 [20:18<06:14, 12.47s/it]"
     ]
    },
    {
     "name": "stdout",
     "output_type": "stream",
     "text": [
      "Initial lambda is 10\n",
      "With corresponding starting state cost 0.0023482751163654784\n",
      "Increasing lmbda high - now lmbda = 20\n",
      "0.0010532317244211725\n",
      "Increasing lmbda high - now lmbda = 40\n",
      "0.0004666652331110703\n",
      "lambda = 20.0\n",
      "uTu = 0.0010532317244211725\n",
      "lambda = 30.0\n",
      "uTu = 0.0006535392234993741\n",
      "lambda = 25.0\n",
      "uTu = 0.0008098882864679126\n",
      "lambda = 22.5\n",
      "uTu = 0.000916889139820842\n",
      "lambda = 21.25\n",
      "uTu = 0.0009807197643212286\n",
      "lambda = 20.625\n",
      "uTu = 0.0010157884516270135\n",
      "lambda = 20.9375\n",
      "uTu = 0.0009979710091183533\n",
      "lambda = 20.78125\n",
      "uTu = 0.0010068073049381541\n",
      "lambda = 20.859375\n",
      "uTu = 0.0010023712608957596\n",
      "lambda = 20.8984375\n",
      "uTu = 0.0010001666869065208\n"
     ]
    },
    {
     "name": "stderr",
     "output_type": "stream",
     "text": [
      "\r",
      " 76%|███████▌  | 91/120 [20:34<06:25, 13.30s/it]"
     ]
    },
    {
     "name": "stdout",
     "output_type": "stream",
     "text": [
      "Initial lambda is 10\n",
      "With corresponding starting state cost 0.0017919066902456452\n",
      "Increasing lmbda high - now lmbda = 20\n",
      "0.0008424088169050716\n",
      "lambda = 10.0\n",
      "uTu = 0.0017919066902456452\n",
      "lambda = 15.0\n",
      "uTu = 0.001165053700765794\n",
      "lambda = 17.5\n",
      "uTu = 0.000980883607065568\n",
      "lambda = 16.25\n",
      "uTu = 0.001066023232489566\n",
      "lambda = 16.875\n",
      "uTu = 0.0010218974150918156\n",
      "lambda = 17.1875\n",
      "uTu = 0.0010010214240913624\n",
      "lambda = 17.34375\n",
      "uTu = 0.0009908625889472463\n",
      "lambda = 17.265625\n",
      "uTu = 0.0009959192378134376\n",
      "lambda = 17.2265625\n",
      "uTu = 0.0009984646023718153\n",
      "lambda = 17.20703125\n",
      "uTu = 0.0009997415765027272\n"
     ]
    },
    {
     "name": "stderr",
     "output_type": "stream",
     "text": [
      "\r",
      " 77%|███████▋  | 92/120 [20:48<06:18, 13.50s/it]"
     ]
    },
    {
     "name": "stdout",
     "output_type": "stream",
     "text": [
      "Initial lambda is 10\n",
      "With corresponding starting state cost 0.0010038771945033846\n",
      "Increasing lmbda high - now lmbda = 20\n",
      "0.00053049423425975\n",
      "lambda = 10.0\n",
      "uTu = 0.0010038771945033846\n",
      "lambda = 15.0\n",
      "uTu = 0.0006914752053843505\n",
      "lambda = 12.5\n",
      "uTu = 0.0008175089580145325\n",
      "lambda = 11.25\n",
      "uTu = 0.0009006373219163122\n",
      "lambda = 10.625\n",
      "uTu = 0.0009492968181685852\n",
      "lambda = 10.3125\n",
      "uTu = 0.0009757789394940757\n",
      "lambda = 10.15625\n",
      "uTu = 0.0009896166157248075\n",
      "lambda = 10.078125\n",
      "uTu = 0.000996692797168774\n",
      "lambda = 10.0390625\n",
      "uTu = 0.001000271308847853\n"
     ]
    },
    {
     "name": "stderr",
     "output_type": "stream",
     "text": [
      "\r",
      " 78%|███████▊  | 93/120 [21:00<05:58, 13.27s/it]"
     ]
    },
    {
     "name": "stdout",
     "output_type": "stream",
     "text": [
      "Initial lambda is 10\n",
      "With corresponding starting state cost 0.001374415815010879\n",
      "Increasing lmbda high - now lmbda = 20\n",
      "0.0006335047611168064\n",
      "lambda = 10.0\n",
      "uTu = 0.001374415815010879\n",
      "lambda = 15.0\n",
      "uTu = 0.0008754285964509682\n",
      "lambda = 12.5\n",
      "uTu = 0.001073249971276487\n",
      "lambda = 13.75\n",
      "uTu = 0.0009649739931307741\n",
      "lambda = 13.125\n",
      "uTu = 0.001016432155276852\n",
      "lambda = 13.4375\n",
      "uTu = 0.000990080349325969\n",
      "lambda = 13.28125\n",
      "uTu = 0.0010030950141370369\n",
      "lambda = 13.359375\n",
      "uTu = 0.0009965480871092676\n",
      "lambda = 13.3203125\n",
      "uTu = 0.000999811563912271\n"
     ]
    },
    {
     "name": "stderr",
     "output_type": "stream",
     "text": [
      "\r",
      " 78%|███████▊  | 94/120 [21:13<05:39, 13.05s/it]"
     ]
    },
    {
     "name": "stdout",
     "output_type": "stream",
     "text": [
      "Initial lambda is 10\n",
      "With corresponding starting state cost 0.0012140773354549152\n",
      "Increasing lmbda high - now lmbda = 20\n",
      "0.0006108077335908674\n",
      "lambda = 10.0\n",
      "uTu = 0.0012140773354549152\n",
      "lambda = 15.0\n",
      "uTu = 0.0008177037059170501\n",
      "lambda = 12.5\n",
      "uTu = 0.000979137012632521\n",
      "lambda = 11.25\n",
      "uTu = 0.0010846229633589932\n",
      "lambda = 11.875\n",
      "uTu = 0.0010293181868936691\n",
      "lambda = 12.1875\n",
      "uTu = 0.0010036324197906206\n",
      "lambda = 12.34375\n",
      "uTu = 0.0009912411165762262\n",
      "lambda = 12.265625\n",
      "uTu = 0.0009974002379486411\n",
      "lambda = 12.2265625\n",
      "uTu = 0.0010005071158941765\n"
     ]
    },
    {
     "name": "stderr",
     "output_type": "stream",
     "text": [
      "\r",
      " 79%|███████▉  | 95/120 [21:26<05:24, 12.98s/it]"
     ]
    },
    {
     "name": "stdout",
     "output_type": "stream",
     "text": [
      "Initial lambda is 10\n",
      "With corresponding starting state cost 0.0020538300181137405\n",
      "Increasing lmbda high - now lmbda = 20\n",
      "0.0009470086064028683\n",
      "lambda = 10.0\n",
      "uTu = 0.0020538300181137405\n",
      "lambda = 15.0\n",
      "uTu = 0.0013212576575131827\n",
      "lambda = 17.5\n",
      "uTu = 0.0011074219453562786\n",
      "lambda = 18.75\n",
      "uTu = 0.0010218112859438683\n",
      "lambda = 19.375\n",
      "uTu = 0.000983184438525041\n",
      "lambda = 19.0625\n",
      "uTu = 0.0010021770059237302\n",
      "lambda = 19.21875\n",
      "uTu = 0.0009926023872078701\n",
      "lambda = 19.140625\n",
      "uTu = 0.0009973698824308976\n",
      "lambda = 19.1015625\n",
      "uTu = 0.0009997684614588586\n"
     ]
    },
    {
     "name": "stderr",
     "output_type": "stream",
     "text": [
      "\r",
      " 80%|████████  | 96/120 [21:38<05:10, 12.94s/it]"
     ]
    },
    {
     "name": "stdout",
     "output_type": "stream",
     "text": [
      "Initial lambda is 10\n",
      "With corresponding starting state cost 0.001056821791857474\n",
      "Increasing lmbda high - now lmbda = 20\n",
      "0.0005811890987893134\n",
      "lambda = 10.0\n",
      "uTu = 0.001056821791857474\n",
      "lambda = 15.0\n",
      "uTu = 0.0007482239367336857\n",
      "lambda = 12.5\n",
      "uTu = 0.0008753584175591546\n",
      "lambda = 11.25\n",
      "uTu = 0.000957290923844549\n",
      "lambda = 10.625\n",
      "uTu = 0.0010045130107230482\n",
      "lambda = 10.9375\n",
      "uTu = 0.0009803145998422554\n",
      "lambda = 10.78125\n",
      "uTu = 0.0009922613001498817\n",
      "lambda = 10.703125\n",
      "uTu = 0.0009983482887147913\n",
      "lambda = 10.6640625\n",
      "uTu = 0.0010014208383490575\n",
      "lambda = 10.68359375\n",
      "uTu = 0.0009998821226229991\n"
     ]
    },
    {
     "name": "stderr",
     "output_type": "stream",
     "text": [
      "\r",
      " 81%|████████  | 97/120 [21:52<05:04, 13.26s/it]"
     ]
    },
    {
     "name": "stdout",
     "output_type": "stream",
     "text": [
      "Initial lambda is 10\n",
      "With corresponding starting state cost 0.0010683799808485954\n",
      "Increasing lmbda high - now lmbda = 20\n",
      "0.0005620366748658471\n",
      "lambda = 10.0\n",
      "uTu = 0.0010683799808485954\n",
      "lambda = 15.0\n",
      "uTu = 0.0007391666653925866\n",
      "lambda = 12.5\n",
      "uTu = 0.000874867976193799\n",
      "lambda = 11.25\n",
      "uTu = 0.0009623361080901972\n",
      "lambda = 10.625\n",
      "uTu = 0.001012687610644809\n",
      "lambda = 10.9375\n",
      "uTu = 0.0009868931743641477\n",
      "lambda = 10.78125\n",
      "uTu = 0.000999629987881306\n"
     ]
    },
    {
     "name": "stderr",
     "output_type": "stream",
     "text": [
      "\r",
      " 82%|████████▏ | 98/120 [22:03<04:34, 12.46s/it]"
     ]
    },
    {
     "name": "stdout",
     "output_type": "stream",
     "text": [
      "Initial lambda is 10\n",
      "With corresponding starting state cost 0.0011953356385177136\n",
      "Increasing lmbda high - now lmbda = 20\n",
      "0.0006341504736593533\n",
      "lambda = 10.0\n",
      "uTu = 0.0011953356385177136\n",
      "lambda = 15.0\n",
      "uTu = 0.000821276880282349\n",
      "lambda = 12.5\n",
      "uTu = 0.0009707209409956911\n",
      "lambda = 11.25\n",
      "uTu = 0.0010704600119463255\n",
      "lambda = 11.875\n",
      "uTu = 0.0010179497473488703\n",
      "lambda = 12.1875\n",
      "uTu = 0.000993726544844276\n",
      "lambda = 12.03125\n",
      "uTu = 0.0010056799425052821\n",
      "lambda = 12.109375\n",
      "uTu = 0.000999664467588107\n"
     ]
    },
    {
     "name": "stderr",
     "output_type": "stream",
     "text": [
      "\r",
      " 82%|████████▎ | 99/120 [22:17<04:31, 12.94s/it]"
     ]
    },
    {
     "name": "stdout",
     "output_type": "stream",
     "text": [
      "Initial lambda is 10\n",
      "With corresponding starting state cost 0.0020843617518204937\n",
      "Increasing lmbda high - now lmbda = 20\n",
      "0.0009578598093807976\n",
      "lambda = 10.0\n",
      "uTu = 0.0020843617518204937\n",
      "lambda = 15.0\n",
      "uTu = 0.001326382355187384\n",
      "lambda = 17.5\n",
      "uTu = 0.0011145436076491686\n",
      "lambda = 18.75\n",
      "uTu = 0.0010307141714504485\n",
      "lambda = 19.375\n",
      "uTu = 0.0009930509832456762\n",
      "lambda = 19.0625\n",
      "uTu = 0.001011557996090379\n",
      "lambda = 19.21875\n",
      "uTu = 0.0010022253717585315\n",
      "lambda = 19.296875\n",
      "uTu = 0.0009976186441977505\n",
      "lambda = 19.2578125\n",
      "uTu = 0.0009999170941956273\n"
     ]
    },
    {
     "name": "stderr",
     "output_type": "stream",
     "text": [
      "\r",
      " 83%|████████▎ | 100/120 [22:32<04:30, 13.53s/it]"
     ]
    },
    {
     "name": "stdout",
     "output_type": "stream",
     "text": [
      "Initial lambda is 10\n",
      "With corresponding starting state cost 0.002141363673816082\n",
      "Increasing lmbda high - now lmbda = 20\n",
      "0.00098597381821343\n",
      "lambda = 10.0\n",
      "uTu = 0.002141363673816082\n",
      "lambda = 15.0\n",
      "uTu = 0.0013685696713950813\n",
      "lambda = 17.5\n",
      "uTu = 0.0011490393650155503\n",
      "lambda = 18.75\n",
      "uTu = 0.0010618513784735656\n",
      "lambda = 19.375\n",
      "uTu = 0.0010226354403085692\n",
      "lambda = 19.6875\n",
      "uTu = 0.0010040005598653653\n",
      "lambda = 19.84375\n",
      "uTu = 0.0009949129712689395\n",
      "lambda = 19.765625\n",
      "uTu = 0.0009994379905429957\n"
     ]
    },
    {
     "name": "stderr",
     "output_type": "stream",
     "text": [
      "\r",
      " 84%|████████▍ | 101/120 [22:44<04:06, 12.99s/it]"
     ]
    },
    {
     "name": "stdout",
     "output_type": "stream",
     "text": [
      "Initial lambda is 10\n",
      "With corresponding starting state cost 0.001628477034853109\n",
      "Increasing lmbda high - now lmbda = 20\n",
      "0.0008018312922231836\n",
      "lambda = 10.0\n",
      "uTu = 0.001628477034853109\n",
      "lambda = 15.0\n",
      "uTu = 0.0010875724079712492\n",
      "lambda = 17.5\n",
      "uTu = 0.0009252999961098025\n",
      "lambda = 16.25\n",
      "uTu = 0.001000567263120287\n"
     ]
    },
    {
     "name": "stderr",
     "output_type": "stream",
     "text": [
      "\r",
      " 85%|████████▌ | 102/120 [22:51<03:23, 11.33s/it]"
     ]
    },
    {
     "name": "stdout",
     "output_type": "stream",
     "text": [
      "Initial lambda is 10\n",
      "With corresponding starting state cost 0.0009551879442710219\n",
      "lambda = 5.0\n",
      "uTu = 0.0017578481742855025\n",
      "lambda = 7.5\n",
      "uTu = 0.0012283978231661591\n",
      "lambda = 8.75\n",
      "uTu = 0.0010729920957689113\n",
      "lambda = 9.375\n",
      "uTu = 0.0010103053933684203\n",
      "lambda = 9.6875\n",
      "uTu = 0.0009818900003512234\n",
      "lambda = 9.53125\n",
      "uTu = 0.0009958732313497937\n",
      "lambda = 9.453125\n",
      "uTu = 0.0010030318365384103\n",
      "lambda = 9.4921875\n",
      "uTu = 0.000999438338304966\n"
     ]
    },
    {
     "name": "stderr",
     "output_type": "stream",
     "text": [
      "\r",
      " 86%|████████▌ | 103/120 [23:02<03:08, 11.12s/it]"
     ]
    },
    {
     "name": "stdout",
     "output_type": "stream",
     "text": [
      "Initial lambda is 10\n",
      "With corresponding starting state cost 0.0013501973709994365\n",
      "Increasing lmbda high - now lmbda = 20\n",
      "0.0007128429110423169\n",
      "lambda = 10.0\n",
      "uTu = 0.0013501973709994365\n",
      "lambda = 15.0\n",
      "uTu = 0.0009408776732033294\n",
      "lambda = 12.5\n",
      "uTu = 0.0011117755243794994\n",
      "lambda = 13.75\n",
      "uTu = 0.0010198070086899556\n",
      "lambda = 14.375\n",
      "uTu = 0.0009788899425382917\n",
      "lambda = 14.0625\n",
      "uTu = 0.0009989652749220106\n",
      "lambda = 13.90625\n",
      "uTu = 0.0010092876624894428\n",
      "lambda = 13.984375\n",
      "uTu = 0.0010041021916710909\n",
      "lambda = 14.0234375\n",
      "uTu = 0.0010015277061807568\n",
      "lambda = 14.04296875\n",
      "uTu = 0.0010002449889969522\n"
     ]
    },
    {
     "name": "stderr",
     "output_type": "stream",
     "text": [
      "\r",
      " 87%|████████▋ | 104/120 [23:16<03:10, 11.92s/it]"
     ]
    },
    {
     "name": "stdout",
     "output_type": "stream",
     "text": [
      "Initial lambda is 10\n",
      "With corresponding starting state cost 0.0009255285135906595\n",
      "lambda = 5.0\n",
      "uTu = 0.0016110664102292668\n",
      "lambda = 7.5\n",
      "uTu = 0.0011632027081508911\n",
      "lambda = 8.75\n",
      "uTu = 0.0010286540486533042\n",
      "lambda = 9.375\n",
      "uTu = 0.0009739034212449837\n",
      "lambda = 9.0625\n",
      "uTu = 0.0010004042522912173\n"
     ]
    },
    {
     "name": "stderr",
     "output_type": "stream",
     "text": [
      "\r",
      " 88%|████████▊ | 105/120 [23:23<02:38, 10.57s/it]"
     ]
    },
    {
     "name": "stdout",
     "output_type": "stream",
     "text": [
      "Initial lambda is 10\n",
      "With corresponding starting state cost 0.0015002842285682326\n",
      "Increasing lmbda high - now lmbda = 20\n",
      "0.0007598000394915106\n",
      "lambda = 10.0\n",
      "uTu = 0.0015002842285682326\n",
      "lambda = 15.0\n",
      "uTu = 0.00101618656206565\n",
      "lambda = 17.5\n",
      "uTu = 0.0008709016562076585\n",
      "lambda = 16.25\n",
      "uTu = 0.000938361111516339\n",
      "lambda = 15.625\n",
      "uTu = 0.0009758347435490104\n",
      "lambda = 15.3125\n",
      "uTu = 0.0009956305819924308\n",
      "lambda = 15.15625\n",
      "uTu = 0.0010058108468323887\n",
      "lambda = 15.234375\n",
      "uTu = 0.0010006966296290168\n"
     ]
    },
    {
     "name": "stderr",
     "output_type": "stream",
     "text": [
      "\r",
      " 88%|████████▊ | 106/120 [23:35<02:33, 10.96s/it]"
     ]
    },
    {
     "name": "stdout",
     "output_type": "stream",
     "text": [
      "Initial lambda is 10\n",
      "With corresponding starting state cost 0.0020287443956381146\n",
      "Increasing lmbda high - now lmbda = 20\n",
      "0.001052290594156195\n",
      "Increasing lmbda high - now lmbda = 40\n",
      "0.0005232070458619667\n",
      "lambda = 20.0\n",
      "uTu = 0.001052290594156195\n",
      "lambda = 30.0\n",
      "uTu = 0.0007024310267790911\n",
      "lambda = 25.0\n",
      "uTu = 0.0008438271691935856\n",
      "lambda = 22.5\n",
      "uTu = 0.0009370288221728977\n",
      "lambda = 21.25\n",
      "uTu = 0.000991442948504445\n",
      "lambda = 20.625\n",
      "uTu = 0.0010209937049531588\n",
      "lambda = 20.9375\n",
      "uTu = 0.0010060092758306276\n",
      "lambda = 21.09375\n",
      "uTu = 0.0009986749450174557\n",
      "lambda = 21.015625\n",
      "uTu = 0.0010023291840917023\n",
      "lambda = 21.0546875\n",
      "uTu = 0.0010004988499368107\n"
     ]
    },
    {
     "name": "stderr",
     "output_type": "stream",
     "text": [
      "\r",
      " 89%|████████▉ | 107/120 [23:50<02:38, 12.18s/it]"
     ]
    },
    {
     "name": "stdout",
     "output_type": "stream",
     "text": [
      "Initial lambda is 10\n",
      "With corresponding starting state cost 0.0017624598873336116\n",
      "Increasing lmbda high - now lmbda = 20\n",
      "0.0008637830584667166\n",
      "lambda = 10.0\n",
      "uTu = 0.0017624598873336116\n",
      "lambda = 15.0\n",
      "uTu = 0.001165526262616246\n",
      "lambda = 17.5\n",
      "uTu = 0.000993192501349153\n",
      "lambda = 16.25\n",
      "uTu = 0.0010727830066575177\n",
      "lambda = 16.875\n",
      "uTu = 0.0010315222516074066\n",
      "lambda = 17.1875\n",
      "uTu = 0.0010120105638737349\n",
      "lambda = 17.34375\n",
      "uTu = 0.0010025171248585765\n",
      "lambda = 17.421875\n",
      "uTu = 0.0009978339893278424\n",
      "lambda = 17.3828125\n",
      "uTu = 0.0010001703167590308\n"
     ]
    },
    {
     "name": "stderr",
     "output_type": "stream",
     "text": [
      "\r",
      " 90%|█████████ | 108/120 [24:03<02:28, 12.36s/it]"
     ]
    },
    {
     "name": "stdout",
     "output_type": "stream",
     "text": [
      "Initial lambda is 10\n",
      "With corresponding starting state cost 0.0017324998862580955\n",
      "Increasing lmbda high - now lmbda = 20\n",
      "0.0008336518701794717\n",
      "lambda = 10.0\n",
      "uTu = 0.0017324998862580955\n",
      "lambda = 15.0\n",
      "uTu = 0.0011336352897455017\n",
      "lambda = 17.5\n",
      "uTu = 0.0009619747443980777\n",
      "lambda = 16.25\n",
      "uTu = 0.001041156464201391\n",
      "lambda = 16.875\n",
      "uTu = 0.001000085104549028\n"
     ]
    },
    {
     "name": "stderr",
     "output_type": "stream",
     "text": [
      "\r",
      " 91%|█████████ | 109/120 [24:11<02:02, 11.16s/it]"
     ]
    },
    {
     "name": "stdout",
     "output_type": "stream",
     "text": [
      "Initial lambda is 10\n",
      "With corresponding starting state cost 0.0007153304393707155\n",
      "lambda = 5.0\n",
      "uTu = 0.0012218692353737613\n",
      "lambda = 7.5\n",
      "uTu = 0.0008963661852160848\n",
      "lambda = 6.25\n",
      "uTu = 0.0010317110169736758\n",
      "lambda = 6.875\n",
      "uTu = 0.0009588296517159014\n",
      "lambda = 6.5625\n",
      "uTu = 0.0009938064208693178\n",
      "lambda = 6.40625\n",
      "uTu = 0.0010123694698261172\n",
      "lambda = 6.484375\n",
      "uTu = 0.0010029936979192126\n",
      "lambda = 6.5234375\n",
      "uTu = 0.0009983768663261916\n",
      "lambda = 6.50390625\n",
      "uTu = 0.001000679438373607\n"
     ]
    },
    {
     "name": "stderr",
     "output_type": "stream",
     "text": [
      "\r",
      " 92%|█████████▏| 110/120 [24:23<01:54, 11.48s/it]"
     ]
    },
    {
     "name": "stdout",
     "output_type": "stream",
     "text": [
      "Initial lambda is 10\n",
      "With corresponding starting state cost 0.0011807200346444818\n",
      "Increasing lmbda high - now lmbda = 20\n",
      "0.0006334044012489535\n",
      "lambda = 10.0\n",
      "uTu = 0.0011807200346444818\n",
      "lambda = 15.0\n",
      "uTu = 0.000819865526267632\n",
      "lambda = 12.5\n",
      "uTu = 0.000965728671818058\n",
      "lambda = 11.25\n",
      "uTu = 0.0010617730221214098\n",
      "lambda = 11.875\n",
      "uTu = 0.0010113298876556834\n",
      "lambda = 12.1875\n",
      "uTu = 0.000987969554599474\n",
      "lambda = 12.03125\n",
      "uTu = 0.0009995044626098708\n"
     ]
    },
    {
     "name": "stderr",
     "output_type": "stream",
     "text": [
      "\r",
      " 92%|█████████▎| 111/120 [24:34<01:41, 11.23s/it]"
     ]
    },
    {
     "name": "stdout",
     "output_type": "stream",
     "text": [
      "Initial lambda is 10\n",
      "With corresponding starting state cost 0.0015715646682248681\n",
      "Increasing lmbda high - now lmbda = 20\n",
      "0.0008232762099301741\n",
      "lambda = 10.0\n",
      "uTu = 0.0015715646682248681\n",
      "lambda = 15.0\n",
      "uTu = 0.0010825892180202701\n",
      "lambda = 17.5\n",
      "uTu = 0.000935753048036845\n",
      "lambda = 16.25\n",
      "uTu = 0.0010039577892917778\n",
      "lambda = 16.875\n",
      "uTu = 0.000968686840382364\n",
      "lambda = 16.5625\n",
      "uTu = 0.0009860148182835706\n",
      "lambda = 16.40625\n",
      "uTu = 0.0009949073906747453\n",
      "lambda = 16.328125\n",
      "uTu = 0.000999412598823922\n"
     ]
    },
    {
     "name": "stderr",
     "output_type": "stream",
     "text": [
      "\r",
      " 93%|█████████▎| 112/120 [24:46<01:30, 11.35s/it]"
     ]
    },
    {
     "name": "stdout",
     "output_type": "stream",
     "text": [
      "Initial lambda is 10\n",
      "With corresponding starting state cost 0.0013367662325655149\n",
      "Increasing lmbda high - now lmbda = 20\n",
      "0.000683714914589245\n",
      "lambda = 10.0\n",
      "uTu = 0.0013367662325655149\n",
      "lambda = 15.0\n",
      "uTu = 0.0009038584493987549\n",
      "lambda = 12.5\n",
      "uTu = 0.0010784137436621276\n",
      "lambda = 13.75\n",
      "uTu = 0.0009834060246616575\n",
      "lambda = 13.125\n",
      "uTu = 0.0010287122367654221\n",
      "lambda = 13.4375\n",
      "uTu = 0.0010055465415487123\n",
      "lambda = 13.59375\n",
      "uTu = 0.0009943523846949924\n",
      "lambda = 13.515625\n",
      "uTu = 0.0009999179720769646\n"
     ]
    },
    {
     "name": "stderr",
     "output_type": "stream",
     "text": [
      "\r",
      " 94%|█████████▍| 113/120 [24:57<01:20, 11.44s/it]"
     ]
    },
    {
     "name": "stdout",
     "output_type": "stream",
     "text": [
      "Initial lambda is 10\n",
      "With corresponding starting state cost 0.0020696503498513234\n",
      "Increasing lmbda high - now lmbda = 20\n",
      "0.0010068133033603432\n",
      "Increasing lmbda high - now lmbda = 40\n",
      "0.0004934197781079139\n",
      "lambda = 20.0\n",
      "uTu = 0.0010068133033603432\n",
      "lambda = 30.0\n",
      "uTu = 0.0006620588282596168\n",
      "lambda = 25.0\n",
      "uTu = 0.0007988600939660515\n",
      "lambda = 22.5\n",
      "uTu = 0.0008909152075136839\n",
      "lambda = 21.25\n",
      "uTu = 0.0009453489534976731\n",
      "lambda = 20.625\n",
      "uTu = 0.00097512124511051\n",
      "lambda = 20.3125\n",
      "uTu = 0.000990716081625952\n",
      "lambda = 20.15625\n",
      "uTu = 0.0009987004156957963\n",
      "lambda = 20.078125\n",
      "uTu = 0.0010027406004794349\n",
      "lambda = 20.1171875\n",
      "uTu = 0.0010007164672862648\n"
     ]
    },
    {
     "name": "stderr",
     "output_type": "stream",
     "text": [
      "\r",
      " 95%|█████████▌| 114/120 [25:12<01:14, 12.47s/it]"
     ]
    },
    {
     "name": "stdout",
     "output_type": "stream",
     "text": [
      "Initial lambda is 10\n",
      "With corresponding starting state cost 0.000969910998432761\n",
      "lambda = 5.0\n",
      "uTu = 0.0019437889479443637\n",
      "lambda = 7.5\n",
      "uTu = 0.001294224942373893\n",
      "lambda = 8.75\n",
      "uTu = 0.0011086166398894593\n",
      "lambda = 9.375\n",
      "uTu = 0.001034570923428935\n",
      "lambda = 9.6875\n",
      "uTu = 0.0010011814141882762\n",
      "lambda = 9.84375\n",
      "uTu = 0.0009852939669684378\n",
      "lambda = 9.765625\n",
      "uTu = 0.0009931731124726382\n",
      "lambda = 9.7265625\n",
      "uTu = 0.0009971609237326119\n",
      "lambda = 9.70703125\n",
      "uTu = 0.0009991670593368456\n"
     ]
    },
    {
     "name": "stderr",
     "output_type": "stream",
     "text": [
      "\r",
      " 96%|█████████▌| 115/120 [25:23<01:00, 12.14s/it]"
     ]
    },
    {
     "name": "stdout",
     "output_type": "stream",
     "text": [
      "Initial lambda is 10\n",
      "With corresponding starting state cost 0.0026862179633899206\n",
      "Increasing lmbda high - now lmbda = 20\n",
      "0.0014329814062046275\n",
      "Increasing lmbda high - now lmbda = 40\n",
      "0.0006954382794840399\n",
      "lambda = 20.0\n",
      "uTu = 0.0014329814062046275\n",
      "lambda = 30.0\n",
      "uTu = 0.0009476404162223674\n",
      "lambda = 25.0\n",
      "uTu = 0.0011454533493792459\n",
      "lambda = 27.5\n",
      "uTu = 0.0010380937581942035\n",
      "lambda = 28.75\n",
      "uTu = 0.0009910049031548812\n",
      "lambda = 28.125\n",
      "uTu = 0.0010140555170775132\n",
      "lambda = 28.4375\n",
      "uTu = 0.0010024104641492952\n",
      "lambda = 28.59375\n",
      "uTu = 0.0009966781946986803\n",
      "lambda = 28.515625\n",
      "uTu = 0.0009995369019302489\n"
     ]
    },
    {
     "name": "stderr",
     "output_type": "stream",
     "text": [
      "\r",
      " 97%|█████████▋| 116/120 [25:37<00:50, 12.59s/it]"
     ]
    },
    {
     "name": "stdout",
     "output_type": "stream",
     "text": [
      "Initial lambda is 10\n",
      "With corresponding starting state cost 0.0019686545135692087\n",
      "Increasing lmbda high - now lmbda = 20\n",
      "0.001051866575989505\n",
      "Increasing lmbda high - now lmbda = 40\n",
      "0.0005417262139300839\n",
      "lambda = 20.0\n",
      "uTu = 0.001051866575989505\n",
      "lambda = 30.0\n",
      "uTu = 0.0007162380418049063\n",
      "lambda = 25.0\n",
      "uTu = 0.0008525726503816069\n",
      "lambda = 22.5\n",
      "uTu = 0.0009419005763726013\n",
      "lambda = 21.25\n",
      "uTu = 0.0009938798581706197\n",
      "lambda = 20.625\n",
      "uTu = 0.0010220587870308777\n",
      "lambda = 20.9375\n",
      "uTu = 0.0010077742073193112\n",
      "lambda = 21.09375\n",
      "uTu = 0.0010007792638708375\n"
     ]
    },
    {
     "name": "stderr",
     "output_type": "stream",
     "text": [
      "\r",
      " 98%|█████████▊| 117/120 [25:50<00:37, 12.60s/it]"
     ]
    },
    {
     "name": "stdout",
     "output_type": "stream",
     "text": [
      "Initial lambda is 10\n",
      "With corresponding starting state cost 0.0008582553051652286\n",
      "lambda = 5.0\n",
      "uTu = 0.0015019824053168133\n",
      "lambda = 7.5\n",
      "uTu = 0.0010860204293138248\n",
      "lambda = 8.75\n",
      "uTu = 0.0009579530698989782\n",
      "lambda = 8.125\n",
      "uTu = 0.0010176958658959963\n",
      "lambda = 8.4375\n",
      "uTu = 0.0009868610019665056\n",
      "lambda = 8.28125\n",
      "uTu = 0.001002025120316008\n",
      "lambda = 8.359375\n",
      "uTu = 0.0009943813568477713\n",
      "lambda = 8.3203125\n",
      "uTu = 0.0009981876139675905\n",
      "lambda = 8.30078125\n",
      "uTu = 0.001000102435787084\n"
     ]
    },
    {
     "name": "stderr",
     "output_type": "stream",
     "text": [
      "\r",
      " 98%|█████████▊| 118/120 [26:02<00:24, 12.42s/it]"
     ]
    },
    {
     "name": "stdout",
     "output_type": "stream",
     "text": [
      "Initial lambda is 10\n",
      "With corresponding starting state cost 0.0015740487236613123\n",
      "Increasing lmbda high - now lmbda = 20\n",
      "0.0008655165024451869\n",
      "lambda = 10.0\n",
      "uTu = 0.0015740487236613123\n",
      "lambda = 15.0\n",
      "uTu = 0.0011175161771048718\n",
      "lambda = 17.5\n",
      "uTu = 0.0009755874417824549\n",
      "lambda = 16.25\n",
      "uTu = 0.0010417684701473481\n",
      "lambda = 16.875\n",
      "uTu = 0.0010075984411442216\n",
      "lambda = 17.1875\n",
      "uTu = 0.0009913359836797979\n",
      "lambda = 17.03125\n",
      "uTu = 0.000999401422567892\n"
     ]
    },
    {
     "name": "stderr",
     "output_type": "stream",
     "text": [
      "\r",
      " 99%|█████████▉| 119/120 [26:13<00:11, 11.93s/it]"
     ]
    },
    {
     "name": "stdout",
     "output_type": "stream",
     "text": [
      "Initial lambda is 10\n",
      "With corresponding starting state cost 0.0022905102306458908\n",
      "Increasing lmbda high - now lmbda = 20\n",
      "0.0010999392924021891\n",
      "Increasing lmbda high - now lmbda = 40\n",
      "0.0005041802047678016\n",
      "lambda = 20.0\n",
      "uTu = 0.0010999392924021891\n",
      "lambda = 30.0\n",
      "uTu = 0.0006993519270046282\n",
      "lambda = 25.0\n",
      "uTu = 0.0008584794189510245\n",
      "lambda = 22.5\n",
      "uTu = 0.000965515538482768\n",
      "lambda = 21.25\n",
      "uTu = 0.0010287104299161502\n",
      "lambda = 21.875\n",
      "uTu = 0.0009961930696495611\n",
      "lambda = 21.5625\n",
      "uTu = 0.0010122119582492563\n",
      "lambda = 21.71875\n",
      "uTu = 0.0010041438348365058\n",
      "lambda = 21.796875\n",
      "uTu = 0.0010001539372606052\n"
     ]
    },
    {
     "name": "stderr",
     "output_type": "stream",
     "text": [
      "100%|██████████| 120/120 [26:27<00:00, 13.23s/it]\n"
     ]
    }
   ],
   "source": [
    "constant_energies = []\n",
    "variable_state_costs = []\n",
    "\n",
    "for Cs in all_Cs:\n",
    "\n",
    "    target_energy = 10**(-3)\n",
    "\n",
    "    lmbda_high = 10\n",
    "    lmbda_low = 0\n",
    "\n",
    "    energies = [] \n",
    "    state_costs = []\n",
    "\n",
    "    for C in tqdm(Cs):\n",
    "        energy, state_cost = LQR_bisection(A, lmbda_high, lmbda_low, target_energy, target_velocity, B, C, bisect_energy = True)\n",
    "        energies.append(energy), state_costs.append(state_cost)\n",
    "        \n",
    "    constant_energies.append(energies), variable_state_costs.append(state_costs)"
   ]
  },
  {
   "cell_type": "code",
   "execution_count": 49,
   "metadata": {},
   "outputs": [
    {
     "data": {
      "image/png": "[encoded data removed]",
      "text/plain": [
       "<Figure size 1440x504 with 2 Axes>"
      ]
     },
     "metadata": {
      "needs_background": "light"
     },
     "output_type": "display_data"
    }
   ],
   "source": [
    "plot_LQR(variable_state_costs, constant_energies, -3.5, -2.5, title= \"State Costs and Bisected Control Input Energy vs Percentage Variance accounted for\")"
   ]
  },
  {
   "cell_type": "code",
   "execution_count": 30,
   "metadata": {},
   "outputs": [],
   "source": [
    "folder = 'Task Learnability Results and Graphs/LQR Results/Bisection Results/'\n",
    "np.save(folder + \"variable_IM_state_costs.npy\", variable_state_costs[0])\n",
    "np.save(folder + \"variable_random_state_costs.npy\", variable_state_costs[1])\n",
    "np.save(folder + \"variable_120_state_costs.npy\", variable_state_costs[2])\n",
    "np.save(folder + \"constant_IM_energies.npy\", constant_energies[0])\n",
    "np.save(folder + \"constant_random_energies.npy\", constant_energies[1])\n",
    "np.save(folder + \"constant_120_energies.npy\", constant_energies[2])"
   ]
  },
  {
   "cell_type": "code",
   "execution_count": null,
   "metadata": {},
   "outputs": [],
   "source": []
  }
 ],
 "metadata": {
  "kernelspec": {
   "display_name": "Python 3",
   "language": "python",
   "name": "python3"
  },
  "language_info": {
   "codemirror_mode": {
    "name": "ipython",
    "version": 3
   },
   "file_extension": ".py",
   "mimetype": "text/x-python",
   "name": "python",
   "nbconvert_exporter": "python",
   "pygments_lexer": "ipython3",
   "version": "3.9.0"
  }
 },
 "nbformat": 4,
 "nbformat_minor": 4
}
