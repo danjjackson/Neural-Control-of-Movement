{
 "cells": [
  {
   "cell_type": "markdown",
   "metadata": {},
   "source": [
    "<h1><center>NEURAL CONTROL OF MOVEMENT</center></h1>"
   ]
  },
  {
   "cell_type": "code",
   "execution_count": 3,
   "metadata": {},
   "outputs": [],
   "source": [
    "import numpy as np"
   ]
  },
  {
   "cell_type": "code",
   "execution_count": 4,
   "metadata": {},
   "outputs": [],
   "source": [
    "numpy_data_folder = 'Arm Model and Intrinsic Manifold Files/'\n",
    "COVARIANCE = np.load(numpy_data_folder + 'COVARIANCE.npy')\n",
    "ORTH_BASIS = np.load(numpy_data_folder + 'ORTH_BASIS.npy')\n",
    "INTRINSIC_MANIFOLD = np.load(numpy_data_folder + 'INTRINSIC_MANIFOLD.npy')\n",
    "A = np.load(numpy_data_folder + 'A.npy')\n",
    "B = np.load(numpy_data_folder + 'B.npy')\n",
    "H_BAR = np.load(numpy_data_folder+ 'H_BAR.npy')"
   ]
  },
  {
   "cell_type": "code",
   "execution_count": 5,
   "metadata": {},
   "outputs": [],
   "source": [
    "def generate_orthogonal_random_C():\n",
    "    H = np.random.normal(0, 1, size = (200,2))\n",
    "    q, r = np.linalg.qr(H)\n",
    "    return q.T"
   ]
  },
  {
   "cell_type": "code",
   "execution_count": 6,
   "metadata": {},
   "outputs": [],
   "source": [
    "def calculate_C_variance(list_of_Cs):\n",
    "    C_variances = []\n",
    "    for C in list_of_Cs:\n",
    "        C_variances.append((np.trace(C@COVARIANCE@C.T))/np.trace(COVARIANCE))\n",
    "    return C_variances"
   ]
  },
  {
   "cell_type": "code",
   "execution_count": 7,
   "metadata": {},
   "outputs": [],
   "source": [
    "first_120_Cs = []\n",
    "random_Cs = []\n",
    "IM_Cs = []\n",
    "\n",
    "for i in range(120):\n",
    "    first_120_Cs.append(ORTH_BASIS[:,[i,i+1]].T)\n",
    "    \n",
    "for i in range(30):\n",
    "    random_Cs.append(generate_orthogonal_random_C())\n",
    "\n",
    "for i, first_vector in enumerate(INTRINSIC_MANIFOLD[:, :-1].T):\n",
    "    for second_vector in INTRINSIC_MANIFOLD[:, i+1:].T:\n",
    "        C = np.array([first_vector, second_vector])\n",
    "        IM_Cs.append(C) \n",
    "\n",
    "first_120_variances = calculate_C_variance(first_120_Cs)\n",
    "random_variances = calculate_C_variance(random_Cs)\n",
    "IM_variances = calculate_C_variance(IM_Cs)"
   ]
  },
  {
   "cell_type": "code",
   "execution_count": 8,
   "metadata": {},
   "outputs": [],
   "source": [
    "folder = 'Test Mappings/'\n",
    "np.save(folder + 'first_120_Cs.npy', first_120_Cs)\n",
    "np.save(folder + 'first_120_variances.npy', first_120_variances)\n",
    "np.save(folder + 'random_Cs.npy', random_Cs)\n",
    "np.save(folder + 'random_variances.npy', random_variances)\n",
    "np.save(folder + 'IM_Cs.npy', IM_Cs)\n",
    "np.save(folder + 'IM_variances.npy', IM_variances)"
   ]
  },
  {
   "cell_type": "code",
   "execution_count": null,
   "metadata": {},
   "outputs": [],
   "source": []
  }
 ],
 "metadata": {
  "kernelspec": {
   "display_name": "Python 3",
   "language": "python",
   "name": "python3"
  },
  "language_info": {
   "codemirror_mode": {
    "name": "ipython",
    "version": 3
   },
   "file_extension": ".py",
   "mimetype": "text/x-python",
   "name": "python",
   "nbconvert_exporter": "python",
   "pygments_lexer": "ipython3",
   "version": "3.9.0"
  }
 },
 "nbformat": 4,
 "nbformat_minor": 4
}
